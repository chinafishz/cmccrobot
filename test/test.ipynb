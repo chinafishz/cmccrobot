{
 "cells": [
  {
   "cell_type": "code",
   "execution_count": 8,
   "metadata": {},
   "outputs": [],
   "source": [
    "s2='''\n",
    "\n",
    "\n",
    "\n",
    "<html>\n",
    "\t<head>\n",
    "\t\t<TITLE>UVNG入口</TITLE>\n",
    "\t\t<meta http-equiv=\"pragma\" content=\"no-cache\">\n",
    "\t\t<meta http-equiv=\"cache-control\" content=\"no-cache\">\n",
    "\t\t<meta http-equiv=\"expires\" content=\"0\">\n",
    "\t\t<script type=\"text/javascript\" src='/ngcustcare/skins/default/js/jquery.js'></script>\n",
    "\t\t<script type=\"text/javascript\">\n",
    "\t\t\t$(function(){\n",
    "\t\t\t\t\n",
    "\t\t\t\ttry\n",
    "\t\t\t\t{\n",
    "\t\t\t\t\t$(\"#macAddress\").val(clientControl.GetMacAddress());\n",
    "\t\t\t\t}\n",
    "\t\t\t\tcatch(e)\n",
    "\t\t\t\t{\n",
    "\t\t\t\t\t$(\"#macAddress\").val(\"\");\n",
    "\t\t\t\t}\n",
    "\t\t\t\t<!-- modify by lwx489469 20170907 BR201706270013 NGCRM前台web协议由http升级至https的需求,原协议为http--begin--> \n",
    "\t\t\t\tdocument.forms[0].action = \"/nguniteview/bossviewhome.jsp\";\n",
    "\t  \t\t \t<!-- modify by lwx489469 20170907 BR201706270013 NGCRM前台web协议由http升级至https的需求,原协议为http--end--> \n",
    "\t\t\t\tdocument.forms[0].submit();\n",
    "\t\t\t});\n",
    "\t\t</script>\n",
    "\t</head>\n",
    "\t<body style=\"padding: 6px;background-color: EBF0F4\" class=\"ballistic_bg\">\n",
    "\t<OBJECT ID=\"clientControl\" Name=\"clientControl\"\tCLASSID=\"clsid:B5F416F2-89CB-4B29-A536-3B49889C9558\" CODEBASE=\"/ngcustcare/ocx/cspClientControl.ocx\"\n",
    "\tWIDTH=\"0\" HEIGHT=\"0\" ALIGN=\"Center\" HSPACE=\"0\" VSPACE=\"0\" STYLE=\"display: none\"> </OBJECT>\n",
    "\t\t<font size=\"4\">正在加载，请稍候.....</font>\n",
    "\t\t<div class=\"panel\" style=\"display:none\">\n",
    "\t\t\t<script language=\"Javascript\" src=\"/ngcustcare/metaweb/static/resources/js/Util.js?1273130002000\" id=\"Util_js\"></script><script language=\"Javascript\" src=\"/ngcustcare/metaweb/static/resources/js/isap_ui_form_validation.js?1265799570000\" id=\"isap_ui_form_validation_js\"></script><script language=\"Javascript\" src=\"/ngcustcare/metaweb/static/resources/js/commonValidations.js?1273126955000\" id=\"commonValidations_js\"></script><link id=\"metaweb_arch_css\" rel=\"stylesheet\" type=\"text/css\" href=\"/ngcustcare/resources/default/css/metaweb_arch.css\"></link><link id=\"metaweb_css\"  rel=\"stylesheet\" type=\"text/css\" href=\"/ngcustcare/resources/default/css/metaweb.css\"></link><form id=\"mw_35225061921774221\" class=\"mw_form\" method=\"POST\">\n",
    "\t\t\t\t<input type=\"hidden\" name=\"ccm_ObjectID\"value=\"\"><input type=\"hidden\" name=\"ccm_RandomNum\"value=\"\"><input type=\"hidden\" name=\"ccdirect\"value=\"false\"><input type=\"hidden\" name=\"ccm_EntityID\"value=\"92000001964105\"><input type=\"hidden\" name=\"ccm_EntityName\"value=\"广**乐信息科技有限公司\"><input type=\"hidden\" name=\"ccm_CreateDate\"value=\"2018-06-28 20:16:15\"><input type=\"hidden\" name=\"ccm_Status\"value=\"stcmNml\"><input type=\"hidden\" name=\"ccm_StatusDate\"value=\"2018-06-28 20:16:15\"><input type=\"hidden\" name=\"ccm_EditStatus\"value=\"0\"><input type=\"hidden\" name=\"ccm_Region\"value=\"200\"><input type=\"hidden\" name=\"ccm_ShortName\"value=\"\"><input type=\"hidden\" name=\"ccm_Password\"value=\"66668888\"><input type=\"hidden\" name=\"ccm_CustType\"value=\"PersonCustomer\"><input type=\"hidden\" name=\"ccm_VipType\"value=\"VC0000\"><input type=\"hidden\" name=\"ccm_Foreigner\"value=\"0\"><input type=\"hidden\" name=\"ccm_CustClass1\"value=\"CustClass101\"><input type=\"hidden\" name=\"ccm_CustClass2\"value=\"CustClass201\"><input type=\"hidden\" name=\"ccm_National\"value=\"China\"><input type=\"hidden\" name=\"ccm_Address\"value=\"********\"><input type=\"hidden\" name=\"ccm_CertID\"value=\"914401********703*\"><input type=\"hidden\" name=\"ccm_CertType\"value=\"BusinessLicence\"><input type=\"hidden\" name=\"ccm_CertAddr\"value=\"********\"><input type=\"hidden\" name=\"ccm_LinkMan\"value=\"陈*钊\"><input type=\"hidden\" name=\"ccm_LinkPhone\"value=\"15002006303\"><input type=\"hidden\" name=\"ccm_HomeTel\"value=\"\"><input type=\"hidden\" name=\"ccm_OfficeTel\"value=\"\"><input type=\"hidden\" name=\"ccm_MobileTel\"value=\"\"><input type=\"hidden\" name=\"ccm_PostCode\"value=\"510020\"><input type=\"hidden\" name=\"ccm_LinkAddr\"value=\"********\"><input type=\"hidden\" name=\"ccm_Email\"value=\"\"><input type=\"hidden\" name=\"ccm_HomePage\"value=\"\"><input type=\"hidden\" name=\"ccm_IsMergeBill\"value=\"0\"><input type=\"hidden\" name=\"ccm_CreditLevel\"value=\"crdtNormal\"><input type=\"hidden\" name=\"ccm_OwnerAreaID\"value=\"AAGZ0TZA0\"><input type=\"hidden\" name=\"ccm_OrgID\"value=\"AAGZ0TZA0\"><input type=\"hidden\" name=\"ccm_RegStatus\"value=\"1\"><input type=\"hidden\" name=\"ccm_Notes\"value=\"AT20180614010，越秀分公司施仲夏批量开户办理\"><input type=\"hidden\" name=\"ccm_ResponseCustMgr\"value=\"\"><input type=\"hidden\" name=\"ccm_CurrentCustMgr\"value=\"\"><input type=\"hidden\" name=\"ccm_InLevel\"value=\"0\"><input type=\"hidden\" name=\"ccm_TownID\"value=\"\"><input type=\"hidden\" name=\"ccm_VipTypeStateDate\"value=\"\"><input type=\"hidden\" name=\"ccm_NetServGrade\"value=\"\"><input type=\"hidden\" name=\"ccm_CustAddrArray\"value=\"[]\"><input type=\"hidden\" name=\"ccm_CustBillArray\"value=\"[]\"><input type=\"hidden\" name=\"ccm_IsEncrypt\"value=\"1\"><input type=\"hidden\" name=\"ccm_starLevel\"value=\"\"><input type=\"hidden\" name=\"ccm_IsFaceChk\"value=\"0\"><input type=\"hidden\" name=\"ccregister\"value=\"true\"><input type=\"hidden\" name=\"ccnotRegister\"value=\"false\"><input type=\"hidden\" name=\"csm_ObjectID\"value=\"\"><input type=\"hidden\" name=\"csm_RandomNum\"value=\"\"><input type=\"hidden\" name=\"csdirect\"value=\"false\"><input type=\"hidden\" name=\"csm_EntityID\"value=\"92000004412686\"><input type=\"hidden\" name=\"csm_EntityName\"value=\"广**乐信息科技有限公司\"><input type=\"hidden\" name=\"csm_CreateDate\"value=\"******\"><input type=\"hidden\" name=\"csm_Status\"value=\"US42\"><input type=\"hidden\" name=\"csm_StatusDate\"value=\"******\"><input type=\"hidden\" name=\"csm_EditStatus\"value=\"0\"><input type=\"hidden\" name=\"csm_Region\"value=\"200\"><input type=\"hidden\" name=\"csm_Password\"value=\"MTIzMTIz\"><input type=\"hidden\" name=\"csm_ProductID\"value=\"I00010100001\"><input type=\"hidden\" name=\"csm_ServNumber\"value=\"17220890198\"><input type=\"hidden\" name=\"csm_RegisterOrgID\"value=\"AAGZ0TZA0\"><input type=\"hidden\" name=\"csm_OwnerOrgID\"value=\"AAGZ0TZA0\"><input type=\"hidden\" name=\"csm_AccountOid\"value=\"92000001964649\"><input type=\"hidden\" name=\"csm_CustomerOid\"value=\"92000001964105\"><input type=\"hidden\" name=\"csm_AuthType\"value=\"AuthCheckB\"><input type=\"hidden\" name=\"csm_MobileType\"value=\"mbtpNml\"><input type=\"hidden\" name=\"csm_AreaID\"value=\"\"><input type=\"hidden\" name=\"csm_PayMode\"value=\"1\"><input type=\"hidden\" name=\"csm_StopKey\"value=\"00000000\"><input type=\"hidden\" name=\"csm_Brand\"value=\"BrandGotone\"><input type=\"hidden\" name=\"csm_StartDate\"value=\"2018-06-28 20:16:15\"><input type=\"hidden\" name=\"csm_InvalidDate\"value=\"2099-12-31 00:00:00\"><input type=\"hidden\" name=\"csm_SettleDay\"value=\"1\"><input type=\"hidden\" name=\"csm_Enum\"value=\"898602F2191880000198\"><input type=\"hidden\" name=\"csm_Imsi\"value=\"460072208900198\"><input type=\"hidden\" name=\"csm_Credit\"value=\"0\"><input type=\"hidden\" name=\"csm_SubsProduct\"value=\"[]\"><input type=\"hidden\" name=\"csm_IsDefaultTelNum\"value=\"1\"><input type=\"hidden\" name=\"csm_BelongRegion\"value=\"0\"><input type=\"hidden\" name=\"csm_TargetRegion\"value=\"0\"><input type=\"hidden\" name=\"csm_CretLevel\"value=\"\"><input type=\"hidden\" name=\"csgotone\"value=\"true\"><input type=\"hidden\" name=\"csnotGotone\"value=\"false\"><input type=\"hidden\" name=\"cam_ObjectID\"value=\"\"><input type=\"hidden\" name=\"cam_RandomNum\"value=\"\"><input type=\"hidden\" name=\"cadirect\"value=\"false\"><input type=\"hidden\" name=\"cam_EntityID\"value=\"92000001964649\"><input type=\"hidden\" name=\"cam_EntityName\"value=\"广**乐信息科技有限公司\"><input type=\"hidden\" name=\"cam_CreateDate\"value=\"2018-06-28 20:16:15\"><input type=\"hidden\" name=\"cam_Status\"value=\"stcmNml\"><input type=\"hidden\" name=\"cam_StatusDate\"value=\"2018-06-28 20:16:15\"><input type=\"hidden\" name=\"cam_EditStatus\"value=\"0\"><input type=\"hidden\" name=\"cam_Region\"value=\"200\"><input type=\"hidden\" name=\"cam_CustID\"value=\"92000001964105\"><input type=\"hidden\" name=\"cam_GroupAcctID\"value=\"\"><input type=\"hidden\" name=\"cam_PrePayType\"value=\"pptpPost\"><input type=\"hidden\" name=\"cam_AccountType\"value=\"actpCmn\"><input type=\"hidden\" name=\"cam_OverDraft\"value=\"0\"><input type=\"hidden\" name=\"cam_ControlScheme\"value=\"1\"><input type=\"hidden\" name=\"cam_EntrustTel\"value=\"\"><input type=\"hidden\" name=\"cam_OrgID\"value=\"AAGZ0TZA0\"><input type=\"hidden\" name=\"cam_NotifyType\"value=\"\"><input type=\"hidden\" name=\"cam_NotifyValue\"value=\"0\"><input type=\"hidden\" name=\"cam_InvPrintType\"value=\"InvPTpay\"><input type=\"hidden\" name=\"cam_Notes\"value=\"\"><input type=\"hidden\" name=\"cam_PayChannelArray\"value=\"[]\"><input type=\"hidden\" name=\"cam_CustBillArray\"value=\"[]\"><input type=\"hidden\" name=\"cam_UrgeInfos\"value=\"[]\"><input type=\"hidden\" name=\"cam_SettleAccount\"value=\"\"><input type=\"hidden\" name=\"cam_IsDefault\"value=\"1\"><input type=\"hidden\" name=\"cam_BillInvoiceMailArray\"value=\"[]\"><input type=\"hidden\" name=\"cam_NotifyValueDisplay\"value=\"0.00\"><input type=\"hidden\" name=\"cam_CreateDateDisplay\"value=\"2018-06-28\"><input type=\"hidden\" name=\"com_ObjectID\"value=\"\"><input type=\"hidden\" name=\"com_RandomNum\"value=\"\"><input type=\"hidden\" name=\"comenuId\"value=\"123456\"><input type=\"hidden\" name=\"codirect\"value=\"false\"><input type=\"hidden\" name=\"com_EntityID\"value=\"AGZGT0000829\"><input type=\"hidden\" name=\"com_EntityName\"value=\"施*夏\"><input type=\"hidden\" name=\"com_CreateDate\"value=\"2011-03-18 13:02:30\"><input type=\"hidden\" name=\"com_Status\"value=\"1\"><input type=\"hidden\" name=\"com_StatusDate\"value=\"2019-04-18 14:59:53\"><input type=\"hidden\" name=\"com_EditStatus\"value=\"0\"><input type=\"hidden\" name=\"com_Region\"value=\"200\"><input type=\"hidden\" name=\"conodeID\"value=\"AGZGT0000829\"><input type=\"hidden\" name=\"conodeName\"value=\"施*夏\"><input type=\"hidden\" name=\"conodeParentID\"value=\"AAGZ0TZZ4\"><input type=\"hidden\" name=\"coentityID\"value=\"AGZGT0000829\"><input type=\"hidden\" name=\"cootherParam\"value=\"OPRT10\"><input type=\"hidden\" name=\"cochecked\"value=\"false\"><input type=\"hidden\" name=\"com_MenuID\"value=\"123456\"><input type=\"hidden\" name=\"com_ServNum\"value=\"\"><input type=\"hidden\" name=\"com_TouchNum\"value=\"\"><input type=\"hidden\" name=\"com_Password\"value=\"AB3B1DFE8D8D160919C13B0E48DC0B44\"><input type=\"hidden\" name=\"com_OrgID\"value=\"AAGZ0TZZ4\"><input type=\"hidden\" name=\"com_RoamOrgID\"value=\"\"><input type=\"hidden\" name=\"com_PassChangeDate\"value=\"2019-01-28 09:24:40\"><input type=\"hidden\" name=\"com_OperType\"value=\"OPRT10\"><input type=\"hidden\" name=\"com_Manager\"value=\"0\"><input type=\"hidden\" name=\"com_Level\"value=\"\"><input type=\"hidden\" name=\"com_ContactPhone\"value=\"13922204911\"><input type=\"hidden\" name=\"com_MacAddress\"value=\"null\"><input type=\"hidden\" name=\"com_OnDuty\"value=\"0\"><input type=\"hidden\" name=\"com_Note\"value=\"施仲夏\"><input type=\"hidden\" name=\"com_ShareStore\"value=\"\"><input type=\"hidden\" name=\"com_BirthDay\"value=\"\"><input type=\"hidden\" name=\"com_WorkDate\"value=\"\"><input type=\"hidden\" name=\"com_CertID\"value=\"\"><input type=\"hidden\" name=\"com_Sex\"value=\"\"><input type=\"hidden\" name=\"com_EducationLevel\"value=\"\"><input type=\"hidden\" name=\"com_TotalLevel\"value=\"\"><input type=\"hidden\" name=\"com_SkillLevel\"value=\"\"><input type=\"hidden\" name=\"com_TrainLevel\"value=\"\"><input type=\"hidden\" name=\"com_ComityLevel\"value=\"\"><input type=\"hidden\" name=\"com_Operator_type\"value=\"0\"><input type=\"hidden\" name=\"com_NativeHome\"value=\"\"><input type=\"hidden\" name=\"com_graduateDate\"value=\"\"><input type=\"hidden\" name=\"com_IsMarray\"value=\"0\"><input type=\"hidden\" name=\"com_PolityFace\"value=\"\"><input type=\"hidden\" name=\"com_HomeAddress\"value=\"\"><input type=\"hidden\" name=\"com_JobLive\"value=\"\"><input type=\"hidden\" name=\"com_NowPostID\"value=\"\"><input type=\"hidden\" name=\"com_BloodType\"value=\"\"><input type=\"hidden\" name=\"com_Healthy\"value=\"\"><input type=\"hidden\" name=\"com_Character\"value=\"\"><input type=\"hidden\" name=\"com_Enjoyful\"value=\"\"><input type=\"hidden\" name=\"com_PriSocietyRelation\"value=\"\"><input type=\"hidden\" name=\"com_FamilyDes\"value=\"\"><input type=\"hidden\" name=\"com_StarLevel\"value=\"\"><input type=\"hidden\" name=\"com_AssessRec\"value=\"\"><input type=\"hidden\" name=\"com_hr_status\"value=\"1\"><input type=\"hidden\" name=\"com_Restrict_time\"value=\"0\"><input type=\"hidden\" name=\"com_Start_time\"value=\"0\"><input type=\"hidden\" name=\"com_End_time\"value=\"24\"><input type=\"hidden\" name=\"com_Enable_gprs\"value=\"0\"><input type=\"hidden\" name=\"com_Gprs_starttime\"value=\"0\"><input type=\"hidden\" name=\"com_Gprs_endtime\"value=\"0\"><input type=\"hidden\" name=\"com_Check_mac\"value=\"0\"><input type=\"hidden\" name=\"com_Mac\"value=\"\"><input type=\"hidden\" name=\"com_IPAddress\"value=\"10.244.121.108\"><input type=\"hidden\" name=\"costartUsingTime\"value=\"2011-03-18 00:00:00\"><input type=\"hidden\" name=\"coendUsingTime\"value=\"2038-01-01 00:00:00\"><input type=\"hidden\" name=\"com_QueueID\"value=\"\"><input type=\"hidden\" name=\"com_LoginType\"value=\"SecAuth\"><input type=\"hidden\" name=\"com_InvVersion\"value=\"\"><input type=\"hidden\" name=\"com_areaID\"value=\"\">\n",
    "\t\t\t\t<input type=\"hidden\" name=\"servNumber\" value=\"17220890198\">\n",
    "\t\t\t\t<input type=\"hidden\" name=\"transmit\" value=\"layoutAction.do?method=showLayout&layoutId=1&viewId=0\">\n",
    "\t\t\t\t<input type=\"hidden\" name=\"recType\" value=\"\">\n",
    "\t\t\t\t<input type=\"hidden\" name=\"stopKeyValue\" value=\"正常使用\">\n",
    "\t\t\t\t<input type=\"hidden\" id=\"macAddress\" name = \"remotemac\">\n",
    "\t\t\t</form>\t\n",
    "<script>if(navigator.appName!='Netscape'&& null==window.onunload){var formunload = window.onunload;window.onunload = function(){try{var f = document.body.getElementsByTagName('form');for(var i=0;i<f.length;i++){f[i];}}catch(e){}if(formunload)formunload()};}</script>\n",
    "\t\t</div>\n",
    "\t</body>\n",
    "</html>\n",
    "'''"
   ]
  },
  {
   "cell_type": "code",
   "execution_count": 9,
   "metadata": {},
   "outputs": [],
   "source": [
    "from bs4 import BeautifulSoup\n",
    "_soup = BeautifulSoup(s2, 'lxml')\n",
    "# _soup = BeautifulSoup(s2.text, 'lxml')\n"
   ]
  },
  {
   "cell_type": "code",
   "execution_count": 15,
   "metadata": {},
   "outputs": [
    {
     "data": {
      "text/plain": [
       "'广**乐信息科技有限公司'"
      ]
     },
     "execution_count": 15,
     "metadata": {},
     "output_type": "execute_result"
    }
   ],
   "source": [
    "_soup.select('.panel input[name=\"ccm_EntityName\"]')[0].attrs['value']"
   ]
  },
  {
   "cell_type": "code",
   "execution_count": null,
   "metadata": {},
   "outputs": [],
   "source": []
  }
 ],
 "metadata": {
  "kernelspec": {
   "display_name": "Python 3",
   "language": "python",
   "name": "python3"
  },
  "language_info": {
   "codemirror_mode": {
    "name": "ipython",
    "version": 3
   },
   "file_extension": ".py",
   "mimetype": "text/x-python",
   "name": "python",
   "nbconvert_exporter": "python",
   "pygments_lexer": "ipython3",
   "version": "3.6.7"
  }
 },
 "nbformat": 4,
 "nbformat_minor": 2
}
