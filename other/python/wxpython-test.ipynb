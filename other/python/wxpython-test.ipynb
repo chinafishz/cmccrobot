{
 "cells": [
  {
   "cell_type": "code",
   "execution_count": 1,
   "metadata": {
    "collapsed": false
   },
   "outputs": [],
   "source": [
    "import wx\n",
    "import os\n",
    "\n",
    "class MainWindow(wx.Frame):\n",
    "    def __init__(self, parent, title):\n",
    "        self.dirname=''\n",
    "\n",
    "        # A \"-1\" in the size parameter instructs wxWidgets to use the default size.\n",
    "        # In this case, we select 200px width and the default height.\n",
    "        wx.Frame.__init__(self, parent, title=title, size=(200,-1))\n",
    "        self.control = wx.TextCtrl(self, style=wx.TE_MULTILINE)\n",
    "        self.CreateStatusBar() # A Statusbar in the bottom of the window\n",
    "\n",
    "        # Setting up the menu.\n",
    "        filemenu= wx.Menu()\n",
    "        menuOpen = filemenu.Append(wx.ID_OPEN, \"&Open\",\" Open a file to edit\")\n",
    "        menuAbout= filemenu.Append(wx.ID_ABOUT, \"&About\",\" Information about this program\")\n",
    "        menuExit = filemenu.Append(wx.ID_EXIT,\"E&xit\",\" Terminate the program\")\n",
    "\n",
    "        # Creating the menubar.\n",
    "        menuBar = wx.MenuBar()\n",
    "        menuBar.Append(filemenu,\"&File\") # Adding the \"filemenu\" to the MenuBar\n",
    "        self.SetMenuBar(menuBar)  # Adding the MenuBar to the Frame content.\n",
    "\n",
    "        # Events.\n",
    "        self.Bind(wx.EVT_MENU, self.OnOpen, menuOpen)\n",
    "        self.Bind(wx.EVT_MENU, self.OnExit, menuExit)\n",
    "        self.Bind(wx.EVT_MENU, self.OnAbout, menuAbout)\n",
    "\n",
    "        self.sizer2 = wx.BoxSizer(wx.HORIZONTAL)\n",
    "        self.buttons = []\n",
    "        for i in range(0, 6):\n",
    "            self.buttons.append(wx.Button(self, -1, \"Button &\"+str(i)))\n",
    "            self.sizer2.Add(self.buttons[i], 1, wx.EXPAND)\n",
    "\n",
    "        # Use some sizers to see layout options\n",
    "        self.sizer = wx.BoxSizer(wx.VERTICAL)\n",
    "        self.sizer.Add(self.control, 1, wx.EXPAND)\n",
    "        self.sizer.Add(self.sizer2, 0, wx.EXPAND)\n",
    "\n",
    "        #Layout sizers\n",
    "        self.SetSizer(self.sizer)\n",
    "        self.SetAutoLayout(1)\n",
    "        self.sizer.Fit(self)\n",
    "        self.Show()\n",
    "\n",
    "    def OnAbout(self,e):\n",
    "        # Create a message dialog box\n",
    "        dlg = wx.MessageDialog(self, \" A sample editor \\n in wxPython\", \"About Sample Editor\", wx.OK)\n",
    "        dlg.ShowModal() # Shows it\n",
    "        dlg.Destroy() # finally destroy it when finished.\n",
    "\n",
    "    def OnExit(self,e):\n",
    "        self.Close(True)  # Close the frame.\n",
    "\n",
    "    def OnOpen(self,e):\n",
    "        \"\"\" Open a file\"\"\"\n",
    "        dlg = wx.FileDialog(self, \"Choose a file\", self.dirname, \"\", \"*.*\", wx.OPEN)\n",
    "        if dlg.ShowModal() == wx.ID_OK:\n",
    "            self.filename = dlg.GetFilename()\n",
    "            self.dirname = dlg.GetDirectory()\n",
    "            f = open(os.path.join(self.dirname, self.filename), 'r')\n",
    "            self.control.SetValue(f.read())\n",
    "            f.close()\n",
    "        dlg.Destroy()\n",
    "\n",
    "app = wx.App(False)\n",
    "frame = MainWindow(None, \"Sample editor\")\n",
    "app.MainLoop()"
   ]
  },
  {
   "cell_type": "code",
   "execution_count": null,
   "metadata": {
    "collapsed": false
   },
   "outputs": [],
   "source": []
  }
 ],
 "metadata": {
  "anaconda-cloud": {},
  "kernelspec": {
   "display_name": "Python [default]",
   "language": "python",
   "name": "python2"
  },
  "language_info": {
   "codemirror_mode": {
    "name": "ipython",
    "version": 2
   },
   "file_extension": ".py",
   "mimetype": "text/x-python",
   "name": "python",
   "nbconvert_exporter": "python",
   "pygments_lexer": "ipython2",
   "version": "2.7.12"
  }
 },
 "nbformat": 4,
 "nbformat_minor": 1
}
