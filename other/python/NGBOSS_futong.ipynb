{
 "cells": [
  {
   "cell_type": "code",
   "execution_count": 1,
   "metadata": {
    "collapsed": false,
    "scrolled": true
   },
   "outputs": [
    {
     "name": "stderr",
     "output_type": "stream",
     "text": [
      "/usr/local/lib/python2.7/dist-packages/requests/packages/urllib3/connectionpool.py:791: InsecureRequestWarning: Unverified HTTPS request is being made. Adding certificate verification is strongly advised. See: https://urllib3.readthedocs.org/en/latest/security.html\n",
      "  InsecureRequestWarning)\n",
      "/usr/local/lib/python2.7/dist-packages/requests/packages/urllib3/connectionpool.py:791: InsecureRequestWarning: Unverified HTTPS request is being made. Adding certificate verification is strongly advised. See: https://urllib3.readthedocs.org/en/latest/security.html\n",
      "  InsecureRequestWarning)\n",
      "/usr/local/lib/python2.7/dist-packages/requests/packages/urllib3/connectionpool.py:791: InsecureRequestWarning: Unverified HTTPS request is being made. Adding certificate verification is strongly advised. See: https://urllib3.readthedocs.org/en/latest/security.html\n",
      "  InsecureRequestWarning)\n",
      "/usr/local/lib/python2.7/dist-packages/requests/packages/urllib3/connectionpool.py:791: InsecureRequestWarning: Unverified HTTPS request is being made. Adding certificate verification is strongly advised. See: https://urllib3.readthedocs.org/en/latest/security.html\n",
      "  InsecureRequestWarning)\n",
      "/usr/local/lib/python2.7/dist-packages/requests/packages/urllib3/connectionpool.py:791: InsecureRequestWarning: Unverified HTTPS request is being made. Adding certificate verification is strongly advised. See: https://urllib3.readthedocs.org/en/latest/security.html\n",
      "  InsecureRequestWarning)\n",
      "/usr/local/lib/python2.7/dist-packages/requests/packages/urllib3/connectionpool.py:791: InsecureRequestWarning: Unverified HTTPS request is being made. Adding certificate verification is strongly advised. See: https://urllib3.readthedocs.org/en/latest/security.html\n",
      "  InsecureRequestWarning)\n"
     ]
    },
    {
     "name": "stdout",
     "output_type": "stream",
     "text": [
      "已经发送短信验证码\n",
      "验证码:024140\n"
     ]
    },
    {
     "name": "stderr",
     "output_type": "stream",
     "text": [
      "/usr/local/lib/python2.7/dist-packages/requests/packages/urllib3/connectionpool.py:791: InsecureRequestWarning: Unverified HTTPS request is being made. Adding certificate verification is strongly advised. See: https://urllib3.readthedocs.org/en/latest/security.html\n",
      "  InsecureRequestWarning)\n",
      "/usr/local/lib/python2.7/dist-packages/requests/packages/urllib3/connectionpool.py:791: InsecureRequestWarning: Unverified HTTPS request is being made. Adding certificate verification is strongly advised. See: https://urllib3.readthedocs.org/en/latest/security.html\n",
      "  InsecureRequestWarning)\n",
      "/usr/local/lib/python2.7/dist-packages/requests/packages/urllib3/connectionpool.py:791: InsecureRequestWarning: Unverified HTTPS request is being made. Adding certificate verification is strongly advised. See: https://urllib3.readthedocs.org/en/latest/security.html\n",
      "  InsecureRequestWarning)\n",
      "/usr/local/lib/python2.7/dist-packages/requests/packages/urllib3/connectionpool.py:791: InsecureRequestWarning: Unverified HTTPS request is being made. Adding certificate verification is strongly advised. See: https://urllib3.readthedocs.org/en/latest/security.html\n",
      "  InsecureRequestWarning)\n",
      "/usr/local/lib/python2.7/dist-packages/requests/packages/urllib3/connectionpool.py:791: InsecureRequestWarning: Unverified HTTPS request is being made. Adding certificate verification is strongly advised. See: https://urllib3.readthedocs.org/en/latest/security.html\n",
      "  InsecureRequestWarning)\n",
      "/usr/local/lib/python2.7/dist-packages/requests/packages/urllib3/connectionpool.py:791: InsecureRequestWarning: Unverified HTTPS request is being made. Adding certificate verification is strongly advised. See: https://urllib3.readthedocs.org/en/latest/security.html\n",
      "  InsecureRequestWarning)\n",
      "/usr/local/lib/python2.7/dist-packages/requests/packages/urllib3/connectionpool.py:791: InsecureRequestWarning: Unverified HTTPS request is being made. Adding certificate verification is strongly advised. See: https://urllib3.readthedocs.org/en/latest/security.html\n",
      "  InsecureRequestWarning)\n",
      "/usr/local/lib/python2.7/dist-packages/requests/packages/urllib3/connectionpool.py:791: InsecureRequestWarning: Unverified HTTPS request is being made. Adding certificate verification is strongly advised. See: https://urllib3.readthedocs.org/en/latest/security.html\n",
      "  InsecureRequestWarning)\n",
      "/usr/local/lib/python2.7/dist-packages/requests/packages/urllib3/connectionpool.py:791: InsecureRequestWarning: Unverified HTTPS request is being made. Adding certificate verification is strongly advised. See: https://urllib3.readthedocs.org/en/latest/security.html\n",
      "  InsecureRequestWarning)\n",
      "/usr/local/lib/python2.7/dist-packages/requests/packages/urllib3/connectionpool.py:791: InsecureRequestWarning: Unverified HTTPS request is being made. Adding certificate verification is strongly advised. See: https://urllib3.readthedocs.org/en/latest/security.html\n",
      "  InsecureRequestWarning)\n",
      "/usr/local/lib/python2.7/dist-packages/requests/packages/urllib3/connectionpool.py:791: InsecureRequestWarning: Unverified HTTPS request is being made. Adding certificate verification is strongly advised. See: https://urllib3.readthedocs.org/en/latest/security.html\n",
      "  InsecureRequestWarning)\n",
      "/usr/local/lib/python2.7/dist-packages/requests/packages/urllib3/connectionpool.py:791: InsecureRequestWarning: Unverified HTTPS request is being made. Adding certificate verification is strongly advised. See: https://urllib3.readthedocs.org/en/latest/security.html\n",
      "  InsecureRequestWarning)\n",
      "/usr/local/lib/python2.7/dist-packages/requests/packages/urllib3/connectionpool.py:791: InsecureRequestWarning: Unverified HTTPS request is being made. Adding certificate verification is strongly advised. See: https://urllib3.readthedocs.org/en/latest/security.html\n",
      "  InsecureRequestWarning)\n"
     ]
    },
    {
     "name": "stdout",
     "output_type": "stream",
     "text": [
      "正在登陆，请稍后...\n",
      "-----------测试是否登陆BOSS成功-----------"
     ]
    },
    {
     "name": "stderr",
     "output_type": "stream",
     "text": [
      "/usr/local/lib/python2.7/dist-packages/requests/packages/urllib3/connectionpool.py:791: InsecureRequestWarning: Unverified HTTPS request is being made. Adding certificate verification is strongly advised. See: https://urllib3.readthedocs.org/en/latest/security.html\n",
      "  InsecureRequestWarning)\n",
      "/usr/local/lib/python2.7/dist-packages/requests/packages/urllib3/connectionpool.py:791: InsecureRequestWarning: Unverified HTTPS request is being made. Adding certificate verification is strongly advised. See: https://urllib3.readthedocs.org/en/latest/security.html\n",
      "  InsecureRequestWarning)\n",
      "/usr/local/lib/python2.7/dist-packages/requests/packages/urllib3/connectionpool.py:791: InsecureRequestWarning: Unverified HTTPS request is being made. Adding certificate verification is strongly advised. See: https://urllib3.readthedocs.org/en/latest/security.html\n",
      "  InsecureRequestWarning)\n",
      "/usr/local/lib/python2.7/dist-packages/requests/packages/urllib3/connectionpool.py:791: InsecureRequestWarning: Unverified HTTPS request is being made. Adding certificate verification is strongly advised. See: https://urllib3.readthedocs.org/en/latest/security.html\n",
      "  InsecureRequestWarning)\n"
     ]
    },
    {
     "name": "stdout",
     "output_type": "stream",
     "text": [
      "\n"
     ]
    }
   ],
   "source": [
    "import cn_class_4alogin\n",
    "import requests\n",
    "r=requests.session()\n",
    "header={'User-Agent':'Mozilla/5.0 (X11; Linux x86_64; rv:44.0) Gecko/20100101 Firefox/44.0','Accept-Language':'en-US,en;q=0.5'}\n",
    "\n",
    "json2=cn_class_4alogin.cn_4ALogin(r,0)\n",
    "cn_class_4alogin.cn_BossLogin(r,json2,0)"
   ]
  },
  {
   "cell_type": "code",
   "execution_count": 2,
   "metadata": {
    "collapsed": false
   },
   "outputs": [
    {
     "data": {
      "text/plain": [
       "'US30'"
      ]
     },
     "execution_count": 2,
     "metadata": {},
     "output_type": "execute_result"
    }
   ],
   "source": [
    "#看出号码状态\n",
    "from bs4  import BeautifulSoup\n",
    "import random\n",
    "\n",
    "def cn_phone_status(cn_phoneNum):\n",
    "    header={'User-Agent':'Mozilla/5.0 (compatible; MSIE 10.0; Windows NT 6.2; WOW64; Trident/6.0; SE 2.X MetaSr 1.0)','Accept':'*/*','Accept-Language':'zh-cn','Accept-Encoding':'gzip, deflate'}\n",
    "    cn_random='0.'+str(random.randint(1000000000000000,9999999999999999))+str(random.randint(1,9))\n",
    "    result=r.post('http://10.252.17.241/ngcustcare/chargesrv/common/relateSubs.action?servNumber='+cn_phoneNum+'&isSupportGrp=undefined&random='+cn_random,headers=header)\n",
    "    soup=BeautifulSoup(result.text,'lxml')\n",
    "    return soup.find(attrs={\"name\":\"status\"}).attrs['value']\n",
    "\n",
    "cn_phone_status('15767480379')"
   ]
  },
  {
   "cell_type": "code",
   "execution_count": 99,
   "metadata": {
    "collapsed": false
   },
   "outputs": [
    {
     "name": "stdout",
     "output_type": "stream",
     "text": [
      "CKCB\n"
     ]
    }
   ],
   "source": [
    "import matplotlib.pyplot as plt\n",
    "import cv2\n",
    "import numpy as np\n",
    "import os\n",
    "%matplotlib inline\n",
    "def cn_yanzhengma(r):  \n",
    "    sa=r.get('http://10.252.17.241/ngcustcare/common/verifyCode/getVerifyCode.action?random='+cn_time_1(),stream=True)\n",
    "    image=sa.content\n",
    "    cn_dir=\"//home//chinafishz//cccloud//python//\"\n",
    "    try:\n",
    "        with open(cn_dir+'cn.png' ,\"wb\") as png:\n",
    "            png.write(image)     \n",
    "\n",
    "    except IOError:\n",
    "        print(\"IO Error\\n\")\n",
    "\n",
    "    finally:\n",
    "        png.close  \n",
    "        \n",
    "    image=cv2.imread(\"cn.png\")\n",
    "    \n",
    "    image1=cv2.resize(image,(800,200),interpolation=cv2.INTER_NEAREST)\n",
    "#     plt.imshow(image1)\n",
    "\n",
    "#     fig=plt.figure()\n",
    "    kernel=np.ones((2,2),np.uint8)\n",
    "    blurred=cv2.GaussianBlur(image1,(17,17),0)\n",
    "    edged=cv2.Canny(blurred,50,100,30)\n",
    "    dilation=cv2.dilate(edged,kernel,iterations=15)\n",
    "#     plt.imshow(dilation)\n",
    "    image,contours,hierarchy=cv2.findContours(dilation.copy(),cv2.RETR_TREE,cv2.CHAIN_APPROX_SIMPLE)\n",
    "    cnts=sorted([(c,cv2.boundingRect(c)[0]) for c in contours],key=lambda x: x[1])\n",
    "\n",
    "    ary=[]\n",
    "    cn_x=0\n",
    "    cn_y=0\n",
    "    cn_i=0\n",
    "    cn_w=0\n",
    "    for (c,_) in cnts:\n",
    "        (x,y,w,h)=cv2.boundingRect(c)\n",
    "        if w>50 and h>50 and x<>cn_x and x-cn_x>cn_w :\n",
    "#             print x,y,w,h\n",
    "            cn_x=x\n",
    "            cn_w=w\n",
    "            if cn_i>-1:\n",
    "                ary.append((x,y,w,h))\n",
    "                cn_i=cn_i+1\n",
    "            else:\n",
    "                cn_i=cn_i+1\n",
    "\n",
    "#     fig=plt.figure()\n",
    "\n",
    "    for id,(x,y,w,h) in enumerate(ary):\n",
    "        roi=dilation[y:y+h,x:x+w]\n",
    "        thresh=roi.copy()\n",
    "#         a=fig.add_subplot(1,len(ary),id+1)\n",
    "        res=cv2.resize(thresh,(100,100),interpolation=cv2.INTER_NEAREST)\n",
    "        cv2.imwrite(\"%d.png\"%(id),res)\n",
    "#         plt.imshow(res)\n",
    "    pic0=cv2.imread(\"0.png\")\n",
    "    pic1=cv2.imread(\"1.png\")\n",
    "    pic2=cv2.imread(\"2.png\")\n",
    "    pic3=cv2.imread(\"3.png\")\n",
    "\n",
    "    return getnumber(pic0)+getnumber(pic1)+getnumber(pic2)+getnumber(pic3)\n",
    "\n",
    "def mse(imageA,imageB):\n",
    "    err=np.sum((imageA.astype(\"float\")-imageB.astype(\"float\"))**2)\n",
    "    err /= float(imageA.shape[0]*imageA.shape[1])\n",
    "    return err\n",
    "    \n",
    "# print mse(pic2,pic3)\n",
    "    \n",
    "    \n",
    "def getnumber(pic):\n",
    "    min_a=999999999999999999999\n",
    "    min_png=None\n",
    "    for png in os.listdir('alphabet'):\n",
    "        ref =cv2.imread(\"alphabet/\"+png)\n",
    "        if mse(ref,pic)<min_a:\n",
    "            min_a=mse(ref,pic)\n",
    "            min_png=png\n",
    "    cn_temp=min_png.split('.')[0]\n",
    "    return cn_temp\n",
    "\n",
    "    \n",
    "cn_yanzhengma(r)"
   ]
  },
  {
   "cell_type": "code",
   "execution_count": 10,
   "metadata": {
    "collapsed": true
   },
   "outputs": [],
   "source": [
    "#操作复通\n",
    "\n",
    "from bs4  import BeautifulSoup\n",
    "import random\n",
    "import time\n",
    "from datetime import datetime\n",
    "\n",
    "def cn_cookies(cookies):\n",
    "        cookies = dict()\n",
    "        for i in r.cookies.get_dict('10.252.17.241'):\n",
    "            cookies[i]=r.cookies.get(i,'','10.252.17.241')\n",
    "        cookies['bsacKF']='NGCRM_BOSS'\n",
    "        cookies['com.huawei.boss.CONTACTID']='null'\n",
    "        cookies['com.huawei.boss.CURRENT_MENUID']='123456'\n",
    "        cookies['com.huawei.boss.CURRENT_TAB']='123456'\n",
    "        cookies['com.huawei.boss.CURRENT_USER']='com.huawei.boss.NO_CURRENT_USER'\n",
    "        cookies['GZCOMM']='r_GZ_CRM_WEB2_1082'\n",
    "        cookies['GZCRM']='r_GZ_CRM_WEB1_1081'\n",
    "        return cookies\n",
    "\n",
    "def cn_cookies1(cookies,cn_phoneNum):\n",
    "        cookies = dict()\n",
    "        for i in r.cookies.get_dict('10.252.17.241'):\n",
    "            cookies[i]=r.cookies.get(i,'','10.252.17.241')\n",
    "        cookies['bsacKF']='NGCRM_BOSS'\n",
    "        cookies['com.huawei.boss.CONTACTID']='undefined'\n",
    "        cookies['com.huawei.boss.CURRENT_MENUID']='100110121062'\n",
    "        cookies['com.huawei.boss.CURRENT_TAB']='BOSS%5E'+cn_phoneNum+'%5E100110121062%7E'+cn_phoneNum\n",
    "        cookies['com.huawei.boss.CURRENT_USER']=cn_phoneNum\n",
    "        cookies['GZCOMM']='r_GZ_CRM_WEB2_1082'\n",
    "        cookies['GZCRM']='r_GZ_CRM_WEB1_1081'\n",
    "        cookies['MACAddr']='08:00:27:A2:E7:39'\n",
    "        cookies['sDNSName']='gzshizhongxia'\n",
    "        return cookies\n",
    "\n",
    "def cn_time_1():\n",
    "    localtime = time.localtime(time.time())\n",
    "    cn_tm_hour=''\n",
    "    cn_tm_min=''\n",
    "    cn_tm_se=''\n",
    "\n",
    "    if localtime.tm_hour<10:\n",
    "        cn_tm_hour='0'+str(localtime.tm_hour)\n",
    "    else:\n",
    "        cn_tm_hour=str(localtime.tm_hour)\n",
    "\n",
    "    if localtime.tm_min<10:\n",
    "        cn_tm_min='0'+str(localtime.tm_min)\n",
    "    else:\n",
    "        cn_tm_min=str(localtime.tm_min)\n",
    "\n",
    "    if localtime.tm_sec<10:\n",
    "        cn_tm_sec='0'+str(localtime.tm_sec)\n",
    "    else:\n",
    "        cn_tm_sec=str(localtime.tm_sec)\n",
    "\n",
    "    return u'Sun Jul 3 \"+cn_tm_hour+\":\"+cn_tm_min+\":\"+cn_tm_sec+\" UTC 0800 2016'\n",
    "\n",
    "\n",
    "    \n",
    "def cn_futong(r,cn_phoneNum,cn_pwd):\n",
    "    \n",
    "    header={'User-Agent':'Mozilla/5.0 (compatible; MSIE 10.0; Windows NT 6.2; WOW64; Trident/6.0; SE 2.X MetaSr 1.0)','Accept':'*/*','Accept-Language':'zh-cn','Accept-Encoding':'gzip, deflate'}\n",
    "    header2={'User-Agent':'Mozilla/5.0 (compatible; MSIE 10.0; Windows NT 6.2; WOW64; Trident/6.0; SE 2.X MetaSr 1.0)','Accept':'*/*','Accept-Language':'zh-cn','Accept-Encoding':'gzip, deflate','X-Requested-With':'XMLHttpRequest'}\n",
    "    header3={'User-Agent':'Mozilla/5.0 (compatible; MSIE 10.0; Windows NT 6.2; WOW64; Trident/6.0; SE 2.X MetaSr 1.0)','Accept':'image/jpeg,application/x-ms-application,image/gif,application/xaml+xml,image/pjpeg, application/x-ms-xbap','Accept-Language':'zh-cn','Accept-Encoding':'gzip, deflate'}\n",
    "\n",
    "\n",
    "    \n",
    "    \n",
    "    # # ---------号码认证---------\n",
    "    cookies=cn_cookies(r.cookies)\n",
    "#     cn_verifyCode=cn_yanzhengma(r)\n",
    "#     print cn_verifyCode\n",
    "    parmas={'method':'qryCustInfo','servNumber':cn_phoneNum,'authCheckMode':'AuthCheckB','pswd':cn_pwd,'certType':'IdCard','certID':'','rndPswd':'','custType':'PersonCustomer','domainType':'','isCert2G':'','ONLYLOGIN':'onlyLogin','withoutPassValidate':'true'}\n",
    "    result=r.post('http://10.252.17.241/ngcustcare/custlogin/qryCustInfo.action',cookies=cookies,data=parmas,headers=header2)\n",
    "    s=result.text\n",
    "#     print parmas\n",
    "#     print s\n",
    "    temp=s.find('curCustId')\n",
    "    cn_curCustId=s[temp+12:temp+25]\n",
    "    \n",
    "\n",
    "    # # ---------获取最重要数据---------\n",
    "    cookies=cn_cookies1(r.cookies,cn_phoneNum)\n",
    "    s=r.get('http://10.252.17.241/ngcustcare/uniteview/uviewtwo/uvDisper.action?currentTabID=BOSS^'+cn_phoneNum+'^100110121062~'+cn_phoneNum,cookies=cookies,headers=header3)\n",
    "#     BeautifulSoup(s.text,'lxml')\n",
    "    # # --------------------------\n",
    "\n",
    "    #获取hiddenTokenName\n",
    "    s1=r.get('http://10.252.17.241/ngcustcare/common/submits/unitCommonSubmit.action?flow=productOrientedFlow&version=1.01',cookies=cookies,headers=header)\n",
    "    soup1=BeautifulSoup(s1.text,'lxml')\n",
    "    cn_hiddenTokenName1=soup1.find(attrs={\"name\":\"hiddenTokenName\"}).attrs['value']\n",
    "    cn_hiddenTokenName_value1=soup1.find(attrs={\"name\":cn_hiddenTokenName1}).attrs['value']\n",
    "#     print cn_hiddenTokenName_value\n",
    "    \n",
    "    #算费\n",
    "    parmas={'stopOpenType':'30000000','stopOpenReason':'c','stopOpenMemo':'','hiddenTokenName':cn_hiddenTokenName1,cn_hiddenTokenName1:cn_hiddenTokenName_value1}\n",
    "    s2=r.post('http://10.252.17.241/ngcustcare/custsvc/stopopen/stopOpenCommit.action',data=parmas,cookies=cookies,headers=header3)\n",
    "    soup2=BeautifulSoup(s2.text,'lxml')\n",
    "#     print soup\n",
    "    cn_hiddenTokenName2=soup2.find(attrs={\"name\":\"hiddenTokenName\"}).attrs['value']\n",
    "    cn_hiddenTokenName_value2=soup2.find(attrs={\"name\":cn_hiddenTokenName2}).attrs['value']\n",
    "#     print cn_hiddenTokenName_value\n",
    "\n",
    "    #提交\n",
    "    parmas={\"PreBussOrderId\":\"\",\"withdrawGoods\":\"\",\"payTypeBean.cashAmt\":\"\",\"payTypeBean.chequeAmt\":\"\",\"payTypeBean.bankId\":\"\",\"payTypeBean.bankName\":\"\",\"payTypeBean.chequeNum\":\"\",\"payTypeBean.cardAmt\":\"\",\"payTypeBean.posNum\":\"\",\"payTypeBean.confirmPosNum\":\"\",\"payTypeBean.acctCash\":\"\",\"payTypeBean.acctId\":\"-1\",\"payTypeBean.scoreCash\":\"\",\"payTypeBean.score\":\"\",\"payTypeBean.scoreTransRule\":\"1/1\",\"payTypeBean.m\":\"0\",\"payTypeBean.mTransRule\":\"1/1\",\"payTypeBean.bankAmt\":\"\",\"payTypeBean.limitCash\":\"\",\"payTypeBean.unlimitCash\":\"\",\"BARGAINFEEXML\":\"\",\"CHANGEFEEBYBARGAINXML\":\"@260@263xml@232version@261@2341@2460@234@232encoding@261@234UTF@2458@234@263@262@260huawei@295call@262@260i@262common@247fee@247@242@260@247i@262@260e@262changeFeeByBargain@260@247e@262@260p@262@260m@262@260n@2620@260@247n@262@260t@262a@260@247t@262@260v@\",\"UPDATEPAYTYPEBYPAGEDATAXML\":\"@260@263xml@232version@261@2341@2460@234@232encoding@261@234UTF@2458@234@263@262@260huawei@295call@262@260i@262common@247fee@247@242@260@247i@262@260e@262updatePayTypeByPageData@260@247e@262@260p@262@260m@262@260n@2620@260@247n@262@260t@262a@260@247t@262@\",\"reccustinfo_name\":\"shizhongxia\",\"reccustinfo_phone\":\"13922204911\",\"reccustinfo_certificateType\":\"IdCard\",\"reccustinfo_certificateNum\":\"440103198607251838\",\"reccustinfo_address\":\"广州天河路13号\",\"reccustinfo_note\":\"\",\"invoicePrintMode\":\"\",\"hiddenTokenName\":cn_hiddenTokenName2,cn_hiddenTokenName2:cn_hiddenTokenName_value2,\"receiptNumber\":\"00000000\",\"invoiceType\":\"1\",\"assembleInvoice\":\"0\",\"invoiceNumber\":\"00000000\",\"isForPaging\":\"OLD\",\"changeEnumRecType\":\"\"}\n",
    "    s=r.post('http://10.252.17.241/ngcustcare/common/fee/pay.action',data=parmas,cookies=cookies,headers=header3)\n",
    "    return ''.join(BeautifulSoup(s.text,'lxml').select('.title_boldtext')[0].text.split())\n",
    "    \n",
    "#     print s.text"
   ]
  },
  {
   "cell_type": "code",
   "execution_count": 4,
   "metadata": {
    "collapsed": false
   },
   "outputs": [
    {
     "name": "stdout",
     "output_type": "stream",
     "text": [
      "US30\n"
     ]
    }
   ],
   "source": [
    "cn_phonNnum='15767480379'\n",
    "status=cn_phone_status(cn_phonNnum)\n",
    "print status"
   ]
  },
  {
   "cell_type": "code",
   "execution_count": 5,
   "metadata": {
    "collapsed": false,
    "scrolled": true
   },
   "outputs": [
    {
     "ename": "NameError",
     "evalue": "global name 'cn_yanzhengma' is not defined",
     "output_type": "error",
     "traceback": [
      "\u001b[1;31m---------------------------------------------------------------------------\u001b[0m",
      "\u001b[1;31mNameError\u001b[0m                                 Traceback (most recent call last)",
      "\u001b[1;32m<ipython-input-5-1975c48895b6>\u001b[0m in \u001b[0;36m<module>\u001b[1;34m()\u001b[0m\n\u001b[0;32m      8\u001b[0m \u001b[0ma\u001b[0m\u001b[1;33m=\u001b[0m\u001b[0mcn_list\u001b[0m\u001b[1;33m.\u001b[0m\u001b[0msplit\u001b[0m\u001b[1;33m(\u001b[0m\u001b[1;34m';'\u001b[0m\u001b[1;33m)\u001b[0m\u001b[1;33m\u001b[0m\u001b[0m\n\u001b[0;32m      9\u001b[0m \u001b[0mcn_a_count\u001b[0m\u001b[1;33m=\u001b[0m\u001b[0mlen\u001b[0m\u001b[1;33m(\u001b[0m\u001b[0ma\u001b[0m\u001b[1;33m)\u001b[0m\u001b[1;33m\u001b[0m\u001b[0m\n\u001b[1;32m---> 10\u001b[1;33m \u001b[0mresult\u001b[0m\u001b[1;33m=\u001b[0m\u001b[0mcn_futong\u001b[0m\u001b[1;33m(\u001b[0m\u001b[0mr\u001b[0m\u001b[1;33m,\u001b[0m\u001b[0mcn_phonNnum\u001b[0m\u001b[1;33m,\u001b[0m\u001b[0mcn_pwd\u001b[0m\u001b[1;33m)\u001b[0m\u001b[1;33m\u001b[0m\u001b[0m\n\u001b[0m\u001b[0;32m     11\u001b[0m \u001b[1;31m# print cn_a_count\u001b[0m\u001b[1;33m\u001b[0m\u001b[1;33m\u001b[0m\u001b[0m\n\u001b[0;32m     12\u001b[0m \u001b[1;31m# i=0\u001b[0m\u001b[1;33m\u001b[0m\u001b[1;33m\u001b[0m\u001b[0m\n",
      "\u001b[1;32m<ipython-input-3-bbbe296db306>\u001b[0m in \u001b[0;36mcn_futong\u001b[1;34m(r, cn_phoneNum, cn_pwd)\u001b[0m\n\u001b[0;32m     70\u001b[0m     \u001b[1;31m# # ---------号码认证---------\u001b[0m\u001b[1;33m\u001b[0m\u001b[1;33m\u001b[0m\u001b[0m\n\u001b[0;32m     71\u001b[0m     \u001b[0mcookies\u001b[0m\u001b[1;33m=\u001b[0m\u001b[0mcn_cookies\u001b[0m\u001b[1;33m(\u001b[0m\u001b[0mr\u001b[0m\u001b[1;33m.\u001b[0m\u001b[0mcookies\u001b[0m\u001b[1;33m)\u001b[0m\u001b[1;33m\u001b[0m\u001b[0m\n\u001b[1;32m---> 72\u001b[1;33m     \u001b[0mcn_verifyCode\u001b[0m\u001b[1;33m=\u001b[0m\u001b[0mcn_yanzhengma\u001b[0m\u001b[1;33m(\u001b[0m\u001b[0mr\u001b[0m\u001b[1;33m)\u001b[0m\u001b[1;33m\u001b[0m\u001b[0m\n\u001b[0m\u001b[0;32m     73\u001b[0m \u001b[1;31m#     print cn_verifyCode\u001b[0m\u001b[1;33m\u001b[0m\u001b[1;33m\u001b[0m\u001b[0m\n\u001b[0;32m     74\u001b[0m     \u001b[0mparmas\u001b[0m\u001b[1;33m=\u001b[0m\u001b[1;33m{\u001b[0m\u001b[1;34m'method'\u001b[0m\u001b[1;33m:\u001b[0m\u001b[1;34m'qryCustInfo'\u001b[0m\u001b[1;33m,\u001b[0m\u001b[1;34m'servNumber'\u001b[0m\u001b[1;33m:\u001b[0m\u001b[0mcn_phoneNum\u001b[0m\u001b[1;33m,\u001b[0m\u001b[1;34m'authCheckMode'\u001b[0m\u001b[1;33m:\u001b[0m\u001b[1;34m'AuthCheckB'\u001b[0m\u001b[1;33m,\u001b[0m\u001b[1;34m'verifyCode'\u001b[0m\u001b[1;33m:\u001b[0m\u001b[0mcn_verifyCode\u001b[0m\u001b[1;33m,\u001b[0m\u001b[1;34m'pswd'\u001b[0m\u001b[1;33m:\u001b[0m\u001b[0mcn_pwd\u001b[0m\u001b[1;33m,\u001b[0m\u001b[1;34m'certType'\u001b[0m\u001b[1;33m:\u001b[0m\u001b[1;34m'IdCard'\u001b[0m\u001b[1;33m,\u001b[0m\u001b[1;34m'certID'\u001b[0m\u001b[1;33m:\u001b[0m\u001b[1;34m''\u001b[0m\u001b[1;33m,\u001b[0m\u001b[1;34m'rndPswd'\u001b[0m\u001b[1;33m:\u001b[0m\u001b[1;34m''\u001b[0m\u001b[1;33m,\u001b[0m\u001b[1;34m'custType'\u001b[0m\u001b[1;33m:\u001b[0m\u001b[1;34m'PersonCustomer'\u001b[0m\u001b[1;33m,\u001b[0m\u001b[1;34m'domainType'\u001b[0m\u001b[1;33m:\u001b[0m\u001b[1;34m''\u001b[0m\u001b[1;33m,\u001b[0m\u001b[1;34m'isCert2G'\u001b[0m\u001b[1;33m:\u001b[0m\u001b[1;34m''\u001b[0m\u001b[1;33m,\u001b[0m\u001b[1;34m'ONLYLOGIN'\u001b[0m\u001b[1;33m:\u001b[0m\u001b[1;34m'onlyLogin'\u001b[0m\u001b[1;33m,\u001b[0m\u001b[1;34m'withoutPassValidate'\u001b[0m\u001b[1;33m:\u001b[0m\u001b[1;34m'true'\u001b[0m\u001b[1;33m}\u001b[0m\u001b[1;33m\u001b[0m\u001b[0m\n",
      "\u001b[1;31mNameError\u001b[0m: global name 'cn_yanzhengma' is not defined"
     ]
    }
   ],
   "source": [
    "import time\n",
    "from datetime import datetime\n",
    "\n",
    "cn_phonNnum=''\n",
    "cn_pwd ='3064018eedb20b0de6ee4dcfcf34403c6faf329fbfcce9da98222e0673e09ca0b66418c640e3abd5e9ab9dd08b020e47ca33f0c5421979e21f039c50ce16c34573412e847b4390859ef0a936903e48fe15a957a3f9cb22b9407b3df4ade1a7bdafeb17c48e1458477706754fb7601864a6d0c9f1d59a8bd57afd3569b412a334'\n",
    "\n",
    "cn_list='15728199042'\n",
    "a=cn_list.split(';')\n",
    "cn_a_count=len(a)\n",
    "result=cn_futong(r,cn_phonNnum,cn_pwd)\n",
    "# print cn_a_count\n",
    "# i=0\n",
    "# for cn_phonNnum in a:\n",
    "#     startTime=datetime.now()\n",
    "#     i=i+1\n",
    "#     try:\n",
    "#         status=cn_phone_status(cn_phonNnum)\n",
    "#         if(status=='US10'):\n",
    "#             endTime=datetime.now()-startTime\n",
    "#             print i,cn_phonNnum,status,'无需操作',endTime\n",
    "#         elif(status=='US30'):\n",
    "#             time.sleep(1)\n",
    "#             result=cn_futong(r,cn_phonNnum,cn_pwd)\n",
    "#             endTime=datetime.now()-startTime\n",
    "#     #         print result\n",
    "#             if(result!=u'操作成功'):\n",
    "#                 endTime=datetime.now()-startTime\n",
    "#                 print i,cn_phonNnum,status,result,endTime\n",
    "#                 continue\n",
    "#             print i,cn_phonNnum,status,result,endTime\n",
    "#         else:\n",
    "#             endTime=datetime.now()-startTime\n",
    "#             print i,cn_phonNnum,'NONE:'+status,endTime\n",
    "#     except:\n",
    "#         endTime=datetime.now()-startTime\n",
    "#         print i,cn_phonNnum,status,'错误',endTime\n",
    "#         continue\n",
    "#     time.sleep(1)\n",
    "\n",
    "\n",
    "# print '结束:'+str(i)+'/'+str(cn_a_count)\n",
    "# print datetime.now()\n"
   ]
  },
  {
   "cell_type": "code",
   "execution_count": 11,
   "metadata": {
    "collapsed": false
   },
   "outputs": [
    {
     "ename": "AttributeError",
     "evalue": "'NoneType' object has no attribute 'attrs'",
     "output_type": "error",
     "traceback": [
      "\u001b[1;31m---------------------------------------------------------------------------\u001b[0m",
      "\u001b[1;31mAttributeError\u001b[0m                            Traceback (most recent call last)",
      "\u001b[1;32m<ipython-input-11-b21887304319>\u001b[0m in \u001b[0;36m<module>\u001b[1;34m()\u001b[0m\n\u001b[0;32m      8\u001b[0m \u001b[0ma\u001b[0m\u001b[1;33m=\u001b[0m\u001b[0mcn_list\u001b[0m\u001b[1;33m.\u001b[0m\u001b[0msplit\u001b[0m\u001b[1;33m(\u001b[0m\u001b[1;34m';'\u001b[0m\u001b[1;33m)\u001b[0m\u001b[1;33m\u001b[0m\u001b[0m\n\u001b[0;32m      9\u001b[0m \u001b[0mcn_a_count\u001b[0m\u001b[1;33m=\u001b[0m\u001b[0mlen\u001b[0m\u001b[1;33m(\u001b[0m\u001b[0ma\u001b[0m\u001b[1;33m)\u001b[0m\u001b[1;33m\u001b[0m\u001b[0m\n\u001b[1;32m---> 10\u001b[1;33m \u001b[0mresult\u001b[0m\u001b[1;33m=\u001b[0m\u001b[0mcn_futong\u001b[0m\u001b[1;33m(\u001b[0m\u001b[0mr\u001b[0m\u001b[1;33m,\u001b[0m\u001b[0mcn_phonNnum\u001b[0m\u001b[1;33m,\u001b[0m\u001b[0mcn_pwd\u001b[0m\u001b[1;33m)\u001b[0m\u001b[1;33m\u001b[0m\u001b[0m\n\u001b[0m\u001b[0;32m     11\u001b[0m \u001b[1;32mprint\u001b[0m \u001b[0mresult\u001b[0m\u001b[1;33m\u001b[0m\u001b[0m\n",
      "\u001b[1;32m<ipython-input-10-0942a28df0d2>\u001b[0m in \u001b[0;36mcn_futong\u001b[1;34m(r, cn_phoneNum, cn_pwd)\u001b[0m\n\u001b[0;32m     99\u001b[0m     \u001b[0msoup2\u001b[0m\u001b[1;33m=\u001b[0m\u001b[0mBeautifulSoup\u001b[0m\u001b[1;33m(\u001b[0m\u001b[0ms2\u001b[0m\u001b[1;33m.\u001b[0m\u001b[0mtext\u001b[0m\u001b[1;33m,\u001b[0m\u001b[1;34m'lxml'\u001b[0m\u001b[1;33m)\u001b[0m\u001b[1;33m\u001b[0m\u001b[0m\n\u001b[0;32m    100\u001b[0m \u001b[1;31m#     print soup\u001b[0m\u001b[1;33m\u001b[0m\u001b[1;33m\u001b[0m\u001b[0m\n\u001b[1;32m--> 101\u001b[1;33m     \u001b[0mcn_hiddenTokenName2\u001b[0m\u001b[1;33m=\u001b[0m\u001b[0msoup2\u001b[0m\u001b[1;33m.\u001b[0m\u001b[0mfind\u001b[0m\u001b[1;33m(\u001b[0m\u001b[0mattrs\u001b[0m\u001b[1;33m=\u001b[0m\u001b[1;33m{\u001b[0m\u001b[1;34m\"name\"\u001b[0m\u001b[1;33m:\u001b[0m\u001b[1;34m\"hiddenTokenName\"\u001b[0m\u001b[1;33m}\u001b[0m\u001b[1;33m)\u001b[0m\u001b[1;33m.\u001b[0m\u001b[0mattrs\u001b[0m\u001b[1;33m[\u001b[0m\u001b[1;34m'value'\u001b[0m\u001b[1;33m]\u001b[0m\u001b[1;33m\u001b[0m\u001b[0m\n\u001b[0m\u001b[0;32m    102\u001b[0m     \u001b[0mcn_hiddenTokenName_value2\u001b[0m\u001b[1;33m=\u001b[0m\u001b[0msoup2\u001b[0m\u001b[1;33m.\u001b[0m\u001b[0mfind\u001b[0m\u001b[1;33m(\u001b[0m\u001b[0mattrs\u001b[0m\u001b[1;33m=\u001b[0m\u001b[1;33m{\u001b[0m\u001b[1;34m\"name\"\u001b[0m\u001b[1;33m:\u001b[0m\u001b[0mcn_hiddenTokenName2\u001b[0m\u001b[1;33m}\u001b[0m\u001b[1;33m)\u001b[0m\u001b[1;33m.\u001b[0m\u001b[0mattrs\u001b[0m\u001b[1;33m[\u001b[0m\u001b[1;34m'value'\u001b[0m\u001b[1;33m]\u001b[0m\u001b[1;33m\u001b[0m\u001b[0m\n\u001b[0;32m    103\u001b[0m \u001b[1;31m#     print cn_hiddenTokenName_value\u001b[0m\u001b[1;33m\u001b[0m\u001b[1;33m\u001b[0m\u001b[0m\n",
      "\u001b[1;31mAttributeError\u001b[0m: 'NoneType' object has no attribute 'attrs'"
     ]
    }
   ],
   "source": [
    "import time\n",
    "from datetime import datetime\n",
    "\n",
    "cn_phonNnum=''\n",
    "cn_pwd ='3064018eedb20b0de6ee4dcfcf34403c6faf329fbfcce9da98222e0673e09ca0b66418c640e3abd5e9ab9dd08b020e47ca33f0c5421979e21f039c50ce16c34573412e847b4390859ef0a936903e48fe15a957a3f9cb22b9407b3df4ade1a7bdafeb17c48e1458477706754fb7601864a6d0c9f1d59a8bd57afd3569b412a334'\n",
    "\n",
    "cn_list='15728199042'\n",
    "a=cn_list.split(';')\n",
    "cn_a_count=len(a)\n",
    "result=cn_futong(r,cn_phonNnum,cn_pwd)\n",
    "print result"
   ]
  }
 ],
 "metadata": {
  "anaconda-cloud": {},
  "kernelspec": {
   "display_name": "Python [default]",
   "language": "python",
   "name": "python2"
  },
  "language_info": {
   "codemirror_mode": {
    "name": "ipython",
    "version": 2
   },
   "file_extension": ".py",
   "mimetype": "text/x-python",
   "name": "python",
   "nbconvert_exporter": "python",
   "pygments_lexer": "ipython2",
   "version": "2.7.12"
  }
 },
 "nbformat": 4,
 "nbformat_minor": 0
}
