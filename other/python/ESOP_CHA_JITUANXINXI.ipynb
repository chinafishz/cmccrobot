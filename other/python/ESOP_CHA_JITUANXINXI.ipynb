{
 "cells": [
  {
   "cell_type": "code",
   "execution_count": 23,
   "metadata": {
    "collapsed": true
   },
   "outputs": [],
   "source": [
    "#-*-encoding:utf-8-*-\n",
    "import requests\n",
    "from bs4  import BeautifulSoup\n",
    "import random\n",
    "import json\n",
    "import time\n",
    "import _thread\n",
    "\n",
    "           \n",
    "def cn_json_load(json2,cn_system):\n",
    "    cn_i=0\n",
    "    for i in json2.get('data'):\n",
    "        ss=i.get('name')\n",
    "        if ss==cn_system:\n",
    "            break\n",
    "        cn_i=cn_i+1\n",
    "    appResAccountList=json2.get('data')[cn_i].get('appResAccountList').split('|')[0][:-1]\n",
    "    id_num=json2.get('data')[cn_i].get('id')\n",
    "    return [appResAccountList,id_num]\n",
    "           \n",
    "           \n",
    "def cn_ESOPLogin(r,json2,isProxy=0,proxyIp='7.175.57.56',proxyPort='8083'):\n",
    "    if isProxy==0:\n",
    "        proxy={}\n",
    "    elif(isProxy==1):\n",
    "        proxy={'http':proxyIp+':'+proxyPort,'https':proxyIp+':'+proxyPort}\n",
    "    \n",
    "    header={'User-Agent':'Mozilla/5.0 (Windows NT 6.2; WOW64; rv:42.0) Gecko/20100101 Firefox/42.0','Accept':'text/html,application/xhtml+xml,application/xml;q=0.9,*/*;q=0.8','Accept-Language':'en-US,en;q=0.5','Accept-Encoding':'gzip, deflate'}\n",
    "    #点击ESOP登陆\n",
    "    cn_temp=cn_json_load(json2,u'广东移动NGESOP系统')\n",
    "    appResAccountList=cn_temp[0]\n",
    "    id_num=cn_temp[1]\n",
    "\n",
    "\n",
    "    #同步数据\n",
    "    r.post('https://4a.gmcc.net/keystore.do',data={'method':'getKeyStoreList'},headers=header,proxies=proxy,verify=False)\n",
    "    r.post('https://4a.gmcc.net/page/resource/resourceQuery.do?',data={'method':'isAuthDateValid','subaccName':'AGZGT0000829'},headers=header,proxies=proxy,verify=False)\n",
    "    params2={'method':'checkPolicy4JK','resId':id_num,'resAccId':appResAccountList,'date':str(time.time()).replace('.','')+str(random.randint(1,9))}\n",
    "    result2=r.post('https://4a.gmcc.net/page/jk/sso/appJKLogin.do',data=params2,headers=header,proxies=proxy,verify=False)\n",
    "    params2={'method':'queryLoginJKStatus','resId':id_num,'resAccId':appResAccountList,'date':str(time.time()).replace('.','')+str(random.randint(1,9))}\n",
    "    r.post('https://4a.gmcc.net/page/jk/sso/appJKLogin.do',data=params2,headers=header,proxies=proxy,verify=False)\n",
    "    params2={'method':'wantGetMACAddress','resId':id_num}\n",
    "    r.post('https://4a.gmcc.net/sso.do',data=params2,headers=header,proxies=proxy,verify=False)\n",
    "    url2='https://4a.gmcc.net/sso.do?method=appssoData&accID='+appResAccountList+'&resID='+id_num+'&softname=webAppByIE&date='+str(time.time()).replace('.','')+str(random.randint(1,9))\n",
    "    print('-----------测试是否登陆ESOP成功-----------')\n",
    "    s=r.get(url2,headers=header,proxies=proxy,allow_redirects=True,verify=False)\n",
    "    print(s.text)\n",
    "    \n"
   ]
  },
  {
   "cell_type": "code",
   "execution_count": 24,
   "metadata": {},
   "outputs": [
    {
     "name": "stderr",
     "output_type": "stream",
     "text": [
      "/home/chinafishz/opt/anaconda/lib/python3.6/site-packages/requests/packages/urllib3/connectionpool.py:852: InsecureRequestWarning: Unverified HTTPS request is being made. Adding certificate verification is strongly advised. See: https://urllib3.readthedocs.io/en/latest/advanced-usage.html#ssl-warnings\n",
      "  InsecureRequestWarning)\n",
      "/home/chinafishz/opt/anaconda/lib/python3.6/site-packages/requests/packages/urllib3/connectionpool.py:852: InsecureRequestWarning: Unverified HTTPS request is being made. Adding certificate verification is strongly advised. See: https://urllib3.readthedocs.io/en/latest/advanced-usage.html#ssl-warnings\n",
      "  InsecureRequestWarning)\n"
     ]
    },
    {
     "name": "stdout",
     "output_type": "stream",
     "text": [
      "-7276994626074373755\n"
     ]
    },
    {
     "name": "stderr",
     "output_type": "stream",
     "text": [
      "/home/chinafishz/opt/anaconda/lib/python3.6/site-packages/requests/packages/urllib3/connectionpool.py:852: InsecureRequestWarning: Unverified HTTPS request is being made. Adding certificate verification is strongly advised. See: https://urllib3.readthedocs.io/en/latest/advanced-usage.html#ssl-warnings\n",
      "  InsecureRequestWarning)\n",
      "/home/chinafishz/opt/anaconda/lib/python3.6/site-packages/requests/packages/urllib3/connectionpool.py:852: InsecureRequestWarning: Unverified HTTPS request is being made. Adding certificate verification is strongly advised. See: https://urllib3.readthedocs.io/en/latest/advanced-usage.html#ssl-warnings\n",
      "  InsecureRequestWarning)\n",
      "/home/chinafishz/opt/anaconda/lib/python3.6/site-packages/requests/packages/urllib3/connectionpool.py:852: InsecureRequestWarning: Unverified HTTPS request is being made. Adding certificate verification is strongly advised. See: https://urllib3.readthedocs.io/en/latest/advanced-usage.html#ssl-warnings\n",
      "  InsecureRequestWarning)\n",
      "/home/chinafishz/opt/anaconda/lib/python3.6/site-packages/requests/packages/urllib3/connectionpool.py:852: InsecureRequestWarning: Unverified HTTPS request is being made. Adding certificate verification is strongly advised. See: https://urllib3.readthedocs.io/en/latest/advanced-usage.html#ssl-warnings\n",
      "  InsecureRequestWarning)\n"
     ]
    },
    {
     "name": "stdout",
     "output_type": "stream",
     "text": [
      "已经发送短信验证码\n"
     ]
    },
    {
     "name": "stderr",
     "output_type": "stream",
     "text": [
      "/home/chinafishz/opt/anaconda/lib/python3.6/site-packages/requests/packages/urllib3/connectionpool.py:852: InsecureRequestWarning: Unverified HTTPS request is being made. Adding certificate verification is strongly advised. See: https://urllib3.readthedocs.io/en/latest/advanced-usage.html#ssl-warnings\n",
      "  InsecureRequestWarning)\n"
     ]
    },
    {
     "name": "stdout",
     "output_type": "stream",
     "text": [
      "验证码:483035\n",
      "正在登陆，请稍后...\n"
     ]
    },
    {
     "name": "stderr",
     "output_type": "stream",
     "text": [
      "/home/chinafishz/opt/anaconda/lib/python3.6/site-packages/requests/packages/urllib3/connectionpool.py:852: InsecureRequestWarning: Unverified HTTPS request is being made. Adding certificate verification is strongly advised. See: https://urllib3.readthedocs.io/en/latest/advanced-usage.html#ssl-warnings\n",
      "  InsecureRequestWarning)\n",
      "/home/chinafishz/opt/anaconda/lib/python3.6/site-packages/requests/packages/urllib3/connectionpool.py:852: InsecureRequestWarning: Unverified HTTPS request is being made. Adding certificate verification is strongly advised. See: https://urllib3.readthedocs.io/en/latest/advanced-usage.html#ssl-warnings\n",
      "  InsecureRequestWarning)\n",
      "/home/chinafishz/opt/anaconda/lib/python3.6/site-packages/requests/packages/urllib3/connectionpool.py:852: InsecureRequestWarning: Unverified HTTPS request is being made. Adding certificate verification is strongly advised. See: https://urllib3.readthedocs.io/en/latest/advanced-usage.html#ssl-warnings\n",
      "  InsecureRequestWarning)\n",
      "/home/chinafishz/opt/anaconda/lib/python3.6/site-packages/requests/packages/urllib3/connectionpool.py:852: InsecureRequestWarning: Unverified HTTPS request is being made. Adding certificate verification is strongly advised. See: https://urllib3.readthedocs.io/en/latest/advanced-usage.html#ssl-warnings\n",
      "  InsecureRequestWarning)\n",
      "/home/chinafishz/opt/anaconda/lib/python3.6/site-packages/requests/packages/urllib3/connectionpool.py:852: InsecureRequestWarning: Unverified HTTPS request is being made. Adding certificate verification is strongly advised. See: https://urllib3.readthedocs.io/en/latest/advanced-usage.html#ssl-warnings\n",
      "  InsecureRequestWarning)\n",
      "/home/chinafishz/opt/anaconda/lib/python3.6/site-packages/requests/packages/urllib3/connectionpool.py:852: InsecureRequestWarning: Unverified HTTPS request is being made. Adding certificate verification is strongly advised. See: https://urllib3.readthedocs.io/en/latest/advanced-usage.html#ssl-warnings\n",
      "  InsecureRequestWarning)\n",
      "/home/chinafishz/opt/anaconda/lib/python3.6/site-packages/requests/packages/urllib3/connectionpool.py:852: InsecureRequestWarning: Unverified HTTPS request is being made. Adding certificate verification is strongly advised. See: https://urllib3.readthedocs.io/en/latest/advanced-usage.html#ssl-warnings\n",
      "  InsecureRequestWarning)\n",
      "/home/chinafishz/opt/anaconda/lib/python3.6/site-packages/requests/packages/urllib3/connectionpool.py:852: InsecureRequestWarning: Unverified HTTPS request is being made. Adding certificate verification is strongly advised. See: https://urllib3.readthedocs.io/en/latest/advanced-usage.html#ssl-warnings\n",
      "  InsecureRequestWarning)\n",
      "/home/chinafishz/opt/anaconda/lib/python3.6/site-packages/requests/packages/urllib3/connectionpool.py:852: InsecureRequestWarning: Unverified HTTPS request is being made. Adding certificate verification is strongly advised. See: https://urllib3.readthedocs.io/en/latest/advanced-usage.html#ssl-warnings\n",
      "  InsecureRequestWarning)\n",
      "/home/chinafishz/opt/anaconda/lib/python3.6/site-packages/requests/packages/urllib3/connectionpool.py:852: InsecureRequestWarning: Unverified HTTPS request is being made. Adding certificate verification is strongly advised. See: https://urllib3.readthedocs.io/en/latest/advanced-usage.html#ssl-warnings\n",
      "  InsecureRequestWarning)\n",
      "/home/chinafishz/opt/anaconda/lib/python3.6/site-packages/requests/packages/urllib3/connectionpool.py:852: InsecureRequestWarning: Unverified HTTPS request is being made. Adding certificate verification is strongly advised. See: https://urllib3.readthedocs.io/en/latest/advanced-usage.html#ssl-warnings\n",
      "  InsecureRequestWarning)\n"
     ]
    },
    {
     "name": "stdout",
     "output_type": "stream",
     "text": [
      "{'data': [{'driverType': 'CUSTOM_BOSS_SYSTEM', 'idName': '34de96aaa2874d649a4f929e7480442b#BOSS', 'resNUM': 'BOSSAPP', 'loginURL': 'http://gz.boss.gmcc.net/boss/index2.jsp', 'hasDueAcc': False, 'ip': '10.243.211.131', 'appResClientList': '5L|GwebAppByIEL|GwebAppByIEL|GL|GlocalL|G', 'groupName': '业务支持中心--专业系统--BOSS系统--华为BOSS前台', 'name': 'BOSS', 'appResAccountList': '41a48a0604bd47448fd62c1c2ef9911fL|GL|G0L|GAGZGT0000829L|Gnull', 'isSsoService': 'yes', 'isUserDefine': 'no', 'ssoMode': 'ticket', 'hasAccount': True, 'restype': '应用资源', 'id': '34de96aaa2874d649a4f929e7480442b'}, {'driverType': 'APPRESOURCE', 'idName': '72e09b98b7c84a41b13b9f3bcfca693f#业支NGESOP', 'resNUM': 'YZNGESOPFOSHAN', 'loginURL': 'http://ngesop.boss.gmcc.net/csp/bsf/from4ALogin.action', 'hasDueAcc': False, 'ip': '10.243.215.225', 'appResClientList': '5L|GwebAppByIEL|GwebAppByIEL|GL|GlocalL|G', 'groupName': '业务支持中心--专业系统--NGESOP--NGESOP前台', 'name': '业支NGESOP', 'appResAccountList': '0b82c939f4ef497a8cea8397e6d898d2L|G1111L|G0L|GAGZGT0000829L|Gnull', 'isSsoService': 'yes', 'isUserDefine': 'no', 'ssoMode': 'ticket', 'hasAccount': True, 'restype': '应用资源', 'id': '72e09b98b7c84a41b13b9f3bcfca693f'}, {'driverType': 'APPRESOURCE', 'idName': 'c930f75e6cfd40de875430ae2843fafa#广东移动NGESOP系统', 'resNUM': 'NGESOP_KRF5', 'loginURL': 'http://esop.boss.gmcc.net/csp/bsf/from4ALogin.action', 'hasDueAcc': False, 'ip': '10.252.150.131', 'appResClientList': '5L|GwebAppByIEL|GwebAppByIEL|GL|GlocalL|G', 'groupName': '业务支持中心--专业系统--NGESOP--NGESOP前台_新', 'name': '广东移动NGESOP系统', 'appResAccountList': '08fab4dce4d144ceb2ad51ebe37e66bdL|G1111L|GnullL|GAGZGT0000829L|Gnull', 'isSsoService': 'yes', 'isUserDefine': 'no', 'ssoMode': 'ticket', 'hasAccount': True, 'restype': '应用资源', 'id': 'c930f75e6cfd40de875430ae2843fafa'}, {'driverType': 'CUSTOM_SJWG_SYSTEM', 'idName': 'bcae27c1375f4afe9534ec110a3d9955#已失效1', 'resNUM': 'WWNOAS_1', 'loginURL': 'http://10.201.63.100_1', 'hasDueAcc': False, 'ip': '10.201.63.100', 'appResClientList': '', 'groupName': '省网管维护中心--性能管理室--信令监测--应用层系统--集中性能管理系统', 'name': '已失效1', 'appResAccountList': '2197775afaba4dcfa5af99ba1fac7db8L|GL|G1L|GshizhongxiaL|Gnull', 'isSsoService': 'yes', 'isUserDefine': 'no', 'ssoMode': 'ticket', 'hasAccount': True, 'restype': '应用资源', 'id': 'bcae27c1375f4afe9534ec110a3d9955'}, {'driverType': 'APPRESOURCE', 'idName': '318c665182814a85a9ea35efe6573185#广州NGBOSS前台', 'resNUM': 'YZNGBOSSGUANGZHOU', 'loginURL': 'http://10.252.17.241:80/csp/bsf/from4ALogin.action', 'hasDueAcc': False, 'ip': '10.252.17.241', 'appResClientList': '5L|GwebAppByIEL|GwebAppByIEL|GL|GlocalL|G', 'groupName': '业务支持中心--专业系统--NGBOSS--广州NGBOSS前台', 'name': '广州NGBOSS前台', 'appResAccountList': '32d659d1e5af4deb9a94447357e828c4L|G1111L|GnullL|GAGZGT0000829L|Gnull', 'isSsoService': 'yes', 'isUserDefine': 'no', 'ssoMode': 'ticket', 'hasAccount': True, 'restype': '应用资源', 'id': '318c665182814a85a9ea35efe6573185'}, {'driverType': 'APPRESOURCE', 'idName': '9ac7827d64ce46a59f49109fef386276#ESOP应用系统', 'resNUM': 'ESOPAPP', 'loginURL': 'http://esop.boss.gmcc.net/esop/PortalCRM.action?intcommandid=System4APlat', 'hasDueAcc': False, 'ip': '10.243.215.60', 'appResClientList': '5L|GwebAppByIEL|GwebAppByIEL|GL|GlocalL|G', 'groupName': '业务支持中心--专业系统--ESOP前台', 'name': 'ESOP应用系统', 'appResAccountList': '23c0f866dc5e42e2a313302d1d2f5ecdL|GL|G9L|GAGZGT0000829L|Gnull', 'isSsoService': 'yes', 'isUserDefine': 'no', 'ssoMode': 'ticket', 'hasAccount': True, 'restype': '应用资源', 'id': '9ac7827d64ce46a59f49109fef386276'}], 'pageInfo': {'pageSize': 50, 'totalRowNum': 6, 'pageNum': 1}}\n"
     ]
    }
   ],
   "source": [
    "import cn_class_4alogin\n",
    "import requests\n",
    "r=requests.session()\n",
    "header={'User-Agent':'Mozilla/5.0 (X11; Linux x86_64; rv:44.0) Gecko/20100101 Firefox/44.0','Accept-Language':'en-US,en;q=0.5'}\n",
    "\n",
    "json2=cn_class_4alogin.cn_4ALogin(r,'qWER1234','41608446240A6782F2A0F031426EDC066CF24674F3F0586AF1E3983438A09296AE43CD3FF48B98732AFC16E3455713846069ED5C9B03B580')\n",
    "\n",
    "\n"
   ]
  },
  {
   "cell_type": "code",
   "execution_count": 25,
   "metadata": {},
   "outputs": [
    {
     "name": "stdout",
     "output_type": "stream",
     "text": [
      "08fab4dce4d144ceb2ad51ebe37e66bdL|G1111L|GnullL|GAGZGT0000829L|Gnull\n",
      "-----------测试是否登陆ESOP成功-----------\n"
     ]
    },
    {
     "name": "stderr",
     "output_type": "stream",
     "text": [
      "/home/chinafishz/opt/anaconda/lib/python3.6/site-packages/requests/packages/urllib3/connectionpool.py:852: InsecureRequestWarning: Unverified HTTPS request is being made. Adding certificate verification is strongly advised. See: https://urllib3.readthedocs.io/en/latest/advanced-usage.html#ssl-warnings\n",
      "  InsecureRequestWarning)\n",
      "/home/chinafishz/opt/anaconda/lib/python3.6/site-packages/requests/packages/urllib3/connectionpool.py:852: InsecureRequestWarning: Unverified HTTPS request is being made. Adding certificate verification is strongly advised. See: https://urllib3.readthedocs.io/en/latest/advanced-usage.html#ssl-warnings\n",
      "  InsecureRequestWarning)\n",
      "/home/chinafishz/opt/anaconda/lib/python3.6/site-packages/requests/packages/urllib3/connectionpool.py:852: InsecureRequestWarning: Unverified HTTPS request is being made. Adding certificate verification is strongly advised. See: https://urllib3.readthedocs.io/en/latest/advanced-usage.html#ssl-warnings\n",
      "  InsecureRequestWarning)\n",
      "/home/chinafishz/opt/anaconda/lib/python3.6/site-packages/requests/packages/urllib3/connectionpool.py:852: InsecureRequestWarning: Unverified HTTPS request is being made. Adding certificate verification is strongly advised. See: https://urllib3.readthedocs.io/en/latest/advanced-usage.html#ssl-warnings\n",
      "  InsecureRequestWarning)\n",
      "/home/chinafishz/opt/anaconda/lib/python3.6/site-packages/requests/packages/urllib3/connectionpool.py:852: InsecureRequestWarning: Unverified HTTPS request is being made. Adding certificate verification is strongly advised. See: https://urllib3.readthedocs.io/en/latest/advanced-usage.html#ssl-warnings\n",
      "  InsecureRequestWarning)\n"
     ]
    },
    {
     "name": "stdout",
     "output_type": "stream",
     "text": [
      "<Response [200]>\n"
     ]
    }
   ],
   "source": [
    "# cn_ESOPLogin(r,json2,0)\n",
    "cn_class_4alogin.cn_ESOPLogin(r,json2)"
   ]
  },
  {
   "cell_type": "code",
   "execution_count": 27,
   "metadata": {},
   "outputs": [
    {
     "name": "stdout",
     "output_type": "stream",
     "text": [
      "('张心成', '18069800267', 'xull@cnwisdom.com')\n"
     ]
    }
   ],
   "source": [
    "def cn_ESOP_mohuchaxun(r,cn_productnum):\n",
    "    url='http://esop.boss.gmcc.net/ngcustcare_fs/group/groupQuery/queryGroupCust.action'\n",
    "    params2={\"queryConditionBean.comeFromOrderTrace\":\"\",\"queryConditionBean.grpprodId\":\"\",\"queryConditionBean.queryMode\":\"group\",\"queryConditionBean.haveQueryed\":\"true\",\"queryConditionBean.regionID\":\"\",\"queryMode\":\"group\",\"queryConditionBean.virtualCode\":\"\",\"queryConditionBean.grpName\":\"\",\"queryConditionBean.productNum\":\"\"+cn_productnum+\"\",\"queryConditionBean.custManCode\":\"\",\"queryConditionBean.portNum\":\"\",\"queryConditionBean.feeAndConnPortNum\":\"\",\"queryConditionBean.mobileExchangeNum\":\"\",\"queryConditionBean.gn4001Num\":\"\",\"queryConditionBean.startDate\":\"\",\"queryConditionBean.startDate_format\":\"yyyy-MM-dd\",\"queryConditionBean.endDate\":\"\",\"queryConditionBean.endDate_format\":\"yyyy-MM-dd\",\"queryConditionBean.bBossOrderNum\":\"\",\"queryConditionBean.fuseBoardNum\":\"\",\"queryConditionBean.servNum\":\"\",\"queryConditionBean.netCode\":\"\",\"queryConditionBean.centrexNum\":\"\",\"queryConditionBean.homeNumber\":\"\",\"tab1\":\"\",\"tab2\":\"\",\"tab3\":\"\"}\n",
    "    s=r.post(url,data=params2)\n",
    "    soup=BeautifulSoup(s.text,'lxml')\n",
    "    result=soup.select('#custTable')[0]\n",
    "    temp=''\n",
    "    for i in result:\n",
    "        if len(i)>1:\n",
    "            temp=temp+','+ ''.join(i.text).split()[0]\n",
    "    return temp\n",
    "\n",
    "def cn_ESOP_jituanInfo(r,cn_jituanNumber):\n",
    "    url='http://esop.boss.gmcc.net/ngcustcare_fs/group/groupQuery/queryGroupByVipCode.action?virtualCode='+cn_jituanNumber+'&regionID=&gn4001Num=&bBossOrderNum='\n",
    "    params2={}\n",
    "    s=r.post(url,data=params2)\n",
    "    url='http://esop.boss.gmcc.net/ngcustcare_fs/group/groupQuery/custFrameAction.action?ran='+'0.'+str(random.randint(100000000000000,999999999999999))+str(random.randint(1,9))\n",
    "    s=r.get(url)\n",
    "#     soup=BeautifulSoup(s.text,'lxml')\n",
    "#     return ''.join(soup.select('.ballistic_bg')[0].select('td')[17].text).split()[0]\n",
    "\n",
    "def cn_ESOP_chanpinchaxun(r,cn_jituanNumber,cn_productnum):\n",
    "    cn_ESOP_jituanInfo(r,cn_jituanNumber)\n",
    "    cn_ran=str(random.randint(100000000000000,999999999999999))+str(random.randint(1,9))\n",
    "    url='http://esop.boss.gmcc.net/ngcustcare_fs/group/groupQuery/subsFrameAction.action?ran=0.'+cn_ran+'&comeFromOrderTrace=&grpprodId=&virtualCode=2002521723&productCode='+cn_productnum+'&centrexNum=&netCode=&subsId=&acctId=&queryType=group'\n",
    "    s=r.get(url)\n",
    "    soup=BeautifulSoup(s.text,'lxml')\n",
    "    result=soup.select('.mw_label')[0].text\n",
    "    return result\n",
    "\n",
    "def cn_ESOP_chanpinshuxing(r,cn_jituanNumber,cn_productnum):\n",
    "    cn_subid=cn_ESOP_chanpinchaxun(r,cn_jituanNumber,cn_productnum)\n",
    "    cn_ran=str(random.randint(100000000000000,999999999999999))+str(random.randint(1,9))\n",
    "    url='http://esop.boss.gmcc.net/ngcustcare_fs/group/groupQuery/subsAttributeAction.action?subId='+cn_subid+'&ran=0.'+cn_ran\n",
    "    s=r.get(url)\n",
    "    soup=BeautifulSoup(s.text,'lxml')\n",
    "    result=soup.find(attrs={\"name\":\"serv_GrpPBDataLNTran_PrdAdminName\"}).attrs['value']\n",
    "    result1=soup.find(attrs={\"name\":\"serv_GrpPBDataLNTran_PrdAdminMobile\"}).attrs['value']\n",
    "    result2=soup.find(attrs={\"name\":\"serv_GrpPBDataLNTran_PrdAdminMail\"}).attrs['value']\n",
    "    return result,result1,result2\n",
    "    \n",
    "print(cn_ESOP_chanpinshuxing(r,'2002521723','30122021151'))"
   ]
  },
  {
   "cell_type": "code",
   "execution_count": 30,
   "metadata": {},
   "outputs": [
    {
     "name": "stdout",
     "output_type": "stream",
     "text": [
      "79\n",
      "end\n"
     ]
    }
   ],
   "source": [
    "from bs4  import BeautifulSoup\n",
    "import sys\n",
    "\n",
    "\n",
    "cn_list='30122020966;30122020944;30122021016;30122021021;30122020952;30122021014;30122021187;30122020950;30122021182;30122021151;30122021289;30122020964;30122021031;30122021028;30122021025;30122020965;30122021027;30122020963;30122021026;30122021281;30122021279;30122021280;30122020969;30122021017;30122021287;30122021286;30122021285;30122021167;30122021153;30122021185;30122021316;30122021024;30122021022;30122021019;30122021358;30122021162;30122021179;30122021188;30122021165;30122021164;30122021163;30122020905;30122021018;30122021006;30122020970;30122021193;30122021276;30122021192;30122025747;30122021441;30122024690;30122021918;30122021919;30122003635;30122005516;30122021106;30122021075;30122020924;30122020997;30122020947;30122021083;30122021107;30122021097;30122021109;30122021095;30122021069;30122021070;30122021195;30122021091;30122021222;30122021224;30122022072;30122021511;30122022004;30122024662;30122003147;30122006799;30122006041;30122006594'\n",
    "\n",
    "a=cn_list.split(';')\n",
    "cn_a_count=len(a)\n",
    "print(cn_a_count)\n",
    "\n",
    "cn_file=open('abc','a')\n",
    "\n",
    "cn_i=1\n",
    "for cc in a:\n",
    "    temp=cn_ESOP_chanpinshuxing(r,'2002521723',cc)\n",
    "    cn_file.write(\"\\n\"+str(cn_i)+' '+cc+' '+temp[0]+' '+temp[1]+' '+temp[2])\n",
    "    time.sleep(1)\n",
    "    cn_i=cn_i+1\n",
    "cn_file.close()\n",
    "print('end')\n"
   ]
  },
  {
   "cell_type": "code",
   "execution_count": null,
   "metadata": {
    "collapsed": true
   },
   "outputs": [],
   "source": [
    "#     url='http://esop.boss.gmcc.net/ngcustcare_fs/group/groupQuery/queryGroupCust.action'\n",
    "#     params2={'queryConditionBean.comeFromOrderTrace':'','queryConditionBean.grpprodId':'','queryConditionBean.queryMode':'group','queryConditionBean.haveQueryed':'TRUE','queryConditionBean.regionID':'','queryMode':'group','queryConditionBean.virtualCode':'2002565535','queryConditionBean.grpName':'','queryConditionBean.productNum':'','queryConditionBean.custManCode':'','queryConditionBean.portNum':'','queryConditionBean.feeAndConnPortNum':'','queryConditionBean.mobileExchangeNum':'','queryConditionBean.gn4001Num':'','queryConditionBean.startDate':'','queryConditionBean.startDate_format':'yyyy-MM-dd','queryConditionBean.endDate':'','queryConditionBean.endDate_format':'yyyy-MM-dd','queryConditionBean.bBossOrderNum':'','queryConditionBean.fuseBoardNum':'','queryConditionBean.servNum':'','queryConditionBean.netCode':'','queryConditionBean.centrexNum':'','queryConditionBean.homeNumber':'','tab1':'','tab2':'','tab3':''}\n",
    "#     s=r.post(url,data=params2)\n",
    "#     print s.text"
   ]
  },
  {
   "cell_type": "code",
   "execution_count": null,
   "metadata": {},
   "outputs": [],
   "source": [
    "print cn_ESOP_jituanInfo(r,'2000188880')"
   ]
  },
  {
   "cell_type": "code",
   "execution_count": 28,
   "metadata": {},
   "outputs": [],
   "source": []
  },
  {
   "cell_type": "code",
   "execution_count": null,
   "metadata": {},
   "outputs": [],
   "source": []
  },
  {
   "cell_type": "code",
   "execution_count": null,
   "metadata": {
    "collapsed": true
   },
   "outputs": [],
   "source": []
  }
 ],
 "metadata": {
  "anaconda-cloud": {},
  "kernelspec": {
   "display_name": "Python 3",
   "language": "python",
   "name": "python3"
  },
  "language_info": {
   "codemirror_mode": {
    "name": "ipython",
    "version": 3
   },
   "file_extension": ".py",
   "mimetype": "text/x-python",
   "name": "python",
   "nbconvert_exporter": "python",
   "pygments_lexer": "ipython3",
   "version": "3.6.1"
  }
 },
 "nbformat": 4,
 "nbformat_minor": 1
}
