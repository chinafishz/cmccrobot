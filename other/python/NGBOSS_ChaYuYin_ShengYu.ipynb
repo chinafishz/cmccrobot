{
 "cells": [
  {
   "cell_type": "code",
   "execution_count": 1,
   "metadata": {},
   "outputs": [
    {
     "name": "stderr",
     "output_type": "stream",
     "text": [
      "/home/chinafishz/opt/anaconda/lib/python3.6/site-packages/urllib3/connectionpool.py:858: InsecureRequestWarning: Unverified HTTPS request is being made. Adding certificate verification is strongly advised. See: https://urllib3.readthedocs.io/en/latest/advanced-usage.html#ssl-warnings\n",
      "  InsecureRequestWarning)\n",
      "/home/chinafishz/opt/anaconda/lib/python3.6/site-packages/urllib3/connectionpool.py:858: InsecureRequestWarning: Unverified HTTPS request is being made. Adding certificate verification is strongly advised. See: https://urllib3.readthedocs.io/en/latest/advanced-usage.html#ssl-warnings\n",
      "  InsecureRequestWarning)\n"
     ]
    },
    {
     "name": "stdout",
     "output_type": "stream",
     "text": [
      "1703786231308943483\n"
     ]
    },
    {
     "name": "stderr",
     "output_type": "stream",
     "text": [
      "/home/chinafishz/opt/anaconda/lib/python3.6/site-packages/urllib3/connectionpool.py:858: InsecureRequestWarning: Unverified HTTPS request is being made. Adding certificate verification is strongly advised. See: https://urllib3.readthedocs.io/en/latest/advanced-usage.html#ssl-warnings\n",
      "  InsecureRequestWarning)\n",
      "/home/chinafishz/opt/anaconda/lib/python3.6/site-packages/urllib3/connectionpool.py:858: InsecureRequestWarning: Unverified HTTPS request is being made. Adding certificate verification is strongly advised. See: https://urllib3.readthedocs.io/en/latest/advanced-usage.html#ssl-warnings\n",
      "  InsecureRequestWarning)\n",
      "/home/chinafishz/opt/anaconda/lib/python3.6/site-packages/urllib3/connectionpool.py:858: InsecureRequestWarning: Unverified HTTPS request is being made. Adding certificate verification is strongly advised. See: https://urllib3.readthedocs.io/en/latest/advanced-usage.html#ssl-warnings\n",
      "  InsecureRequestWarning)\n",
      "/home/chinafishz/opt/anaconda/lib/python3.6/site-packages/urllib3/connectionpool.py:858: InsecureRequestWarning: Unverified HTTPS request is being made. Adding certificate verification is strongly advised. See: https://urllib3.readthedocs.io/en/latest/advanced-usage.html#ssl-warnings\n",
      "  InsecureRequestWarning)\n"
     ]
    },
    {
     "name": "stdout",
     "output_type": "stream",
     "text": [
      "已经发送短信验证码\n"
     ]
    },
    {
     "name": "stderr",
     "output_type": "stream",
     "text": [
      "/home/chinafishz/opt/anaconda/lib/python3.6/site-packages/urllib3/connectionpool.py:858: InsecureRequestWarning: Unverified HTTPS request is being made. Adding certificate verification is strongly advised. See: https://urllib3.readthedocs.io/en/latest/advanced-usage.html#ssl-warnings\n",
      "  InsecureRequestWarning)\n"
     ]
    },
    {
     "name": "stdout",
     "output_type": "stream",
     "text": [
      "验证码:383073\n",
      "正在登陆，请稍后...\n"
     ]
    },
    {
     "name": "stderr",
     "output_type": "stream",
     "text": [
      "/home/chinafishz/opt/anaconda/lib/python3.6/site-packages/urllib3/connectionpool.py:858: InsecureRequestWarning: Unverified HTTPS request is being made. Adding certificate verification is strongly advised. See: https://urllib3.readthedocs.io/en/latest/advanced-usage.html#ssl-warnings\n",
      "  InsecureRequestWarning)\n",
      "/home/chinafishz/opt/anaconda/lib/python3.6/site-packages/urllib3/connectionpool.py:858: InsecureRequestWarning: Unverified HTTPS request is being made. Adding certificate verification is strongly advised. See: https://urllib3.readthedocs.io/en/latest/advanced-usage.html#ssl-warnings\n",
      "  InsecureRequestWarning)\n",
      "/home/chinafishz/opt/anaconda/lib/python3.6/site-packages/urllib3/connectionpool.py:858: InsecureRequestWarning: Unverified HTTPS request is being made. Adding certificate verification is strongly advised. See: https://urllib3.readthedocs.io/en/latest/advanced-usage.html#ssl-warnings\n",
      "  InsecureRequestWarning)\n",
      "/home/chinafishz/opt/anaconda/lib/python3.6/site-packages/urllib3/connectionpool.py:858: InsecureRequestWarning: Unverified HTTPS request is being made. Adding certificate verification is strongly advised. See: https://urllib3.readthedocs.io/en/latest/advanced-usage.html#ssl-warnings\n",
      "  InsecureRequestWarning)\n",
      "/home/chinafishz/opt/anaconda/lib/python3.6/site-packages/urllib3/connectionpool.py:858: InsecureRequestWarning: Unverified HTTPS request is being made. Adding certificate verification is strongly advised. See: https://urllib3.readthedocs.io/en/latest/advanced-usage.html#ssl-warnings\n",
      "  InsecureRequestWarning)\n",
      "/home/chinafishz/opt/anaconda/lib/python3.6/site-packages/urllib3/connectionpool.py:858: InsecureRequestWarning: Unverified HTTPS request is being made. Adding certificate verification is strongly advised. See: https://urllib3.readthedocs.io/en/latest/advanced-usage.html#ssl-warnings\n",
      "  InsecureRequestWarning)\n",
      "/home/chinafishz/opt/anaconda/lib/python3.6/site-packages/urllib3/connectionpool.py:858: InsecureRequestWarning: Unverified HTTPS request is being made. Adding certificate verification is strongly advised. See: https://urllib3.readthedocs.io/en/latest/advanced-usage.html#ssl-warnings\n",
      "  InsecureRequestWarning)\n",
      "/home/chinafishz/opt/anaconda/lib/python3.6/site-packages/urllib3/connectionpool.py:858: InsecureRequestWarning: Unverified HTTPS request is being made. Adding certificate verification is strongly advised. See: https://urllib3.readthedocs.io/en/latest/advanced-usage.html#ssl-warnings\n",
      "  InsecureRequestWarning)\n",
      "/home/chinafishz/opt/anaconda/lib/python3.6/site-packages/urllib3/connectionpool.py:858: InsecureRequestWarning: Unverified HTTPS request is being made. Adding certificate verification is strongly advised. See: https://urllib3.readthedocs.io/en/latest/advanced-usage.html#ssl-warnings\n",
      "  InsecureRequestWarning)\n",
      "/home/chinafishz/opt/anaconda/lib/python3.6/site-packages/urllib3/connectionpool.py:858: InsecureRequestWarning: Unverified HTTPS request is being made. Adding certificate verification is strongly advised. See: https://urllib3.readthedocs.io/en/latest/advanced-usage.html#ssl-warnings\n",
      "  InsecureRequestWarning)\n",
      "/home/chinafishz/opt/anaconda/lib/python3.6/site-packages/urllib3/connectionpool.py:858: InsecureRequestWarning: Unverified HTTPS request is being made. Adding certificate verification is strongly advised. See: https://urllib3.readthedocs.io/en/latest/advanced-usage.html#ssl-warnings\n",
      "  InsecureRequestWarning)\n"
     ]
    },
    {
     "name": "stdout",
     "output_type": "stream",
     "text": [
      "{'data': [{'driverType': 'CUSTOM_BOSS_SYSTEM', 'idName': '34de96aaa2874d649a4f929e7480442b#BOSS', 'resNUM': 'BOSSAPP', 'loginURL': 'http://gz.boss.gmcc.net/boss/index2.jsp', 'hasDueAcc': False, 'ip': '10.243.211.131', 'appResClientList': '5L|GwebAppByIEL|GwebAppByIEL|GL|GlocalL|G', 'groupName': '业务支持中心--专业系统--BOSS系统--华为BOSS前台', 'name': 'BOSS', 'appResAccountList': '41a48a0604bd47448fd62c1c2ef9911fL|GL|G0L|GAGZGT0000829L|Gnull', 'isSsoService': 'yes', 'isUserDefine': 'no', 'ssoMode': 'ticket', 'hasAccount': True, 'restype': '应用资源', 'id': '34de96aaa2874d649a4f929e7480442b'}, {'driverType': 'APPRESOURCE', 'idName': '72e09b98b7c84a41b13b9f3bcfca693f#业支NGESOP', 'resNUM': 'YZNGESOPFOSHAN', 'loginURL': 'http://ngesop.boss.gmcc.net/csp/bsf/from4ALogin.action', 'hasDueAcc': False, 'ip': '10.243.215.225', 'appResClientList': '5L|GwebAppByIEL|GwebAppByIEL|GL|GlocalL|G', 'groupName': '业务支持中心--专业系统--NGESOP--NGESOP前台', 'name': '业支NGESOP', 'appResAccountList': '0b82c939f4ef497a8cea8397e6d898d2L|G1111L|G0L|GAGZGT0000829L|Gnull', 'isSsoService': 'yes', 'isUserDefine': 'no', 'ssoMode': 'ticket', 'hasAccount': True, 'restype': '应用资源', 'id': '72e09b98b7c84a41b13b9f3bcfca693f'}, {'driverType': 'APPRESOURCE', 'idName': 'c930f75e6cfd40de875430ae2843fafa#广东移动NGESOP系统', 'resNUM': 'NGESOP_KRF5', 'loginURL': 'http://esop.boss.gmcc.net/csp/bsf/from4ALogin.action', 'hasDueAcc': False, 'ip': '10.252.150.131', 'appResClientList': '5L|GwebAppByIEL|GwebAppByIEL|GL|GlocalL|G', 'groupName': '业务支持中心--专业系统--NGESOP--NGESOP前台_新', 'name': '广东移动NGESOP系统', 'appResAccountList': '08fab4dce4d144ceb2ad51ebe37e66bdL|G1111L|GnullL|GAGZGT0000829L|Gnull', 'isSsoService': 'yes', 'isUserDefine': 'no', 'ssoMode': 'ticket', 'hasAccount': True, 'restype': '应用资源', 'id': 'c930f75e6cfd40de875430ae2843fafa'}, {'driverType': 'CUSTOM_SJWG_SYSTEM', 'idName': 'bcae27c1375f4afe9534ec110a3d9955#已失效1', 'resNUM': 'WWNOAS_1', 'loginURL': 'http://10.201.63.100_1', 'hasDueAcc': False, 'ip': '10.201.63.100', 'appResClientList': '', 'groupName': '省网管维护中心--性能管理室--信令监测--应用层系统--集中性能管理系统', 'name': '已失效1', 'appResAccountList': '2197775afaba4dcfa5af99ba1fac7db8L|GL|G1L|GshizhongxiaL|Gnull', 'isSsoService': 'yes', 'isUserDefine': 'no', 'ssoMode': 'ticket', 'hasAccount': True, 'restype': '应用资源', 'id': 'bcae27c1375f4afe9534ec110a3d9955'}, {'driverType': 'APPRESOURCE', 'idName': '318c665182814a85a9ea35efe6573185#广州NGBOSS前台', 'resNUM': 'YZNGBOSSGUANGZHOU', 'loginURL': 'http://10.252.17.241:80/csp/bsf/from4ALogin.action', 'hasDueAcc': False, 'ip': '10.252.17.241', 'appResClientList': '5L|GwebAppByIEL|GwebAppByIEL|GL|GlocalL|G', 'groupName': '业务支持中心--专业系统--NGBOSS--广州NGBOSS前台', 'name': '广州NGBOSS前台', 'appResAccountList': '32d659d1e5af4deb9a94447357e828c4L|G1111L|GnullL|GAGZGT0000829L|Gnull', 'isSsoService': 'yes', 'isUserDefine': 'no', 'ssoMode': 'ticket', 'hasAccount': True, 'restype': '应用资源', 'id': '318c665182814a85a9ea35efe6573185'}, {'driverType': 'APPRESOURCE', 'idName': '9ac7827d64ce46a59f49109fef386276#ESOP应用系统', 'resNUM': 'ESOPAPP', 'loginURL': 'http://esop.boss.gmcc.net/esop/PortalCRM.action?intcommandid=System4APlat', 'hasDueAcc': False, 'ip': '10.243.215.60', 'appResClientList': '5L|GwebAppByIEL|GwebAppByIEL|GL|GlocalL|G', 'groupName': '业务支持中心--专业系统--ESOP前台', 'name': 'ESOP应用系统', 'appResAccountList': '23c0f866dc5e42e2a313302d1d2f5ecdL|GL|G9L|GAGZGT0000829L|Gnull', 'isSsoService': 'yes', 'isUserDefine': 'no', 'ssoMode': 'ticket', 'hasAccount': True, 'restype': '应用资源', 'id': '9ac7827d64ce46a59f49109fef386276'}, {'driverType': 'APPRESOURCE', 'idName': 'cb26fbcb34ae463fb1f9ec41ca2057a9#物联网系统前台', 'resNUM': 'NG3IOT', 'loginURL': 'http://10.253.61.8/csp/bsf/from4ALogin.action', 'hasDueAcc': False, 'ip': '10.253.61.8', 'appResClientList': '5L|GwebAppByIEL|GwebAppByIEL|GL|GlocalL|G', 'groupName': '业务支持中心--前台资源--NGBOSS系统前台--华为NGBOSS前台--iot物联网系统', 'name': '物联网系统前台', 'appResAccountList': 'e228568c23b8443a927555a6e5a423d2L|G1111L|GnullL|GAGZGT0000829L|Gnull', 'isSsoService': 'yes', 'isUserDefine': 'no', 'ssoMode': 'ticket', 'hasAccount': True, 'restype': '应用资源', 'id': 'cb26fbcb34ae463fb1f9ec41ca2057a9'}], 'pageInfo': {'pageSize': 50, 'totalRowNum': 7, 'pageNum': 1}}\n",
      "32d659d1e5af4deb9a94447357e828c4L|G1111L|GnullL|GAGZGT0000829L|Gnull\n",
      "-----------测试是否登陆BOSS成功-----------\n"
     ]
    },
    {
     "name": "stderr",
     "output_type": "stream",
     "text": [
      "/home/chinafishz/opt/anaconda/lib/python3.6/site-packages/urllib3/connectionpool.py:858: InsecureRequestWarning: Unverified HTTPS request is being made. Adding certificate verification is strongly advised. See: https://urllib3.readthedocs.io/en/latest/advanced-usage.html#ssl-warnings\n",
      "  InsecureRequestWarning)\n",
      "/home/chinafishz/opt/anaconda/lib/python3.6/site-packages/urllib3/connectionpool.py:858: InsecureRequestWarning: Unverified HTTPS request is being made. Adding certificate verification is strongly advised. See: https://urllib3.readthedocs.io/en/latest/advanced-usage.html#ssl-warnings\n",
      "  InsecureRequestWarning)\n",
      "/home/chinafishz/opt/anaconda/lib/python3.6/site-packages/urllib3/connectionpool.py:858: InsecureRequestWarning: Unverified HTTPS request is being made. Adding certificate verification is strongly advised. See: https://urllib3.readthedocs.io/en/latest/advanced-usage.html#ssl-warnings\n",
      "  InsecureRequestWarning)\n",
      "/home/chinafishz/opt/anaconda/lib/python3.6/site-packages/urllib3/connectionpool.py:858: InsecureRequestWarning: Unverified HTTPS request is being made. Adding certificate verification is strongly advised. See: https://urllib3.readthedocs.io/en/latest/advanced-usage.html#ssl-warnings\n",
      "  InsecureRequestWarning)\n",
      "/home/chinafishz/opt/anaconda/lib/python3.6/site-packages/urllib3/connectionpool.py:858: InsecureRequestWarning: Unverified HTTPS request is being made. Adding certificate verification is strongly advised. See: https://urllib3.readthedocs.io/en/latest/advanced-usage.html#ssl-warnings\n",
      "  InsecureRequestWarning)\n"
     ]
    }
   ],
   "source": [
    "import cn_class_4alogin\n",
    "import requests\n",
    "import sys\n",
    "\n",
    "\n",
    "r=requests.session()\n",
    "header={'User-Agent':'Mozilla/5.0 (X11; Linux x86_64; rv:44.0) Gecko/20100101 Firefox/44.0','Accept-Language':'en-US,en;q=0.5'}\n",
    "\n",
    "json2=cn_class_4alogin.cn_4ALogin(r,'qwER1234','41608446240A6782F2A0F031426EDC066CF24674F3F0586AF1E3983438A092968F3B0CA8F25838172AFC16E3455713846069ED5C9B03B580')\n",
    "cn_class_4alogin.cn_BossLogin(r,json2)"
   ]
  },
  {
   "cell_type": "code",
   "execution_count": 8,
   "metadata": {},
   "outputs": [
    {
     "name": "stdout",
     "output_type": "stream",
     "text": [
      "32d659d1e5af4deb9a94447357e828c4L|G1111L|GnullL|GAGZGT0000829L|Gnull\n",
      "-----------测试是否登陆BOSS成功-----------\n"
     ]
    },
    {
     "name": "stderr",
     "output_type": "stream",
     "text": [
      "/home/chinafishz/opt/anaconda/lib/python3.6/site-packages/urllib3/connectionpool.py:858: InsecureRequestWarning: Unverified HTTPS request is being made. Adding certificate verification is strongly advised. See: https://urllib3.readthedocs.io/en/latest/advanced-usage.html#ssl-warnings\n",
      "  InsecureRequestWarning)\n",
      "/home/chinafishz/opt/anaconda/lib/python3.6/site-packages/urllib3/connectionpool.py:858: InsecureRequestWarning: Unverified HTTPS request is being made. Adding certificate verification is strongly advised. See: https://urllib3.readthedocs.io/en/latest/advanced-usage.html#ssl-warnings\n",
      "  InsecureRequestWarning)\n",
      "/home/chinafishz/opt/anaconda/lib/python3.6/site-packages/urllib3/connectionpool.py:858: InsecureRequestWarning: Unverified HTTPS request is being made. Adding certificate verification is strongly advised. See: https://urllib3.readthedocs.io/en/latest/advanced-usage.html#ssl-warnings\n",
      "  InsecureRequestWarning)\n",
      "/home/chinafishz/opt/anaconda/lib/python3.6/site-packages/urllib3/connectionpool.py:858: InsecureRequestWarning: Unverified HTTPS request is being made. Adding certificate verification is strongly advised. See: https://urllib3.readthedocs.io/en/latest/advanced-usage.html#ssl-warnings\n",
      "  InsecureRequestWarning)\n",
      "/home/chinafishz/opt/anaconda/lib/python3.6/site-packages/urllib3/connectionpool.py:858: InsecureRequestWarning: Unverified HTTPS request is being made. Adding certificate verification is strongly advised. See: https://urllib3.readthedocs.io/en/latest/advanced-usage.html#ssl-warnings\n",
      "  InsecureRequestWarning)\n"
     ]
    }
   ],
   "source": [
    "cn_class_4alogin.cn_BossLogin(r,json2)"
   ]
  },
  {
   "cell_type": "code",
   "execution_count": 5,
   "metadata": {},
   "outputs": [
    {
     "data": {
      "text/plain": [
       "'0'"
      ]
     },
     "execution_count": 5,
     "metadata": {},
     "output_type": "execute_result"
    }
   ],
   "source": [
    "s1.text"
   ]
  },
  {
   "cell_type": "code",
   "execution_count": 6,
   "metadata": {},
   "outputs": [],
   "source": [
    "from bs4  import BeautifulSoup\n",
    "import random\n",
    "import time\n",
    "from datetime import datetime\n",
    "\n",
    "def cn_cookies(cookies_temp):\n",
    "        cookies = dict()\n",
    "        for i in r.cookies.get_dict('10.252.17.241'):\n",
    "            cookies[i]=r.cookies.get(i,'','10.252.17.241')\n",
    "        cookies['bsacKF']='NGCRM_BOSS'\n",
    "        cookies['com.huawei.boss.CONTACTID']='null'\n",
    "        cookies['com.huawei.boss.CURRENT_MENUID']='123456'\n",
    "        cookies['com.huawei.boss.CURRENT_TAB']='123456'\n",
    "        cookies['com.huawei.boss.CURRENT_USER']='com.huawei.boss.NO_CURRENT_USER'\n",
    "        cookies['GZCOMM']='r_GZ_CRM_WEB1_1082'\n",
    "        cookies['GZCRM']='r_GZ_CRM_WEB2_1081'\n",
    "        return cookies\n",
    "    \n",
    "\n",
    "\n",
    "def cn_cookies2(cookies,cn_phoneNum):\n",
    "        cookies = dict()\n",
    "        for i in r.cookies.get_dict('10.252.17.241'):\n",
    "            cookies[i]=r.cookies.get(i,'','10.252.17.241')\n",
    "        cookies['bsacKF']='NGCRM_BOSS'\n",
    "        cookies['com.huawei.boss.CONTACTID']='undefined'\n",
    "        cookies['com.huawei.boss.CURRENT_MENUID']='100110121062'\n",
    "        cookies['com.huawei.boss.CURRENT_TAB']='BOSS%5E'+cn_phoneNum+'%5E100110121062%7E'+cn_phoneNum\n",
    "        cookies['com.huawei.boss.CURRENT_USER']=cn_phoneNum\n",
    "        cookies['GZCOMM']='r_GZ_CRM_WEB1_1082'\n",
    "        cookies['GZCRM']='r_GZ_CRM_WEB2_1081'\n",
    "        cookies['MACAddr']='08-00-27-44-EC-99'\n",
    "        cookies['sDNSName']='gzshizhongxia'\n",
    "        return cookies\n",
    "#      \n",
    "def cn_soup(temp):\n",
    "    a=soup.find(attrs={\"name\":temp}).attrs['value']\n",
    "    return a\n",
    "\n"
   ]
  },
  {
   "cell_type": "code",
   "execution_count": 7,
   "metadata": {},
   "outputs": [
    {
     "name": "stdout",
     "output_type": "stream",
     "text": [
      "118\n"
     ]
    },
    {
     "ename": "AttributeError",
     "evalue": "'NoneType' object has no attribute 'attrs'",
     "output_type": "error",
     "traceback": [
      "\u001b[0;31m---------------------------------------------------------------------------\u001b[0m",
      "\u001b[0;31mAttributeError\u001b[0m                            Traceback (most recent call last)",
      "\u001b[0;32m<ipython-input-7-4245c26bafc5>\u001b[0m in \u001b[0;36m<module>\u001b[0;34m()\u001b[0m\n\u001b[1;32m     40\u001b[0m     \u001b[0mcn_cookies3\u001b[0m\u001b[0;34m=\u001b[0m\u001b[0mcn_cookies2\u001b[0m\u001b[0;34m(\u001b[0m\u001b[0mr\u001b[0m\u001b[0;34m.\u001b[0m\u001b[0mcookies\u001b[0m\u001b[0;34m,\u001b[0m\u001b[0mcn_phone\u001b[0m\u001b[0;34m)\u001b[0m\u001b[0;34m\u001b[0m\u001b[0m\n\u001b[1;32m     41\u001b[0m     \u001b[0murl3\u001b[0m\u001b[0;34m=\u001b[0m\u001b[0;34m'http://10.252.17.241/nguniteview/bossviewhome.jsp'\u001b[0m\u001b[0;34m\u001b[0m\u001b[0m\n\u001b[0;32m---> 42\u001b[0;31m     \u001b[0mparma3\u001b[0m\u001b[0;34m=\u001b[0m\u001b[0;34m{\u001b[0m\u001b[0;34m'ccm_ObjectID'\u001b[0m\u001b[0;34m:\u001b[0m\u001b[0;34m''\u001b[0m\u001b[0;34m,\u001b[0m\u001b[0;34m'ccm_RandomNum'\u001b[0m\u001b[0;34m:\u001b[0m\u001b[0;34m''\u001b[0m\u001b[0;34m,\u001b[0m\u001b[0;34m'ccdirect'\u001b[0m\u001b[0;34m:\u001b[0m\u001b[0msoup\u001b[0m\u001b[0;34m.\u001b[0m\u001b[0mfind\u001b[0m\u001b[0;34m(\u001b[0m\u001b[0mattrs\u001b[0m\u001b[0;34m=\u001b[0m\u001b[0;34m{\u001b[0m\u001b[0;34m\"name\"\u001b[0m\u001b[0;34m:\u001b[0m\u001b[0;34m\"ccdirect\"\u001b[0m\u001b[0;34m}\u001b[0m\u001b[0;34m)\u001b[0m\u001b[0;34m.\u001b[0m\u001b[0mattrs\u001b[0m\u001b[0;34m[\u001b[0m\u001b[0;34m'value'\u001b[0m\u001b[0;34m]\u001b[0m\u001b[0;34m,\u001b[0m\u001b[0;34m'ccm_EntityID'\u001b[0m\u001b[0;34m:\u001b[0m\u001b[0msoup\u001b[0m\u001b[0;34m.\u001b[0m\u001b[0mfind\u001b[0m\u001b[0;34m(\u001b[0m\u001b[0mattrs\u001b[0m\u001b[0;34m=\u001b[0m\u001b[0;34m{\u001b[0m\u001b[0;34m\"name\"\u001b[0m\u001b[0;34m:\u001b[0m\u001b[0;34m\"ccm_EntityID\"\u001b[0m\u001b[0;34m}\u001b[0m\u001b[0;34m)\u001b[0m\u001b[0;34m.\u001b[0m\u001b[0mattrs\u001b[0m\u001b[0;34m[\u001b[0m\u001b[0;34m'value'\u001b[0m\u001b[0;34m]\u001b[0m\u001b[0;34m,\u001b[0m\u001b[0;34m'ccm_EntityName'\u001b[0m\u001b[0;34m:\u001b[0m\u001b[0msoup\u001b[0m\u001b[0;34m.\u001b[0m\u001b[0mfind\u001b[0m\u001b[0;34m(\u001b[0m\u001b[0mattrs\u001b[0m\u001b[0;34m=\u001b[0m\u001b[0;34m{\u001b[0m\u001b[0;34m\"name\"\u001b[0m\u001b[0;34m:\u001b[0m\u001b[0;34m\"ccm_EntityName\"\u001b[0m\u001b[0;34m}\u001b[0m\u001b[0;34m)\u001b[0m\u001b[0;34m.\u001b[0m\u001b[0mattrs\u001b[0m\u001b[0;34m[\u001b[0m\u001b[0;34m'value'\u001b[0m\u001b[0;34m]\u001b[0m\u001b[0;34m,\u001b[0m\u001b[0;34m'ccm_CreateDate'\u001b[0m\u001b[0;34m:\u001b[0m\u001b[0msoup\u001b[0m\u001b[0;34m.\u001b[0m\u001b[0mfind\u001b[0m\u001b[0;34m(\u001b[0m\u001b[0mattrs\u001b[0m\u001b[0;34m=\u001b[0m\u001b[0;34m{\u001b[0m\u001b[0;34m\"name\"\u001b[0m\u001b[0;34m:\u001b[0m\u001b[0;34m\"ccm_CreateDate\"\u001b[0m\u001b[0;34m}\u001b[0m\u001b[0;34m)\u001b[0m\u001b[0;34m.\u001b[0m\u001b[0mattrs\u001b[0m\u001b[0;34m[\u001b[0m\u001b[0;34m'value'\u001b[0m\u001b[0;34m]\u001b[0m\u001b[0;34m,\u001b[0m\u001b[0;34m'ccm_Status'\u001b[0m\u001b[0;34m:\u001b[0m\u001b[0msoup\u001b[0m\u001b[0;34m.\u001b[0m\u001b[0mfind\u001b[0m\u001b[0;34m(\u001b[0m\u001b[0mattrs\u001b[0m\u001b[0;34m=\u001b[0m\u001b[0;34m{\u001b[0m\u001b[0;34m\"name\"\u001b[0m\u001b[0;34m:\u001b[0m\u001b[0;34m\"ccm_Status\"\u001b[0m\u001b[0;34m}\u001b[0m\u001b[0;34m)\u001b[0m\u001b[0;34m.\u001b[0m\u001b[0mattrs\u001b[0m\u001b[0;34m[\u001b[0m\u001b[0;34m'value'\u001b[0m\u001b[0;34m]\u001b[0m\u001b[0;34m,\u001b[0m\u001b[0;34m'ccm_StatusDate'\u001b[0m\u001b[0;34m:\u001b[0m\u001b[0msoup\u001b[0m\u001b[0;34m.\u001b[0m\u001b[0mfind\u001b[0m\u001b[0;34m(\u001b[0m\u001b[0mattrs\u001b[0m\u001b[0;34m=\u001b[0m\u001b[0;34m{\u001b[0m\u001b[0;34m\"name\"\u001b[0m\u001b[0;34m:\u001b[0m\u001b[0;34m\"ccm_StatusDate\"\u001b[0m\u001b[0;34m}\u001b[0m\u001b[0;34m)\u001b[0m\u001b[0;34m.\u001b[0m\u001b[0mattrs\u001b[0m\u001b[0;34m[\u001b[0m\u001b[0;34m'value'\u001b[0m\u001b[0;34m]\u001b[0m\u001b[0;34m,\u001b[0m\u001b[0;34m'ccm_EditStatus'\u001b[0m\u001b[0;34m:\u001b[0m\u001b[0msoup\u001b[0m\u001b[0;34m.\u001b[0m\u001b[0mfind\u001b[0m\u001b[0;34m(\u001b[0m\u001b[0mattrs\u001b[0m\u001b[0;34m=\u001b[0m\u001b[0;34m{\u001b[0m\u001b[0;34m\"name\"\u001b[0m\u001b[0;34m:\u001b[0m\u001b[0;34m\"ccm_EditStatus\"\u001b[0m\u001b[0;34m}\u001b[0m\u001b[0;34m)\u001b[0m\u001b[0;34m.\u001b[0m\u001b[0mattrs\u001b[0m\u001b[0;34m[\u001b[0m\u001b[0;34m'value'\u001b[0m\u001b[0;34m]\u001b[0m\u001b[0;34m,\u001b[0m\u001b[0;34m'ccm_Region'\u001b[0m\u001b[0;34m:\u001b[0m\u001b[0;34m'200'\u001b[0m\u001b[0;34m,\u001b[0m\u001b[0;34m'ccm_ShortName'\u001b[0m\u001b[0;34m:\u001b[0m\u001b[0;34m''\u001b[0m\u001b[0;34m,\u001b[0m\u001b[0;34m'ccm_Password'\u001b[0m\u001b[0;34m:\u001b[0m\u001b[0msoup\u001b[0m\u001b[0;34m.\u001b[0m\u001b[0mfind\u001b[0m\u001b[0;34m(\u001b[0m\u001b[0mattrs\u001b[0m\u001b[0;34m=\u001b[0m\u001b[0;34m{\u001b[0m\u001b[0;34m\"name\"\u001b[0m\u001b[0;34m:\u001b[0m\u001b[0;34m\"ccm_Password\"\u001b[0m\u001b[0;34m}\u001b[0m\u001b[0;34m)\u001b[0m\u001b[0;34m.\u001b[0m\u001b[0mattrs\u001b[0m\u001b[0;34m[\u001b[0m\u001b[0;34m'value'\u001b[0m\u001b[0;34m]\u001b[0m\u001b[0;34m,\u001b[0m\u001b[0;34m'ccm_CustType'\u001b[0m\u001b[0;34m:\u001b[0m\u001b[0;34m'PersonCustomer'\u001b[0m\u001b[0;34m,\u001b[0m\u001b[0;34m'ccm_VipType'\u001b[0m\u001b[0;34m:\u001b[0m\u001b[0msoup\u001b[0m\u001b[0;34m.\u001b[0m\u001b[0mfind\u001b[0m\u001b[0;34m(\u001b[0m\u001b[0mattrs\u001b[0m\u001b[0;34m=\u001b[0m\u001b[0;34m{\u001b[0m\u001b[0;34m\"name\"\u001b[0m\u001b[0;34m:\u001b[0m\u001b[0;34m\"ccm_VipType\"\u001b[0m\u001b[0;34m}\u001b[0m\u001b[0;34m)\u001b[0m\u001b[0;34m.\u001b[0m\u001b[0mattrs\u001b[0m\u001b[0;34m[\u001b[0m\u001b[0;34m'value'\u001b[0m\u001b[0;34m]\u001b[0m\u001b[0;34m,\u001b[0m\u001b[0;34m'ccm_Foreigner'\u001b[0m\u001b[0;34m:\u001b[0m\u001b[0msoup\u001b[0m\u001b[0;34m.\u001b[0m\u001b[0mfind\u001b[0m\u001b[0;34m(\u001b[0m\u001b[0mattrs\u001b[0m\u001b[0;34m=\u001b[0m\u001b[0;34m{\u001b[0m\u001b[0;34m\"name\"\u001b[0m\u001b[0;34m:\u001b[0m\u001b[0;34m\"ccm_Foreigner\"\u001b[0m\u001b[0;34m}\u001b[0m\u001b[0;34m)\u001b[0m\u001b[0;34m.\u001b[0m\u001b[0mattrs\u001b[0m\u001b[0;34m[\u001b[0m\u001b[0;34m'value'\u001b[0m\u001b[0;34m]\u001b[0m\u001b[0;34m,\u001b[0m\u001b[0;34m'ccm_CustClass1'\u001b[0m\u001b[0;34m:\u001b[0m\u001b[0msoup\u001b[0m\u001b[0;34m.\u001b[0m\u001b[0mfind\u001b[0m\u001b[0;34m(\u001b[0m\u001b[0mattrs\u001b[0m\u001b[0;34m=\u001b[0m\u001b[0;34m{\u001b[0m\u001b[0;34m\"name\"\u001b[0m\u001b[0;34m:\u001b[0m\u001b[0;34m\"ccm_CustClass1\"\u001b[0m\u001b[0;34m}\u001b[0m\u001b[0;34m)\u001b[0m\u001b[0;34m.\u001b[0m\u001b[0mattrs\u001b[0m\u001b[0;34m[\u001b[0m\u001b[0;34m'value'\u001b[0m\u001b[0;34m]\u001b[0m\u001b[0;34m,\u001b[0m\u001b[0;34m'ccm_CustClass2'\u001b[0m\u001b[0;34m:\u001b[0m\u001b[0msoup\u001b[0m\u001b[0;34m.\u001b[0m\u001b[0mfind\u001b[0m\u001b[0;34m(\u001b[0m\u001b[0mattrs\u001b[0m\u001b[0;34m=\u001b[0m\u001b[0;34m{\u001b[0m\u001b[0;34m\"name\"\u001b[0m\u001b[0;34m:\u001b[0m\u001b[0;34m\"ccm_CustClass2\"\u001b[0m\u001b[0;34m}\u001b[0m\u001b[0;34m)\u001b[0m\u001b[0;34m.\u001b[0m\u001b[0mattrs\u001b[0m\u001b[0;34m[\u001b[0m\u001b[0;34m'value'\u001b[0m\u001b[0;34m]\u001b[0m\u001b[0;34m,\u001b[0m\u001b[0;34m'ccm_National'\u001b[0m\u001b[0;34m:\u001b[0m\u001b[0msoup\u001b[0m\u001b[0;34m.\u001b[0m\u001b[0mfind\u001b[0m\u001b[0;34m(\u001b[0m\u001b[0mattrs\u001b[0m\u001b[0;34m=\u001b[0m\u001b[0;34m{\u001b[0m\u001b[0;34m\"name\"\u001b[0m\u001b[0;34m:\u001b[0m\u001b[0;34m\"ccm_National\"\u001b[0m\u001b[0;34m}\u001b[0m\u001b[0;34m)\u001b[0m\u001b[0;34m.\u001b[0m\u001b[0mattrs\u001b[0m\u001b[0;34m[\u001b[0m\u001b[0;34m'value'\u001b[0m\u001b[0;34m]\u001b[0m\u001b[0;34m,\u001b[0m\u001b[0;34m'ccm_Address'\u001b[0m\u001b[0;34m:\u001b[0m\u001b[0;34m'********'\u001b[0m\u001b[0;34m,\u001b[0m\u001b[0;34m'ccm_CertID'\u001b[0m\u001b[0;34m:\u001b[0m\u001b[0msoup\u001b[0m\u001b[0;34m.\u001b[0m\u001b[0mfind\u001b[0m\u001b[0;34m(\u001b[0m\u001b[0mattrs\u001b[0m\u001b[0;34m=\u001b[0m\u001b[0;34m{\u001b[0m\u001b[0;34m\"name\"\u001b[0m\u001b[0;34m:\u001b[0m\u001b[0;34m\"ccm_CertID\"\u001b[0m\u001b[0;34m}\u001b[0m\u001b[0;34m)\u001b[0m\u001b[0;34m.\u001b[0m\u001b[0mattrs\u001b[0m\u001b[0;34m[\u001b[0m\u001b[0;34m'value'\u001b[0m\u001b[0;34m]\u001b[0m\u001b[0;34m,\u001b[0m\u001b[0;34m'ccm_CertType'\u001b[0m\u001b[0;34m:\u001b[0m\u001b[0msoup\u001b[0m\u001b[0;34m.\u001b[0m\u001b[0mfind\u001b[0m\u001b[0;34m(\u001b[0m\u001b[0mattrs\u001b[0m\u001b[0;34m=\u001b[0m\u001b[0;34m{\u001b[0m\u001b[0;34m\"name\"\u001b[0m\u001b[0;34m:\u001b[0m\u001b[0;34m\"ccm_CertType\"\u001b[0m\u001b[0;34m}\u001b[0m\u001b[0;34m)\u001b[0m\u001b[0;34m.\u001b[0m\u001b[0mattrs\u001b[0m\u001b[0;34m[\u001b[0m\u001b[0;34m'value'\u001b[0m\u001b[0;34m]\u001b[0m\u001b[0;34m,\u001b[0m\u001b[0;34m'ccm_CertAddr'\u001b[0m\u001b[0;34m:\u001b[0m\u001b[0;34m'********'\u001b[0m\u001b[0;34m,\u001b[0m\u001b[0;34m'ccm_LinkMan'\u001b[0m\u001b[0;34m:\u001b[0m\u001b[0msoup\u001b[0m\u001b[0;34m.\u001b[0m\u001b[0mfind\u001b[0m\u001b[0;34m(\u001b[0m\u001b[0mattrs\u001b[0m\u001b[0;34m=\u001b[0m\u001b[0;34m{\u001b[0m\u001b[0;34m\"name\"\u001b[0m\u001b[0;34m:\u001b[0m\u001b[0;34m\"ccm_LinkMan\"\u001b[0m\u001b[0;34m}\u001b[0m\u001b[0;34m)\u001b[0m\u001b[0;34m.\u001b[0m\u001b[0mattrs\u001b[0m\u001b[0;34m[\u001b[0m\u001b[0;34m'value'\u001b[0m\u001b[0;34m]\u001b[0m\u001b[0;34m,\u001b[0m\u001b[0;34m'ccm_LinkPhone'\u001b[0m\u001b[0;34m:\u001b[0m\u001b[0msoup\u001b[0m\u001b[0;34m.\u001b[0m\u001b[0mfind\u001b[0m\u001b[0;34m(\u001b[0m\u001b[0mattrs\u001b[0m\u001b[0;34m=\u001b[0m\u001b[0;34m{\u001b[0m\u001b[0;34m\"name\"\u001b[0m\u001b[0;34m:\u001b[0m\u001b[0;34m\"ccm_LinkPhone\"\u001b[0m\u001b[0;34m}\u001b[0m\u001b[0;34m)\u001b[0m\u001b[0;34m.\u001b[0m\u001b[0mattrs\u001b[0m\u001b[0;34m[\u001b[0m\u001b[0;34m'value'\u001b[0m\u001b[0;34m]\u001b[0m\u001b[0;34m,\u001b[0m\u001b[0;34m'ccm_HomeTel'\u001b[0m\u001b[0;34m:\u001b[0m\u001b[0;34m''\u001b[0m\u001b[0;34m,\u001b[0m\u001b[0;34m'ccm_OfficeTel'\u001b[0m\u001b[0;34m:\u001b[0m\u001b[0;34m''\u001b[0m\u001b[0;34m,\u001b[0m\u001b[0;34m'ccm_MobileTel'\u001b[0m\u001b[0;34m:\u001b[0m\u001b[0;34m''\u001b[0m\u001b[0;34m,\u001b[0m\u001b[0;34m'ccm_PostCode'\u001b[0m\u001b[0;34m:\u001b[0m\u001b[0msoup\u001b[0m\u001b[0;34m.\u001b[0m\u001b[0mfind\u001b[0m\u001b[0;34m(\u001b[0m\u001b[0mattrs\u001b[0m\u001b[0;34m=\u001b[0m\u001b[0;34m{\u001b[0m\u001b[0;34m\"name\"\u001b[0m\u001b[0;34m:\u001b[0m\u001b[0;34m\"ccm_PostCode\"\u001b[0m\u001b[0;34m}\u001b[0m\u001b[0;34m)\u001b[0m\u001b[0;34m.\u001b[0m\u001b[0mattrs\u001b[0m\u001b[0;34m[\u001b[0m\u001b[0;34m'value'\u001b[0m\u001b[0;34m]\u001b[0m\u001b[0;34m,\u001b[0m\u001b[0;34m'ccm_LinkAddr'\u001b[0m\u001b[0;34m:\u001b[0m\u001b[0;34m'********'\u001b[0m\u001b[0;34m,\u001b[0m\u001b[0;34m'ccm_Email'\u001b[0m\u001b[0;34m:\u001b[0m\u001b[0;34m''\u001b[0m\u001b[0;34m,\u001b[0m\u001b[0;34m'ccm_HomePage'\u001b[0m\u001b[0;34m:\u001b[0m\u001b[0;34m''\u001b[0m\u001b[0;34m,\u001b[0m\u001b[0;34m'ccm_IsMergeBill'\u001b[0m\u001b[0;34m:\u001b[0m\u001b[0;34m'1'\u001b[0m\u001b[0;34m,\u001b[0m\u001b[0;34m'ccm_CreditLevel'\u001b[0m\u001b[0;34m:\u001b[0m\u001b[0msoup\u001b[0m\u001b[0;34m.\u001b[0m\u001b[0mfind\u001b[0m\u001b[0;34m(\u001b[0m\u001b[0mattrs\u001b[0m\u001b[0;34m=\u001b[0m\u001b[0;34m{\u001b[0m\u001b[0;34m\"name\"\u001b[0m\u001b[0;34m:\u001b[0m\u001b[0;34m\"ccm_CreditLevel\"\u001b[0m\u001b[0;34m}\u001b[0m\u001b[0;34m)\u001b[0m\u001b[0;34m.\u001b[0m\u001b[0mattrs\u001b[0m\u001b[0;34m[\u001b[0m\u001b[0;34m'value'\u001b[0m\u001b[0;34m]\u001b[0m\u001b[0;34m,\u001b[0m\u001b[0;34m'ccm_OwnerAreaID'\u001b[0m\u001b[0;34m:\u001b[0m\u001b[0msoup\u001b[0m\u001b[0;34m.\u001b[0m\u001b[0mfind\u001b[0m\u001b[0;34m(\u001b[0m\u001b[0mattrs\u001b[0m\u001b[0;34m=\u001b[0m\u001b[0;34m{\u001b[0m\u001b[0;34m\"name\"\u001b[0m\u001b[0;34m:\u001b[0m\u001b[0;34m\"ccm_OwnerAreaID\"\u001b[0m\u001b[0;34m}\u001b[0m\u001b[0;34m)\u001b[0m\u001b[0;34m.\u001b[0m\u001b[0mattrs\u001b[0m\u001b[0;34m[\u001b[0m\u001b[0;34m'value'\u001b[0m\u001b[0;34m]\u001b[0m\u001b[0;34m,\u001b[0m\u001b[0;34m'ccm_OrgID'\u001b[0m\u001b[0;34m:\u001b[0m\u001b[0msoup\u001b[0m\u001b[0;34m.\u001b[0m\u001b[0mfind\u001b[0m\u001b[0;34m(\u001b[0m\u001b[0mattrs\u001b[0m\u001b[0;34m=\u001b[0m\u001b[0;34m{\u001b[0m\u001b[0;34m\"name\"\u001b[0m\u001b[0;34m:\u001b[0m\u001b[0;34m\"ccm_OrgID\"\u001b[0m\u001b[0;34m}\u001b[0m\u001b[0;34m)\u001b[0m\u001b[0;34m.\u001b[0m\u001b[0mattrs\u001b[0m\u001b[0;34m[\u001b[0m\u001b[0;34m'value'\u001b[0m\u001b[0;34m]\u001b[0m\u001b[0;34m,\u001b[0m\u001b[0;34m'ccm_RegStatus'\u001b[0m\u001b[0;34m:\u001b[0m\u001b[0;34m'1'\u001b[0m\u001b[0;34m,\u001b[0m\u001b[0;34m'ccm_Notes'\u001b[0m\u001b[0;34m:\u001b[0m\u001b[0msoup\u001b[0m\u001b[0;34m.\u001b[0m\u001b[0mfind\u001b[0m\u001b[0;34m(\u001b[0m\u001b[0mattrs\u001b[0m\u001b[0;34m=\u001b[0m\u001b[0;34m{\u001b[0m\u001b[0;34m\"name\"\u001b[0m\u001b[0;34m:\u001b[0m\u001b[0;34m\"ccm_Notes\"\u001b[0m\u001b[0;34m}\u001b[0m\u001b[0;34m)\u001b[0m\u001b[0;34m.\u001b[0m\u001b[0mattrs\u001b[0m\u001b[0;34m[\u001b[0m\u001b[0;34m'value'\u001b[0m\u001b[0;34m]\u001b[0m\u001b[0;34m,\u001b[0m\u001b[0;34m'ccm_ResponseCustMgr'\u001b[0m\u001b[0;34m:\u001b[0m\u001b[0;34m''\u001b[0m\u001b[0;34m,\u001b[0m\u001b[0;34m'ccm_CurrentCustMgr'\u001b[0m\u001b[0;34m:\u001b[0m\u001b[0;34m''\u001b[0m\u001b[0;34m,\u001b[0m\u001b[0;34m'ccm_InLevel'\u001b[0m\u001b[0;34m:\u001b[0m\u001b[0msoup\u001b[0m\u001b[0;34m.\u001b[0m\u001b[0mfind\u001b[0m\u001b[0;34m(\u001b[0m\u001b[0mattrs\u001b[0m\u001b[0;34m=\u001b[0m\u001b[0;34m{\u001b[0m\u001b[0;34m\"name\"\u001b[0m\u001b[0;34m:\u001b[0m\u001b[0;34m\"ccm_InLevel\"\u001b[0m\u001b[0;34m}\u001b[0m\u001b[0;34m)\u001b[0m\u001b[0;34m.\u001b[0m\u001b[0mattrs\u001b[0m\u001b[0;34m[\u001b[0m\u001b[0;34m'value'\u001b[0m\u001b[0;34m]\u001b[0m\u001b[0;34m,\u001b[0m\u001b[0;34m'ccm_TownID'\u001b[0m\u001b[0;34m:\u001b[0m\u001b[0;34m''\u001b[0m\u001b[0;34m,\u001b[0m\u001b[0;34m'ccm_VipTypeStateDate'\u001b[0m\u001b[0;34m:\u001b[0m\u001b[0msoup\u001b[0m\u001b[0;34m.\u001b[0m\u001b[0mfind\u001b[0m\u001b[0;34m(\u001b[0m\u001b[0mattrs\u001b[0m\u001b[0;34m=\u001b[0m\u001b[0;34m{\u001b[0m\u001b[0;34m\"name\"\u001b[0m\u001b[0;34m:\u001b[0m\u001b[0;34m\"ccm_VipTypeStateDate\"\u001b[0m\u001b[0;34m}\u001b[0m\u001b[0;34m)\u001b[0m\u001b[0;34m.\u001b[0m\u001b[0mattrs\u001b[0m\u001b[0;34m[\u001b[0m\u001b[0;34m'value'\u001b[0m\u001b[0;34m]\u001b[0m\u001b[0;34m,\u001b[0m\u001b[0;34m'ccm_NetServGrade'\u001b[0m\u001b[0;34m:\u001b[0m\u001b[0;34m''\u001b[0m\u001b[0;34m,\u001b[0m\u001b[0;34m'ccm_CustAddrArray'\u001b[0m\u001b[0;34m:\u001b[0m\u001b[0;34m'[]'\u001b[0m\u001b[0;34m,\u001b[0m\u001b[0;34m'ccm_CustBillArray'\u001b[0m\u001b[0;34m:\u001b[0m\u001b[0;34m'[]'\u001b[0m\u001b[0;34m,\u001b[0m\u001b[0;34m'ccm_IsEncrypt'\u001b[0m\u001b[0;34m:\u001b[0m\u001b[0;34m'1'\u001b[0m\u001b[0;34m,\u001b[0m\u001b[0;34m'ccm_starLevel'\u001b[0m\u001b[0;34m:\u001b[0m\u001b[0msoup\u001b[0m\u001b[0;34m.\u001b[0m\u001b[0mfind\u001b[0m\u001b[0;34m(\u001b[0m\u001b[0mattrs\u001b[0m\u001b[0;34m=\u001b[0m\u001b[0;34m{\u001b[0m\u001b[0;34m\"name\"\u001b[0m\u001b[0;34m:\u001b[0m\u001b[0;34m\"ccm_starLevel\"\u001b[0m\u001b[0;34m}\u001b[0m\u001b[0;34m)\u001b[0m\u001b[0;34m.\u001b[0m\u001b[0mattrs\u001b[0m\u001b[0;34m[\u001b[0m\u001b[0;34m'value'\u001b[0m\u001b[0;34m]\u001b[0m\u001b[0;34m,\u001b[0m\u001b[0;34m'ccm_IsFaceChk'\u001b[0m\u001b[0;34m:\u001b[0m\u001b[0msoup\u001b[0m\u001b[0;34m.\u001b[0m\u001b[0mfind\u001b[0m\u001b[0;34m(\u001b[0m\u001b[0mattrs\u001b[0m\u001b[0;34m=\u001b[0m\u001b[0;34m{\u001b[0m\u001b[0;34m\"name\"\u001b[0m\u001b[0;34m:\u001b[0m\u001b[0;34m\"ccm_IsFaceChk\"\u001b[0m\u001b[0;34m}\u001b[0m\u001b[0;34m)\u001b[0m\u001b[0;34m.\u001b[0m\u001b[0mattrs\u001b[0m\u001b[0;34m[\u001b[0m\u001b[0;34m'value'\u001b[0m\u001b[0;34m]\u001b[0m\u001b[0;34m,\u001b[0m\u001b[0;34m'ccregister'\u001b[0m\u001b[0;34m:\u001b[0m\u001b[0msoup\u001b[0m\u001b[0;34m.\u001b[0m\u001b[0mfind\u001b[0m\u001b[0;34m(\u001b[0m\u001b[0mattrs\u001b[0m\u001b[0;34m=\u001b[0m\u001b[0;34m{\u001b[0m\u001b[0;34m\"name\"\u001b[0m\u001b[0;34m:\u001b[0m\u001b[0;34m\"ccregister\"\u001b[0m\u001b[0;34m}\u001b[0m\u001b[0;34m)\u001b[0m\u001b[0;34m.\u001b[0m\u001b[0mattrs\u001b[0m\u001b[0;34m[\u001b[0m\u001b[0;34m'value'\u001b[0m\u001b[0;34m]\u001b[0m\u001b[0;34m,\u001b[0m\u001b[0;34m'ccnotRegister'\u001b[0m\u001b[0;34m:\u001b[0m\u001b[0msoup\u001b[0m\u001b[0;34m.\u001b[0m\u001b[0mfind\u001b[0m\u001b[0;34m(\u001b[0m\u001b[0mattrs\u001b[0m\u001b[0;34m=\u001b[0m\u001b[0;34m{\u001b[0m\u001b[0;34m\"name\"\u001b[0m\u001b[0;34m:\u001b[0m\u001b[0;34m\"ccnotRegister\"\u001b[0m\u001b[0;34m}\u001b[0m\u001b[0;34m)\u001b[0m\u001b[0;34m.\u001b[0m\u001b[0mattrs\u001b[0m\u001b[0;34m[\u001b[0m\u001b[0;34m'value'\u001b[0m\u001b[0;34m]\u001b[0m\u001b[0;34m,\u001b[0m\u001b[0;34m'csm_ObjectID'\u001b[0m\u001b[0;34m:\u001b[0m\u001b[0;34m''\u001b[0m\u001b[0;34m,\u001b[0m\u001b[0;34m'csm_RandomNum'\u001b[0m\u001b[0;34m:\u001b[0m\u001b[0;34m''\u001b[0m\u001b[0;34m,\u001b[0m\u001b[0;34m'csdirect'\u001b[0m\u001b[0;34m:\u001b[0m\u001b[0msoup\u001b[0m\u001b[0;34m.\u001b[0m\u001b[0mfind\u001b[0m\u001b[0;34m(\u001b[0m\u001b[0mattrs\u001b[0m\u001b[0;34m=\u001b[0m\u001b[0;34m{\u001b[0m\u001b[0;34m\"name\"\u001b[0m\u001b[0;34m:\u001b[0m\u001b[0;34m\"csdirect\"\u001b[0m\u001b[0;34m}\u001b[0m\u001b[0;34m)\u001b[0m\u001b[0;34m.\u001b[0m\u001b[0mattrs\u001b[0m\u001b[0;34m[\u001b[0m\u001b[0;34m'value'\u001b[0m\u001b[0;34m]\u001b[0m\u001b[0;34m,\u001b[0m\u001b[0;34m'csm_EntityID'\u001b[0m\u001b[0;34m:\u001b[0m\u001b[0msoup\u001b[0m\u001b[0;34m.\u001b[0m\u001b[0mfind\u001b[0m\u001b[0;34m(\u001b[0m\u001b[0mattrs\u001b[0m\u001b[0;34m=\u001b[0m\u001b[0;34m{\u001b[0m\u001b[0;34m\"name\"\u001b[0m\u001b[0;34m:\u001b[0m\u001b[0;34m\"csm_EntityID\"\u001b[0m\u001b[0;34m}\u001b[0m\u001b[0;34m)\u001b[0m\u001b[0;34m.\u001b[0m\u001b[0mattrs\u001b[0m\u001b[0;34m[\u001b[0m\u001b[0;34m'value'\u001b[0m\u001b[0;34m]\u001b[0m\u001b[0;34m,\u001b[0m\u001b[0;34m'csm_EntityName'\u001b[0m\u001b[0;34m:\u001b[0m\u001b[0mcn_soup\u001b[0m\u001b[0;34m(\u001b[0m\u001b[0;34m'csm_EntityName'\u001b[0m\u001b[0;34m)\u001b[0m\u001b[0;34m,\u001b[0m\u001b[0;34m'csm_CreateDate'\u001b[0m\u001b[0;34m:\u001b[0m\u001b[0mcn_soup\u001b[0m\u001b[0;34m(\u001b[0m\u001b[0;34m'csm_CreateDate'\u001b[0m\u001b[0;34m)\u001b[0m\u001b[0;34m,\u001b[0m\u001b[0;34m'csm_Status'\u001b[0m\u001b[0;34m:\u001b[0m\u001b[0mcn_soup\u001b[0m\u001b[0;34m(\u001b[0m\u001b[0;34m'csm_Status'\u001b[0m\u001b[0;34m)\u001b[0m\u001b[0;34m,\u001b[0m\u001b[0;34m'csm_StatusDate'\u001b[0m\u001b[0;34m:\u001b[0m\u001b[0;34m'******'\u001b[0m\u001b[0;34m,\u001b[0m\u001b[0;34m'csm_EditStatus'\u001b[0m\u001b[0;34m:\u001b[0m\u001b[0mcn_soup\u001b[0m\u001b[0;34m(\u001b[0m\u001b[0;34m'csm_EditStatus'\u001b[0m\u001b[0;34m)\u001b[0m\u001b[0;34m,\u001b[0m\u001b[0;34m'csm_Region'\u001b[0m\u001b[0;34m:\u001b[0m\u001b[0;34m'200'\u001b[0m\u001b[0;34m,\u001b[0m\u001b[0;34m'csm_Password'\u001b[0m\u001b[0;34m:\u001b[0m\u001b[0mcn_soup\u001b[0m\u001b[0;34m(\u001b[0m\u001b[0;34m'csm_Password'\u001b[0m\u001b[0;34m)\u001b[0m\u001b[0;34m,\u001b[0m\u001b[0;34m'csm_ProductID'\u001b[0m\u001b[0;34m:\u001b[0m\u001b[0mcn_soup\u001b[0m\u001b[0;34m(\u001b[0m\u001b[0;34m'csm_ProductID'\u001b[0m\u001b[0;34m)\u001b[0m\u001b[0;34m,\u001b[0m\u001b[0;34m'csm_ServNumber'\u001b[0m\u001b[0;34m:\u001b[0m\u001b[0mcn_soup\u001b[0m\u001b[0;34m(\u001b[0m\u001b[0;34m'csm_ServNumber'\u001b[0m\u001b[0;34m)\u001b[0m\u001b[0;34m,\u001b[0m\u001b[0;34m'csm_RegisterOrgID'\u001b[0m\u001b[0;34m:\u001b[0m\u001b[0mcn_soup\u001b[0m\u001b[0;34m(\u001b[0m\u001b[0;34m'csm_RegisterOrgID'\u001b[0m\u001b[0;34m)\u001b[0m\u001b[0;34m,\u001b[0m\u001b[0;34m'csm_OwnerOrgID'\u001b[0m\u001b[0;34m:\u001b[0m\u001b[0mcn_soup\u001b[0m\u001b[0;34m(\u001b[0m\u001b[0;34m'csm_OwnerOrgID'\u001b[0m\u001b[0;34m)\u001b[0m\u001b[0;34m,\u001b[0m\u001b[0;34m'csm_AccountOid'\u001b[0m\u001b[0;34m:\u001b[0m\u001b[0mcn_soup\u001b[0m\u001b[0;34m(\u001b[0m\u001b[0;34m'csm_AccountOid'\u001b[0m\u001b[0;34m)\u001b[0m\u001b[0;34m,\u001b[0m\u001b[0;34m'csm_CustomerOid'\u001b[0m\u001b[0;34m:\u001b[0m\u001b[0mcn_soup\u001b[0m\u001b[0;34m(\u001b[0m\u001b[0;34m'csm_CustomerOid'\u001b[0m\u001b[0;34m)\u001b[0m\u001b[0;34m,\u001b[0m\u001b[0;34m'csm_AuthType'\u001b[0m\u001b[0;34m:\u001b[0m\u001b[0;34m'AuthCheckB'\u001b[0m\u001b[0;34m,\u001b[0m\u001b[0;34m'csm_MobileType'\u001b[0m\u001b[0;34m:\u001b[0m\u001b[0;34m'mbtpNml'\u001b[0m\u001b[0;34m,\u001b[0m\u001b[0;34m'csm_AreaID'\u001b[0m\u001b[0;34m:\u001b[0m\u001b[0;34m''\u001b[0m\u001b[0;34m,\u001b[0m\u001b[0;34m'csm_PayMode'\u001b[0m\u001b[0;34m:\u001b[0m\u001b[0;34m'1'\u001b[0m\u001b[0;34m,\u001b[0m\u001b[0;34m'csm_StopKey'\u001b[0m\u001b[0;34m:\u001b[0m\u001b[0mcn_soup\u001b[0m\u001b[0;34m(\u001b[0m\u001b[0;34m'csm_StopKey'\u001b[0m\u001b[0;34m)\u001b[0m\u001b[0;34m,\u001b[0m\u001b[0;34m'csm_Brand'\u001b[0m\u001b[0;34m:\u001b[0m\u001b[0mcn_soup\u001b[0m\u001b[0;34m(\u001b[0m\u001b[0;34m'csm_Brand'\u001b[0m\u001b[0;34m)\u001b[0m\u001b[0;34m,\u001b[0m\u001b[0;34m'csm_StartDate'\u001b[0m\u001b[0;34m:\u001b[0m\u001b[0mcn_soup\u001b[0m\u001b[0;34m(\u001b[0m\u001b[0;34m'csm_StartDate'\u001b[0m\u001b[0;34m)\u001b[0m\u001b[0;34m,\u001b[0m\u001b[0;34m'csm_InvalidDate'\u001b[0m\u001b[0;34m:\u001b[0m\u001b[0mcn_soup\u001b[0m\u001b[0;34m(\u001b[0m\u001b[0;34m'csm_InvalidDate'\u001b[0m\u001b[0;34m)\u001b[0m\u001b[0;34m,\u001b[0m\u001b[0;34m'csm_SettleDay'\u001b[0m\u001b[0;34m:\u001b[0m\u001b[0;34m'1'\u001b[0m\u001b[0;34m,\u001b[0m\u001b[0;34m'csm_Enum'\u001b[0m\u001b[0;34m:\u001b[0m\u001b[0mcn_soup\u001b[0m\u001b[0;34m(\u001b[0m\u001b[0;34m'csm_Enum'\u001b[0m\u001b[0;34m)\u001b[0m\u001b[0;34m,\u001b[0m\u001b[0;34m'csm_Imsi'\u001b[0m\u001b[0;34m:\u001b[0m\u001b[0mcn_soup\u001b[0m\u001b[0;34m(\u001b[0m\u001b[0;34m'csm_Imsi'\u001b[0m\u001b[0;34m)\u001b[0m\u001b[0;34m,\u001b[0m\u001b[0;34m'csm_Credit'\u001b[0m\u001b[0;34m:\u001b[0m\u001b[0;34m'0'\u001b[0m\u001b[0;34m,\u001b[0m\u001b[0;34m'csm_SubsProduct'\u001b[0m\u001b[0;34m:\u001b[0m\u001b[0;34m'[]'\u001b[0m\u001b[0;34m,\u001b[0m\u001b[0;34m'csm_IsDefaultTelNum'\u001b[0m\u001b[0;34m:\u001b[0m\u001b[0;34m'1'\u001b[0m\u001b[0;34m,\u001b[0m\u001b[0;34m'csm_BelongRegion'\u001b[0m\u001b[0;34m:\u001b[0m\u001b[0;34m'0'\u001b[0m\u001b[0;34m,\u001b[0m\u001b[0;34m'csm_TargetRegion'\u001b[0m\u001b[0;34m:\u001b[0m\u001b[0;34m'0'\u001b[0m\u001b[0;34m,\u001b[0m\u001b[0;34m'csm_CretLevel'\u001b[0m\u001b[0;34m:\u001b[0m\u001b[0;34m''\u001b[0m\u001b[0;34m,\u001b[0m\u001b[0;34m'csgotone'\u001b[0m\u001b[0;34m:\u001b[0m\u001b[0mcn_soup\u001b[0m\u001b[0;34m(\u001b[0m\u001b[0;34m'csgotone'\u001b[0m\u001b[0;34m)\u001b[0m\u001b[0;34m,\u001b[0m\u001b[0;34m'csnotGotone'\u001b[0m\u001b[0;34m:\u001b[0m\u001b[0mcn_soup\u001b[0m\u001b[0;34m(\u001b[0m\u001b[0;34m'csnotGotone'\u001b[0m\u001b[0;34m)\u001b[0m\u001b[0;34m,\u001b[0m\u001b[0;34m'cam_ObjectID'\u001b[0m\u001b[0;34m:\u001b[0m\u001b[0;34m''\u001b[0m\u001b[0;34m,\u001b[0m\u001b[0;34m'cam_RandomNum'\u001b[0m\u001b[0;34m:\u001b[0m\u001b[0;34m''\u001b[0m\u001b[0;34m,\u001b[0m\u001b[0;34m'cadirect'\u001b[0m\u001b[0;34m:\u001b[0m\u001b[0mcn_soup\u001b[0m\u001b[0;34m(\u001b[0m\u001b[0;34m'cadirect'\u001b[0m\u001b[0;34m)\u001b[0m\u001b[0;34m,\u001b[0m\u001b[0;34m'cam_EntityID'\u001b[0m\u001b[0;34m:\u001b[0m\u001b[0mcn_soup\u001b[0m\u001b[0;34m(\u001b[0m\u001b[0;34m'cam_EntityID'\u001b[0m\u001b[0;34m)\u001b[0m\u001b[0;34m,\u001b[0m\u001b[0;34m'cam_EntityName'\u001b[0m\u001b[0;34m:\u001b[0m\u001b[0mcn_soup\u001b[0m\u001b[0;34m(\u001b[0m\u001b[0;34m'cam_EntityName'\u001b[0m\u001b[0;34m)\u001b[0m\u001b[0;34m,\u001b[0m\u001b[0;34m'cam_CreateDate'\u001b[0m\u001b[0;34m:\u001b[0m\u001b[0mcn_soup\u001b[0m\u001b[0;34m(\u001b[0m\u001b[0;34m'cam_CreateDate'\u001b[0m\u001b[0;34m)\u001b[0m\u001b[0;34m,\u001b[0m\u001b[0;34m'cam_Status'\u001b[0m\u001b[0;34m:\u001b[0m\u001b[0mcn_soup\u001b[0m\u001b[0;34m(\u001b[0m\u001b[0;34m'cam_Status'\u001b[0m\u001b[0;34m)\u001b[0m\u001b[0;34m,\u001b[0m\u001b[0;34m'cam_StatusDate'\u001b[0m\u001b[0;34m:\u001b[0m\u001b[0mcn_soup\u001b[0m\u001b[0;34m(\u001b[0m\u001b[0;34m'cam_StatusDate'\u001b[0m\u001b[0;34m)\u001b[0m\u001b[0;34m,\u001b[0m\u001b[0;34m'cam_EditStatus'\u001b[0m\u001b[0;34m:\u001b[0m\u001b[0;34m'0'\u001b[0m\u001b[0;34m,\u001b[0m\u001b[0;34m'cam_Region'\u001b[0m\u001b[0;34m:\u001b[0m\u001b[0;34m'200'\u001b[0m\u001b[0;34m,\u001b[0m\u001b[0;34m'cam_CustID'\u001b[0m\u001b[0;34m:\u001b[0m\u001b[0mcn_soup\u001b[0m\u001b[0;34m(\u001b[0m\u001b[0;34m'cam_CustID'\u001b[0m\u001b[0;34m)\u001b[0m\u001b[0;34m,\u001b[0m\u001b[0;34m'cam_GroupAcctID'\u001b[0m\u001b[0;34m:\u001b[0m\u001b[0;34m''\u001b[0m\u001b[0;34m,\u001b[0m\u001b[0;34m'cam_PrePayType'\u001b[0m\u001b[0;34m:\u001b[0m\u001b[0;34m'pptpPost'\u001b[0m\u001b[0;34m,\u001b[0m\u001b[0;34m'cam_AccountType'\u001b[0m\u001b[0;34m:\u001b[0m\u001b[0;34m'actpCmn'\u001b[0m\u001b[0;34m,\u001b[0m\u001b[0;34m'cam_OverDraft'\u001b[0m\u001b[0;34m:\u001b[0m\u001b[0;34m'0'\u001b[0m\u001b[0;34m,\u001b[0m\u001b[0;34m'cam_ControlScheme'\u001b[0m\u001b[0;34m:\u001b[0m\u001b[0;34m'0'\u001b[0m\u001b[0;34m,\u001b[0m\u001b[0;34m'cam_EntrustTel'\u001b[0m\u001b[0;34m:\u001b[0m\u001b[0mcn_soup\u001b[0m\u001b[0;34m(\u001b[0m\u001b[0;34m'cam_EntrustTel'\u001b[0m\u001b[0;34m)\u001b[0m\u001b[0;34m,\u001b[0m\u001b[0;34m'cam_OrgID'\u001b[0m\u001b[0;34m:\u001b[0m\u001b[0mcn_soup\u001b[0m\u001b[0;34m(\u001b[0m\u001b[0;34m'cam_OrgID'\u001b[0m\u001b[0;34m)\u001b[0m\u001b[0;34m,\u001b[0m\u001b[0;34m'cam_NotifyType'\u001b[0m\u001b[0;34m:\u001b[0m\u001b[0;34m'0'\u001b[0m\u001b[0;34m,\u001b[0m\u001b[0;34m'cam_NotifyValue'\u001b[0m\u001b[0;34m:\u001b[0m\u001b[0;34m'0'\u001b[0m\u001b[0;34m,\u001b[0m\u001b[0;34m'cam_InvPrintType'\u001b[0m\u001b[0;34m:\u001b[0m\u001b[0;34m'InvPTbillfee'\u001b[0m\u001b[0;34m,\u001b[0m\u001b[0;34m'cam_Notes'\u001b[0m\u001b[0;34m:\u001b[0m\u001b[0;34m''\u001b[0m\u001b[0;34m,\u001b[0m\u001b[0;34m'cam_PayChannelArray'\u001b[0m\u001b[0;34m:\u001b[0m\u001b[0;34m'[]'\u001b[0m\u001b[0;34m,\u001b[0m\u001b[0;34m'cam_CustBillArray'\u001b[0m\u001b[0;34m:\u001b[0m\u001b[0;34m'[]'\u001b[0m\u001b[0;34m,\u001b[0m\u001b[0;34m'cam_UrgeInfos'\u001b[0m\u001b[0;34m:\u001b[0m\u001b[0;34m'[]'\u001b[0m\u001b[0;34m,\u001b[0m\u001b[0;34m'cam_SettleAccount'\u001b[0m\u001b[0;34m:\u001b[0m\u001b[0;34m''\u001b[0m\u001b[0;34m,\u001b[0m\u001b[0;34m'cam_IsDefault'\u001b[0m\u001b[0;34m:\u001b[0m\u001b[0;34m'1'\u001b[0m\u001b[0;34m,\u001b[0m\u001b[0;34m'cam_BillInvoiceMailArray'\u001b[0m\u001b[0;34m:\u001b[0m\u001b[0;34m'[]'\u001b[0m\u001b[0;34m,\u001b[0m\u001b[0;34m'cam_NotifyValueDisplay'\u001b[0m\u001b[0;34m:\u001b[0m\u001b[0;34m'0'\u001b[0m\u001b[0;34m,\u001b[0m\u001b[0;34m'cam_CreateDateDisplay'\u001b[0m\u001b[0;34m:\u001b[0m\u001b[0mcn_soup\u001b[0m\u001b[0;34m(\u001b[0m\u001b[0;34m'cam_CreateDateDisplay'\u001b[0m\u001b[0;34m)\u001b[0m\u001b[0;34m,\u001b[0m\u001b[0;34m'com_ObjectID'\u001b[0m\u001b[0;34m:\u001b[0m\u001b[0;34m''\u001b[0m\u001b[0;34m,\u001b[0m\u001b[0;34m'com_RandomNum'\u001b[0m\u001b[0;34m:\u001b[0m\u001b[0;34m''\u001b[0m\u001b[0;34m,\u001b[0m\u001b[0;34m'comenuId'\u001b[0m\u001b[0;34m:\u001b[0m\u001b[0mcn_soup\u001b[0m\u001b[0;34m(\u001b[0m\u001b[0;34m'comenuId'\u001b[0m\u001b[0;34m)\u001b[0m\u001b[0;34m,\u001b[0m\u001b[0;34m'codirect'\u001b[0m\u001b[0;34m:\u001b[0m\u001b[0;34m'FALSE'\u001b[0m\u001b[0;34m,\u001b[0m\u001b[0;34m'com_EntityID'\u001b[0m\u001b[0;34m:\u001b[0m\u001b[0;34m'AGZGT0000829'\u001b[0m\u001b[0;34m,\u001b[0m\u001b[0;34m'com_EntityName'\u001b[0m\u001b[0;34m:\u001b[0m\u001b[0mcn_soup\u001b[0m\u001b[0;34m(\u001b[0m\u001b[0;34m'com_EntityName'\u001b[0m\u001b[0;34m)\u001b[0m\u001b[0;34m,\u001b[0m\u001b[0;34m'com_CreateDate'\u001b[0m\u001b[0;34m:\u001b[0m\u001b[0mcn_soup\u001b[0m\u001b[0;34m(\u001b[0m\u001b[0;34m'com_CreateDate'\u001b[0m\u001b[0;34m)\u001b[0m\u001b[0;34m,\u001b[0m\u001b[0;34m'com_Status'\u001b[0m\u001b[0;34m:\u001b[0m\u001b[0mcn_soup\u001b[0m\u001b[0;34m(\u001b[0m\u001b[0;34m'com_Status'\u001b[0m\u001b[0;34m)\u001b[0m\u001b[0;34m,\u001b[0m\u001b[0;34m'com_StatusDate'\u001b[0m\u001b[0;34m:\u001b[0m\u001b[0mcn_soup\u001b[0m\u001b[0;34m(\u001b[0m\u001b[0;34m'com_StatusDate'\u001b[0m\u001b[0;34m)\u001b[0m\u001b[0;34m,\u001b[0m\u001b[0;34m'com_EditStatus'\u001b[0m\u001b[0;34m:\u001b[0m\u001b[0;34m'0'\u001b[0m\u001b[0;34m,\u001b[0m\u001b[0;34m'com_Region'\u001b[0m\u001b[0;34m:\u001b[0m\u001b[0;34m'200'\u001b[0m\u001b[0;34m,\u001b[0m\u001b[0;34m'coerrorInfoForControl'\u001b[0m\u001b[0;34m:\u001b[0m\u001b[0;34m''\u001b[0m\u001b[0;34m,\u001b[0m\u001b[0;34m'conodeID'\u001b[0m\u001b[0;34m:\u001b[0m\u001b[0;34m'AGZGT0000829'\u001b[0m\u001b[0;34m,\u001b[0m\u001b[0;34m'conodeName'\u001b[0m\u001b[0;34m:\u001b[0m\u001b[0mcn_soup\u001b[0m\u001b[0;34m(\u001b[0m\u001b[0;34m'conodeName'\u001b[0m\u001b[0;34m)\u001b[0m\u001b[0;34m,\u001b[0m\u001b[0;34m'conodeParentID'\u001b[0m\u001b[0;34m:\u001b[0m\u001b[0mcn_soup\u001b[0m\u001b[0;34m(\u001b[0m\u001b[0;34m'conodeParentID'\u001b[0m\u001b[0;34m)\u001b[0m\u001b[0;34m,\u001b[0m\u001b[0;34m'coentityID'\u001b[0m\u001b[0;34m:\u001b[0m\u001b[0;34m'AGZGT0000829'\u001b[0m\u001b[0;34m,\u001b[0m\u001b[0;34m'cootherParam'\u001b[0m\u001b[0;34m:\u001b[0m\u001b[0mcn_soup\u001b[0m\u001b[0;34m(\u001b[0m\u001b[0;34m'cootherParam'\u001b[0m\u001b[0;34m)\u001b[0m\u001b[0;34m,\u001b[0m\u001b[0;34m'cochecked'\u001b[0m\u001b[0;34m:\u001b[0m\u001b[0mcn_soup\u001b[0m\u001b[0;34m(\u001b[0m\u001b[0;34m'cochecked'\u001b[0m\u001b[0;34m)\u001b[0m\u001b[0;34m,\u001b[0m\u001b[0;34m'com_MenuID'\u001b[0m\u001b[0;34m:\u001b[0m\u001b[0mcn_soup\u001b[0m\u001b[0;34m(\u001b[0m\u001b[0;34m'com_MenuID'\u001b[0m\u001b[0;34m)\u001b[0m\u001b[0;34m,\u001b[0m\u001b[0;34m'com_ServNum'\u001b[0m\u001b[0;34m:\u001b[0m\u001b[0;34m''\u001b[0m\u001b[0;34m,\u001b[0m\u001b[0;34m'com_TouchNum'\u001b[0m\u001b[0;34m:\u001b[0m\u001b[0;34m''\u001b[0m\u001b[0;34m,\u001b[0m\u001b[0;34m'com_Password'\u001b[0m\u001b[0;34m:\u001b[0m\u001b[0mcn_soup\u001b[0m\u001b[0;34m(\u001b[0m\u001b[0;34m'com_Password'\u001b[0m\u001b[0;34m)\u001b[0m\u001b[0;34m,\u001b[0m\u001b[0;34m'com_OrgID'\u001b[0m\u001b[0;34m:\u001b[0m\u001b[0mcn_soup\u001b[0m\u001b[0;34m(\u001b[0m\u001b[0;34m'com_OrgID'\u001b[0m\u001b[0;34m)\u001b[0m\u001b[0;34m,\u001b[0m\u001b[0;34m'com_RoamOrgID'\u001b[0m\u001b[0;34m:\u001b[0m\u001b[0;34m''\u001b[0m\u001b[0;34m,\u001b[0m\u001b[0;34m'com_PassChangeDate'\u001b[0m\u001b[0;34m:\u001b[0m\u001b[0mcn_soup\u001b[0m\u001b[0;34m(\u001b[0m\u001b[0;34m'com_PassChangeDate'\u001b[0m\u001b[0;34m)\u001b[0m\u001b[0;34m,\u001b[0m\u001b[0;34m'com_OperType'\u001b[0m\u001b[0;34m:\u001b[0m\u001b[0mcn_soup\u001b[0m\u001b[0;34m(\u001b[0m\u001b[0;34m'com_OperType'\u001b[0m\u001b[0;34m)\u001b[0m\u001b[0;34m,\u001b[0m\u001b[0;34m'com_Manager'\u001b[0m\u001b[0;34m:\u001b[0m\u001b[0;34m'0'\u001b[0m\u001b[0;34m,\u001b[0m\u001b[0;34m'com_Level'\u001b[0m\u001b[0;34m:\u001b[0m\u001b[0;34m''\u001b[0m\u001b[0;34m,\u001b[0m\u001b[0;34m'com_ContactPhone'\u001b[0m\u001b[0;34m:\u001b[0m\u001b[0;34m'13922204911'\u001b[0m\u001b[0;34m,\u001b[0m\u001b[0;34m'com_MacAddress'\u001b[0m\u001b[0;34m:\u001b[0m\u001b[0mcn_soup\u001b[0m\u001b[0;34m(\u001b[0m\u001b[0;34m'com_MacAddress'\u001b[0m\u001b[0;34m)\u001b[0m\u001b[0;34m,\u001b[0m\u001b[0;34m'com_OnDuty'\u001b[0m\u001b[0;34m:\u001b[0m\u001b[0;34m'0'\u001b[0m\u001b[0;34m,\u001b[0m\u001b[0;34m'com_ShareStore'\u001b[0m\u001b[0;34m:\u001b[0m\u001b[0;34m''\u001b[0m\u001b[0;34m,\u001b[0m\u001b[0;34m'com_BirthDay'\u001b[0m\u001b[0;34m:\u001b[0m\u001b[0;34m''\u001b[0m\u001b[0;34m,\u001b[0m\u001b[0;34m'com_WorkDate'\u001b[0m\u001b[0;34m:\u001b[0m\u001b[0;34m''\u001b[0m\u001b[0;34m,\u001b[0m\u001b[0;34m'com_CertID'\u001b[0m\u001b[0;34m:\u001b[0m\u001b[0;34m''\u001b[0m\u001b[0;34m,\u001b[0m\u001b[0;34m'com_Sex'\u001b[0m\u001b[0;34m:\u001b[0m\u001b[0;34m''\u001b[0m\u001b[0;34m,\u001b[0m\u001b[0;34m'com_EducationLevel'\u001b[0m\u001b[0;34m:\u001b[0m\u001b[0;34m''\u001b[0m\u001b[0;34m,\u001b[0m\u001b[0;34m'com_TotalLevel'\u001b[0m\u001b[0;34m:\u001b[0m\u001b[0;34m''\u001b[0m\u001b[0;34m,\u001b[0m\u001b[0;34m'com_SkillLevel'\u001b[0m\u001b[0;34m:\u001b[0m\u001b[0;34m''\u001b[0m\u001b[0;34m,\u001b[0m\u001b[0;34m'com_TrainLevel'\u001b[0m\u001b[0;34m:\u001b[0m\u001b[0;34m''\u001b[0m\u001b[0;34m,\u001b[0m\u001b[0;34m'com_ComityLevel'\u001b[0m\u001b[0;34m:\u001b[0m\u001b[0;34m''\u001b[0m\u001b[0;34m,\u001b[0m\u001b[0;34m'com_Operator_type'\u001b[0m\u001b[0;34m:\u001b[0m\u001b[0;34m'0'\u001b[0m\u001b[0;34m,\u001b[0m\u001b[0;34m'com_NativeHome'\u001b[0m\u001b[0;34m:\u001b[0m\u001b[0;34m''\u001b[0m\u001b[0;34m,\u001b[0m\u001b[0;34m'com_graduateDate'\u001b[0m\u001b[0;34m:\u001b[0m\u001b[0;34m''\u001b[0m\u001b[0;34m,\u001b[0m\u001b[0;34m'com_IsMarray'\u001b[0m\u001b[0;34m:\u001b[0m\u001b[0;34m'0'\u001b[0m\u001b[0;34m,\u001b[0m\u001b[0;34m'com_PolityFace'\u001b[0m\u001b[0;34m:\u001b[0m\u001b[0;34m''\u001b[0m\u001b[0;34m,\u001b[0m\u001b[0;34m'com_HomeAddress'\u001b[0m\u001b[0;34m:\u001b[0m\u001b[0;34m''\u001b[0m\u001b[0;34m,\u001b[0m\u001b[0;34m'com_JobLive'\u001b[0m\u001b[0;34m:\u001b[0m\u001b[0;34m''\u001b[0m\u001b[0;34m,\u001b[0m\u001b[0;34m'com_NowPostID'\u001b[0m\u001b[0;34m:\u001b[0m\u001b[0;34m''\u001b[0m\u001b[0;34m,\u001b[0m\u001b[0;34m'com_BloodType'\u001b[0m\u001b[0;34m:\u001b[0m\u001b[0;34m''\u001b[0m\u001b[0;34m,\u001b[0m\u001b[0;34m'com_Healthy'\u001b[0m\u001b[0;34m:\u001b[0m\u001b[0;34m''\u001b[0m\u001b[0;34m,\u001b[0m\u001b[0;34m'com_Character'\u001b[0m\u001b[0;34m:\u001b[0m\u001b[0;34m''\u001b[0m\u001b[0;34m,\u001b[0m\u001b[0;34m'com_Enjoyful'\u001b[0m\u001b[0;34m:\u001b[0m\u001b[0;34m''\u001b[0m\u001b[0;34m,\u001b[0m\u001b[0;34m'com_PriSocietyRelation'\u001b[0m\u001b[0;34m:\u001b[0m\u001b[0;34m''\u001b[0m\u001b[0;34m,\u001b[0m\u001b[0;34m'com_FamilyDes'\u001b[0m\u001b[0;34m:\u001b[0m\u001b[0;34m''\u001b[0m\u001b[0;34m,\u001b[0m\u001b[0;34m'com_StarLevel'\u001b[0m\u001b[0;34m:\u001b[0m\u001b[0;34m''\u001b[0m\u001b[0;34m,\u001b[0m\u001b[0;34m'com_AssessRec'\u001b[0m\u001b[0;34m:\u001b[0m\u001b[0;34m''\u001b[0m\u001b[0;34m,\u001b[0m\u001b[0;34m'com_hr_status'\u001b[0m\u001b[0;34m:\u001b[0m\u001b[0;34m'1'\u001b[0m\u001b[0;34m,\u001b[0m\u001b[0;34m'com_Restrict_time'\u001b[0m\u001b[0;34m:\u001b[0m\u001b[0;34m'0'\u001b[0m\u001b[0;34m,\u001b[0m\u001b[0;34m'com_Start_time'\u001b[0m\u001b[0;34m:\u001b[0m\u001b[0;34m'0'\u001b[0m\u001b[0;34m,\u001b[0m\u001b[0;34m'com_End_time'\u001b[0m\u001b[0;34m:\u001b[0m\u001b[0;34m'24'\u001b[0m\u001b[0;34m,\u001b[0m\u001b[0;34m'com_Enable_gprs'\u001b[0m\u001b[0;34m:\u001b[0m\u001b[0;34m'0'\u001b[0m\u001b[0;34m,\u001b[0m\u001b[0;34m'com_Gprs_starttime'\u001b[0m\u001b[0;34m:\u001b[0m\u001b[0;34m'0'\u001b[0m\u001b[0;34m,\u001b[0m\u001b[0;34m'com_Gprs_endtime'\u001b[0m\u001b[0;34m:\u001b[0m\u001b[0;34m'0'\u001b[0m\u001b[0;34m,\u001b[0m\u001b[0;34m'com_Check_mac'\u001b[0m\u001b[0;34m:\u001b[0m\u001b[0;34m'0'\u001b[0m\u001b[0;34m,\u001b[0m\u001b[0;34m'com_Mac'\u001b[0m\u001b[0;34m:\u001b[0m\u001b[0;34m''\u001b[0m\u001b[0;34m,\u001b[0m\u001b[0;34m'com_IPAddress'\u001b[0m\u001b[0;34m:\u001b[0m\u001b[0;34m'10.244.110.143'\u001b[0m\u001b[0;34m,\u001b[0m\u001b[0;34m'costartUsingTime'\u001b[0m\u001b[0;34m:\u001b[0m\u001b[0mcn_soup\u001b[0m\u001b[0;34m(\u001b[0m\u001b[0;34m'costartUsingTime'\u001b[0m\u001b[0;34m)\u001b[0m\u001b[0;34m,\u001b[0m\u001b[0;34m'coendUsingTime'\u001b[0m\u001b[0;34m:\u001b[0m\u001b[0mcn_soup\u001b[0m\u001b[0;34m(\u001b[0m\u001b[0;34m'coendUsingTime'\u001b[0m\u001b[0;34m)\u001b[0m\u001b[0;34m,\u001b[0m\u001b[0;34m'com_QueueID'\u001b[0m\u001b[0;34m:\u001b[0m\u001b[0;34m''\u001b[0m\u001b[0;34m,\u001b[0m\u001b[0;34m'com_InvVersion'\u001b[0m\u001b[0;34m:\u001b[0m\u001b[0;34m''\u001b[0m\u001b[0;34m,\u001b[0m\u001b[0;34m'com_areaID'\u001b[0m\u001b[0;34m:\u001b[0m\u001b[0;34m''\u001b[0m\u001b[0;34m,\u001b[0m\u001b[0;34m'servNumber'\u001b[0m\u001b[0;34m:\u001b[0m\u001b[0mcn_soup\u001b[0m\u001b[0;34m(\u001b[0m\u001b[0;34m'servNumber'\u001b[0m\u001b[0;34m)\u001b[0m\u001b[0;34m,\u001b[0m\u001b[0;34m'transmit'\u001b[0m\u001b[0;34m:\u001b[0m\u001b[0mcn_soup\u001b[0m\u001b[0;34m(\u001b[0m\u001b[0;34m'transmit'\u001b[0m\u001b[0;34m)\u001b[0m\u001b[0;34m,\u001b[0m\u001b[0;34m'recType'\u001b[0m\u001b[0;34m:\u001b[0m\u001b[0;34m''\u001b[0m\u001b[0;34m,\u001b[0m\u001b[0;34m'stopKeyValue'\u001b[0m\u001b[0;34m:\u001b[0m\u001b[0mcn_soup\u001b[0m\u001b[0;34m(\u001b[0m\u001b[0;34m'stopKeyValue'\u001b[0m\u001b[0;34m)\u001b[0m\u001b[0;34m,\u001b[0m\u001b[0;34m'remotemac'\u001b[0m\u001b[0;34m:\u001b[0m\u001b[0;34m'08-00-27-44-EC-99'\u001b[0m\u001b[0;34m}\u001b[0m\u001b[0;34m\u001b[0m\u001b[0m\n\u001b[0m\u001b[1;32m     43\u001b[0m     \u001b[0ms3\u001b[0m\u001b[0;34m=\u001b[0m\u001b[0mr\u001b[0m\u001b[0;34m.\u001b[0m\u001b[0mpost\u001b[0m\u001b[0;34m(\u001b[0m\u001b[0murl3\u001b[0m\u001b[0;34m,\u001b[0m\u001b[0mdata\u001b[0m\u001b[0;34m=\u001b[0m\u001b[0mparma3\u001b[0m\u001b[0;34m,\u001b[0m\u001b[0mcookies\u001b[0m\u001b[0;34m=\u001b[0m\u001b[0mcn_cookies3\u001b[0m\u001b[0;34m,\u001b[0m\u001b[0mheaders\u001b[0m\u001b[0;34m=\u001b[0m\u001b[0mheader2\u001b[0m\u001b[0;34m)\u001b[0m\u001b[0;34m\u001b[0m\u001b[0m\n\u001b[1;32m     44\u001b[0m \u001b[0;34m\u001b[0m\u001b[0m\n",
      "\u001b[0;31mAttributeError\u001b[0m: 'NoneType' object has no attribute 'attrs'"
     ]
    }
   ],
   "source": [
    "import sys\n",
    "cn_file=open('abc','a')\n",
    "\n",
    "cn_list='18498615701;18498615702;18498615703;18498615704;18498615705;18498615706;18498615707;18498615708;18498615709;18498615710;18498615676;18498615677;18498615678;18498615680;18498615681;18498615682;18498615699;18498615684;18498615700;18498615683;18498615685;18498615698;18498615697;18498615694;18498615695;18498615686;18498615689;18498615688;18498615687;18498615691;18498615692;18498615211;18498615214;18498615213;18498615225;18498615212;18498615217;18498615216;18498615215;18498615218;18498615219;18498615220;18498615693;18498615690;18498615250;18498615222;18498615224;18498615221;18498615223;18498615227;18498615226;18498615228;18498615232;18498615231;18498615230;18498615234;18498615229;18498615233;18498615249;18498615235;18498615237;18498615236;18498615247;18498615246;18498615245;18498615248;18498615239;18498615238;18498615240;18498615242;18498615244;18498615241;18498615243;18498615502;18498615501;18498615505;18498615507;18498615506;18498615508;18498615503;18498615504;18498615510;18498615511;18498615516;18498615515;18498615509;18498615512;18498615513;18498615514;18498615696;18498615519;18498615518;18498615517;18498615521;18498615520;18498615531;18498615532;18498615523;18498615524;18498615522;18498615529;18498615528;18498615525;18498615527;18498615526;18498615535;18498615530;18498615533;18498615534;18498615701;18498615538;18498615539;18498615537;18498615536;18498615542;18498615541;18498615540;18498615543'\n",
    "a=cn_list.split(';')\n",
    "cn_a_count=len(a)\n",
    "print(cn_a_count)\n",
    "k=1\n",
    "for cn_phone in a:\n",
    "    def cn_cookies(cookies_temp):\n",
    "            cookies = dict()\n",
    "            for i in r.cookies.get_dict('10.252.17.241'):\n",
    "                cookies[i]=r.cookies.get(i,'','10.252.17.241')\n",
    "            cookies['bsacKF']='NGCRM_BOSS'\n",
    "            cookies['com.huawei.boss.CONTACTID']='null'\n",
    "            cookies['com.huawei.boss.CURRENT_MENUID']='123456'\n",
    "            cookies['com.huawei.boss.CURRENT_TAB']='123456'\n",
    "            cookies['com.huawei.boss.CURRENT_USER']='com.huawei.boss.NO_CURRENT_USER'\n",
    "            cookies['GZCOMM']='r_GZ_CRM_WEB1_1082'\n",
    "            cookies['GZCRM']='r_GZ_CRM_WEB2_1081'\n",
    "            return cookies\n",
    "    \n",
    "\n",
    "    header={'User-Agent':'Mozilla/5.0 (compatible; MSIE 10.0; Windows NT 6.2; WOW64; Trident/6.0; SE 2.X MetaSr 1.0)','Accept':'*/*','Accept-Language':'zh-cn','Accept-Encoding':'gzip, deflate'}\n",
    "    header2={'User-Agent':'Mozilla/5.0 (compatible; MSIE 10.0; Windows NT 6.2; WOW64; Trident/6.0; SE 2.X MetaSr 1.0)','Accept':'*/*','Accept-Language':'zh-cn','Accept-Encoding':'gzip, deflate','X-Requested-With':'XMLHttpRequest'}\n",
    "    header3={'User-Agent':'Mozilla/5.0 (compatible; MSIE 10.0; Windows NT 6.2; WOW64; Trident/6.0; SE 2.X MetaSr 1.0)','Accept':'image/jpeg,application/x-ms-application,image/gif,application/xaml+xml,image/pjpeg, application/x-ms-xbap','Accept-Language':'zh-CN','Accept-Encoding':'gzip, deflate'}\n",
    "\n",
    "    cookies1=cn_cookies(r.cookies)\n",
    "    url='http://10.252.17.241/ngcustcare/custlogin/qryCustInfo.action'\n",
    "    parma={'method':'qryCustInfo','servNumber':cn_phone,'authCheckMode':'AuthCheckZ','verifyCode':'','pswd':'','certType':'IdCard','certID':'','rndPswd':'','custType':'PersonCustomer','domainType':'','isCert2G':'','ONLYLOGIN':'onlyLogin','withoutPassValidate':'true','isUseReadIdCardWithTwo':'0'}\n",
    "    s=r.post(url,cookies=cookies1,data=parma,headers=header2)\n",
    "\n",
    "\n",
    "    cn_cookies=cn_cookies2(r.cookies,cn_phone)\n",
    "    url2='http://10.252.17.241/ngcustcare/uniteview/uviewtwo/uvDisper.action?currentTabID=BOSS^'+cn_phone+'^100110121062~'+cn_phone\n",
    "    s2=r.get(url2,cookies=cn_cookies,headers=header2)\n",
    "    soup=BeautifulSoup(s2.text,'lxml')\n",
    "\n",
    "\n",
    "    cn_cookies3=cn_cookies2(r.cookies,cn_phone)\n",
    "    url3='http://10.252.17.241/nguniteview/bossviewhome.jsp'\n",
    "    parma3={'ccm_ObjectID':'','ccm_RandomNum':'','ccdirect':soup.find(attrs={\"name\":\"ccdirect\"}).attrs['value'],'ccm_EntityID':soup.find(attrs={\"name\":\"ccm_EntityID\"}).attrs['value'],'ccm_EntityName':soup.find(attrs={\"name\":\"ccm_EntityName\"}).attrs['value'],'ccm_CreateDate':soup.find(attrs={\"name\":\"ccm_CreateDate\"}).attrs['value'],'ccm_Status':soup.find(attrs={\"name\":\"ccm_Status\"}).attrs['value'],'ccm_StatusDate':soup.find(attrs={\"name\":\"ccm_StatusDate\"}).attrs['value'],'ccm_EditStatus':soup.find(attrs={\"name\":\"ccm_EditStatus\"}).attrs['value'],'ccm_Region':'200','ccm_ShortName':'','ccm_Password':soup.find(attrs={\"name\":\"ccm_Password\"}).attrs['value'],'ccm_CustType':'PersonCustomer','ccm_VipType':soup.find(attrs={\"name\":\"ccm_VipType\"}).attrs['value'],'ccm_Foreigner':soup.find(attrs={\"name\":\"ccm_Foreigner\"}).attrs['value'],'ccm_CustClass1':soup.find(attrs={\"name\":\"ccm_CustClass1\"}).attrs['value'],'ccm_CustClass2':soup.find(attrs={\"name\":\"ccm_CustClass2\"}).attrs['value'],'ccm_National':soup.find(attrs={\"name\":\"ccm_National\"}).attrs['value'],'ccm_Address':'********','ccm_CertID':soup.find(attrs={\"name\":\"ccm_CertID\"}).attrs['value'],'ccm_CertType':soup.find(attrs={\"name\":\"ccm_CertType\"}).attrs['value'],'ccm_CertAddr':'********','ccm_LinkMan':soup.find(attrs={\"name\":\"ccm_LinkMan\"}).attrs['value'],'ccm_LinkPhone':soup.find(attrs={\"name\":\"ccm_LinkPhone\"}).attrs['value'],'ccm_HomeTel':'','ccm_OfficeTel':'','ccm_MobileTel':'','ccm_PostCode':soup.find(attrs={\"name\":\"ccm_PostCode\"}).attrs['value'],'ccm_LinkAddr':'********','ccm_Email':'','ccm_HomePage':'','ccm_IsMergeBill':'1','ccm_CreditLevel':soup.find(attrs={\"name\":\"ccm_CreditLevel\"}).attrs['value'],'ccm_OwnerAreaID':soup.find(attrs={\"name\":\"ccm_OwnerAreaID\"}).attrs['value'],'ccm_OrgID':soup.find(attrs={\"name\":\"ccm_OrgID\"}).attrs['value'],'ccm_RegStatus':'1','ccm_Notes':soup.find(attrs={\"name\":\"ccm_Notes\"}).attrs['value'],'ccm_ResponseCustMgr':'','ccm_CurrentCustMgr':'','ccm_InLevel':soup.find(attrs={\"name\":\"ccm_InLevel\"}).attrs['value'],'ccm_TownID':'','ccm_VipTypeStateDate':soup.find(attrs={\"name\":\"ccm_VipTypeStateDate\"}).attrs['value'],'ccm_NetServGrade':'','ccm_CustAddrArray':'[]','ccm_CustBillArray':'[]','ccm_IsEncrypt':'1','ccm_starLevel':soup.find(attrs={\"name\":\"ccm_starLevel\"}).attrs['value'],'ccm_IsFaceChk':soup.find(attrs={\"name\":\"ccm_IsFaceChk\"}).attrs['value'],'ccregister':soup.find(attrs={\"name\":\"ccregister\"}).attrs['value'],'ccnotRegister':soup.find(attrs={\"name\":\"ccnotRegister\"}).attrs['value'],'csm_ObjectID':'','csm_RandomNum':'','csdirect':soup.find(attrs={\"name\":\"csdirect\"}).attrs['value'],'csm_EntityID':soup.find(attrs={\"name\":\"csm_EntityID\"}).attrs['value'],'csm_EntityName':cn_soup('csm_EntityName'),'csm_CreateDate':cn_soup('csm_CreateDate'),'csm_Status':cn_soup('csm_Status'),'csm_StatusDate':'******','csm_EditStatus':cn_soup('csm_EditStatus'),'csm_Region':'200','csm_Password':cn_soup('csm_Password'),'csm_ProductID':cn_soup('csm_ProductID'),'csm_ServNumber':cn_soup('csm_ServNumber'),'csm_RegisterOrgID':cn_soup('csm_RegisterOrgID'),'csm_OwnerOrgID':cn_soup('csm_OwnerOrgID'),'csm_AccountOid':cn_soup('csm_AccountOid'),'csm_CustomerOid':cn_soup('csm_CustomerOid'),'csm_AuthType':'AuthCheckB','csm_MobileType':'mbtpNml','csm_AreaID':'','csm_PayMode':'1','csm_StopKey':cn_soup('csm_StopKey'),'csm_Brand':cn_soup('csm_Brand'),'csm_StartDate':cn_soup('csm_StartDate'),'csm_InvalidDate':cn_soup('csm_InvalidDate'),'csm_SettleDay':'1','csm_Enum':cn_soup('csm_Enum'),'csm_Imsi':cn_soup('csm_Imsi'),'csm_Credit':'0','csm_SubsProduct':'[]','csm_IsDefaultTelNum':'1','csm_BelongRegion':'0','csm_TargetRegion':'0','csm_CretLevel':'','csgotone':cn_soup('csgotone'),'csnotGotone':cn_soup('csnotGotone'),'cam_ObjectID':'','cam_RandomNum':'','cadirect':cn_soup('cadirect'),'cam_EntityID':cn_soup('cam_EntityID'),'cam_EntityName':cn_soup('cam_EntityName'),'cam_CreateDate':cn_soup('cam_CreateDate'),'cam_Status':cn_soup('cam_Status'),'cam_StatusDate':cn_soup('cam_StatusDate'),'cam_EditStatus':'0','cam_Region':'200','cam_CustID':cn_soup('cam_CustID'),'cam_GroupAcctID':'','cam_PrePayType':'pptpPost','cam_AccountType':'actpCmn','cam_OverDraft':'0','cam_ControlScheme':'0','cam_EntrustTel':cn_soup('cam_EntrustTel'),'cam_OrgID':cn_soup('cam_OrgID'),'cam_NotifyType':'0','cam_NotifyValue':'0','cam_InvPrintType':'InvPTbillfee','cam_Notes':'','cam_PayChannelArray':'[]','cam_CustBillArray':'[]','cam_UrgeInfos':'[]','cam_SettleAccount':'','cam_IsDefault':'1','cam_BillInvoiceMailArray':'[]','cam_NotifyValueDisplay':'0','cam_CreateDateDisplay':cn_soup('cam_CreateDateDisplay'),'com_ObjectID':'','com_RandomNum':'','comenuId':cn_soup('comenuId'),'codirect':'FALSE','com_EntityID':'AGZGT0000829','com_EntityName':cn_soup('com_EntityName'),'com_CreateDate':cn_soup('com_CreateDate'),'com_Status':cn_soup('com_Status'),'com_StatusDate':cn_soup('com_StatusDate'),'com_EditStatus':'0','com_Region':'200','coerrorInfoForControl':'','conodeID':'AGZGT0000829','conodeName':cn_soup('conodeName'),'conodeParentID':cn_soup('conodeParentID'),'coentityID':'AGZGT0000829','cootherParam':cn_soup('cootherParam'),'cochecked':cn_soup('cochecked'),'com_MenuID':cn_soup('com_MenuID'),'com_ServNum':'','com_TouchNum':'','com_Password':cn_soup('com_Password'),'com_OrgID':cn_soup('com_OrgID'),'com_RoamOrgID':'','com_PassChangeDate':cn_soup('com_PassChangeDate'),'com_OperType':cn_soup('com_OperType'),'com_Manager':'0','com_Level':'','com_ContactPhone':'13922204911','com_MacAddress':cn_soup('com_MacAddress'),'com_OnDuty':'0','com_ShareStore':'','com_BirthDay':'','com_WorkDate':'','com_CertID':'','com_Sex':'','com_EducationLevel':'','com_TotalLevel':'','com_SkillLevel':'','com_TrainLevel':'','com_ComityLevel':'','com_Operator_type':'0','com_NativeHome':'','com_graduateDate':'','com_IsMarray':'0','com_PolityFace':'','com_HomeAddress':'','com_JobLive':'','com_NowPostID':'','com_BloodType':'','com_Healthy':'','com_Character':'','com_Enjoyful':'','com_PriSocietyRelation':'','com_FamilyDes':'','com_StarLevel':'','com_AssessRec':'','com_hr_status':'1','com_Restrict_time':'0','com_Start_time':'0','com_End_time':'24','com_Enable_gprs':'0','com_Gprs_starttime':'0','com_Gprs_endtime':'0','com_Check_mac':'0','com_Mac':'','com_IPAddress':'10.244.110.143','costartUsingTime':cn_soup('costartUsingTime'),'coendUsingTime':cn_soup('coendUsingTime'),'com_QueueID':'','com_InvVersion':'','com_areaID':'','servNumber':cn_soup('servNumber'),'transmit':cn_soup('transmit'),'recType':'','stopKeyValue':cn_soup('stopKeyValue'),'remotemac':'08-00-27-44-EC-99'}\n",
    "    s3=r.post(url3,data=parma3,cookies=cn_cookies3,headers=header2)\n",
    "\n",
    "\n",
    "    url='http://10.252.17.241/nguniteview/layoutAction.do?method=showView&ownerType=1&viewId=208'\n",
    "    param={\"width\":\"728\",\"height\":\"14\"}\n",
    "    result=r.post(url,data=param)\n",
    "    soup=BeautifulSoup(result.text,'lxml')\n",
    "    cn_return=soup.select('.fv_tb_tr')[0].select('span')[0].text\n",
    "\n",
    "    cn_file.write(\"\\n\"+str(k)+' '+str(cn_phone)+' '+cn_return)\n",
    "    k=k+1\n",
    "    if(k%10==0):\n",
    "        print(k)\n",
    "        cn_file.close()\n",
    "        cn_file=open('abc','a')\n",
    "    time.sleep(1)\n",
    "cn_file.close()\n",
    "print('end')"
   ]
  },
  {
   "cell_type": "code",
   "execution_count": null,
   "metadata": {},
   "outputs": [],
   "source": []
  }
 ],
 "metadata": {
  "kernelspec": {
   "display_name": "Python 3",
   "language": "python",
   "name": "python3"
  },
  "language_info": {
   "codemirror_mode": {
    "name": "ipython",
    "version": 3
   },
   "file_extension": ".py",
   "mimetype": "text/x-python",
   "name": "python",
   "nbconvert_exporter": "python",
   "pygments_lexer": "ipython3",
   "version": "3.6.4"
  }
 },
 "nbformat": 4,
 "nbformat_minor": 2
}
