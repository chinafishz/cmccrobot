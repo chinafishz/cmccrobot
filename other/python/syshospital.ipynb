{
 "cells": [
  {
   "cell_type": "code",
   "execution_count": 6,
   "metadata": {
    "collapsed": false
   },
   "outputs": [
    {
     "name": "stdout",
     "output_type": "stream",
     "text": [
      "http://www.1m1m.com/Pages/LoginAndRegister.aspx?ru=%2FPages%2FReg%2FRegList.aspx%3Foid%3D11411%26d%3D201606061\n",
      "9C+cyOoNWV9KJifKV1VOu7Q4591zFNebI9RSN6YcY0U7sd2Wg3SmErOpe/E6b3n5fnmf4+HQ2MBL4uNbVE+ZiWcmVTFtwXJJGH7wZqhhLu4aX7Yc6ITdovdw6E4WNhj0e6bP5lq6ZYER65bJ23NtsZjTMSt4zFDfkVV7jUOvwFIsuQkoLAIVOrAfdkYVmwDsKqsjo/FBhQTyD+l5guz00yvI987jpWF6JkVKPR+/Ff/QqY4GZT9iWnfS0bW/YoQpxJXNin1JMmym7y82\n"
     ]
    }
   ],
   "source": [
    "import requests\n",
    "from bs4  import BeautifulSoup\n",
    "\n",
    "r=requests.session()\n",
    "result=r.get('http://www.1m1m.com/Pages/Reg/RegList.aspx?oid=11411&d=201606061')\n",
    "print result.url\n",
    "# http://www.1m1m.com/Pages/LoginAndRegister.aspx?ru=%2FPages%2FReg%2FRegList.aspx%3Foid%3D11411%26d%3D201606061\n",
    "soup=BeautifulSoup(result.text,'lxml')\n",
    "print soup.select('#__EVENTVALIDATION')[0].attrs['value']\n",
    "parma={'__EVENTTARGET':'ctl00$ContentPlaceHolder_Body$loginSubmitBtn','__EVENTARGUMENT':'','__VIEWSTATE':'123','ctl00$searchBar$searchTabValue':'1','ctl00$searchBar$isCustomInput':'0','ctl00$searchBar$keyWordTxb':'请输入医生、医院名称搜索（左边选择搜索类型）','ctl00$ContentPlaceHolder_Body$loginNameTxb$txb':'15718412706','ctl00$ContentPlaceHolder_Body$loginPasswordTxb$txb':'369258'}\n"
   ]
  }
 ],
 "metadata": {
  "kernelspec": {
   "display_name": "Python [Root]",
   "language": "python",
   "name": "Python [Root]"
  },
  "language_info": {
   "codemirror_mode": {
    "name": "ipython",
    "version": 2
   },
   "file_extension": ".py",
   "mimetype": "text/x-python",
   "name": "python",
   "nbconvert_exporter": "python",
   "pygments_lexer": "ipython2",
   "version": "2.7.12"
  }
 },
 "nbformat": 4,
 "nbformat_minor": 0
}
