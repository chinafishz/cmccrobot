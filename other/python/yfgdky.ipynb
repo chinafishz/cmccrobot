{
 "cells": [
  {
   "cell_type": "code",
   "execution_count": 3,
   "metadata": {
    "collapsed": false
   },
   "outputs": [
    {
     "name": "stdout",
     "output_type": "stream",
     "text": [
      "%E5%A5%BD%E7%99%BE%E5%B9%B4\n",
      "<type 'unicode'>\n"
     ]
    }
   ],
   "source": [
    "import requests\n",
    "import json\n",
    "import urllib\n",
    "string=urllib.quote('好百年')\n",
    "print string\n",
    "cn_data={'rp':'100','page':'1','addrSearchName':string,'sortname':'undefined','sortorder':'undefined','query':'','qtype':'','newAddrld':'','addrGrade':'5','searchByDb':'0'}\n",
    "r=requests.post(\"http://10.243.167.54:8082/intf/address/proxy.do?regionid=200&op=searchByIndex&needTotal=Y\",data=cn_data)\n",
    "jd=json.loads(r.text)\n",
    "for a in jd['result']:\n",
    "    if a['grade']==5:\n",
    "        print a['addr']"
   ]
  },
  {
   "cell_type": "code",
   "execution_count": 17,
   "metadata": {
    "collapsed": false
   },
   "outputs": [
    {
     "data": {
      "text/plain": [
       "1"
      ]
     },
     "execution_count": 17,
     "metadata": {},
     "output_type": "execute_result"
    }
   ],
   "source": [
    "120/100"
   ]
  },
  {
   "cell_type": "code",
   "execution_count": 226,
   "metadata": {
    "collapsed": false
   },
   "outputs": [
    {
     "name": "stdout",
     "output_type": "stream",
     "text": [
      "Please input your name:\n",
      "a\n",
      "Hello,a\n"
     ]
    }
   ],
   "source": []
  },
  {
   "cell_type": "code",
   "execution_count": 55,
   "metadata": {
    "collapsed": false,
    "scrolled": true
   },
   "outputs": [
    {
     "name": "stdout",
     "output_type": "stream",
     "text": [
      "please input keyword:淘金坑小区27号\n",
      "total:271789\n",
      "total Page100\n",
      "广州市越秀区淘金北路淘金坑淘金坑小区27号603   Page1\n",
      "广州市越秀区淘金北路淘金坑淘金坑小区27号701   Page1\n",
      "广州市越秀区淘金北路淘金坑淘金坑小区27号702   Page1\n",
      "广州市越秀区淘金北路淘金坑淘金坑小区27号703   Page1\n",
      "广州市越秀区淘金北路淘金坑淘金坑小区27号801   Page1\n",
      "广州市越秀区淘金北路淘金坑淘金坑小区27号802   Page1\n",
      "广州市越秀区淘金北路淘金坑淘金坑小区27号803   Page1\n",
      "广州市越秀区淘金北路淘金坑淘金坑小区27号101   Page1\n",
      "广州市越秀区淘金北路淘金坑淘金坑小区27号102   Page1\n",
      "广州市越秀区淘金北路淘金坑淘金坑小区27号103   Page1\n",
      "广州市越秀区淘金北路淘金坑淘金坑小区27号201   Page2\n",
      "广州市越秀区淘金北路淘金坑淘金坑小区27号202   Page2\n",
      "广州市越秀区淘金北路淘金坑淘金坑小区27号203   Page2\n",
      "广州市越秀区淘金北路淘金坑淘金坑小区27号301   Page2\n",
      "广州市越秀区淘金北路淘金坑淘金坑小区27号302   Page2\n",
      "广州市越秀区淘金北路淘金坑淘金坑小区27号303   Page2\n",
      "广州市越秀区淘金北路淘金坑淘金坑小区27号401   Page2\n",
      "广州市越秀区淘金北路淘金坑淘金坑小区27号402   Page2\n",
      "广州市越秀区淘金北路淘金坑淘金坑小区27号403   Page2\n",
      "广州市越秀区淘金北路淘金坑淘金坑小区27号501   Page2\n",
      "广州市越秀区淘金北路淘金坑淘金坑小区27号502   Page3\n",
      "广州市越秀区淘金北路淘金坑淘金坑小区27号503   Page3\n",
      "广州市越秀区淘金北路淘金坑淘金坑小区27号601   Page3\n",
      "广州市越秀区淘金北路淘金坑淘金坑小区27号602   Page3\n",
      "stop at Page3\n",
      "sum:24\n",
      "end Page3\n"
     ]
    }
   ],
   "source": [
    "import requests\n",
    "import json\n",
    "import urllib\n",
    "cn_glode_rp=10\n",
    "\n",
    "cn_input=raw_input(\"please input keyword:\")\n",
    "cn_q=urllib.quote(cn_input)\n",
    "#print cn_q\n",
    "#print cn_input\n",
    "cn_data={'rp':str(cn_glode_rp),'page':'1','addrSearchName':cn_q,'sortname':'undefined','sortorder':'undefined','query':'','qtype':'','newAddrld':'','addrGrade':'7','searchByDb':'0'}\n",
    "r=requests.post(\"http://10.243.167.54:8082/intf/address/proxy.do?regionid=200&op=searchByIndex&needTotal=Y\",data=cn_data)\n",
    "jd=json.loads(r.text)\n",
    "\n",
    "i=jd['total']\n",
    "print 'total:'+str(i)\n",
    "\n",
    "if i<=cn_glode_rp:\n",
    "    j=1\n",
    "else:\n",
    "    j=i/cn_glode_rp+1\n",
    "    if j>100: #load page more than 10 page ,then MAX 10 page\n",
    "        j=100\n",
    "print 'total Page'+str(j)\n",
    "k=1\n",
    "k_temp=1\n",
    "l=1\n",
    "m=0\n",
    "store=[]\n",
    "while k<=j:\n",
    "    if k>1:\n",
    "        cn_data={'rp':str(cn_glode_rp),'page':str(k),'addrSearchName':cn_q,'sortname':'undefined','sortorder':'undefined','query':'','qtype':'','newAddrld':'','addrGrade':'7','searchByDb':'0'}\n",
    "        r=requests.post(\"http://10.243.167.54:8082/intf/address/proxy.do?regionid=200&op=searchByIndex&needTotal=Y\",data=cn_data)\n",
    "        jd=json.loads(r.text)\n",
    "    \n",
    "    for temp1 in jd['result']:     \n",
    "        if cn_input.decode('utf8') in temp1['addr']: \n",
    "            if temp1['addr'] in store:\n",
    "                continue\n",
    "            else:\n",
    "                store.append(temp1['addr'])\n",
    "                print temp1['addr']+'   '+u'Page'+str(k)\n",
    "                m=m+1\n",
    "                \n",
    "        else:           \n",
    "            print 'stop at Page'+str(k)\n",
    "            k=j+1\n",
    "            break\n",
    "    \n",
    "    if k_temp/(10*l)==1:\n",
    "        print str(k_temp*cn_glode_rp)+'/'+str(cn_glode_rp*j)\n",
    "        l=l+1\n",
    "    k=k+1\n",
    "    k_temp=k_temp+1\n",
    "print 'sum:'+str(m)\n",
    "print 'end Page'+str(k_temp-1)"
   ]
  },
  {
   "cell_type": "code",
   "execution_count": null,
   "metadata": {
    "collapsed": true
   },
   "outputs": [],
   "source": []
  }
 ],
 "metadata": {
  "kernelspec": {
   "display_name": "Python 2",
   "language": "python",
   "name": "python2"
  },
  "language_info": {
   "codemirror_mode": {
    "name": "ipython",
    "version": 2
   },
   "file_extension": ".py",
   "mimetype": "text/x-python",
   "name": "python",
   "nbconvert_exporter": "python",
   "pygments_lexer": "ipython2",
   "version": "2.7.10"
  }
 },
 "nbformat": 4,
 "nbformat_minor": 0
}
