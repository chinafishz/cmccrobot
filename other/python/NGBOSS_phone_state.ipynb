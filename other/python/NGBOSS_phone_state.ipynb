{
 "cells": [
  {
   "cell_type": "code",
   "execution_count": 1,
   "metadata": {},
   "outputs": [
    {
     "name": "stderr",
     "output_type": "stream",
     "text": [
      "/home/chinafishz/opt/anaconda/lib/python3.6/site-packages/requests/packages/urllib3/connectionpool.py:852: InsecureRequestWarning: Unverified HTTPS request is being made. Adding certificate verification is strongly advised. See: https://urllib3.readthedocs.io/en/latest/advanced-usage.html#ssl-warnings\n",
      "  InsecureRequestWarning)\n",
      "/home/chinafishz/opt/anaconda/lib/python3.6/site-packages/requests/packages/urllib3/connectionpool.py:852: InsecureRequestWarning: Unverified HTTPS request is being made. Adding certificate verification is strongly advised. See: https://urllib3.readthedocs.io/en/latest/advanced-usage.html#ssl-warnings\n",
      "  InsecureRequestWarning)\n"
     ]
    },
    {
     "name": "stdout",
     "output_type": "stream",
     "text": [
      "-7831419475888638222\n"
     ]
    },
    {
     "name": "stderr",
     "output_type": "stream",
     "text": [
      "/home/chinafishz/opt/anaconda/lib/python3.6/site-packages/requests/packages/urllib3/connectionpool.py:852: InsecureRequestWarning: Unverified HTTPS request is being made. Adding certificate verification is strongly advised. See: https://urllib3.readthedocs.io/en/latest/advanced-usage.html#ssl-warnings\n",
      "  InsecureRequestWarning)\n",
      "/home/chinafishz/opt/anaconda/lib/python3.6/site-packages/requests/packages/urllib3/connectionpool.py:852: InsecureRequestWarning: Unverified HTTPS request is being made. Adding certificate verification is strongly advised. See: https://urllib3.readthedocs.io/en/latest/advanced-usage.html#ssl-warnings\n",
      "  InsecureRequestWarning)\n",
      "/home/chinafishz/opt/anaconda/lib/python3.6/site-packages/requests/packages/urllib3/connectionpool.py:852: InsecureRequestWarning: Unverified HTTPS request is being made. Adding certificate verification is strongly advised. See: https://urllib3.readthedocs.io/en/latest/advanced-usage.html#ssl-warnings\n",
      "  InsecureRequestWarning)\n",
      "/home/chinafishz/opt/anaconda/lib/python3.6/site-packages/requests/packages/urllib3/connectionpool.py:852: InsecureRequestWarning: Unverified HTTPS request is being made. Adding certificate verification is strongly advised. See: https://urllib3.readthedocs.io/en/latest/advanced-usage.html#ssl-warnings\n",
      "  InsecureRequestWarning)\n",
      "/home/chinafishz/opt/anaconda/lib/python3.6/site-packages/requests/packages/urllib3/connectionpool.py:852: InsecureRequestWarning: Unverified HTTPS request is being made. Adding certificate verification is strongly advised. See: https://urllib3.readthedocs.io/en/latest/advanced-usage.html#ssl-warnings\n",
      "  InsecureRequestWarning)\n"
     ]
    },
    {
     "name": "stdout",
     "output_type": "stream",
     "text": [
      "已经发送短信验证码\n",
      "验证码:321268\n",
      "正在登陆，请稍后...\n"
     ]
    },
    {
     "name": "stderr",
     "output_type": "stream",
     "text": [
      "/home/chinafishz/opt/anaconda/lib/python3.6/site-packages/requests/packages/urllib3/connectionpool.py:852: InsecureRequestWarning: Unverified HTTPS request is being made. Adding certificate verification is strongly advised. See: https://urllib3.readthedocs.io/en/latest/advanced-usage.html#ssl-warnings\n",
      "  InsecureRequestWarning)\n",
      "/home/chinafishz/opt/anaconda/lib/python3.6/site-packages/requests/packages/urllib3/connectionpool.py:852: InsecureRequestWarning: Unverified HTTPS request is being made. Adding certificate verification is strongly advised. See: https://urllib3.readthedocs.io/en/latest/advanced-usage.html#ssl-warnings\n",
      "  InsecureRequestWarning)\n",
      "/home/chinafishz/opt/anaconda/lib/python3.6/site-packages/requests/packages/urllib3/connectionpool.py:852: InsecureRequestWarning: Unverified HTTPS request is being made. Adding certificate verification is strongly advised. See: https://urllib3.readthedocs.io/en/latest/advanced-usage.html#ssl-warnings\n",
      "  InsecureRequestWarning)\n",
      "/home/chinafishz/opt/anaconda/lib/python3.6/site-packages/requests/packages/urllib3/connectionpool.py:852: InsecureRequestWarning: Unverified HTTPS request is being made. Adding certificate verification is strongly advised. See: https://urllib3.readthedocs.io/en/latest/advanced-usage.html#ssl-warnings\n",
      "  InsecureRequestWarning)\n",
      "/home/chinafishz/opt/anaconda/lib/python3.6/site-packages/requests/packages/urllib3/connectionpool.py:852: InsecureRequestWarning: Unverified HTTPS request is being made. Adding certificate verification is strongly advised. See: https://urllib3.readthedocs.io/en/latest/advanced-usage.html#ssl-warnings\n",
      "  InsecureRequestWarning)\n",
      "/home/chinafishz/opt/anaconda/lib/python3.6/site-packages/requests/packages/urllib3/connectionpool.py:852: InsecureRequestWarning: Unverified HTTPS request is being made. Adding certificate verification is strongly advised. See: https://urllib3.readthedocs.io/en/latest/advanced-usage.html#ssl-warnings\n",
      "  InsecureRequestWarning)\n",
      "/home/chinafishz/opt/anaconda/lib/python3.6/site-packages/requests/packages/urllib3/connectionpool.py:852: InsecureRequestWarning: Unverified HTTPS request is being made. Adding certificate verification is strongly advised. See: https://urllib3.readthedocs.io/en/latest/advanced-usage.html#ssl-warnings\n",
      "  InsecureRequestWarning)\n",
      "/home/chinafishz/opt/anaconda/lib/python3.6/site-packages/requests/packages/urllib3/connectionpool.py:852: InsecureRequestWarning: Unverified HTTPS request is being made. Adding certificate verification is strongly advised. See: https://urllib3.readthedocs.io/en/latest/advanced-usage.html#ssl-warnings\n",
      "  InsecureRequestWarning)\n",
      "/home/chinafishz/opt/anaconda/lib/python3.6/site-packages/requests/packages/urllib3/connectionpool.py:852: InsecureRequestWarning: Unverified HTTPS request is being made. Adding certificate verification is strongly advised. See: https://urllib3.readthedocs.io/en/latest/advanced-usage.html#ssl-warnings\n",
      "  InsecureRequestWarning)\n",
      "/home/chinafishz/opt/anaconda/lib/python3.6/site-packages/requests/packages/urllib3/connectionpool.py:852: InsecureRequestWarning: Unverified HTTPS request is being made. Adding certificate verification is strongly advised. See: https://urllib3.readthedocs.io/en/latest/advanced-usage.html#ssl-warnings\n",
      "  InsecureRequestWarning)\n",
      "/home/chinafishz/opt/anaconda/lib/python3.6/site-packages/requests/packages/urllib3/connectionpool.py:852: InsecureRequestWarning: Unverified HTTPS request is being made. Adding certificate verification is strongly advised. See: https://urllib3.readthedocs.io/en/latest/advanced-usage.html#ssl-warnings\n",
      "  InsecureRequestWarning)\n"
     ]
    },
    {
     "name": "stdout",
     "output_type": "stream",
     "text": [
      "{'data': [{'driverType': 'CUSTOM_BOSS_SYSTEM', 'idName': '34de96aaa2874d649a4f929e7480442b#BOSS', 'resNUM': 'BOSSAPP', 'loginURL': 'http://gz.boss.gmcc.net/boss/index2.jsp', 'hasDueAcc': False, 'ip': '10.243.211.131', 'appResClientList': '5L|GwebAppByIEL|GwebAppByIEL|GL|GlocalL|G', 'groupName': '业务支持中心--专业系统--BOSS系统--华为BOSS前台', 'name': 'BOSS', 'appResAccountList': '41a48a0604bd47448fd62c1c2ef9911fL|GL|G0L|GAGZGT0000829L|Gnull', 'isSsoService': 'yes', 'isUserDefine': 'no', 'ssoMode': 'ticket', 'hasAccount': True, 'restype': '应用资源', 'id': '34de96aaa2874d649a4f929e7480442b'}, {'driverType': 'APPRESOURCE', 'idName': '72e09b98b7c84a41b13b9f3bcfca693f#业支NGESOP', 'resNUM': 'YZNGESOPFOSHAN', 'loginURL': 'http://ngesop.boss.gmcc.net/csp/bsf/from4ALogin.action', 'hasDueAcc': False, 'ip': '10.243.215.225', 'appResClientList': '5L|GwebAppByIEL|GwebAppByIEL|GL|GlocalL|G', 'groupName': '业务支持中心--专业系统--NGESOP--NGESOP前台', 'name': '业支NGESOP', 'appResAccountList': '0b82c939f4ef497a8cea8397e6d898d2L|G1111L|G0L|GAGZGT0000829L|Gnull', 'isSsoService': 'yes', 'isUserDefine': 'no', 'ssoMode': 'ticket', 'hasAccount': True, 'restype': '应用资源', 'id': '72e09b98b7c84a41b13b9f3bcfca693f'}, {'driverType': 'APPRESOURCE', 'idName': 'c930f75e6cfd40de875430ae2843fafa#广东移动NGESOP系统', 'resNUM': 'NGESOP_KRF5', 'loginURL': 'http://esop.boss.gmcc.net/csp/bsf/from4ALogin.action', 'hasDueAcc': False, 'ip': '10.252.150.131', 'appResClientList': '5L|GwebAppByIEL|GwebAppByIEL|GL|GlocalL|G', 'groupName': '业务支持中心--专业系统--NGESOP--NGESOP前台_新', 'name': '广东移动NGESOP系统', 'appResAccountList': '08fab4dce4d144ceb2ad51ebe37e66bdL|G1111L|GnullL|GAGZGT0000829L|Gnull', 'isSsoService': 'yes', 'isUserDefine': 'no', 'ssoMode': 'ticket', 'hasAccount': True, 'restype': '应用资源', 'id': 'c930f75e6cfd40de875430ae2843fafa'}, {'driverType': 'CUSTOM_SJWG_SYSTEM', 'idName': 'bcae27c1375f4afe9534ec110a3d9955#已失效1', 'resNUM': 'WWNOAS_1', 'loginURL': 'http://10.201.63.100_1', 'hasDueAcc': False, 'ip': '10.201.63.100', 'appResClientList': '', 'groupName': '省网管维护中心--性能管理室--信令监测--应用层系统--集中性能管理系统', 'name': '已失效1', 'appResAccountList': '2197775afaba4dcfa5af99ba1fac7db8L|GL|G1L|GshizhongxiaL|Gnull', 'isSsoService': 'yes', 'isUserDefine': 'no', 'ssoMode': 'ticket', 'hasAccount': True, 'restype': '应用资源', 'id': 'bcae27c1375f4afe9534ec110a3d9955'}, {'driverType': 'APPRESOURCE', 'idName': '318c665182814a85a9ea35efe6573185#广州NGBOSS前台', 'resNUM': 'YZNGBOSSGUANGZHOU', 'loginURL': 'http://10.252.17.241:80/csp/bsf/from4ALogin.action', 'hasDueAcc': False, 'ip': '10.252.17.241', 'appResClientList': '5L|GwebAppByIEL|GwebAppByIEL|GL|GlocalL|G', 'groupName': '业务支持中心--专业系统--NGBOSS--广州NGBOSS前台', 'name': '广州NGBOSS前台', 'appResAccountList': '32d659d1e5af4deb9a94447357e828c4L|G1111L|GnullL|GAGZGT0000829L|Gnull', 'isSsoService': 'yes', 'isUserDefine': 'no', 'ssoMode': 'ticket', 'hasAccount': True, 'restype': '应用资源', 'id': '318c665182814a85a9ea35efe6573185'}, {'driverType': 'APPRESOURCE', 'idName': '9ac7827d64ce46a59f49109fef386276#ESOP应用系统', 'resNUM': 'ESOPAPP', 'loginURL': 'http://esop.boss.gmcc.net/esop/PortalCRM.action?intcommandid=System4APlat', 'hasDueAcc': False, 'ip': '10.243.215.60', 'appResClientList': '5L|GwebAppByIEL|GwebAppByIEL|GL|GlocalL|G', 'groupName': '业务支持中心--专业系统--ESOP前台', 'name': 'ESOP应用系统', 'appResAccountList': '23c0f866dc5e42e2a313302d1d2f5ecdL|GL|G9L|GAGZGT0000829L|Gnull', 'isSsoService': 'yes', 'isUserDefine': 'no', 'ssoMode': 'ticket', 'hasAccount': True, 'restype': '应用资源', 'id': '9ac7827d64ce46a59f49109fef386276'}], 'pageInfo': {'pageSize': 50, 'totalRowNum': 6, 'pageNum': 1}}\n",
      "32d659d1e5af4deb9a94447357e828c4L|G1111L|GnullL|GAGZGT0000829L|Gnull\n",
      "-----------测试是否登陆BOSS成功-----------\n"
     ]
    },
    {
     "name": "stderr",
     "output_type": "stream",
     "text": [
      "/home/chinafishz/opt/anaconda/lib/python3.6/site-packages/requests/packages/urllib3/connectionpool.py:852: InsecureRequestWarning: Unverified HTTPS request is being made. Adding certificate verification is strongly advised. See: https://urllib3.readthedocs.io/en/latest/advanced-usage.html#ssl-warnings\n",
      "  InsecureRequestWarning)\n",
      "/home/chinafishz/opt/anaconda/lib/python3.6/site-packages/requests/packages/urllib3/connectionpool.py:852: InsecureRequestWarning: Unverified HTTPS request is being made. Adding certificate verification is strongly advised. See: https://urllib3.readthedocs.io/en/latest/advanced-usage.html#ssl-warnings\n",
      "  InsecureRequestWarning)\n",
      "/home/chinafishz/opt/anaconda/lib/python3.6/site-packages/requests/packages/urllib3/connectionpool.py:852: InsecureRequestWarning: Unverified HTTPS request is being made. Adding certificate verification is strongly advised. See: https://urllib3.readthedocs.io/en/latest/advanced-usage.html#ssl-warnings\n",
      "  InsecureRequestWarning)\n",
      "/home/chinafishz/opt/anaconda/lib/python3.6/site-packages/requests/packages/urllib3/connectionpool.py:852: InsecureRequestWarning: Unverified HTTPS request is being made. Adding certificate verification is strongly advised. See: https://urllib3.readthedocs.io/en/latest/advanced-usage.html#ssl-warnings\n",
      "  InsecureRequestWarning)\n",
      "/home/chinafishz/opt/anaconda/lib/python3.6/site-packages/requests/packages/urllib3/connectionpool.py:852: InsecureRequestWarning: Unverified HTTPS request is being made. Adding certificate verification is strongly advised. See: https://urllib3.readthedocs.io/en/latest/advanced-usage.html#ssl-warnings\n",
      "  InsecureRequestWarning)\n"
     ]
    }
   ],
   "source": [
    "import cn_class_4alogin\n",
    "import requests\n",
    "import sys\n",
    "\n",
    "\n",
    "\n",
    "r=requests.session()\n",
    "header={'User-Agent':'Mozilla/5.0 (X11; Linux x86_64; rv:44.0) Gecko/20100101 Firefox/44.0','Accept-Language':'en-US,en;q=0.5'}\n",
    "\n",
    "json2=cn_class_4alogin.cn_4ALogin(r,'qWER1234','41608446240A6782F2A0F031426EDC066CF24674F3F0586AF1E3983438A09296AE43CD3FF48B98732AFC16E3455713846069ED5C9B03B580')\n",
    "cn_class_4alogin.cn_BossLogin(r,json2)"
   ]
  },
  {
   "cell_type": "code",
   "execution_count": 2,
   "metadata": {
    "collapsed": true
   },
   "outputs": [],
   "source": [
    "#看出号码状态\n",
    "from bs4  import BeautifulSoup\n",
    "import random\n",
    "\n",
    "def cn_phone_status(r,cn_phoneNum):\n",
    "    header={'User-Agent':'Mozilla/5.0 (compatible; MSIE 10.0; Windows NT 6.2; WOW64; Trident/6.0; SE 2.X MetaSr 1.0)','Accept':'*/*','Accept-Language':'zh-cn','Accept-Encoding':'gzip, deflate'}\n",
    "    cn_random='0.'+str(random.randint(100000000000000,999999999999999))+str(random.randint(1,9))\n",
    "    result=r.post('http://10.252.17.241/ngcustcare/chargesrv/common/qryRelateSubs.action?servNumber='+cn_phoneNum+'&isSupportGrp=undefined&random='+cn_random,headers=header)\n",
    "    soup=BeautifulSoup(result.text,'lxml')\n",
    "#     print soup\n",
    "    return soup.find(attrs={\"name\":\"status\"}).attrs['value']\n"
   ]
  },
  {
   "cell_type": "code",
   "execution_count": 4,
   "metadata": {},
   "outputs": [
    {
     "data": {
      "text/plain": [
       "'US10'"
      ]
     },
     "execution_count": 4,
     "metadata": {},
     "output_type": "execute_result"
    }
   ],
   "source": [
    "cn_phone_status(r,'1064715292945')"
   ]
  },
  {
   "cell_type": "code",
   "execution_count": 14,
   "metadata": {
    "scrolled": true
   },
   "outputs": [
    {
     "name": "stdout",
     "output_type": "stream",
     "text": [
      "511\n",
      "50\n",
      "100\n",
      "150\n",
      "200\n",
      "250\n",
      "300\n",
      "350\n",
      "400\n",
      "450\n",
      "500\n",
      "========end=============\n"
     ]
    }
   ],
   "source": [
    "import time\n",
    "from datetime import datetime\n",
    "import os\n",
    "import sys\n",
    "\n",
    "cn_list='1064715295071;1064715295069;1064715293703;1064715294959;1064715302143;1064715294954;1064715294968;1064715293244;1064715294953;1064715294964;1064715293855;1064715294515;1064715294752;1064715293826;1064715294910;1064715294747;1064715294077;1064715294516;1064715293852;1064715292364;1064715294922;1064715294912;1064715294056;1064715293255;1064715294433;1064715293702;1064715294050;1064715293853;1064715293833;1064715294065;1064715294749;1064715293854;1064715294519;1064715294911;1064715294431;1064715294075;1064715292359;1064715294071;1064715293695;1064715293819;1064715294909;1064715293693;1064715293691;1064715294434;1064715293694;1064715294062;1064715294076;1064715294055;1064715294430;1064715293208;1064715294048;1064715294074;1064715293823;1064715293832;1064715294069;1064715294428;1064715294073;1064715293830;1064715293700;1064715294047;1064715292360;1064715294066;1064715294059;1064715293701;1064715294072;1064715293829;1064715293825;1064715294051;1064715294058;1064715293256;1064715293205;1064715294085;1064715294084;1064715293822;1064715293202;1064715293201;1064715293258;1064715293692;1064715292365;1064715293697;1064715293210;1064715292361;1064715293206;1064715293704;1064715292357;1064715293259;1064715293203;1064715293207;1064715292358;1064715292363;1064715293548;1064715292691;1064715294684;1064715294672;1064715292693;1064715294678;1064715294809;1064715294682;1064715293539;1064715292816;1064715292690;1064715293560;1064715292695;1064715294689;1064715294526;1064715293554;1064715293714;1064715292701;1064715302083;1064715294669;1064715294685;1064715292803;1064715292688;1064715292679;1064715294677;1064715292826;1064715292805;1064715294686;1064715293543;1064715293556;1064715292530;1064715293561;1064715292580;1064715292352;1064715294681;1064715293541;1064715294680;1064715292572;1064715294697;1064715292699;1064715292336;1064715292598;1064715292592;1064715292585;1064715294531;1064715293552;1064715292586;1064715292823;1064715292825;1064715292799;1064715293537;1064715292354;1064715292343;1064715293721;1064715293713;1064715292340;1064715292339;1064715292348;1064715293712;1064715292807;1064715292577;1064715293718;1064715293551;1064715292685;1064715292815;1064715293549;1064715292808;1064715292704;1064715293558;1064715293716;1064715292595;1064715292824;1064715292579;1064715293717;1064715292802;1064715293723;1064715292686;1064715293725;1064715292700;1064715292817;1064715292678;1064715293722;1064715292677;1064715293715;1064715292338;1064715293557;1064715292571;1064715292697;1064715292806;1064715292813;1064715292812;1064715292694;1064715292818;1064715292345;1064715292684;1064715292800;1064715292702;1064715292692;1064715292698;1064715292819;1064715292596;1064715292810;1064715292570;1064715292680;1064715292575;1064715292582;1064715292703;1064715292576;1064715292346;1064715292591;1064715292683;1064715292593;1064715292583;1064715292337;1064715292587;1064715292578;1064715292341;1064715292342;1064715292347;1064715302304;1064715292963;1064715293970;1064715293765;1064715292707;1064715293532;1064715293600;1064715294795;1064715294145;1064715293274;1064715293270;1064715294143;1064715294144;1064715293763;1064715293598;1064715292986;1064715292410;1064715292985;1064715292922;1064715294560;1064715293415;1064715293078;1064715293057;1064715293933;1064715293069;1064715293958;1064715295039;1064715293066;1064715292444;1064715293917;1064715295025;1064715295004;1064715293420;1064715293921;1064715294346;1064715292473;1064715294578;1064715293955;1064715294340;1064715292775;1064715295031;1064715294601;1064715293934;1064715294579;1064715294333;1064715292126;1064715293033;1064715292140;1064715292467;1064715292438;1064715293059;1064715292144;1064715294598;1064715292471;1064715292448;1064715293928;1064715292219;1064715292482;1064715294564;1064715293038;1064715293923;1064715293942;1064715292222;1064715292443;1064715293073;1064715294561;1064715293041;1064715293927;1064715292135;1064715293425;1064715294570;1064715294568;1064715294347;1064715293035;1064715294369;1064715293920;1064715293416;1064715292451;1064715294364;1064715292445;1064715293424;1064715292143;1064715293061;1064715294354;1064715292450;1064715293957;1064715293922;1064715292463;1064715292452;1064715293926;1064715293449;1064715293444;1064715292221;1064715292142;1064715292205;1064715293434;1064715292145;1064715293401;1064715293925;1064715294360;1064715294365;1064715293402;1064715294152;1064715293431;1064715292201;1064715292129;1064715293418;1064715293068;1064715293429;1064715293077;1064715293036;1064715295013;1064715292203;1064715293421;1064715292214;1064715293076;1064715293448;1064715293404;1064715293405;1064715293419;1064715292197;1064715292447;1064715292202;1064715293053;1064715292481;1064715293945;1064715292211;1064715293960;1064715292464;1064715293949;1064715293437;1064715293074;1064715293084;1064715292134;1064715293411;1064715293951;1064715293085;1064715293062;1064715293088;1064715293441;1064715292472;1064715293446;1064715292455;1064715293439;1064715293442;1064715292465;1064715293435;1064715293080;1064715293058;1064715293090;1064715292136;1064715292440;1064715293082;1064715292469;1064715292224;1064715292441;1064715292442;1064715292199;1064715293081;1064715292128;1064715292458;1064715292212;1064715292476;1064715292461;1064715292479;1064715293072;1064715292127;1064715292460;1064715292483;1064715292484;1064715292485;1064715292454;1064715292475;1064715292225;1064715292462;1064715292209;1064715292207;1064715292139;1064715292132;1064715292130;1064715292141;1064715292131;1064715292200;1064715292220;1064715292138;1064715295041;1064715293395;1064715293163;1064715293152;1064715293159;1064715292153;1064715293901;1064715293369;1064715293913;1064715292728;1064715292716;1064715293153;1064715292713;1064715292725;1064715292719;1064715293371;1064715293359;1064715292112;1064715293397;1064715293362;1064715292146;1064715292098;1064715293897;1064715292150;1064715293914;1064715293393;1064715292393;1064715293381;1064715293900;1064715293383;1064715293906;1064715293376;1064715292723;1064715292149;1064715292395;1064715293896;1064715293377;1064715292094;1064715293910;1064715293352;1064715293909;1064715293889;1064715293145;1064715293150;1064715292709;1064715292096;1064715293887;1064715293911;1064715292721;1064715293160;1064715293915;1064715292106;1064715293890;1064715293157;1064715293165;1064715293367;1064715293354;1064715292718;1064715293164;1064715293399;1064715292152;1064715293158;1064715293161;1064715293156;1064715292404;1064715292100;1064715292148;1064715292388;1064715292113;1064715292710;1064715292108;1064715292400;1064715292111;1064715292711;1064715292386;1064715292396;1064715292715;1064715292726;1064715292104;1064715292387;1064715292399;1064715292714;1064715292712;1064715292102;1064715292398;1064715292389;1064715292720;1064715292109;1064715292110;1064715292391;1064715292403;1064715292392;1064715292394;1064715292397;1064715292151;1064715292390;1064715292402;1064715292105;1064715292195;1064715292401;1064715292101;1064715292114;1064715292155;1064715292320;1064715292322;1064715302067;1064715294166;1064715294170;1064715292323;1064715292318;1064715292789;1064715292319;1064715292317;1064715292316;1064715292326;1064715294139;1064715293685'\n",
    "a=cn_list.split(';')\n",
    "cn_a_count=len(a)\n",
    "print(cn_a_count)\n",
    "i=0\n",
    "for cn_phonNnum in a:\n",
    "    i=i+1\n",
    "    status=cn_phone_status(r,cn_phonNnum)\n",
    "    cn_file=open('abc','a')\n",
    "    cn_file.write(\"\\n\"+str(i)+','+str(cn_phonNnum)+','+status)\n",
    "    cn_file.close()\n",
    "    \n",
    "    if(i%50==0):\n",
    "        print(i)\n",
    "    time.sleep(1)\n",
    "cn_file=open('abc','a')\n",
    "cn_file.write(\"\\n=========end===========\")  \n",
    "cn_file.close()\n",
    "print('========end=============')"
   ]
  },
  {
   "cell_type": "code",
   "execution_count": null,
   "metadata": {
    "collapsed": true
   },
   "outputs": [],
   "source": []
  }
 ],
 "metadata": {
  "anaconda-cloud": {},
  "kernelspec": {
   "display_name": "Python 3",
   "language": "python",
   "name": "python3"
  },
  "language_info": {
   "codemirror_mode": {
    "name": "ipython",
    "version": 3
   },
   "file_extension": ".py",
   "mimetype": "text/x-python",
   "name": "python",
   "nbconvert_exporter": "python",
   "pygments_lexer": "ipython3",
   "version": "3.6.1"
  }
 },
 "nbformat": 4,
 "nbformat_minor": 1
}
