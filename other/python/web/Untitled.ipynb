{
 "cells": [
  {
   "cell_type": "code",
   "execution_count": null,
   "metadata": {
    "collapsed": true
   },
   "outputs": [],
   "source": [
    "aa='''<!DOCTYPE html>\n",
    "<html lang=\"zh-CN\">\n",
    "\t<head>\n",
    "\t\t<meta charset=\"utf-8\">\n",
    "\t\t<link rel=\"stylesheet\" href=\"https://cdn.bootcss.com/bootstrap/3.3.7/css/bootstrap.min.css\" integrity=\"sha384-BVYiiSIFeK1dGmJRAkycuHAHRg32OmUcww7on3RYdg4Va+PmSTsz/K68vbdEjh4u\" crossorigin=\"anonymous\">\t\t\n",
    "\t\t<meta name=\"viewport\" content=\"width=device-width, initial-scale=1, maximum-scale=1, user-scalable=no\">\n",
    "\t\t<style>\n",
    "\t\t\tbody\n",
    "\t\t\t{\n",
    "\t\t\t\tbackground-color:#EAEAEA;\n",
    "\t\t\t}\n",
    "\t\t\t.cn_font_1 \n",
    "\t\t\t{\n",
    "\t\t\t\tcolor:#1E90FF;\n",
    "\t\t\t\tfont-size:26px;\n",
    "\t\t\t\tletter-spacing: 1px;\n",
    "\t\t\t\ttext-align:center;\n",
    "\t\t\t\tmargin:25px 0px 0px;\n",
    "\t\t\t}\n",
    "\t\t\t.cn_font_2\n",
    "\t\t\t{\n",
    "\t\t\t\tfont-size:20px;\n",
    "\t\t\t\tletter-spacing: 0px;\n",
    "\t\t\t\ttext-align:center;\n",
    "\t\t\t\tmargin:15px 0px 0px;\n",
    "\t\t\t}\n",
    "\t\t\t.cn_font_3\n",
    "\t\t\t{\n",
    "\t\t\t\tcolor: #FF8C00;\n",
    "\t\t\t\tletter-spacing: 1px;\n",
    "\t\t\t\ttext-align:right;\n",
    "\t\t\t\tmargin: 0px 0px 0px;\n",
    "\t\t\t}\n",
    "\t\t\t.cn_font_4\n",
    "\t\t\t{\n",
    "\t\t\t\tcolor: #8B8878;\n",
    "\t\t\t\tletter-spacing: 1px;\n",
    "\t\t\t\ttext-align:right;\n",
    "\t\t\t\tmargin: 10px 0px 5px;\n",
    "\t\t\t}\n",
    "\t\t</style>\n",
    "\t</head>\n",
    "\t<body>\n",
    "\t\t<div class=\"container-fluid\">\n",
    "\t\t\t<p></p>\n",
    "\t\t\t<p class=\"text-center\">10649XXXXXXX <label><span class=\"glyphicon glyphicon-repeat\" aria-hidden=\"true\"></span></label></p>  \n",
    "\t\t</div>\n",
    "\t\t\n",
    "\t\t<div class=\"container-fluid\" style=\"background-color:white\">\n",
    "\t\t\t<div class=\"container-fluid\">\n",
    "\t\t\t\t<p><label class=\"cn_font_1\">剩余流量：500M</label></p>\n",
    "\t\t\t\t<label><h6 class=\"cn_font_4\">截止至2017年9日29日</h6></label>\n",
    "\t\t\t</div>\n",
    "\t\t\t<div class=\"container-fluid\">\n",
    "\t\t\t\t<p><label class=\"cn_font_2\">预计剩余：500M</label></p>\n",
    "\t\t\t\t<a class=\"cn_font_3\"><h6>流量明细</h6></a>\n",
    "\t\t\t</div>\n",
    "\t\t</div>\n",
    "\t\t\n",
    "\n",
    "\t\t<div class=\"container-fluid\">\n",
    "\t\t\t<p><h1></h1></p>\n",
    "\t\t</div>\n",
    "\t\t\n",
    "\t\t\n",
    "\t\t<div class=\"row\" style=\"background-color:white\">\n",
    "  \t\t\t<div class=\"col-xs-4\"><p class=\"text-center cn_font_4\">标清预计可用</p></div>\n",
    "  \t\t\t<div class=\"col-xs-4\"><p class=\"text-center cn_font_4\">高清预计可用</p></div>\n",
    "  \t\t\t<div class=\"col-xs-4\"><p class=\"text-center cn_font_4\">超清预计可用</p></div>\n",
    "\t\t</div>\n",
    "\t\t<div class=\"row\" style=\"background-color:white\">\n",
    "  \t\t\t<div class=\"col-xs-4\"><p class=\"text-center\">60 Min</p></div>\n",
    "  \t\t\t<div class=\"col-xs-4\"><p class=\"text-center\">35 Min</p></div>\n",
    "  \t\t\t<div class=\"col-xs-4\"><p class=\"text-center\">20 Min</p></div>\n",
    "\t\t</div>\n",
    "\n",
    "\t\t<div class=\"container-fluid\">\n",
    "\t\t\t<p><h1></h1></p>\n",
    "\n",
    "\t\t</div>\n",
    "\t\t\n",
    "\t\t<div class=\"container-fluid\">\n",
    "\t\t<div class=\"row\" style=\"background-color:white\">\n",
    "\t\t\t<ul class=\"nav nav-pills nav-stacked\">\n",
    "\t\t\t\t<li role=\"presentation\"><p>  </p><a href=\"#\">充流量</a></li>\n",
    "\t\t\t\t<li role=\"presentation\"><a href=\"#\">可用性检查</a></li>\n",
    "\t\t\t\t<li role=\"presentation\"><a href=\"#\">账户信息</a></li>\n",
    "\t\t\t\t<li role=\"presentation\"><a href=\"#\">帮助</a></li>\n",
    "\t\t\t</ul>\n",
    "\t\t</div>\n",
    "\t\t</div>\n",
    "\t</body>\n",
    "</html>'''"
   ]
  },
  {
   "cell_type": "code",
   "execution_count": null,
   "metadata": {},
   "outputs": [],
   "source": [
    "from flask import Flask, jsonify\n",
    "\n",
    "app = Flask(__name__)\n",
    "\n",
    "@app.route('/index')\n",
    "def index():\n",
    "    return aa\n",
    "\n",
    "if __name__ == '__main__':\n",
    "    app.run(host='127.0.0.1', port=29933)\n"
   ]
  },
  {
   "cell_type": "code",
   "execution_count": 7,
   "metadata": {},
   "outputs": [
    {
     "data": {
      "text/plain": [
       "UUID('1ed46257-f9e7-45eb-8771-c137c299fd0f')"
      ]
     },
     "execution_count": 7,
     "metadata": {},
     "output_type": "execute_result"
    }
   ],
   "source": [
    "from uuid import uuid4\n",
    "uuid4()"
   ]
  }
 ],
 "metadata": {
  "kernelspec": {
   "display_name": "Python 3",
   "language": "python",
   "name": "python3"
  },
  "language_info": {
   "codemirror_mode": {
    "name": "ipython",
    "version": 3
   },
   "file_extension": ".py",
   "mimetype": "text/x-python",
   "name": "python",
   "nbconvert_exporter": "python",
   "pygments_lexer": "ipython3",
   "version": "3.6.1"
  }
 },
 "nbformat": 4,
 "nbformat_minor": 2
}
