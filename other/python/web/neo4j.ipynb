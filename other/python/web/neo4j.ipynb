{
 "cells": [
  {
   "cell_type": "code",
   "execution_count": null,
   "metadata": {
    "collapsed": true
   },
   "outputs": [],
   "source": [
    "from neo4j.v1 import GraphDatabase\n",
    "uri = \"bolt://23.83.231.35:7687\"\n",
    "driver = GraphDatabase.driver(uri, auth=(\"chinafishz\", \"qWer1@34\"))\n",
    "def create_node(cn_name, cn_lable):\n",
    "    with driver.session() as session:\n",
    "        with session.begin_transaction() as tx:\n",
    "            statement = \"CREATE (a:\" + cn_lable + \"{name:{name}})\"\n",
    "            a = tx.run(statement, name=cn_name)\n",
    "            print(a)\n",
    "\n",
    "def match_node(cn_name):\n",
    "    with driver.session() as session:\n",
    "        with session.begin_transaction() as tx:\n",
    "            cn_result=[]\n",
    "            cn_temp1=cn_name.split()\n",
    "            cn_temp2=len(cn_temp1)\n",
    "            if(cn_temp2==1):\n",
    "                statement = \"match (a) where a.name={name} return a\"\n",
    "                a = tx.run(statement, name=cn_name)\n",
    "\n",
    "            elif(cn_temp2>1):\n",
    "                cn_temp3=\"a.name='99999'\"\n",
    "                for i in cn_temp1:\n",
    "                    cn_temp3=cn_temp3+\" or a.name='\"+i+\"'\"\n",
    "                statement = \"match (a) where \"+cn_temp3+\" return a\"\n",
    "                a = tx.run(statement)\n",
    "            for i in a:\n",
    "                cn_result.append(i)\n",
    "            return cn_result\n",
    "\n",
    "\n",
    "# a='面、毛、唇、爪、发'\n",
    "# for i in a.split('、'):\n",
    "#     create_node(i,'五脏外华')\n",
    "\n",
    "\n"
   ]
  },
  {
   "cell_type": "code",
   "execution_count": 3,
   "metadata": {
    "collapsed": true
   },
   "outputs": [],
   "source": [
    "abc=match_node('胆')\n",
    "\n"
   ]
  },
  {
   "cell_type": "code",
   "execution_count": 11,
   "metadata": {},
   "outputs": [
    {
     "name": "stdout",
     "output_type": "stream",
     "text": [
      "2\n"
     ]
    }
   ],
   "source": [
    "b=abc[0][0].labels\n",
    "print(len(b))\n"
   ]
  },
  {
   "cell_type": "code",
   "execution_count": null,
   "metadata": {
    "collapsed": true
   },
   "outputs": [],
   "source": []
  }
 ],
 "metadata": {
  "kernelspec": {
   "display_name": "Python 3",
   "language": "python",
   "name": "python3"
  },
  "language_info": {
   "codemirror_mode": {
    "name": "ipython",
    "version": 3
   },
   "file_extension": ".py",
   "mimetype": "text/x-python",
   "name": "python",
   "nbconvert_exporter": "python",
   "pygments_lexer": "ipython3",
   "version": "3.6.1"
  }
 },
 "nbformat": 4,
 "nbformat_minor": 2
}
