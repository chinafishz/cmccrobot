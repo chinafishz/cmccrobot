{
 "cells": [
  {
   "cell_type": "code",
   "execution_count": 3,
   "metadata": {},
   "outputs": [
    {
     "name": "stderr",
     "output_type": "stream",
     "text": [
      "/home/chinafishz/opt/anaconda/lib/python3.6/site-packages/requests/packages/urllib3/connectionpool.py:852: InsecureRequestWarning: Unverified HTTPS request is being made. Adding certificate verification is strongly advised. See: https://urllib3.readthedocs.io/en/latest/advanced-usage.html#ssl-warnings\n",
      "  InsecureRequestWarning)\n",
      "/home/chinafishz/opt/anaconda/lib/python3.6/site-packages/requests/packages/urllib3/connectionpool.py:852: InsecureRequestWarning: Unverified HTTPS request is being made. Adding certificate verification is strongly advised. See: https://urllib3.readthedocs.io/en/latest/advanced-usage.html#ssl-warnings\n",
      "  InsecureRequestWarning)\n"
     ]
    },
    {
     "name": "stdout",
     "output_type": "stream",
     "text": [
      "585689747277822721\n"
     ]
    },
    {
     "name": "stderr",
     "output_type": "stream",
     "text": [
      "/home/chinafishz/opt/anaconda/lib/python3.6/site-packages/requests/packages/urllib3/connectionpool.py:852: InsecureRequestWarning: Unverified HTTPS request is being made. Adding certificate verification is strongly advised. See: https://urllib3.readthedocs.io/en/latest/advanced-usage.html#ssl-warnings\n",
      "  InsecureRequestWarning)\n",
      "/home/chinafishz/opt/anaconda/lib/python3.6/site-packages/requests/packages/urllib3/connectionpool.py:852: InsecureRequestWarning: Unverified HTTPS request is being made. Adding certificate verification is strongly advised. See: https://urllib3.readthedocs.io/en/latest/advanced-usage.html#ssl-warnings\n",
      "  InsecureRequestWarning)\n",
      "/home/chinafishz/opt/anaconda/lib/python3.6/site-packages/requests/packages/urllib3/connectionpool.py:852: InsecureRequestWarning: Unverified HTTPS request is being made. Adding certificate verification is strongly advised. See: https://urllib3.readthedocs.io/en/latest/advanced-usage.html#ssl-warnings\n",
      "  InsecureRequestWarning)\n",
      "/home/chinafishz/opt/anaconda/lib/python3.6/site-packages/requests/packages/urllib3/connectionpool.py:852: InsecureRequestWarning: Unverified HTTPS request is being made. Adding certificate verification is strongly advised. See: https://urllib3.readthedocs.io/en/latest/advanced-usage.html#ssl-warnings\n",
      "  InsecureRequestWarning)\n",
      "/home/chinafishz/opt/anaconda/lib/python3.6/site-packages/requests/packages/urllib3/connectionpool.py:852: InsecureRequestWarning: Unverified HTTPS request is being made. Adding certificate verification is strongly advised. See: https://urllib3.readthedocs.io/en/latest/advanced-usage.html#ssl-warnings\n",
      "  InsecureRequestWarning)\n"
     ]
    },
    {
     "name": "stdout",
     "output_type": "stream",
     "text": [
      "已经发送短信验证码\n",
      "验证码:467815\n",
      "正在登陆，请稍后...\n"
     ]
    },
    {
     "name": "stderr",
     "output_type": "stream",
     "text": [
      "/home/chinafishz/opt/anaconda/lib/python3.6/site-packages/requests/packages/urllib3/connectionpool.py:852: InsecureRequestWarning: Unverified HTTPS request is being made. Adding certificate verification is strongly advised. See: https://urllib3.readthedocs.io/en/latest/advanced-usage.html#ssl-warnings\n",
      "  InsecureRequestWarning)\n",
      "/home/chinafishz/opt/anaconda/lib/python3.6/site-packages/requests/packages/urllib3/connectionpool.py:852: InsecureRequestWarning: Unverified HTTPS request is being made. Adding certificate verification is strongly advised. See: https://urllib3.readthedocs.io/en/latest/advanced-usage.html#ssl-warnings\n",
      "  InsecureRequestWarning)\n",
      "/home/chinafishz/opt/anaconda/lib/python3.6/site-packages/requests/packages/urllib3/connectionpool.py:852: InsecureRequestWarning: Unverified HTTPS request is being made. Adding certificate verification is strongly advised. See: https://urllib3.readthedocs.io/en/latest/advanced-usage.html#ssl-warnings\n",
      "  InsecureRequestWarning)\n",
      "/home/chinafishz/opt/anaconda/lib/python3.6/site-packages/requests/packages/urllib3/connectionpool.py:852: InsecureRequestWarning: Unverified HTTPS request is being made. Adding certificate verification is strongly advised. See: https://urllib3.readthedocs.io/en/latest/advanced-usage.html#ssl-warnings\n",
      "  InsecureRequestWarning)\n",
      "/home/chinafishz/opt/anaconda/lib/python3.6/site-packages/requests/packages/urllib3/connectionpool.py:852: InsecureRequestWarning: Unverified HTTPS request is being made. Adding certificate verification is strongly advised. See: https://urllib3.readthedocs.io/en/latest/advanced-usage.html#ssl-warnings\n",
      "  InsecureRequestWarning)\n",
      "/home/chinafishz/opt/anaconda/lib/python3.6/site-packages/requests/packages/urllib3/connectionpool.py:852: InsecureRequestWarning: Unverified HTTPS request is being made. Adding certificate verification is strongly advised. See: https://urllib3.readthedocs.io/en/latest/advanced-usage.html#ssl-warnings\n",
      "  InsecureRequestWarning)\n",
      "/home/chinafishz/opt/anaconda/lib/python3.6/site-packages/requests/packages/urllib3/connectionpool.py:852: InsecureRequestWarning: Unverified HTTPS request is being made. Adding certificate verification is strongly advised. See: https://urllib3.readthedocs.io/en/latest/advanced-usage.html#ssl-warnings\n",
      "  InsecureRequestWarning)\n",
      "/home/chinafishz/opt/anaconda/lib/python3.6/site-packages/requests/packages/urllib3/connectionpool.py:852: InsecureRequestWarning: Unverified HTTPS request is being made. Adding certificate verification is strongly advised. See: https://urllib3.readthedocs.io/en/latest/advanced-usage.html#ssl-warnings\n",
      "  InsecureRequestWarning)\n",
      "/home/chinafishz/opt/anaconda/lib/python3.6/site-packages/requests/packages/urllib3/connectionpool.py:852: InsecureRequestWarning: Unverified HTTPS request is being made. Adding certificate verification is strongly advised. See: https://urllib3.readthedocs.io/en/latest/advanced-usage.html#ssl-warnings\n",
      "  InsecureRequestWarning)\n",
      "/home/chinafishz/opt/anaconda/lib/python3.6/site-packages/requests/packages/urllib3/connectionpool.py:852: InsecureRequestWarning: Unverified HTTPS request is being made. Adding certificate verification is strongly advised. See: https://urllib3.readthedocs.io/en/latest/advanced-usage.html#ssl-warnings\n",
      "  InsecureRequestWarning)\n",
      "/home/chinafishz/opt/anaconda/lib/python3.6/site-packages/requests/packages/urllib3/connectionpool.py:852: InsecureRequestWarning: Unverified HTTPS request is being made. Adding certificate verification is strongly advised. See: https://urllib3.readthedocs.io/en/latest/advanced-usage.html#ssl-warnings\n",
      "  InsecureRequestWarning)\n"
     ]
    },
    {
     "name": "stdout",
     "output_type": "stream",
     "text": [
      "{'data': [{'driverType': 'CUSTOM_BOSS_SYSTEM', 'idName': '34de96aaa2874d649a4f929e7480442b#BOSS', 'resNUM': 'BOSSAPP', 'loginURL': 'http://gz.boss.gmcc.net/boss/index2.jsp', 'hasDueAcc': False, 'ip': '10.243.211.131', 'appResClientList': '5L|GwebAppByIEL|GwebAppByIEL|GL|GlocalL|G', 'groupName': '业务支持中心--专业系统--BOSS系统--华为BOSS前台', 'name': 'BOSS', 'appResAccountList': '41a48a0604bd47448fd62c1c2ef9911fL|GL|G0L|GAGZGT0000829L|Gnull', 'isSsoService': 'yes', 'isUserDefine': 'no', 'ssoMode': 'ticket', 'hasAccount': True, 'restype': '应用资源', 'id': '34de96aaa2874d649a4f929e7480442b'}, {'driverType': 'APPRESOURCE', 'idName': '72e09b98b7c84a41b13b9f3bcfca693f#业支NGESOP', 'resNUM': 'YZNGESOPFOSHAN', 'loginURL': 'http://ngesop.boss.gmcc.net/csp/bsf/from4ALogin.action', 'hasDueAcc': False, 'ip': '10.243.215.225', 'appResClientList': '5L|GwebAppByIEL|GwebAppByIEL|GL|GlocalL|G', 'groupName': '业务支持中心--专业系统--NGESOP--NGESOP前台', 'name': '业支NGESOP', 'appResAccountList': '0b82c939f4ef497a8cea8397e6d898d2L|G1111L|G0L|GAGZGT0000829L|Gnull', 'isSsoService': 'yes', 'isUserDefine': 'no', 'ssoMode': 'ticket', 'hasAccount': True, 'restype': '应用资源', 'id': '72e09b98b7c84a41b13b9f3bcfca693f'}, {'driverType': 'APPRESOURCE', 'idName': 'c930f75e6cfd40de875430ae2843fafa#广东移动NGESOP系统', 'resNUM': 'NGESOP_KRF5', 'loginURL': 'http://esop.boss.gmcc.net/csp/bsf/from4ALogin.action', 'hasDueAcc': False, 'ip': '10.252.150.131', 'appResClientList': '5L|GwebAppByIEL|GwebAppByIEL|GL|GlocalL|G', 'groupName': '业务支持中心--专业系统--NGESOP--NGESOP前台_新', 'name': '广东移动NGESOP系统', 'appResAccountList': '08fab4dce4d144ceb2ad51ebe37e66bdL|G1111L|GnullL|GAGZGT0000829L|Gnull', 'isSsoService': 'yes', 'isUserDefine': 'no', 'ssoMode': 'ticket', 'hasAccount': True, 'restype': '应用资源', 'id': 'c930f75e6cfd40de875430ae2843fafa'}, {'driverType': 'CUSTOM_SJWG_SYSTEM', 'idName': 'bcae27c1375f4afe9534ec110a3d9955#省级综合分析_票据', 'resNUM': 'WWNOAS_1', 'loginURL': 'http://10.201.63.100_1', 'hasDueAcc': False, 'ip': '10.201.63.100', 'appResClientList': '', 'groupName': '省网管维护中心--性能管理室--信令监测--应用层系统--集中性能管理系统', 'name': '省级综合分析_票据', 'appResAccountList': '2197775afaba4dcfa5af99ba1fac7db8L|GL|G1L|GshizhongxiaL|Gnull', 'isSsoService': 'yes', 'isUserDefine': 'no', 'ssoMode': 'ticket', 'hasAccount': True, 'restype': '应用资源', 'id': 'bcae27c1375f4afe9534ec110a3d9955'}, {'driverType': 'APPRESOURCE', 'idName': '318c665182814a85a9ea35efe6573185#广州NGBOSS前台', 'resNUM': 'YZNGBOSSGUANGZHOU', 'loginURL': 'http://10.252.17.241:80/csp/bsf/from4ALogin.action', 'hasDueAcc': False, 'ip': '10.252.17.241', 'appResClientList': '5L|GwebAppByIEL|GwebAppByIEL|GL|GlocalL|G', 'groupName': '业务支持中心--专业系统--NGBOSS--广州NGBOSS前台', 'name': '广州NGBOSS前台', 'appResAccountList': '32d659d1e5af4deb9a94447357e828c4L|G1111L|GnullL|GAGZGT0000829L|Gnull', 'isSsoService': 'yes', 'isUserDefine': 'no', 'ssoMode': 'ticket', 'hasAccount': True, 'restype': '应用资源', 'id': '318c665182814a85a9ea35efe6573185'}, {'driverType': 'APPRESOURCE', 'idName': '9ac7827d64ce46a59f49109fef386276#ESOP应用系统', 'resNUM': 'ESOPAPP', 'loginURL': 'http://esop.boss.gmcc.net/esop/PortalCRM.action?intcommandid=System4APlat', 'hasDueAcc': False, 'ip': '10.243.215.60', 'appResClientList': '5L|GwebAppByIEL|GwebAppByIEL|GL|GlocalL|G', 'groupName': '业务支持中心--专业系统--ESOP前台', 'name': 'ESOP应用系统', 'appResAccountList': '23c0f866dc5e42e2a313302d1d2f5ecdL|GL|G9L|GAGZGT0000829L|Gnull', 'isSsoService': 'yes', 'isUserDefine': 'no', 'ssoMode': 'ticket', 'hasAccount': True, 'restype': '应用资源', 'id': '9ac7827d64ce46a59f49109fef386276'}], 'pageInfo': {'pageSize': 50, 'totalRowNum': 6, 'pageNum': 1}}\n"
     ]
    }
   ],
   "source": [
    "import cn_class_4alogin\n",
    "import requests\n",
    "import sys\n",
    "# reload(sys)\n",
    "# sys.setdefaultencoding( \"utf-8\" )\n",
    "\n",
    "r=requests.session()\n",
    "header={'User-Agent':'Mozilla/5.0 (X11; Linux x86_64; rv:44.0) Gecko/20100101 Firefox/44.0','Accept-Language':'en-US,en;q=0.5'}\n",
    "\n",
    "json2=cn_class_4alogin.cn_4ALogin(r,'qWer1234','41608446240A6782F2A0F031426EDC066CF24674F3F0586AF1E3983438A09296B93FF648FA49379694B48DE3326AC1996069ED5C9B03B580')"
   ]
  },
  {
   "cell_type": "code",
   "execution_count": 4,
   "metadata": {},
   "outputs": [
    {
     "name": "stdout",
     "output_type": "stream",
     "text": [
      "{'data': [{'driverType': 'CUSTOM_BOSS_SYSTEM', 'idName': '34de96aaa2874d649a4f929e7480442b#BOSS', 'resNUM': 'BOSSAPP', 'loginURL': 'http://gz.boss.gmcc.net/boss/index2.jsp', 'hasDueAcc': False, 'ip': '10.243.211.131', 'appResClientList': '5L|GwebAppByIEL|GwebAppByIEL|GL|GlocalL|G', 'groupName': '业务支持中心--专业系统--BOSS系统--华为BOSS前台', 'name': 'BOSS', 'appResAccountList': '41a48a0604bd47448fd62c1c2ef9911fL|GL|G0L|GAGZGT0000829L|Gnull', 'isSsoService': 'yes', 'isUserDefine': 'no', 'ssoMode': 'ticket', 'hasAccount': True, 'restype': '应用资源', 'id': '34de96aaa2874d649a4f929e7480442b'}, {'driverType': 'APPRESOURCE', 'idName': '72e09b98b7c84a41b13b9f3bcfca693f#业支NGESOP', 'resNUM': 'YZNGESOPFOSHAN', 'loginURL': 'http://ngesop.boss.gmcc.net/csp/bsf/from4ALogin.action', 'hasDueAcc': False, 'ip': '10.243.215.225', 'appResClientList': '5L|GwebAppByIEL|GwebAppByIEL|GL|GlocalL|G', 'groupName': '业务支持中心--专业系统--NGESOP--NGESOP前台', 'name': '业支NGESOP', 'appResAccountList': '0b82c939f4ef497a8cea8397e6d898d2L|G1111L|G0L|GAGZGT0000829L|Gnull', 'isSsoService': 'yes', 'isUserDefine': 'no', 'ssoMode': 'ticket', 'hasAccount': True, 'restype': '应用资源', 'id': '72e09b98b7c84a41b13b9f3bcfca693f'}, {'driverType': 'APPRESOURCE', 'idName': 'c930f75e6cfd40de875430ae2843fafa#广东移动NGESOP系统', 'resNUM': 'NGESOP_KRF5', 'loginURL': 'http://esop.boss.gmcc.net/csp/bsf/from4ALogin.action', 'hasDueAcc': False, 'ip': '10.252.150.131', 'appResClientList': '5L|GwebAppByIEL|GwebAppByIEL|GL|GlocalL|G', 'groupName': '业务支持中心--专业系统--NGESOP--NGESOP前台_新', 'name': '广东移动NGESOP系统', 'appResAccountList': '08fab4dce4d144ceb2ad51ebe37e66bdL|G1111L|GnullL|GAGZGT0000829L|Gnull', 'isSsoService': 'yes', 'isUserDefine': 'no', 'ssoMode': 'ticket', 'hasAccount': True, 'restype': '应用资源', 'id': 'c930f75e6cfd40de875430ae2843fafa'}, {'driverType': 'CUSTOM_SJWG_SYSTEM', 'idName': 'bcae27c1375f4afe9534ec110a3d9955#省级综合分析_票据', 'resNUM': 'WWNOAS_1', 'loginURL': 'http://10.201.63.100_1', 'hasDueAcc': False, 'ip': '10.201.63.100', 'appResClientList': '', 'groupName': '省网管维护中心--性能管理室--信令监测--应用层系统--集中性能管理系统', 'name': '省级综合分析_票据', 'appResAccountList': '2197775afaba4dcfa5af99ba1fac7db8L|GL|G1L|GshizhongxiaL|Gnull', 'isSsoService': 'yes', 'isUserDefine': 'no', 'ssoMode': 'ticket', 'hasAccount': True, 'restype': '应用资源', 'id': 'bcae27c1375f4afe9534ec110a3d9955'}, {'driverType': 'APPRESOURCE', 'idName': '318c665182814a85a9ea35efe6573185#广州NGBOSS前台', 'resNUM': 'YZNGBOSSGUANGZHOU', 'loginURL': 'http://10.252.17.241:80/csp/bsf/from4ALogin.action', 'hasDueAcc': False, 'ip': '10.252.17.241', 'appResClientList': '5L|GwebAppByIEL|GwebAppByIEL|GL|GlocalL|G', 'groupName': '业务支持中心--专业系统--NGBOSS--广州NGBOSS前台', 'name': '广州NGBOSS前台', 'appResAccountList': '32d659d1e5af4deb9a94447357e828c4L|G1111L|GnullL|GAGZGT0000829L|Gnull', 'isSsoService': 'yes', 'isUserDefine': 'no', 'ssoMode': 'ticket', 'hasAccount': True, 'restype': '应用资源', 'id': '318c665182814a85a9ea35efe6573185'}, {'driverType': 'APPRESOURCE', 'idName': '9ac7827d64ce46a59f49109fef386276#ESOP应用系统', 'resNUM': 'ESOPAPP', 'loginURL': 'http://esop.boss.gmcc.net/esop/PortalCRM.action?intcommandid=System4APlat', 'hasDueAcc': False, 'ip': '10.243.215.60', 'appResClientList': '5L|GwebAppByIEL|GwebAppByIEL|GL|GlocalL|G', 'groupName': '业务支持中心--专业系统--ESOP前台', 'name': 'ESOP应用系统', 'appResAccountList': '23c0f866dc5e42e2a313302d1d2f5ecdL|GL|G9L|GAGZGT0000829L|Gnull', 'isSsoService': 'yes', 'isUserDefine': 'no', 'ssoMode': 'ticket', 'hasAccount': True, 'restype': '应用资源', 'id': '9ac7827d64ce46a59f49109fef386276'}], 'pageInfo': {'pageSize': 50, 'totalRowNum': 6, 'pageNum': 1}}\n"
     ]
    }
   ],
   "source": [
    "print(json2)"
   ]
  },
  {
   "cell_type": "code",
   "execution_count": 5,
   "metadata": {},
   "outputs": [
    {
     "name": "stdout",
     "output_type": "stream",
     "text": [
      "08fab4dce4d144ceb2ad51ebe37e66bdL|G1111L|GnullL|GAGZGT0000829L|Gnull\n",
      "-----------测试是否登陆ESOP成功-----------\n"
     ]
    },
    {
     "name": "stderr",
     "output_type": "stream",
     "text": [
      "/home/chinafishz/opt/anaconda/lib/python3.6/site-packages/requests/packages/urllib3/connectionpool.py:852: InsecureRequestWarning: Unverified HTTPS request is being made. Adding certificate verification is strongly advised. See: https://urllib3.readthedocs.io/en/latest/advanced-usage.html#ssl-warnings\n",
      "  InsecureRequestWarning)\n",
      "/home/chinafishz/opt/anaconda/lib/python3.6/site-packages/requests/packages/urllib3/connectionpool.py:852: InsecureRequestWarning: Unverified HTTPS request is being made. Adding certificate verification is strongly advised. See: https://urllib3.readthedocs.io/en/latest/advanced-usage.html#ssl-warnings\n",
      "  InsecureRequestWarning)\n",
      "/home/chinafishz/opt/anaconda/lib/python3.6/site-packages/requests/packages/urllib3/connectionpool.py:852: InsecureRequestWarning: Unverified HTTPS request is being made. Adding certificate verification is strongly advised. See: https://urllib3.readthedocs.io/en/latest/advanced-usage.html#ssl-warnings\n",
      "  InsecureRequestWarning)\n",
      "/home/chinafishz/opt/anaconda/lib/python3.6/site-packages/requests/packages/urllib3/connectionpool.py:852: InsecureRequestWarning: Unverified HTTPS request is being made. Adding certificate verification is strongly advised. See: https://urllib3.readthedocs.io/en/latest/advanced-usage.html#ssl-warnings\n",
      "  InsecureRequestWarning)\n",
      "/home/chinafishz/opt/anaconda/lib/python3.6/site-packages/requests/packages/urllib3/connectionpool.py:852: InsecureRequestWarning: Unverified HTTPS request is being made. Adding certificate verification is strongly advised. See: https://urllib3.readthedocs.io/en/latest/advanced-usage.html#ssl-warnings\n",
      "  InsecureRequestWarning)\n"
     ]
    },
    {
     "name": "stdout",
     "output_type": "stream",
     "text": [
      "<Response [200]>\n"
     ]
    }
   ],
   "source": [
    "# cn_ESOPLogin(r,json2,0)\n",
    "cn_class_4alogin.cn_ESOPLogin(r,json2)"
   ]
  },
  {
   "cell_type": "code",
   "execution_count": null,
   "metadata": {
    "collapsed": true
   },
   "outputs": [],
   "source": []
  },
  {
   "cell_type": "code",
   "execution_count": 121,
   "metadata": {},
   "outputs": [],
   "source": [
    "#下面是加成员\n",
    "import random\n",
    "from bs4 import BeautifulSoup\n",
    "import time\n",
    "import datetime\n",
    "\n",
    "cn_groupId='2004913754'\n",
    "cn_subsId='82000021073330'\n",
    "cn_productId='I00010300001'\n",
    "cn_phone=''\n",
    "\n",
    "# cn_GROUPID='82000020636110'\n",
    "\n",
    "def cn_dakai_chengyuancaidan(r):\n",
    "    s=r.get('http://esop.boss.gmcc.net/ngcustcare_fs/group/membermgr/query/groupQueryMemberInit.action?groupId=')\n",
    "    s=r.get('http://esop.boss.gmcc.net/ngcustcare_fs/group/commonquery/subscriberInfoInit.action')\n",
    "    s=r.get('http://esop.boss.gmcc.net/ngcustcare_fs/group/commonquery/customerInfoInit.action')\n",
    "    \n",
    "def cn_dakai_jituanxin(r):\n",
    "    url='http://esop.boss.gmcc.net/ngcustcare_fs/group/commonquery/queryCustomerInfo.action?recType=GroupMemberMgrAdd'\n",
    "    params={'groupOrMemeber':'group','groupId':cn_groupId,'grpMem.qryType':'SERVNUMBER','grpMem.inputVal':'','grpMem.startTime':'','grpMem.startTime_format':'yyyy-MM-dd HH:mm:ss','grpMem.endTime':'','grpMem.endTime_format':'yyyy-MM-dd HH:mm:ss'}\n",
    "    r.post(url,data=params)\n",
    "    \n",
    "#     params={'groupOrMemeber':'ALL','groupId':cn_groupId,'grpMem.qryType':'SERVNUMBER','grpMem.inputVal':'','grpMem.startTime':'','grpMem.startTime_format':'yyyy-MM-dd HH:mm:ss','grpMem.endTime':'','grpMem.endTime_format':'yyyy-MM-dd HH:mm:ss'}\n",
    "    url='http://esop.boss.gmcc.net/ngcustcare_fs/group/groupMemberMg/subsListInit.action'\n",
    "    params={'groupOrMemeber':'group','groupId':cn_groupId,'grpMem.qryType':'ALL','grpMem.inputVal':'','grpMem.startTime':'','grpMem.startTime_format':'yyyy-MM-dd HH:mm:ss','grpMem.endTime':'','grpMem.endTime_format':'yyyy-MM-dd HH:mm:ss'}\n",
    "    r.post(url,data=params)\n",
    "    \n",
    "    \n",
    "    url='http://esop.boss.gmcc.net/ngcustcare_fs/group/commonquery/querySubscriberInfo.action?subsId='+cn_subsId\n",
    "    r.post(url,data=params)\n",
    "\n",
    "def cn_cookies(cookies):\n",
    "        cookies = dict()\n",
    "        for i in r.cookies.get_dict('esop.boss.gmcc.net'):\n",
    "            cookies[i]=r.cookies.get(i,'','esop.boss.gmcc.net')\n",
    "        cookies['rememberme_username']='shizhongxia'\n",
    "        cookies['pac-username']='shizhongxia'\n",
    "        cookies['ys-appaccess_tp']='o%3Atab%3Ds%253Aapplistpanel'\n",
    "        cookies['com.huawei.boss.CURRENT_TAB']='ESOP_GRP_100010061038'\n",
    "        cookies['com.huawei.boss.CURRENT_MENUID']='ESOP_GRP_100010061038'\n",
    "\n",
    "        return cookies\n",
    "    \n",
    "    \n",
    "def cn_jia_chengyuan(r,cn_phone):\n",
    "    url='http://esop.boss.gmcc.net/ngcustcare_fs/group/groupMemberMg/initAdd.action?ngcrm_rnd='+str(random.randint(100000000000000,999999999999999))+str(random.randint(1,9))+'&ngcrm_reserved1=1&groupType=S00010300001&productId=I00010300001&subsId=82000021073330'\n",
    "    r.get(url)\n",
    "    \n",
    "    \n",
    "#     params={'groupOrMemeber':'group','groupId':cn_groupId,'grpMem.qryType':'SERVNUMBER','grpMem.inputVal':'','grpMem.startTime':'','grpMem.startTime_format':'yyyy-MM-dd HH:mm:ss','grpMem.endTime':'','grpMem.endTime_format':'yyyy-MM-dd HH:mm:ss'}\n",
    "    params={}\n",
    "    url='http://esop.boss.gmcc.net/ngcustcare_fs/group/groupMemberMg/getMemberType.do?servNumber='+cn_phone+'&productId='+cn_productId+'&subsId='+cn_subsId\n",
    "    r.post(url,data=params)\n",
    "    \n",
    "    url='http://esop.boss.gmcc.net/ngcustcare_fs/common/commCheckRecRule.action?recType=GroupMemberMgrAdd&additionalParams=validateParams'\n",
    "    params={}\n",
    "    s=r.post(url,data=params)\n",
    "   \n",
    "    cn_random='0.'+str(random.randint(10000000000000,99999999999999))+str(random.randint(1,9))\n",
    "    url='http://esop.boss.gmcc.net/ngcustcare_fs/group/groupMemberMg/preAdd.action?ngcrm_rnd='+cn_random+'&ngcrm_reserved1=1&subsId='+cn_subsId+'&servNumber='+cn_phone+'&memeberType=0&productId='+cn_productId\n",
    "    s=r.get(url)\n",
    "    soup=BeautifulSoup(s.text,'lxml')\n",
    "    temp=soup.find(attrs={\"name\":\"productFrame\"}).attrs['src']\n",
    "    \n",
    "#     print(temp)\n",
    "    s=r.get('http://esop.boss.gmcc.net'+temp)\n",
    "   \n",
    "    \n",
    "    \n",
    "#     产品关系检查\n",
    "    cn_random='0.'+str(random.randint(100000000000000,999999999999999))+str(random.randint(1,9))\n",
    "    url='http://esop.boss.gmcc.net/ngcustcare_fs/product/productInstallAction!prodRecCheck.action?catalogName=&catalogId=&appendCatalogSelect=ROOT_&searchId=&searchName=&random='+cn_random\n",
    "    s=r.get(url)\n",
    "#     print(s.text)\n",
    "    \n",
    "    \n",
    "    cn_random='0.'+str(random.randint(1000000000000000,9999999999999999))+str(random.randint(1,9))\n",
    "    url='http://esop.boss.gmcc.net/ngcustcare_fs/product/productInstallAction!showProdEffectTime.action?type=install&random='+cn_random\n",
    "    s=r.get(url)\n",
    "    \n",
    "    \n",
    "#     下一步\n",
    "    url='http://esop.boss.gmcc.net/ngcustcare_fs/group/groupMemberMg/add.action?subsId='+cn_subsId+'&memOid=&memeberType=0&servNumber='+cn_phone+'&grpMem.isSendSecondMsg=1&grpMem.isSendSucceedMsg=&grpMem.channelFirst=ExpandChaType1&grpMem.channelSecond=&grpMem.channelThird=&RECTYPE=GROUPREC&timeTag='+str(time.time()).replace('.','')[0:13]\n",
    "    result=r.get(url)\n",
    "    soup=BeautifulSoup(result.text,'lxml')\n",
    "#     print(soup)\n",
    "    temp=soup.select('.table_listoutline')[1].find(attrs={\"name\":\"_fee/calculate\"}).attrs['value']\n",
    "    \n",
    "#     print(temp)\n",
    "#     print(soup)\n",
    "    \n",
    "# #     获取办理人信息\n",
    "#     url='http://esop.boss.gmcc.net/ngcustcare_fs/common/managerMan/managerManQuery.action?noHeader=1&random='+str(time.time()).replace('.','')[0:13]\n",
    "#     result=r.get(url)\n",
    "    \n",
    "# #     print(r.cookies)\n",
    "    \n",
    "#     cookie2=cn_cookies(r.cookies)\n",
    "\n",
    "# # #     提交\n",
    "    url='http://esop.boss.gmcc.net/ngcustcare_fs/common/fee/pay.action'\n",
    "    params={'PreBussOrderId':'','withdrawGoods':'','payTypeBean.cashAmt':'','payTypeBean.chequeAmt':'','payTypeBean.bankId':'','payTypeBean.bankName':'','payTypeBean.chequeNum':'','payTypeBean.cardAmt':'','payTypeBean.posNum':'','payTypeBean.confirmPosNum':'','payTypeBean.weiXinPayAmt':'','payTypeBean.weiXinPayNum':'','payTypeBean.aliPayAmt':'','payTypeBean.orderId':'','payTypeBean.aliPayPayNum':'','payTypeBean.newSeparatePayAmt':'','payTypeBean.orderId':'','payTypeBean.newSeparatePayNum':'','payTypeBean.preAuthSeparatePayAmt':'','payTypeBean.orderId':'','payTypeBean.preAuthSeparatePayNum':'','payTypeBean.acctCash':'','payTypeBean.acctPayCash':'','payTypeBean.scoreCash':'','payTypeBean.score':'','payTypeBean.scoreTransRule':'1/1','payTypeBean.m':'0','payTypeBean.mTransRule':'1/1','payTypeBean.posautocardAmt':'','payTypeBean.posautocardNum':'','payTypeBean.posnotautoAmt':'','payTypeBean.posnotautoNum':'','payTypeBean.separateAmt':'','payTypeBean.separateBankId':'GH','payTypeBean.separateBankName':u'工行','payTypeBean.separateBankAcct':'','payTypeBean.separateBankUserName':'','payTypeBean.separatePosNum':'','payTypeBean.limitCash':'','payTypeBean.unlimitCash':'','BARGAINFEEXML':'','CHANGEFEEBYBARGAINXML':'@260@263xml@232version@261@2341@2460@234@232encoding@261@234UTF@2458@234@263@262@260huawei@295call@262@260i@262common@247fee@247@242@260@247i@262@260e@262changeFeeByBargain@260@247e@262@260p@262@260m@262@260n@2620@260@247n@262@260t@262a@260@247t@262@260v@262@260r@262@260t@262h@260@247t@262@260v@262@260k@262@260@233@291CDATA@291@536153@529992@539033@530446@293@293@262@260@247k@262@260c@262@260t@262s@260@247t@262@260v@262@260@233@291CDATA@291@526426@522120@521345@538598@522242@525104@521592@520135@521697@293@293@262@260@247v@262@260@247c@262@260k@262@260@233@291CDATA@291@535758@520215@520943@520813@293@293@262@260@247k@262@260c@262@260t@262s@260@247t@262@260v@2620@260@247v@262@260@247c@262@260k@262@260@233@291CDATA@291@521807@519968@532534@521495@293@293@262@260@247k@262@260c@262@260t@262s@260@247t@262@260v@26280025698008737@260@247v@262@260@247c@262@260@247v@262@260@247r@262@260@247v@262@260@247m@262@260m@262@260n@2621@260@247n@262@260t@262a@260@247t@262@260v@262@260@247v@262@260@247m@262@260@247p@262@260@247huawei@295call@262','UPDATEPAYTYPEBYPAGEDATAXML':'@260@263xml@232version@261@2341@2460@234@232encoding@261@234UTF@2458@234@263@262@260huawei@295call@262@260i@262common@247fee@247@242@260@247i@262@260e@262updatePayTypeByPageData@260@247e@262@260p@262@260m@262@260n@2620@260@247n@262@260t@262a@260@247t@262@260v@262@260@247v@262@260@247m@262@260@247p@262@260@247huawei@295call@262','reccustinfo_name':u'白*喆','reccustinfo_phone':'********','reccustinfo_certificateType':'IdCard','reccustinfo_certificateNum':'********','reccustinfo_address':'','emergencyContactNo':'','reccustinfo_note':'','invoicePrintMode':'','hiddenTokenName':'_fee/calculate','_fee/calculate':temp,'receiptNumber':'00000000','assembleInvoice':'0','invoiceNumber':'00000000','elecInvoiceServNumber':'13600062910','isForPaging':'OLD','invRemarkNote':'','secondAuthOperId':'','secondAuthResult':'','changeEnumRecType':''}\n",
    "    s=r.post(url,data=params)\n",
    "#     print(s.text)\n",
    "    soup=BeautifulSoup(s.text,'lxml')\n",
    "#     print(soup)\n",
    "    return ''.join(soup.select('#error_msg_title')[0].text).split()[0]\n",
    "\n",
    "  \n",
    "\n",
    "    "
   ]
  },
  {
   "cell_type": "code",
   "execution_count": 112,
   "metadata": {},
   "outputs": [],
   "source": [
    "\n",
    "# cn_dakai_chengyuancaidan(r)\n",
    "# cn_dakai_jituanxin(r)\n",
    "a=cn_jia_chengyuan(r,'1064714372218')\n"
   ]
  },
  {
   "cell_type": "code",
   "execution_count": 113,
   "metadata": {},
   "outputs": [
    {
     "name": "stdout",
     "output_type": "stream",
     "text": [
      "业务办理成功!\n"
     ]
    }
   ],
   "source": [
    "print(a)"
   ]
  },
  {
   "cell_type": "code",
   "execution_count": 124,
   "metadata": {},
   "outputs": [
    {
     "name": "stdout",
     "output_type": "stream",
     "text": [
      "102\n",
      "1 1064714372224 业务办理成功!\n",
      "2 1064714372225 业务办理成功!\n",
      "3 1064714372226 业务办理成功!\n",
      "4 1064714372227 业务办理成功!\n",
      "5 1064714372228 业务办理成功!\n",
      "6 1064714372229 业务办理成功!\n",
      "7 1064714372230 业务办理成功!\n",
      "8 1064714372231 业务办理成功!\n",
      "9 1064714372232 业务办理成功!\n",
      "10 1064714372233 业务办理成功!\n",
      "11 1064714372234 业务办理成功!\n",
      "12 1064714372235 业务办理成功!\n",
      "13 1064714372236 业务办理成功!\n",
      "14 1064714372237 业务办理成功!\n",
      "15 1064714372238 业务办理成功!\n",
      "16 1064714372239 业务办理成功!\n",
      "17 1064714372240 业务办理成功!\n",
      "18 1064714372241 业务办理成功!\n",
      "19 1064714372242 业务办理成功!\n",
      "20 1064714372243 业务办理成功!\n",
      "21 1064714372244 业务办理成功!\n",
      "22 1064714372245 业务办理成功!\n",
      "23 1064714372246 业务办理成功!\n",
      "24 1064714372247 业务办理成功!\n",
      "25 1064714372248 业务办理成功!\n",
      "26 1064714372249 业务办理成功!\n",
      "27 1064714372250 业务办理成功!\n",
      "28 1064714372251 业务办理成功!\n",
      "29 1064714372252 业务办理成功!\n",
      "30 1064714372253 业务办理成功!\n",
      "31 1064714372254 业务办理成功!\n",
      "32 1064714372255 业务办理成功!\n",
      "33 1064714372256 业务办理成功!\n",
      "34 1064714372257 业务办理成功!\n",
      "35 1064714372258 业务办理成功!\n",
      "36 1064714372259 业务办理成功!\n",
      "37 1064714372260 业务办理成功!\n",
      "38 1064714372261 业务办理成功!\n",
      "39 1064714372262 业务办理成功!\n",
      "40 1064714372263 业务办理成功!\n",
      "41 1064714372264 业务办理成功!\n",
      "42 1064714372265 业务办理成功!\n",
      "43 1064714372266 业务办理成功!\n",
      "44 1064714372267 业务办理成功!\n",
      "45 1064714372268 业务办理成功!\n",
      "46 1064714372269 业务办理成功!\n",
      "47 1064714372270 业务办理成功!\n",
      "48 1064714372271 业务办理成功!\n",
      "49 1064714372272 业务办理成功!\n",
      "50 1064714372273 业务办理成功!\n",
      "51 1064714372274 业务办理成功!\n",
      "52 1064714372275 业务办理成功!\n",
      "53 1064714372276 业务办理成功!\n",
      "54 1064714372277 业务办理成功!\n",
      "55 1064714372278 业务办理成功!\n",
      "56 1064714372279 业务办理成功!\n",
      "57 1064714372280 业务办理成功!\n",
      "58 1064714372281 业务办理成功!\n",
      "59 1064714372282 业务办理成功!\n",
      "60 1064714372283 业务办理成功!\n",
      "61 1064714372284 业务办理成功!\n",
      "62 1064714372285 业务办理成功!\n",
      "63 1064714372286 业务办理成功!\n",
      "64 1064714372287 业务办理成功!\n",
      "65 1064714372288 业务办理成功!\n",
      "66 1064714372289 业务办理成功!\n",
      "67 1064714372290 业务办理成功!\n",
      "68 1064714372291 业务办理成功!\n",
      "69 1064714372292 业务办理成功!\n",
      "70 1064714372293 业务办理成功!\n",
      "71 1064714372294 业务办理成功!\n",
      "72 1064714372295 业务办理成功!\n",
      "73 1064714372296 业务办理成功!\n",
      "74 1064714372297 业务办理成功!\n",
      "75 1064714372298 业务办理成功!\n",
      "76 1064714372299 业务办理成功!\n",
      "77 1064714372300 业务办理成功!\n",
      "78 1064714372301 业务办理成功!\n",
      "79 1064714372302 业务办理成功!\n",
      "80 1064714372303 业务办理成功!\n",
      "81 1064714372304 业务办理成功!\n",
      "82 1064714372305 业务办理成功!\n",
      "83 1064714372306 业务办理成功!\n",
      "84 1064714372307 业务办理成功!\n",
      "85 1064714372308 业务办理成功!\n",
      "86 1064714372309 业务办理成功!\n",
      "87 1064714372310 业务办理成功!\n",
      "88 1064714372311 业务办理成功!\n",
      "89 1064714372312 业务办理成功!\n",
      "90 1064714372313 业务办理成功!\n",
      "91 1064714372314 业务办理成功!\n",
      "92 1064714372315 业务办理成功!\n",
      "93 1064714372316 业务办理成功!\n",
      "94 1064714372317 业务办理成功!\n",
      "95 1064714372318 业务办理成功!\n",
      "96 1064714372319 业务办理成功!\n",
      "97 1064714372320 业务办理成功!\n",
      "98 1064714372321 业务办理成功!\n",
      "99 1064714372322 业务办理成功!\n",
      "100 1064714372323 业务办理成功!\n",
      "101 1064714372324 业务办理成功!\n",
      "102 1064714372325 业务办理成功!\n",
      "===end===\n"
     ]
    }
   ],
   "source": [
    "import time\n",
    "from datetime import datetime\n",
    "import os\n",
    "\n",
    "cn_list='1064714372224;1064714372225;1064714372226;1064714372227;1064714372228;1064714372229;1064714372230;1064714372231;1064714372232;1064714372233;1064714372234;1064714372235;1064714372236;1064714372237;1064714372238;1064714372239;1064714372240;1064714372241;1064714372242;1064714372243;1064714372244;1064714372245;1064714372246;1064714372247;1064714372248;1064714372249;1064714372250;1064714372251;1064714372252;1064714372253;1064714372254;1064714372255;1064714372256;1064714372257;1064714372258;1064714372259;1064714372260;1064714372261;1064714372262;1064714372263;1064714372264;1064714372265;1064714372266;1064714372267;1064714372268;1064714372269;1064714372270;1064714372271;1064714372272;1064714372273;1064714372274;1064714372275;1064714372276;1064714372277;1064714372278;1064714372279;1064714372280;1064714372281;1064714372282;1064714372283;1064714372284;1064714372285;1064714372286;1064714372287;1064714372288;1064714372289;1064714372290;1064714372291;1064714372292;1064714372293;1064714372294;1064714372295;1064714372296;1064714372297;1064714372298;1064714372299;1064714372300;1064714372301;1064714372302;1064714372303;1064714372304;1064714372305;1064714372306;1064714372307;1064714372308;1064714372309;1064714372310;1064714372311;1064714372312;1064714372313;1064714372314;1064714372315;1064714372316;1064714372317;1064714372318;1064714372319;1064714372320;1064714372321;1064714372322;1064714372323;1064714372324;1064714372325'\n",
    "a=cn_list.split(';')\n",
    "cn_a_count=len(a)\n",
    "print(cn_a_count)\n",
    "# cn_dakai_chengyuancaidan(r)\n",
    "# cn_dakai_jituanxin(r)\n",
    "i=0\n",
    "for cn_phonNnum in a:\n",
    "    i=i+1\n",
    "    a=cn_jia_chengyuan(r,cn_phonNnum)\n",
    "    print(i,cn_phonNnum,a)\n",
    "# #     print cn_phonNnum\n",
    "#     cn_file=file('abc','a')\n",
    "#     cn_file.write(\"\\n\"+str(i)+','+str(cn_phonNnum)+','+a)\n",
    "#     cn_file.close()\n",
    "#     time.sleep(1)\n",
    "# cn_file=file('abc','a')\n",
    "# cn_file.write(\"\\n=========end===========\")  \n",
    "# cn_file.close()\n",
    "print('===end===')"
   ]
  },
  {
   "cell_type": "code",
   "execution_count": null,
   "metadata": {},
   "outputs": [],
   "source": []
  },
  {
   "cell_type": "code",
   "execution_count": null,
   "metadata": {},
   "outputs": [],
   "source": []
  },
  {
   "cell_type": "code",
   "execution_count": null,
   "metadata": {},
   "outputs": [],
   "source": [
    "import time\n",
    "import datetime\n",
    "import random\n",
    "print str(time.time()).replace('.','')+str(random.randint(1,9))"
   ]
  },
  {
   "cell_type": "code",
   "execution_count": null,
   "metadata": {
    "collapsed": true
   },
   "outputs": [],
   "source": []
  },
  {
   "cell_type": "code",
   "execution_count": null,
   "metadata": {
    "collapsed": true
   },
   "outputs": [],
   "source": []
  },
  {
   "cell_type": "code",
   "execution_count": null,
   "metadata": {
    "collapsed": true
   },
   "outputs": [],
   "source": []
  },
  {
   "cell_type": "code",
   "execution_count": null,
   "metadata": {
    "collapsed": true
   },
   "outputs": [],
   "source": []
  }
 ],
 "metadata": {
  "anaconda-cloud": {},
  "kernelspec": {
   "display_name": "Python 3",
   "language": "python",
   "name": "python3"
  },
  "language_info": {
   "codemirror_mode": {
    "name": "ipython",
    "version": 3
   },
   "file_extension": ".py",
   "mimetype": "text/x-python",
   "name": "python",
   "nbconvert_exporter": "python",
   "pygments_lexer": "ipython3",
   "version": "3.6.4"
  }
 },
 "nbformat": 4,
 "nbformat_minor": 1
}
