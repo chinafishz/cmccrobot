{
 "cells": [
  {
   "cell_type": "code",
   "execution_count": null,
   "metadata": {
    "collapsed": true
   },
   "outputs": [],
   "source": []
  },
  {
   "cell_type": "code",
   "execution_count": 12,
   "metadata": {
    "collapsed": false
   },
   "outputs": [
    {
     "data": {
      "image/png": "[encoded data removed]",
      "text/plain": [
       "<IPython.core.display.Image object>"
      ]
     },
     "execution_count": 12,
     "metadata": {},
     "output_type": "execute_result"
    }
   ],
   "source": [
    "import requests\n",
    "from bs4 import BeautifulSoup\n",
    "import shutil\n",
    "from IPython.display import Image\n",
    "from Crypto.Cipher import AES\n",
    "import base64\n",
    "import thread\n",
    "import cn_class_4alogin\n",
    "\n",
    "_username='sh_fuy'\n",
    "_pwd='m2mnew123'\n",
    "import time\n",
    "\n",
    "#AES加密\n",
    "def cn_encrypted(text,key):\n",
    "    BS = AES.block_size\n",
    "    pad =lambda s: s +(BS - len(s)% BS)* chr(BS - len(s)% BS)\n",
    "    cipher = AES.new(key,AES.MODE_CBC, key)\n",
    "    encrypted = base64.b64encode(cipher.encrypt(pad(text)))\n",
    "    return encrypted \n",
    "\n",
    "    \n",
    "r=requests.session()\n",
    "header={'User-Agent':'Mozilla/5.0 (X11; Linux x86_64; rv:44.0) Gecko/20100101 Firefox/44.0','Accept-Language':'en-US,en;q=0.5'}\n",
    "\n",
    "#获取主页\n",
    "s=r.get('http://120.198.253.23:8080/iotpro/',headers=header)\n",
    "soup=BeautifulSoup(s.text,'lxml')\n",
    "csrftoken=type(soup.select('#csrftoken')[0].attrs['value'])\n",
    "\n",
    "\n",
    "#获取genPwToken\n",
    "s=r.get('http://120.198.253.23:8080/iotpro/genPwToken',headers=header)\n",
    "key=BeautifulSoup(s.text,'lxml').text.replace('\"','')\n",
    "username=cn_encrypted(_username,key)\n",
    "pwd=cn_encrypted(_pwd,key)\n",
    "\n",
    "\n",
    "#获取验证码\n",
    "# cn_checkcode(r,'1')\n",
    "s=r.get('http://120.198.253.23:8080/iotpro/captcha-image',headers=header,stream=True)\n",
    "f = open('FuYou_iot_check.png','wb')\n",
    "shutil.copyfileobj(s.raw,f)\n",
    "f.close() \n",
    "Image('FuYou_iot_check.png')\n",
    "\n"
   ]
  },
  {
   "cell_type": "code",
   "execution_count": 13,
   "metadata": {
    "collapsed": false
   },
   "outputs": [
    {
     "name": "stdout",
     "output_type": "stream",
     "text": [
      "验证码：8619\n"
     ]
    },
    {
     "data": {
      "text/plain": [
       "<Response [200]>"
      ]
     },
     "execution_count": 13,
     "metadata": {},
     "output_type": "execute_result"
    }
   ],
   "source": [
    "checkcode=input('验证码：')\n",
    "#login\n",
    "parma={'csrftoken':csrftoken,'username':username,'password':pwd,'_username':'','_password':'','checkcode':checkcode}\n",
    "r.post('http://120.198.253.23:8080/iotpro/login',data=parma,headers=header)\n",
    "\n"
   ]
  },
  {
   "cell_type": "code",
   "execution_count": 14,
   "metadata": {
    "collapsed": false
   },
   "outputs": [
    {
     "name": "stdout",
     "output_type": "stream",
     "text": [
      "15728201507\n",
      "15728201507\n"
     ]
    }
   ],
   "source": [
    "#流量告警查明细\n",
    "cn_date= time.strftime('%Y-%m-%d')\n",
    "parma={'isload':\"true\",'type':\"alarm_stream\",'userType':\"\",'msisdnOrSim':\"\",'alarmType':\"\",'startTime':cn_date[:-3]+'01','endTime':cn_date}\n",
    "s=r.post('http://120.198.253.23:8080/iotpro/alarm/stream',data=parma,headers=header)\n",
    "soup=BeautifulSoup(s.text,'lxml')\n",
    "for i in soup.select('.to_url'):\n",
    "    print i.text"
   ]
  },
  {
   "cell_type": "code",
   "execution_count": null,
   "metadata": {
    "collapsed": false
   },
   "outputs": [
    {
     "name": "stdout",
     "output_type": "stream",
     "text": [
      "已经发送短信验证码\n"
     ]
    }
   ],
   "source": [
    "#登录BOSS\n",
    "import cn_class_4alogin\n",
    "\n",
    "json2=cn_class_4alogin.cn_4ALogin(r,1,'192.168.0.4','8081')\n",
    "cn_class_4alogin.cn_BossLogin(r,json2,1,'192.168.0.4','8081')\n"
   ]
  },
  {
   "cell_type": "code",
   "execution_count": 135,
   "metadata": {
    "collapsed": false
   },
   "outputs": [
    {
     "name": "stdout",
     "output_type": "stream",
     "text": [
      "US10\n",
      "{\"brief\":\"请求数据异常，无法获取视图的具体信息\",\"detail\":\"An Error has occurred in this application.\",\"flag\":-1,\"success\":false,\"title\":\"视图请求失败\"}\n"
     ]
    }
   ],
   "source": [
    "\n",
    "def cn_cookies(cookies):\n",
    "        cookies = dict()\n",
    "        for i in r.cookies.get_dict('10.252.17.241'):\n",
    "            cookies[i]=r.cookies.get(i,'','10.252.17.241')\n",
    "        cookies['bsacKF']='NGCRM_BOSS'\n",
    "        cookies['com.huawei.boss.CONTACTID']='null'\n",
    "        cookies['com.huawei.boss.CURRENT_MENUID']='123456'\n",
    "        cookies['com.huawei.boss.CURRENT_TAB']='123456'\n",
    "        cookies['com.huawei.boss.CURRENT_USER']='com.huawei.boss.NO_CURRENT_USER'\n",
    "        cookies['GZCOMM']='r_GZ_CRM_WEB1_1182'\n",
    "        cookies['GZCRM']='r_GZ_CRM_WEB1_1081'\n",
    "        return cookies\n",
    "\n",
    "def cn_cookies1(cookies,cn_phoneNum):\n",
    "        cookies = dict()\n",
    "        for i in r.cookies.get_dict('10.252.17.241'):\n",
    "            cookies[i]=r.cookies.get(i,'','10.252.17.241')\n",
    "        cookies['bsacKF']='NGCRM_BOSS'\n",
    "        cookies['com.huawei.boss.CONTACTID']='undefined'\n",
    "        cookies['com.huawei.boss.CURRENT_MENUID']='100110121062'\n",
    "        cookies['com.huawei.boss.CURRENT_TAB']='BOSS%5E'+cn_phoneNum+'%5E100110121062%7E'+cn_phoneNum\n",
    "        cookies['com.huawei.boss.CURRENT_USER']=cn_phoneNum\n",
    "        cookies['GZCOMM']='r_GZ_CRM_WEB1_1182'\n",
    "        cookies['GZCRM']='r_GZ_CRM_WEB1_1081'\n",
    "        cookies['MACAddr']='08:00:27:A2:E7:39'\n",
    "        cookies['sDNSName']='gzshizhongxia'\n",
    "        return cookies\n",
    "\n",
    "    \n",
    "def cn_main_data(r,cn_phoneNum,cn_pwd,isProxy,proxyIp,proxyPort):\n",
    "    proxy={}\n",
    "    if (isProxy==1):\n",
    "        proxy={'http':proxyIp+':'+proxyPort,'https':proxyIp+':'+proxyPort}\n",
    "        \n",
    "    header={'User-Agent':'Mozilla/5.0 (compatible; MSIE 10.0; Windows NT 6.2; WOW64; Trident/6.0; SE 2.X MetaSr 1.0)','Accept':'*/*','Accept-Language':'zh-cn','Accept-Encoding':'gzip, deflate'}\n",
    "    header2={'User-Agent':'Mozilla/5.0 (compatible; MSIE 10.0; Windows NT 6.2; WOW64; Trident/6.0; SE 2.X MetaSr 1.0)','Accept':'*/*','Accept-Language':'zh-cn','Accept-Encoding':'gzip, deflate','X-Requested-With':'XMLHttpRequest'}\n",
    "    header3={'User-Agent':'Mozilla/5.0 (compatible; MSIE 10.0; Windows NT 6.2; WOW64; Trident/6.0; SE 2.X MetaSr 1.0)','Accept':'image/jpeg,application/x-ms-application,image/gif,application/xaml+xml,image/pjpeg, application/x-ms-xbap','Accept-Language':'zh-cn','Accept-Encoding':'gzip, deflate'}\n",
    "\n",
    "    # # ---------号码认证---------\n",
    "    cookies=cn_cookies(r.cookies)\n",
    "    parmas={'method':'qryCustInfo','servNumber':cn_phoneNum,'authCheckMode':'AuthCheckZ','verifyCode':'','pswd':cn_pwd,'certType':'IdCard','certID':'','rndPswd':'','custType':'PersonCustomer','domainType':'','isCert2G':'','ONLYLOGIN':'onlyLogin','withoutPassValidate':'true'}\n",
    "    result=r.post('http://10.252.17.241/ngcustcare/custlogin/qryCustInfo.action',cookies=cookies,data=parmas,headers=header2,proxies=proxy)\n",
    "    s=result.text\n",
    "    cn_curCustId=s[s.find('curCustId')+12:s.find('curCustId')+25]\n",
    "    # # ---------获取最重要数据---------\n",
    "    cookies=cn_cookies1(r.cookies,cn_phoneNum)\n",
    "    s=r.get('http://10.252.17.241/ngcustcare/uniteview/uviewtwo/uvDisper.action?currentTabID=BOSS^'+cn_phoneNum+'^100110121062~'+cn_phoneNum,cookies=cookies,headers=header3,proxies=proxy)\n",
    "    return s.text\n",
    "    # # --------------------------\n",
    "\n",
    "        \n",
    "header={'User-Agent':'Mozilla/5.0 (compatible; MSIE 10.0; Windows NT 6.2; WOW64; Trident/6.0; SE 2.X MetaSr 1.0)','Accept':'*/*','Accept-Language':'zh-cn','Accept-Encoding':'gzip, deflate'}\n",
    "header2={'User-Agent':'Mozilla/5.0 (compatible; MSIE 10.0; Windows NT 6.2; WOW64; Trident/6.0; SE 2.X MetaSr 1.0)','Accept':'*/*','Accept-Language':'zh-cn','Accept-Encoding':'gzip, deflate','X-Requested-With':'XMLHttpRequest'}\n",
    "header3={'User-Agent':'Mozilla/5.0 (compatible; MSIE 10.0; Windows NT 6.2; WOW64; Trident/6.0; SE 2.X MetaSr 1.0)','Accept':'image/jpeg,application/x-ms-application,image/gif,application/xaml+xml,image/pjpeg, application/x-ms-xbap','Accept-Language':'zh-cn','Accept-Encoding':'gzip, deflate'}\n",
    "\n",
    "#查号码状态和流量使用情况 US10：正使用  US30：停用\n",
    "soup=BeautifulSoup(cn_main_data(r,'15728201507','',1,'192.168.0.5','8081'),'lxml')\n",
    "csm_Status=soup.find(attrs={'name':'csm_Status'}).attrs['value']\n",
    "#获取流量\n",
    "print csm_Status\n",
    "proxy={'http':'192.168.0.5:8081','https':'192.168.0.5:8081'}\n",
    "url='http://10.252.17.241/nguniteview/layoutAction.do?method=showView&ownerType=1&viewId=208'\n",
    "param={'width':'783','height':'14'}\n",
    "cookies=cn_cookies1(r.cookies,'15728201507')\n",
    "s=r.post(url,proxies=proxy,headers=header2,data=param,cookies=cookies)\n",
    "print s.text\n"
   ]
  }
 ],
 "metadata": {
  "anaconda-cloud": {},
  "kernelspec": {
   "display_name": "Python [default]",
   "language": "python",
   "name": "python2"
  },
  "language_info": {
   "codemirror_mode": {
    "name": "ipython",
    "version": 2
   },
   "file_extension": ".py",
   "mimetype": "text/x-python",
   "name": "python",
   "nbconvert_exporter": "python",
   "pygments_lexer": "ipython2",
   "version": "2.7.12"
  }
 },
 "nbformat": 4,
 "nbformat_minor": 0
}
