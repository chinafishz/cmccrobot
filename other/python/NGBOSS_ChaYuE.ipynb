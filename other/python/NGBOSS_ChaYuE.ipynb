{
 "cells": [
  {
   "cell_type": "code",
   "execution_count": 1,
   "metadata": {},
   "outputs": [
    {
     "name": "stderr",
     "output_type": "stream",
     "text": [
      "/home/chinafishz/opt/anaconda/lib/python3.6/site-packages/urllib3/connectionpool.py:858: InsecureRequestWarning: Unverified HTTPS request is being made. Adding certificate verification is strongly advised. See: https://urllib3.readthedocs.io/en/latest/advanced-usage.html#ssl-warnings\n",
      "  InsecureRequestWarning)\n",
      "/home/chinafishz/opt/anaconda/lib/python3.6/site-packages/urllib3/connectionpool.py:858: InsecureRequestWarning: Unverified HTTPS request is being made. Adding certificate verification is strongly advised. See: https://urllib3.readthedocs.io/en/latest/advanced-usage.html#ssl-warnings\n",
      "  InsecureRequestWarning)\n"
     ]
    },
    {
     "name": "stdout",
     "output_type": "stream",
     "text": [
      "8683055196954785065\n"
     ]
    },
    {
     "name": "stderr",
     "output_type": "stream",
     "text": [
      "/home/chinafishz/opt/anaconda/lib/python3.6/site-packages/urllib3/connectionpool.py:858: InsecureRequestWarning: Unverified HTTPS request is being made. Adding certificate verification is strongly advised. See: https://urllib3.readthedocs.io/en/latest/advanced-usage.html#ssl-warnings\n",
      "  InsecureRequestWarning)\n",
      "/home/chinafishz/opt/anaconda/lib/python3.6/site-packages/urllib3/connectionpool.py:858: InsecureRequestWarning: Unverified HTTPS request is being made. Adding certificate verification is strongly advised. See: https://urllib3.readthedocs.io/en/latest/advanced-usage.html#ssl-warnings\n",
      "  InsecureRequestWarning)\n",
      "/home/chinafishz/opt/anaconda/lib/python3.6/site-packages/urllib3/connectionpool.py:858: InsecureRequestWarning: Unverified HTTPS request is being made. Adding certificate verification is strongly advised. See: https://urllib3.readthedocs.io/en/latest/advanced-usage.html#ssl-warnings\n",
      "  InsecureRequestWarning)\n",
      "/home/chinafishz/opt/anaconda/lib/python3.6/site-packages/urllib3/connectionpool.py:858: InsecureRequestWarning: Unverified HTTPS request is being made. Adding certificate verification is strongly advised. See: https://urllib3.readthedocs.io/en/latest/advanced-usage.html#ssl-warnings\n",
      "  InsecureRequestWarning)\n"
     ]
    },
    {
     "name": "stdout",
     "output_type": "stream",
     "text": [
      "已经发送短信验证码\n"
     ]
    },
    {
     "name": "stderr",
     "output_type": "stream",
     "text": [
      "/home/chinafishz/opt/anaconda/lib/python3.6/site-packages/urllib3/connectionpool.py:858: InsecureRequestWarning: Unverified HTTPS request is being made. Adding certificate verification is strongly advised. See: https://urllib3.readthedocs.io/en/latest/advanced-usage.html#ssl-warnings\n",
      "  InsecureRequestWarning)\n"
     ]
    },
    {
     "name": "stdout",
     "output_type": "stream",
     "text": [
      "验证码:600666\n",
      "正在登陆，请稍后...\n"
     ]
    },
    {
     "name": "stderr",
     "output_type": "stream",
     "text": [
      "/home/chinafishz/opt/anaconda/lib/python3.6/site-packages/urllib3/connectionpool.py:858: InsecureRequestWarning: Unverified HTTPS request is being made. Adding certificate verification is strongly advised. See: https://urllib3.readthedocs.io/en/latest/advanced-usage.html#ssl-warnings\n",
      "  InsecureRequestWarning)\n",
      "/home/chinafishz/opt/anaconda/lib/python3.6/site-packages/urllib3/connectionpool.py:858: InsecureRequestWarning: Unverified HTTPS request is being made. Adding certificate verification is strongly advised. See: https://urllib3.readthedocs.io/en/latest/advanced-usage.html#ssl-warnings\n",
      "  InsecureRequestWarning)\n",
      "/home/chinafishz/opt/anaconda/lib/python3.6/site-packages/urllib3/connectionpool.py:858: InsecureRequestWarning: Unverified HTTPS request is being made. Adding certificate verification is strongly advised. See: https://urllib3.readthedocs.io/en/latest/advanced-usage.html#ssl-warnings\n",
      "  InsecureRequestWarning)\n",
      "/home/chinafishz/opt/anaconda/lib/python3.6/site-packages/urllib3/connectionpool.py:858: InsecureRequestWarning: Unverified HTTPS request is being made. Adding certificate verification is strongly advised. See: https://urllib3.readthedocs.io/en/latest/advanced-usage.html#ssl-warnings\n",
      "  InsecureRequestWarning)\n",
      "/home/chinafishz/opt/anaconda/lib/python3.6/site-packages/urllib3/connectionpool.py:858: InsecureRequestWarning: Unverified HTTPS request is being made. Adding certificate verification is strongly advised. See: https://urllib3.readthedocs.io/en/latest/advanced-usage.html#ssl-warnings\n",
      "  InsecureRequestWarning)\n",
      "/home/chinafishz/opt/anaconda/lib/python3.6/site-packages/urllib3/connectionpool.py:858: InsecureRequestWarning: Unverified HTTPS request is being made. Adding certificate verification is strongly advised. See: https://urllib3.readthedocs.io/en/latest/advanced-usage.html#ssl-warnings\n",
      "  InsecureRequestWarning)\n",
      "/home/chinafishz/opt/anaconda/lib/python3.6/site-packages/urllib3/connectionpool.py:858: InsecureRequestWarning: Unverified HTTPS request is being made. Adding certificate verification is strongly advised. See: https://urllib3.readthedocs.io/en/latest/advanced-usage.html#ssl-warnings\n",
      "  InsecureRequestWarning)\n",
      "/home/chinafishz/opt/anaconda/lib/python3.6/site-packages/urllib3/connectionpool.py:858: InsecureRequestWarning: Unverified HTTPS request is being made. Adding certificate verification is strongly advised. See: https://urllib3.readthedocs.io/en/latest/advanced-usage.html#ssl-warnings\n",
      "  InsecureRequestWarning)\n",
      "/home/chinafishz/opt/anaconda/lib/python3.6/site-packages/urllib3/connectionpool.py:858: InsecureRequestWarning: Unverified HTTPS request is being made. Adding certificate verification is strongly advised. See: https://urllib3.readthedocs.io/en/latest/advanced-usage.html#ssl-warnings\n",
      "  InsecureRequestWarning)\n",
      "/home/chinafishz/opt/anaconda/lib/python3.6/site-packages/urllib3/connectionpool.py:858: InsecureRequestWarning: Unverified HTTPS request is being made. Adding certificate verification is strongly advised. See: https://urllib3.readthedocs.io/en/latest/advanced-usage.html#ssl-warnings\n",
      "  InsecureRequestWarning)\n",
      "/home/chinafishz/opt/anaconda/lib/python3.6/site-packages/urllib3/connectionpool.py:858: InsecureRequestWarning: Unverified HTTPS request is being made. Adding certificate verification is strongly advised. See: https://urllib3.readthedocs.io/en/latest/advanced-usage.html#ssl-warnings\n",
      "  InsecureRequestWarning)\n"
     ]
    },
    {
     "name": "stdout",
     "output_type": "stream",
     "text": [
      "{'data': [{'driverType': 'CUSTOM_BOSS_SYSTEM', 'idName': '34de96aaa2874d649a4f929e7480442b#BOSS', 'resNUM': 'BOSSAPP', 'loginURL': 'http://gz.boss.gmcc.net/boss/index2.jsp', 'hasDueAcc': False, 'ip': '10.243.211.131', 'appResClientList': '5L|GwebAppByIEL|GwebAppByIEL|GL|GlocalL|G', 'groupName': '业务支持中心--专业系统--BOSS系统--华为BOSS前台', 'name': 'BOSS', 'appResAccountList': '41a48a0604bd47448fd62c1c2ef9911fL|GL|G0L|GAGZGT0000829L|Gnull', 'isSsoService': 'yes', 'isUserDefine': 'no', 'ssoMode': 'ticket', 'hasAccount': True, 'restype': '应用资源', 'id': '34de96aaa2874d649a4f929e7480442b'}, {'driverType': 'APPRESOURCE', 'idName': '72e09b98b7c84a41b13b9f3bcfca693f#业支NGESOP', 'resNUM': 'YZNGESOPFOSHAN', 'loginURL': 'http://ngesop.boss.gmcc.net/csp/bsf/from4ALogin.action', 'hasDueAcc': False, 'ip': '10.243.215.225', 'appResClientList': '5L|GwebAppByIEL|GwebAppByIEL|GL|GlocalL|G', 'groupName': '业务支持中心--专业系统--NGESOP--NGESOP前台', 'name': '业支NGESOP', 'appResAccountList': '0b82c939f4ef497a8cea8397e6d898d2L|G1111L|G0L|GAGZGT0000829L|Gnull', 'isSsoService': 'yes', 'isUserDefine': 'no', 'ssoMode': 'ticket', 'hasAccount': True, 'restype': '应用资源', 'id': '72e09b98b7c84a41b13b9f3bcfca693f'}, {'driverType': 'APPRESOURCE', 'idName': 'c930f75e6cfd40de875430ae2843fafa#广东移动NGESOP系统', 'resNUM': 'NGESOP_KRF5', 'loginURL': 'http://esop.boss.gmcc.net/csp/bsf/from4ALogin.action', 'hasDueAcc': False, 'ip': '10.252.150.131', 'appResClientList': '5L|GwebAppByIEL|GwebAppByIEL|GL|GlocalL|G', 'groupName': '业务支持中心--专业系统--NGESOP--NGESOP前台_新', 'name': '广东移动NGESOP系统', 'appResAccountList': '08fab4dce4d144ceb2ad51ebe37e66bdL|G1111L|GnullL|GAGZGT0000829L|Gnull', 'isSsoService': 'yes', 'isUserDefine': 'no', 'ssoMode': 'ticket', 'hasAccount': True, 'restype': '应用资源', 'id': 'c930f75e6cfd40de875430ae2843fafa'}, {'driverType': 'CUSTOM_SJWG_SYSTEM', 'idName': 'bcae27c1375f4afe9534ec110a3d9955#已失效1', 'resNUM': 'WWNOAS_1', 'loginURL': 'http://10.201.63.100_1', 'hasDueAcc': False, 'ip': '10.201.63.100', 'appResClientList': '', 'groupName': '省网管维护中心--性能管理室--信令监测--应用层系统--集中性能管理系统', 'name': '已失效1', 'appResAccountList': '2197775afaba4dcfa5af99ba1fac7db8L|GL|G1L|GshizhongxiaL|Gnull', 'isSsoService': 'yes', 'isUserDefine': 'no', 'ssoMode': 'ticket', 'hasAccount': True, 'restype': '应用资源', 'id': 'bcae27c1375f4afe9534ec110a3d9955'}, {'driverType': 'APPRESOURCE', 'idName': '318c665182814a85a9ea35efe6573185#广州NGBOSS前台', 'resNUM': 'YZNGBOSSGUANGZHOU', 'loginURL': 'http://10.252.17.241:80/csp/bsf/from4ALogin.action', 'hasDueAcc': False, 'ip': '10.252.17.241', 'appResClientList': '5L|GwebAppByIEL|GwebAppByIEL|GL|GlocalL|G', 'groupName': '业务支持中心--专业系统--NGBOSS--广州NGBOSS前台', 'name': '广州NGBOSS前台', 'appResAccountList': '32d659d1e5af4deb9a94447357e828c4L|G1111L|GnullL|GAGZGT0000829L|Gnull', 'isSsoService': 'yes', 'isUserDefine': 'no', 'ssoMode': 'ticket', 'hasAccount': True, 'restype': '应用资源', 'id': '318c665182814a85a9ea35efe6573185'}, {'driverType': 'APPRESOURCE', 'idName': '9ac7827d64ce46a59f49109fef386276#ESOP应用系统', 'resNUM': 'ESOPAPP', 'loginURL': 'http://esop.boss.gmcc.net/esop/PortalCRM.action?intcommandid=System4APlat', 'hasDueAcc': False, 'ip': '10.243.215.60', 'appResClientList': '5L|GwebAppByIEL|GwebAppByIEL|GL|GlocalL|G', 'groupName': '业务支持中心--专业系统--ESOP前台', 'name': 'ESOP应用系统', 'appResAccountList': '23c0f866dc5e42e2a313302d1d2f5ecdL|GL|G9L|GAGZGT0000829L|Gnull', 'isSsoService': 'yes', 'isUserDefine': 'no', 'ssoMode': 'ticket', 'hasAccount': True, 'restype': '应用资源', 'id': '9ac7827d64ce46a59f49109fef386276'}], 'pageInfo': {'pageSize': 50, 'totalRowNum': 6, 'pageNum': 1}}\n",
      "32d659d1e5af4deb9a94447357e828c4L|G1111L|GnullL|GAGZGT0000829L|Gnull\n",
      "-----------测试是否登陆BOSS成功-----------\n"
     ]
    },
    {
     "name": "stderr",
     "output_type": "stream",
     "text": [
      "/home/chinafishz/opt/anaconda/lib/python3.6/site-packages/urllib3/connectionpool.py:858: InsecureRequestWarning: Unverified HTTPS request is being made. Adding certificate verification is strongly advised. See: https://urllib3.readthedocs.io/en/latest/advanced-usage.html#ssl-warnings\n",
      "  InsecureRequestWarning)\n",
      "/home/chinafishz/opt/anaconda/lib/python3.6/site-packages/urllib3/connectionpool.py:858: InsecureRequestWarning: Unverified HTTPS request is being made. Adding certificate verification is strongly advised. See: https://urllib3.readthedocs.io/en/latest/advanced-usage.html#ssl-warnings\n",
      "  InsecureRequestWarning)\n",
      "/home/chinafishz/opt/anaconda/lib/python3.6/site-packages/urllib3/connectionpool.py:858: InsecureRequestWarning: Unverified HTTPS request is being made. Adding certificate verification is strongly advised. See: https://urllib3.readthedocs.io/en/latest/advanced-usage.html#ssl-warnings\n",
      "  InsecureRequestWarning)\n",
      "/home/chinafishz/opt/anaconda/lib/python3.6/site-packages/urllib3/connectionpool.py:858: InsecureRequestWarning: Unverified HTTPS request is being made. Adding certificate verification is strongly advised. See: https://urllib3.readthedocs.io/en/latest/advanced-usage.html#ssl-warnings\n",
      "  InsecureRequestWarning)\n",
      "/home/chinafishz/opt/anaconda/lib/python3.6/site-packages/urllib3/connectionpool.py:858: InsecureRequestWarning: Unverified HTTPS request is being made. Adding certificate verification is strongly advised. See: https://urllib3.readthedocs.io/en/latest/advanced-usage.html#ssl-warnings\n",
      "  InsecureRequestWarning)\n"
     ]
    }
   ],
   "source": [
    "import cn_class_4alogin\n",
    "import requests\n",
    "import sys\n",
    "\n",
    "\n",
    "r=requests.session()\n",
    "header={'User-Agent':'Mozilla/5.0 (X11; Linux x86_64; rv:44.0) Gecko/20100101 Firefox/44.0','Accept-Language':'en-US,en;q=0.5'}\n",
    "\n",
    "json2=cn_class_4alogin.cn_4ALogin(r,'qWER1234','41608446240A6782F2A0F031426EDC066CF24674F3F0586AF1E3983438A09296AE43CD3FF48B98732AFC16E3455713846069ED5C9B03B580')\n",
    "cn_class_4alogin.cn_BossLogin(r,json2)"
   ]
  },
  {
   "cell_type": "code",
   "execution_count": 5,
   "metadata": {},
   "outputs": [
    {
     "name": "stdout",
     "output_type": "stream",
     "text": [
      "帐户余额,23.86,未缴月结,0.00\n"
     ]
    }
   ],
   "source": [
    "import random\n",
    "from bs4  import BeautifulSoup\n",
    "# cn_searchNumber='1064856049573'\n",
    "def cn_ngboss_chayue(r,cn_searchNumber):\n",
    "    cn_subsId=''\n",
    "    cn_searchType='servNumber'\n",
    "    cn_random='0.'+str(random.randint(100000000000000,999999999999999))+str(random.randint(1,9))\n",
    "    url='http://10.252.17.241/ngcustcare/chargesrv/common/qryRelateSubs.action?servNumber='+cn_searchNumber+'&isSupportGrp=undefined&random='+cn_random\n",
    "    result=r.get(url)\n",
    "    soup=BeautifulSoup(result.text,'lxml')\n",
    "# #     print soup\n",
    "    cn_subsId=soup.find(attrs={\"name\":\"subsId\"}).attrs['value']\n",
    "# #     print cn_subsId\n",
    "    url='http://10.252.17.241/ngcustcare/chargesrv/accountInfoQry/balanceQry/query.action'\n",
    "    parmas={\"subsId\":cn_subsId,\"searchType\":cn_searchType,'searchNumber':cn_searchNumber,'balanceType':'CanUse','curAcctId':'2004031799852'}\n",
    "    result=r.post(url,data=parmas)\n",
    "    soup=BeautifulSoup(result.text,'lxml')\n",
    "#     cn_latefee=''.join(soup.select('.table_list03')[1].select('#latefee')[1].text).split()[0]\n",
    "    temp=soup.select('.table_list03')[1]\n",
    "    return ''.join(temp.select('td')[4].text).split()[0]+','+''.join(temp.select('td')[5].text).split()[0] +','+''.join(temp.select('td')[18].text).split()[0]+','+''.join(temp.select('td')[19].text).split()[0]\n",
    "#     return cn_latefee\n",
    "\n",
    "print(cn_ngboss_chayue(r,\"13632105362\"))"
   ]
  },
  {
   "cell_type": "code",
   "execution_count": 6,
   "metadata": {},
   "outputs": [
    {
     "data": {
      "text/plain": [
       "'帐户余额,0.00,未缴月结,3.00'"
      ]
     },
     "execution_count": 6,
     "metadata": {},
     "output_type": "execute_result"
    }
   ],
   "source": [
    "cn_ngboss_chayue(r,\"18498615702\")"
   ]
  },
  {
   "cell_type": "code",
   "execution_count": null,
   "metadata": {
    "collapsed": true
   },
   "outputs": [],
   "source": []
  },
  {
   "cell_type": "code",
   "execution_count": null,
   "metadata": {},
   "outputs": [],
   "source": [
    "for i in range(67):\n",
    "    parmas={'pageSize':'5','page':i+2,\"width\":\"741\",\"height\":\"14\"}\n",
    "    result=r.post('http://10.252.17.241/nguniteview/layoutAction.do?method=showView&ownerType=1&viewId=308',data=parmas)\n",
    "    # print result.text\n",
    "    soup1=BeautifulSoup(result.text,'lxml')\n",
    "    for i in range(5):\n",
    "        if i%2==0:\n",
    "            print soup1.select('#rows')[i].select('.lv_tb_content_tr_td_white')[1].text\n",
    "        elif i%2==1:\n",
    "            print soup1.select('#rows')[i].select('.lv_tb_content_tr_td_gray')[1].text"
   ]
  },
  {
   "cell_type": "code",
   "execution_count": null,
   "metadata": {},
   "outputs": [],
   "source": [
    "url1='http://10.252.17.241/ngcustcare/chargesrv/accountInfoQry/init.action?currentTabID=CS_100110081054'\n",
    "url2='http://10.252.17.241/csp/bsf/usualLink.action'\n",
    "url3='http://10.252.17.241/ngcustcare/backreception/commonFunctional/commonFunctionalAction!getCurrAuthTypeMode.action?'\n",
    "url4='http://10.252.17.241/csp/mif/topSearchForNG.action?staffId=AGZGT0000829'\n",
    "print url4\n",
    "result=r.get(url3)\n",
    "print result.text"
   ]
  },
  {
   "cell_type": "code",
   "execution_count": null,
   "metadata": {},
   "outputs": [],
   "source": [
    "#看出号码状态\n",
    "from bs4  import BeautifulSoup\n",
    "import random\n",
    "def cn_cookies(cookies):\n",
    "        cookies = dict()\n",
    "        for i in r.cookies.get_dict('10.252.17.241'):\n",
    "            cookies[i]=r.cookies.get(i,'','10.252.17.241')\n",
    "        cookies['bsacKF']='NGCRM_BOSS'\n",
    "        cookies['com.huawei.boss.CONTACTID']='null'\n",
    "        cookies['com.huawei.boss.CURRENT_MENUID']='CS_100110081054'\n",
    "        cookies['com.huawei.boss.CURRENT_TAB']='CS_100110081054'\n",
    "        cookies['com.huawei.boss.CURRENT_USER']='com.huawei.boss.NO_CURRENT_USER'\n",
    "        cookies['GZCOMM']='r_GZ_CRM_WEB2_1082'\n",
    "        cookies['GZCRM']='r_GZ_CRM_WEB2_1181'\n",
    "        return cookies\n",
    "    \n",
    "def cn_phone_status(r,cn_phoneNum):\n",
    "    header={'User-Agent':'Mozilla/5.0 (compatible; MSIE 10.0; Windows NT 6.2; WOW64; Trident/6.0; SE 2.X MetaSr 1.0)','Accept':'*/*','Accept-Language':'zh-cn','Accept-Encoding':'gzip, deflate'}\n",
    "    cn_random='0.'+str(random.randint(100000000000000,999999999999999))+str(random.randint(1,9))\n",
    "    url='http://10.252.17.241/ngcustcare/chargesrv/common/relateSubs.action?servNumber='+cn_phoneNum+'&isSupportGrp=undefined&random='+cn_random\n",
    "    cookie=cn_cookies(r.cookies)\n",
    "#     print cookie\n",
    "    result=r.post(url,cookies=cookie)\n",
    "    print result.cookies\n",
    "    soup=BeautifulSoup(result.text,'lxml')\n",
    "    print soup\n",
    "#     return soup.find(attrs={\"name\":\"status\"}).attrs['value'],soup.find(attrs={\"name\":\"entityName\"}).attrs['value']\n",
    "#     return soup.find(attrs={\"name\":\"status\"}).attrs['value']\n",
    "print cn_phone_status(r,'13922204911')"
   ]
  },
  {
   "cell_type": "code",
   "execution_count": 7,
   "metadata": {},
   "outputs": [
    {
     "name": "stdout",
     "output_type": "stream",
     "text": [
      "92\n",
      "===end===\n"
     ]
    }
   ],
   "source": [
    "import time\n",
    "from datetime import datetime\n",
    "import os\n",
    "\n",
    "cn_list='18498615702;18498615703;18498615704;18498615705;18498615706;18498615707;18498615708;18498615709;18498615710;18498615676;18498615677;18498615678;18498615680;18498615681;18498615682;18498615699;18498615684;18498615700;18498615683;18498615685;18498615698;18498615697;18498615694;18498615695;18498615686;18498615689;18498615688;18498615687;18498615691;18498615692;18498615211;18498615214;18498615213;18498615225;18498615212;18498615217;18498615216;18498615215;18498615218;18498615219;18498615220;18498615693;18498615690;18498615250;18498615222;18498615224;18498615221;18498615223;18498615227;18498615226;18498615228;18498615232;18498615231;18498615230;18498615234;18498615229;18498615233;18498615249;18498615235;18498615237;18498615236;18498615247;18498615246;18498615245;18498615248;18498615239;18498615238;18498615240;18498615242;18498615244;18498615241;18498615243;18498615502;18498615501;18498615505;18498615507;18498615506;18498615508;18498615503;18498615504;18498615510;18498615511;18498615516;18498615515;18498615509;18498615512;18498615513;18498615514;18498615696;18498615519;18498615518;18498615517'\n",
    "a=cn_list.split(';')\n",
    "cn_a_count=len(a)\n",
    "print(cn_a_count)\n",
    "i=0\n",
    "for cn_phonNnum in a:\n",
    "    i=i+1\n",
    "    cn_yue=cn_ngboss_chayue(r,cn_phonNnum)\n",
    "\n",
    "    cn_file=open('abc','a')\n",
    "    cn_file.write(\"\\n\"+str(i)+','+str(cn_phonNnum)+','+cn_yue)\n",
    "    cn_file.close()\n",
    "    time.sleep(1)\n",
    "cn_file=open('abc','a')\n",
    "cn_file.write(\"\\n=========end===========\")  \n",
    "cn_file.close()\n",
    "print('===end===')"
   ]
  },
  {
   "cell_type": "code",
   "execution_count": null,
   "metadata": {},
   "outputs": [],
   "source": [
    "from bs4  import BeautifulSoup\n",
    "import random\n",
    "import time\n",
    "from datetime import datetime\n",
    "\n",
    "def abc(sss,i):\n",
    "    return sss.select('input')[i].attrs['name']+\"=\"+sss.select('input')[i].attrs['value']+\"&\"\n",
    "\n",
    "def cn_shujujieshi(ss):\n",
    "    s=''\n",
    "    sss=BeautifulSoup(ss,'lxml').select('.mw_form')[0]\n",
    "    for i in range(190):\n",
    "        s=s+abc(sss,i)\n",
    "    return s+'remotemac='\n",
    "\n",
    "def cn_chashengyuliuliang(r,cn_phoneNum,cn_pwd):\n",
    "    \n",
    "    header={'User-Agent':'Mozilla/5.0 (compatible; MSIE 10.0; Windows NT 6.2; WOW64; Trident/6.0; SE 2.X MetaSr 1.0)','Accept':'*/*','Accept-Language':'zh-cn','Accept-Encoding':'gzip, deflate'}\n",
    "    header2={'User-Agent':'Mozilla/5.0 (compatible; MSIE 10.0; Windows NT 6.2; WOW64; Trident/6.0; SE 2.X MetaSr 1.0)','Accept':'*/*','Accept-Language':'zh-cn','Accept-Encoding':'gzip, deflate','X-Requested-With':'XMLHttpRequest'}\n",
    "    header3={'User-Agent':'Mozilla/5.0 (compatible; MSIE 10.0; Windows NT 6.2; WOW64; Trident/6.0; SE 2.X MetaSr 1.0)','Accept':'image/jpeg,application/x-ms-application,image/gif,application/xaml+xml,image/pjpeg, application/x-ms-xbap','Accept-Language':'zh-CN','Accept-Encoding':'gzip, deflate'}\n",
    " \n",
    "    # # ---------号码认证---------\n",
    "    cookies=cn_cookies(r.cookies)\n",
    "    parmas={\"certID\":\"\",\"isCert2G\":\"\",\"rndPswd\":\"\",\"verifyCode\":\"\",\"domainType\":\"\",\"servNumber\":cn_phonNnum,\"pswd\":cn_pwd,\"authCheckMode\":\"AuthCheckB\",\"certType\":\"IdCard\",\"ONLYLOGIN\":\"onlyLogin\",\"custType\":\"PersonCustomer\",\"method\":\"qryCustInfo\",\"withoutPassValidate\":\"TRUE\"}\n",
    "    result=r.post('http://10.252.17.241/ngcustcare/custlogin/qryCustInfo.action',cookies=cookies,data=parmas,headers=header2)\n",
    "    s=result.text\n",
    "#     print s\n",
    "    temp=s.find('curCustId')\n",
    "    cn_curCustId=s[temp+12:temp+25]\n",
    "    # # ---------获取最重要数据---------\n",
    "    cookies=cn_cookies2(r.cookies,cn_phoneNum)\n",
    "    s=r.get('http://10.252.17.241/ngcustcare/uniteview/uviewtwo/uvDisper.action?currentTabID=BOSS^'+cn_phoneNum+'^100110121062~'+cn_phoneNum,cookies=cookies,headers=header3)\n",
    "\n",
    "# # 视图\n",
    "    parmas={\"width\":\"741\",\"height\":\"14\"}\n",
    "    url='http://10.252.17.241/nguniteview/bossviewhome.jsp?'+cn_shujujieshi(s.text)\n",
    "#     print url\n",
    "    result=r.post('http://10.252.17.241/nguniteview/bossviewhome.jsp?ccm_ObjectID=&ccm_RandomNum=&ccdirect=false&ccm_EntityID=2006750442323&ccm_EntityName=%C9%CF%BA%A3%B8%BB%D3%D1%D6%A7%B8%B6%B7%FE%CE%F1%D3%D0%CF%DE%B9%AB%CB%BE&ccm_CreateDate=2013-08-01+14%3A08%3A28&ccm_Status=stcmNml&ccm_StatusDate=2013-08-01+14%3A08%3A28&ccm_EditStatus=0&ccm_Region=200&ccm_ShortName=&ccm_Password=66668888&ccm_CustType=PersonCustomer&ccm_VipType=VC0000&ccm_Foreigner=0&ccm_CustClass1=CustClass101&ccm_CustClass2=CustClass201&ccm_National=China&ccm_Address=%B9%E3%D6%DD%CA%D0%CC%EC%BA%D3%C7%F8%E1%AF%B4%E5%CA%A5%CC%C3%B4%F3%BD%D6%B9%A4%D2%B5%C7%F83%BA%C54%C2%A5%D6%AE%B6%FE458%B7%BF&ccm_CertID=310115001854598&ccm_CertType=BusinessLicence&ccm_CertAddr=%C9%CF%BA%A3%CA%D0%D5%C5%BD%AD%B8%DF%BF%C6%BC%BC%D4%B0%C7%F8%BF%A8%D4%B0%B6%FE%C2%B7108%BA%C58%B4%B1201B%CA%D2&ccm_LinkMan=%D0%EC%D5%F1%B7%C9&ccm_LinkPhone=13788933654&ccm_HomeTel=13788933654&ccm_OfficeTel=&ccm_MobileTel=13788933654&ccm_PostCode=&ccm_LinkAddr=%B9%E3%D6%DD%CA%D0%CC%EC%BA%D3%C7%F8%E1%AF%B4%E5%CA%A5%CC%C3%B4%F3%BD%D6%B9%A4%D2%B5%C7%F83%BA%C54%C2%A5%D6%AE%B6%FE458%B7%BF&ccm_Email=&ccm_HomePage=&ccm_IsMergeBill=0&ccm_CreditLevel=crdtNormal&ccm_OwnerAreaID=AAGZ0TZZI&ccm_OrgID=AAGZ0TZZI&ccm_RegStatus=1&ccm_Notes=%BF%CD%BB%A7%BE%AD%C0%ED%CA%A9%D6%D9%CF%C4%CC%E1%B9%A9%C5%FA%C1%BF%BF%CD%BB%A7%D7%CA%C1%CF%C2%BC%C8%EB&ccm_ResponseCustMgr=&ccm_CurrentCustMgr=&ccm_InLevel=0&ccm_TownID=&ccm_VipTypeStateDate=&ccm_NetServGrade=&ccm_CustAddrArray=%5B%5D&ccm_CustBillArray=%5B%5D&ccm_IsEncrypt=1&ccm_starLevel=&ccregister=true&ccnotRegister=false&csm_ObjectID=&csm_RandomNum=&csdirect=false&csm_EntityID=2006739176529&csm_EntityName=%C9%CF%BA%A3%B8%BB%D3%D1%D6%A7%B8%B6%B7%FE%CE%F1%D3%D0%CF%DE%B9%AB%CB%BE&csm_CreateDate=******&csm_Status=US10&csm_StatusDate=******&csm_EditStatus=0&csm_Region=200&csm_Password=MTIzMTIz&csm_ProductID=1032&csm_ServNumber=15728737252&csm_RegisterOrgID=AAGZ0TZZI&csm_OwnerOrgID=AAGZ0TZZI&csm_AccountOid=20030004500628&csm_CustomerOid=2006750442323&csm_AuthType=AuthCheckB&csm_MobileType=mbtpNml&csm_AreaID=&csm_PayMode=2010&csm_StopKey=00000000&csm_Brand=BrandGotone&csm_StartDate=2013-08-01+14%3A08%3A28&csm_InvalidDate=2099-12-31+00%3A00%3A00&csm_SettleDay=1&csm_Enum=898600A2191386077109&csm_Imsi=460077287387109&csm_Credit=0&csm_SubsProduct=%5B%5D&csm_IsDefaultTelNum=1&csm_BelongRegion=0&csm_TargetRegion=0&csm_CretLevel=&csgotone=true&csnotGotone=false&cam_ObjectID=&cam_RandomNum=&cadirect=false&cam_EntityID=20030004500628&cam_EntityName=%D0%C2%D5%CB%BB%A7&cam_CreateDate=2013-08-01+14%3A08%3A28&cam_Status=stcmNml&cam_StatusDate=2013-08-01+14%3A08%3A28&cam_EditStatus=0&cam_Region=200&cam_CustID=2006750442323&cam_GroupAcctID=&cam_PrePayType=pptpPost&cam_AccountType=actpCmn&cam_OverDraft=0&cam_ControlScheme=1&cam_EntrustTel=&cam_OrgID=AAGZ0TZZI&cam_NotifyType=&cam_NotifyValue=0&cam_InvPrintType=InvPTpay&cam_Notes=&cam_PayChannelArray=%5B%5D&cam_CustBillArray=%5B%5D&cam_UrgeInfos=%5B%5D&cam_SettleAccount=&cam_IsDefault=1&cam_BillInvoiceMailArray=%5B%5D&cam_NotifyValueDisplay=0.00&cam_CreateDateDisplay=2013-08-01&com_ObjectID=&com_RandomNum=&comenuId=123456&codirect=false&com_EntityID=AGZGT0000829&com_EntityName=%CA%A9%D6%D9%CF%C4&com_CreateDate=2011-03-18+13%3A02%3A30&com_Status=1&com_StatusDate=2016-06-03+09%3A33%3A37&com_EditStatus=0&com_Region=200&conodeID=AGZGT0000829&conodeName=%CA%A9%D6%D9%CF%C4&conodeParentID=AAGZ0TZZ4&coentityID=AGZGT0000829&cootherParam=OPRT10&cochecked=false&com_MenuID=123456&com_ServNum=&com_TouchNum=&com_Password=22679489118F51B3739BC9B94BCA6FBB&com_OrgID=AAGZ0TZZ4&com_RoamOrgID=&com_PassChangeDate=2011-09-09+09%3A30%3A48&com_OperType=OPRT10&com_Manager=0&com_Level=&com_ContactPhone=13922204911&com_MacAddress=08-00-27-44-EC-99&com_OnDuty=0&com_ShareStore=&com_BirthDay=&com_WorkDate=&com_CertID=&com_Sex=&com_EducationLevel=&com_TotalLevel=&com_SkillLevel=&com_TrainLevel=&com_ComityLevel=&com_Operator_type=0&com_NativeHome=&com_graduateDate=&com_IsMarray=0&com_PolityFace=&com_HomeAddress=&com_JobLive=&com_NowPostID=&com_BloodType=&com_Healthy=&com_Character=&com_Enjoyful=&com_PriSocietyRelation=&com_FamilyDes=&com_StarLevel=&com_AssessRec=&com_hr_status=1&com_Restrict_time=0&com_Start_time=0&com_End_time=24&com_Enable_gprs=0&com_Gprs_starttime=0&com_Gprs_endtime=0&com_Check_mac=0&com_Mac=&com_IPAddress=10.244.32.49&costartUsingTime=2011-03-18+00%3A00%3A00&coendUsingTime=2038-01-01+00%3A00%3A00&com_QueueID=&com_InvVersion=&com_areaID=&servNumber=15728737252&transmit=layoutAction.do%3Fmethod%3DshowLayout%26layoutId%3D1%26viewId%3D0&recType=&stopKeyValue=%D5%FD%B3%A3%CA%B9%D3%C3&remotemac=',data=parmas,headers=header3)\n",
    "#     print result.text\n",
    "\n",
    "\n",
    "    cookies=cn_cookies2(r.cookies,cn_phoneNum)\n",
    "    parmas={\"width\":\"775\",\"height\":\"14\"}\n",
    "    result=r.post('http://10.252.17.241/nguniteview/layoutAction.do?method=showView&ownerType=1&viewId=208',cookies=cookies,data=parmas,headers=header2)\n",
    "    return result.text\n"
   ]
  },
  {
   "cell_type": "code",
   "execution_count": null,
   "metadata": {},
   "outputs": [],
   "source": [
    "\n",
    "cn_pwd ='3064018eedb20b0de6ee4dcfcf34403c6faf329fbfcce9da98222e0673e09ca0b66418c640e3abd5e9ab9dd08b020e47ca33f0c5421979e21f039c50ce16c34573412e847b4390859ef0a936903e48fe15a957a3f9cb22b9407b3df4ade1a7bdafeb17c48e1458477706754fb7601864a6d0c9f1d59a8bd57afd3569b412a334'    \n",
    "cn_phonNnum='15767483261'\n",
    "cn_result=cn_chashengyuliuliang(r,cn_phonNnum,cn_pwd)\n",
    "soup=BeautifulSoup(cn_result,'lxml')\n",
    "print '剩余',soup.select('.fv_tb_tr')[6].select('span')[0].text,'','','已经使用',soup.select('.fv_tb_tr')[7].select('span')[0].text\n",
    "\n"
   ]
  },
  {
   "cell_type": "code",
   "execution_count": null,
   "metadata": {},
   "outputs": [],
   "source": [
    "from bs4  import BeautifulSoup\n",
    "import random\n",
    "import time\n",
    "from datetime import datetime\n",
    "\n",
    "def cn_cookies(cookies):\n",
    "        cookies = dict()\n",
    "        for i in r.cookies.get_dict('10.252.17.241'):\n",
    "            cookies[i]=r.cookies.get(i,'','10.252.17.241')\n",
    "        cookies['bsacKF']='NGCRM_BOSS'\n",
    "        cookies['com.huawei.boss.CONTACTID']='null'\n",
    "        cookies['com.huawei.boss.CURRENT_MENUID']='123456'\n",
    "        cookies['com.huawei.boss.CURRENT_TAB']='123456'\n",
    "        cookies['com.huawei.boss.CURRENT_USER']='com.huawei.boss.NO_CURRENT_USER'\n",
    "        cookies['GZCOMM']='r_GZ_CRM_WEB2_1082'\n",
    "        cookies['GZCRM']='r_GZ_CRM_WEB2_1181'\n",
    "        return cookies\n",
    "\n",
    "def cn_cookies1(cookies,cn_phoneNum):\n",
    "        cookies = dict()\n",
    "        for i in r.cookies.get_dict('10.252.17.241'):\n",
    "            cookies[i]=r.cookies.get(i,'','10.252.17.241')\n",
    "        cookies['bsacKF']='NGCRM_BOSS'\n",
    "        cookies['com.huawei.boss.CONTACTID']='undefined'\n",
    "        cookies['com.huawei.boss.CURRENT_MENUID']='CS_100010021006'\n",
    "        cookies['com.huawei.boss.CURRENT_TAB']='BOSS%5E'+cn_phoneNum+'%5ECS_100010021006%7E'+cn_phoneNum\n",
    "        cookies['com.huawei.boss.CURRENT_USER']=cn_phoneNum\n",
    "        cookies['GZCOMM']='r_GZ_CRM_WEB2_1082'\n",
    "        cookies['GZCRM']='r_GZ_CRM_WEB2_1181'\n",
    "        cookies['MACAddr']='08-00-27-44-EC-99'\n",
    "        cookies['sDNSName']='gzshizhongxia'\n",
    "#         cookies['loginTicketCookie']='72B21A333D6659B1997ACB10C52A4279D3213E73EDA9C34A706E178FC53865BD'\n",
    "#         cookies['LIFE_TIME']='1468305181993_120'\n",
    "        return cookies\n",
    "#     \n",
    "\n",
    "def cn_cookies2(cookies,cn_phoneNum):\n",
    "        cookies = dict()\n",
    "        for i in r.cookies.get_dict('10.252.17.241'):\n",
    "            cookies[i]=r.cookies.get(i,'','10.252.17.241')\n",
    "        cookies['bsacKF']='NGCRM_BOSS'\n",
    "        cookies['com.huawei.boss.CONTACTID']='undefined'\n",
    "        cookies['com.huawei.boss.CURRENT_MENUID']='100110121062'\n",
    "        cookies['com.huawei.boss.CURRENT_TAB']='BOSS%5E'+cn_phoneNum+'%5E100110121062%7E'+cn_phoneNum\n",
    "        cookies['com.huawei.boss.CURRENT_USER']=cn_phoneNum\n",
    "        cookies['GZCOMM']='r_GZ_CRM_WEB1_1082'\n",
    "        cookies['GZCRM']='r_GZ_CRM_WEB2_1081'\n",
    "        cookies['MACAddr']='08-00-27-44-EC-99'\n",
    "        cookies['sDNSName']='gzshizhongxia'\n",
    "        return cookies\n",
    "#     \n",
    "\n",
    "  \n",
    "def cn_time_1():\n",
    "    localtime = time.localtime(time.time())\n",
    "    cn_tm_hour=''\n",
    "    cn_tm_min=''\n",
    "    cn_tm_se=''\n",
    "\n",
    "    if localtime.tm_hour<10:\n",
    "        cn_tm_hour='0'+str(localtime.tm_hour)\n",
    "    else:\n",
    "        cn_tm_hour=str(localtime.tm_hour)\n",
    "\n",
    "    if localtime.tm_min<10:\n",
    "        cn_tm_min='0'+str(localtime.tm_min)\n",
    "    else:\n",
    "        cn_tm_min=str(localtime.tm_min)\n",
    "\n",
    "    if localtime.tm_sec<10:\n",
    "        cn_tm_sec='0'+str(localtime.tm_sec)\n",
    "    else:\n",
    "        cn_tm_sec=str(localtime.tm_sec)\n",
    "\n",
    "    return u'Sun Jul 3 \"+cn_tm_hour+\":\"+cn_tm_min+\":\"+cn_tm_sec+\" UTC 0800 2016'\n",
    "\n",
    "\n",
    "    \n",
    "def cn_chatongzhenghaoma(r,cn_phoneNum,cn_pwd):\n",
    "    \n",
    "    header={'User-Agent':'Mozilla/5.0 (compatible; MSIE 10.0; Windows NT 6.2; WOW64; Trident/6.0; SE 2.X MetaSr 1.0)','Accept':'*/*','Accept-Language':'zh-cn','Accept-Encoding':'gzip, deflate'}\n",
    "    header2={'User-Agent':'Mozilla/5.0 (compatible; MSIE 10.0; Windows NT 6.2; WOW64; Trident/6.0; SE 2.X MetaSr 1.0)','Accept':'*/*','Accept-Language':'zh-cn','Accept-Encoding':'gzip, deflate','X-Requested-With':'XMLHttpRequest'}\n",
    "    header3={'User-Agent':'Mozilla/5.0 (compatible; MSIE 10.0; Windows NT 6.2; WOW64; Trident/6.0; SE 2.X MetaSr 1.0)','Accept':'image/jpeg,application/x-ms-application,image/gif,application/xaml+xml,image/pjpeg, application/x-ms-xbap','Accept-Language':'zh-CN','Accept-Encoding':'gzip, deflate'}\n",
    " \n",
    "    # # ---------号码认证---------\n",
    "    cookies=cn_cookies(r.cookies)\n",
    "    parmas={\"certID\":\"\",\"isCert2G\":\"\",\"rndPswd\":\"\",\"verifyCode\":\"\",\"domainType\":\"\",\"servNumber\":cn_phonNnum,\"pswd\":cn_pwd,\"authCheckMode\":\"AuthCheckB\",\"certType\":\"IdCard\",\"ONLYLOGIN\":\"onlyLogin\",\"custType\":\"PersonCustomer\",\"method\":\"qryCustInfo\",\"withoutPassValidate\":\"TRUE\"}\n",
    "    result=r.post('http://10.252.17.241/ngcustcare/custlogin/qryCustInfo.action',cookies=cookies,data=parmas,headers=header2)\n",
    "    s=result.text\n",
    "#     print s\n",
    "    temp=s.find('curCustId')\n",
    "    cn_curCustId=s[temp+12:temp+25]\n",
    "    # # ---------获取最重要数据---------\n",
    "    cookies=cn_cookies2(r.cookies,cn_phoneNum)\n",
    "    s=r.get('http://10.252.17.241/ngcustcare/uniteview/uviewtwo/uvDisper.action?currentTabID=BOSS^'+cn_phoneNum+'^100110121062~'+cn_phoneNum,cookies=cookies,headers=header3)\n",
    "#     print s.text\n",
    "# 视图\n",
    "    parmas={\"width\":\"741\",\"height\":\"14\"}\n",
    "    result=r.post('http://10.252.17.241/nguniteview/bossviewhome.jsp?ccm_ObjectID=&ccm_RandomNum=&ccdirect=false&ccm_EntityID=2006768527673&ccm_EntityName=%B9%E3%D6%DD%CA%D0%BB%D4%B2%CA%C3%B3%D2%D7%D3%D0%CF%DE%B9%AB%CB%BE&ccm_CreateDate=2014-10-23+16%3A09%3A28&ccm_Status=stcmNml&ccm_StatusDate=2014-10-23+16%3A09%3A28&ccm_EditStatus=0&ccm_Region=200&ccm_ShortName=&ccm_Password=66668888&ccm_CustType=PersonCustomer&ccm_VipType=VC0000&ccm_Foreigner=0&ccm_CustClass1=CustClass101&ccm_CustClass2=CustClass201&ccm_National=China&ccm_Address=&ccm_CertID=440104000189235&ccm_CertType=BusinessLicence&ccm_CertAddr=%B9%E3%D6%DD%CA%D0%BA%A3%D6%E9%C7%F8%B8%A3%B3%A1%C2%B75%BA%C526%C2%A52601-2615%B7%BF&ccm_LinkMan=&ccm_LinkPhone=&ccm_HomeTel=&ccm_OfficeTel=&ccm_MobileTel=&ccm_PostCode=&ccm_LinkAddr=&ccm_Email=&ccm_HomePage=&ccm_IsMergeBill=0&ccm_CreditLevel=crdtNormal&ccm_OwnerAreaID=AAGZ0TZZ0&ccm_OrgID=AAGZ0TZZ0&ccm_RegStatus=1&ccm_Notes=%D0%AD%D6%FA%BF%CD%BB%A7%BE%AD%C0%ED%CA%A9%D6%D9%CF%C4FQ20141022068&ccm_ResponseCustMgr=&ccm_CurrentCustMgr=&ccm_InLevel=0&ccm_TownID=&ccm_VipTypeStateDate=&ccm_NetServGrade=&ccm_CustAddrArray=%5B%5D&ccm_CustBillArray=%5B%5D&ccm_IsEncrypt=1&ccm_starLevel=&ccregister=true&ccnotRegister=false&csm_ObjectID=&csm_RandomNum=&csdirect=false&csm_EntityID=2006779738242&csm_EntityName=%B9%E3%D6%DD%CA%D0%BB%D4%B2%CA%C3%B3%D2%D7%D3%D0%CF%DE%B9%AB%CB%BE&csm_CreateDate=******&csm_Status=US30&csm_StatusDate=******&csm_EditStatus=0&csm_Region=200&csm_Password=MTIzMTIz&csm_ProductID=1032&csm_ServNumber=14714103629&csm_RegisterOrgID=AAGZ0TZZ0&csm_OwnerOrgID=AAGZ0TZZ0&csm_AccountOid=20030022268366&csm_CustomerOid=2006768527673&csm_AuthType=AuthCheckB&csm_MobileType=mbtpNml&csm_AreaID=&csm_PayMode=2010&csm_StopKey=00020000&csm_Brand=BrandGotone&csm_StartDate=2014-10-23+16%3A09%3A27&csm_InvalidDate=2099-12-31+00%3A00%3A00&csm_SettleDay=1&csm_Enum=898600D1191406132572&csm_Imsi=460079140251007&csm_Credit=0&csm_SubsProduct=%5B%5D&csm_IsDefaultTelNum=1&csm_BelongRegion=0&csm_TargetRegion=0&csm_CretLevel=&csgotone=true&csnotGotone=false&cam_ObjectID=&cam_RandomNum=&cadirect=false&cam_EntityID=20030022268366&cam_EntityName=%D0%C2%D5%CB%BB%A7&cam_CreateDate=2014-10-23+16%3A09%3A28&cam_Status=stcmNml&cam_StatusDate=2014-10-23+16%3A09%3A28&cam_EditStatus=0&cam_Region=200&cam_CustID=2006768527673&cam_GroupAcctID=&cam_PrePayType=pptpPost&cam_AccountType=actpCmn&cam_OverDraft=0&cam_ControlScheme=1&cam_EntrustTel=&cam_OrgID=AAGZ0TZZ0&cam_NotifyType=&cam_NotifyValue=0&cam_InvPrintType=InvPTpay&cam_Notes=&cam_PayChannelArray=%5B%5D&cam_CustBillArray=%5B%5D&cam_UrgeInfos=%5B%5D&cam_SettleAccount=&cam_IsDefault=1&cam_BillInvoiceMailArray=%5B%5D&cam_NotifyValueDisplay=0.00&cam_CreateDateDisplay=2014-10-23&com_ObjectID=&com_RandomNum=&comenuId=100110121062&cointeractiveId=undefined&codirect=false&com_EntityID=AGZGT0000829&com_EntityName=%CA%A9%D6%D9%CF%C4&com_CreateDate=2011-03-18+13%3A02%3A30&com_Status=1&com_StatusDate=2016-06-03+09%3A33%3A37&com_EditStatus=0&com_Region=200&conodeID=AGZGT0000829&conodeName=%CA%A9%D6%D9%CF%C4&conodeParentID=AAGZ0TZZ4&coentityID=AGZGT0000829&cootherParam=OPRT10&cochecked=false&com_MenuID=100110121062&com_ServNum=&com_TouchNum=&com_Password=22679489118F51B3739BC9B94BCA6FBB&com_OrgID=AAGZ0TZZ4&com_RoamOrgID=&com_PassChangeDate=2011-09-09+09%3A30%3A48&com_OperType=OPRT10&com_Manager=0&com_Level=&com_ContactPhone=13922204911&com_MacAddress=08-00-27-44-EC-99&com_OnDuty=0&com_ShareStore=&com_BirthDay=&com_WorkDate=&com_CertID=&com_Sex=&com_EducationLevel=&com_TotalLevel=&com_SkillLevel=&com_TrainLevel=&com_ComityLevel=&com_Operator_type=0&com_NativeHome=&com_graduateDate=&com_IsMarray=0&com_PolityFace=&com_HomeAddress=&com_JobLive=&com_NowPostID=&com_BloodType=&com_Healthy=&com_Character=&com_Enjoyful=&com_PriSocietyRelation=&com_FamilyDes=&com_StarLevel=&com_AssessRec=&com_hr_status=1&com_Restrict_time=0&com_Start_time=0&com_End_time=24&com_Enable_gprs=0&com_Gprs_starttime=0&com_Gprs_endtime=0&com_Check_mac=0&com_Mac=&com_IPAddress=10.244.32.49&costartUsingTime=2011-03-18+00%3A00%3A00&coendUsingTime=2038-01-01+00%3A00%3A00&com_QueueID=&com_InvVersion=&com_areaID=&servNumber=14714103629&transmit=layoutAction.do%3Fmethod%3DshowLayout%26layoutId%3D1%26viewId%3D0&recType=&stopKeyValue=%C9%EA%C7%EB%CD%A3%BB%FA+&remotemac=08-00-27-44-EC-99%2C08-00-27-91-D7-4B%2C08-00-27-1C-2D-02',data=parmas,headers=header3)\n",
    "    \n",
    "\n",
    "\n",
    "    cookies=cn_cookies2(r.cookies,cn_phoneNum)\n",
    "    parmas={\"width\":\"741\",\"height\":\"14\"}\n",
    "    result=r.post('http://10.252.17.241/nguniteview/layoutAction.do?method=showView&ownerType=1&viewId=308',cookies=cookies,data=parmas,headers=header2)\n",
    "    return result.text\n",
    "    \n",
    "# cn_pwd ='3064018eedb20b0de6ee4dcfcf34403c6faf329fbfcce9da98222e0673e09ca0b66418c640e3abd5e9ab9dd08b020e47ca33f0c5421979e21f039c50ce16c34573412e847b4390859ef0a936903e48fe15a957a3f9cb22b9407b3df4ade1a7bdafeb17c48e1458477706754fb7601864a6d0c9f1d59a8bd57afd3569b412a334'    \n",
    "# cn_phonNnum='14714103629'\n",
    "# cn_result=cn_chatongzhenghaoma(r,cn_phonNnum,cn_pwd)"
   ]
  },
  {
   "cell_type": "code",
   "execution_count": null,
   "metadata": {
    "collapsed": true
   },
   "outputs": [],
   "source": []
  }
 ],
 "metadata": {
  "anaconda-cloud": {},
  "kernelspec": {
   "display_name": "Python 3",
   "language": "python",
   "name": "python3"
  },
  "language_info": {
   "codemirror_mode": {
    "name": "ipython",
    "version": 3
   },
   "file_extension": ".py",
   "mimetype": "text/x-python",
   "name": "python",
   "nbconvert_exporter": "python",
   "pygments_lexer": "ipython3",
   "version": "3.6.4"
  }
 },
 "nbformat": 4,
 "nbformat_minor": 1
}
