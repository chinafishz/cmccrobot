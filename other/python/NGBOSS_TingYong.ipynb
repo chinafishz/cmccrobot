{
 "cells": [
  {
   "cell_type": "code",
   "execution_count": 1,
   "metadata": {
    "scrolled": true
   },
   "outputs": [
    {
     "name": "stdout",
     "output_type": "stream",
     "text": [
      "验证码:432876\n"
     ]
    }
   ],
   "source": [
    "import cn_class_4alogin\n",
    "import requests\n",
    "import sys\n",
    "reload(sys)\n",
    "sys.setdefaultencoding( \"utf-8\" )\n",
    "\n",
    "r=requests.session()\n",
    "header={'User-Agent':'Mozilla/5.0 (X11; Linux x86_64; rv:44.0) Gecko/20100101 Firefox/44.0','Accept-Language':'en-US,en;q=0.5'}\n",
    "\n",
    "json2=cn_class_4alogin.cn_4ALogin(r,'1@34qWer','41608446240A6782F2A0F031426EDC066CF24674F3F0586AF1E3983438A09296B7F89368DA14DEAB7C256D62346762770768A4F7DFE431F4')\n",
    "cn_class_4alogin.cn_BossLogin(r,json2)"
   ]
  },
  {
   "cell_type": "code",
   "execution_count": 2,
   "metadata": {},
   "outputs": [
    {
     "ename": "NameError",
     "evalue": "name 'BeautifulSoup' is not defined",
     "output_type": "error",
     "traceback": [
      "\u001b[0;31m---------------------------------------------------------------------------\u001b[0m",
      "\u001b[0;31mNameError\u001b[0m                                 Traceback (most recent call last)",
      "\u001b[0;32m<ipython-input-2-6875930b9860>\u001b[0m in \u001b[0;36m<module>\u001b[0;34m()\u001b[0m\n\u001b[1;32m      1\u001b[0m \u001b[0mresult\u001b[0m\u001b[0;34m=\u001b[0m\u001b[0mr\u001b[0m\u001b[0;34m.\u001b[0m\u001b[0mget\u001b[0m\u001b[0;34m(\u001b[0m\u001b[0;34m'http://10.252.17.241/ngcustcare/chargesrv/accountInfoQry/balanceFlowQry/init.action'\u001b[0m\u001b[0;34m)\u001b[0m\u001b[0;34m\u001b[0m\u001b[0m\n\u001b[0;32m----> 2\u001b[0;31m \u001b[0msoup\u001b[0m\u001b[0;34m=\u001b[0m\u001b[0mBeautifulSoup\u001b[0m\u001b[0;34m(\u001b[0m\u001b[0mresult\u001b[0m\u001b[0;34m.\u001b[0m\u001b[0mtext\u001b[0m\u001b[0;34m,\u001b[0m\u001b[0;34m'lxml'\u001b[0m\u001b[0;34m)\u001b[0m\u001b[0;34m\u001b[0m\u001b[0m\n\u001b[0m\u001b[1;32m      3\u001b[0m \u001b[0;32mprint\u001b[0m \u001b[0msoup\u001b[0m\u001b[0;34m\u001b[0m\u001b[0m\n",
      "\u001b[0;31mNameError\u001b[0m: name 'BeautifulSoup' is not defined"
     ]
    }
   ],
   "source": [
    "result=r.get('http://10.252.17.241/ngcustcare/chargesrv/accountInfoQry/balanceFlowQry/init.action')\n",
    "soup=BeautifulSoup(result.text,'lxml')\n",
    "print soup"
   ]
  },
  {
   "cell_type": "code",
   "execution_count": 11,
   "metadata": {
    "scrolled": true
   },
   "outputs": [],
   "source": [
    "#看出号码状态\n",
    "from bs4  import BeautifulSoup\n",
    "import random\n",
    "\n",
    "def cn_phone_status(r,cn_phoneNum):\n",
    "    header={'User-Agent':'Mozilla/5.0 (compatible; MSIE 10.0; Windows NT 6.2; WOW64; Trident/6.0; SE 2.X MetaSr 1.0)','Accept':'*/*','Accept-Language':'zh-cn','Accept-Encoding':'gzip, deflate'}\n",
    "    cn_random='0.'+str(random.randint(100000000000000,999999999999999))+str(random.randint(1,9))\n",
    "    result=r.post('http://10.252.17.241/ngcustcare/chargesrv/common/qryRelateSubs.action?servNumber='+cn_phoneNum+'&isSupportGrp=undefined&random='+cn_random,headers=header)\n",
    "    soup=BeautifulSoup(result.text,'lxml')\n",
    "#     print soup\n",
    "    return soup.find(attrs={\"name\":\"status\"}).attrs['value']\n"
   ]
  },
  {
   "cell_type": "code",
   "execution_count": 17,
   "metadata": {},
   "outputs": [
    {
     "data": {
      "text/plain": [
       "'US10'"
      ]
     },
     "execution_count": 17,
     "metadata": {},
     "output_type": "execute_result"
    }
   ],
   "source": [
    "cn_phone_status(r,'13430354188')"
   ]
  },
  {
   "cell_type": "code",
   "execution_count": 8,
   "metadata": {},
   "outputs": [],
   "source": [
    "#操作停用\n",
    "\n",
    "from bs4  import BeautifulSoup\n",
    "import random\n",
    "import time\n",
    "from datetime import datetime\n",
    "\n",
    "def cn_cookies(cookies):\n",
    "        cookies = dict()\n",
    "        for i in r.cookies.get_dict('10.252.17.241'):\n",
    "            cookies[i]=r.cookies.get(i,'','10.252.17.241')\n",
    "        cookies['bsacKF']='NGCRM_BOSS'\n",
    "        cookies['com.huawei.boss.CONTACTID']='null'\n",
    "        cookies['com.huawei.boss.CURRENT_MENUID']='123456'\n",
    "        cookies['com.huawei.boss.CURRENT_TAB']='123456'\n",
    "        cookies['com.huawei.boss.CURRENT_USER']='com.huawei.boss.NO_CURRENT_USER'\n",
    "        cookies['GZCOMM']='r_GZ_CRM_WEB1_1082'\n",
    "        cookies['GZCRM']='r_GZ_CRM_WEB2_1081'\n",
    "        return cookies\n",
    "\n",
    "def cn_cookies1(cookies,cn_phoneNum):\n",
    "        cookies = dict()\n",
    "        for i in r.cookies.get_dict('10.252.17.241'):\n",
    "            cookies[i]=r.cookies.get(i,'','10.252.17.241')\n",
    "        cookies['bsacKF']='NGCRM_BOSS'\n",
    "        cookies['com.huawei.boss.CONTACTID']='undefined'\n",
    "        cookies['com.huawei.boss.CURRENT_MENUID']='CS_100010021006'\n",
    "        cookies['com.huawei.boss.CURRENT_TAB']='BOSS%5E'+cn_phoneNum+'%5ECS_100010021006%7E'+cn_phoneNum\n",
    "        cookies['com.huawei.boss.CURRENT_USER']=cn_phoneNum\n",
    "        cookies['GZCOMM']='r_GZ_CRM_WEB1_1082'\n",
    "        cookies['GZCRM']='r_GZ_CRM_WEB2_1081'\n",
    "        cookies['MACAddr']='08-00-27-44-EC-99'\n",
    "        cookies['sDNSName']='gzshizhongxia'\n",
    "#         cookies['loginTicketCookie']='72B21A333D6659B1997ACB10C52A4279D3213E73EDA9C34A706E178FC53865BD'\n",
    "#         cookies['LIFE_TIME']='1468305181993_120'\n",
    "        return cookies\n",
    "#     \n",
    "\n",
    "def cn_cookies2(cookies,cn_phoneNum):\n",
    "        cookies = dict()\n",
    "        for i in r.cookies.get_dict('10.252.17.241'):\n",
    "            cookies[i]=r.cookies.get(i,'','10.252.17.241')\n",
    "        cookies['bsacKF']='NGCRM_BOSS'\n",
    "        cookies['com.huawei.boss.CONTACTID']='undefined'\n",
    "        cookies['com.huawei.boss.CURRENT_MENUID']='100110121062'\n",
    "        cookies['com.huawei.boss.CURRENT_TAB']='BOSS%5E'+cn_phoneNum+'%5E100110121062%7E'+cn_phoneNum\n",
    "        cookies['com.huawei.boss.CURRENT_USER']=cn_phoneNum\n",
    "        cookies['GZCOMM']='r_GZ_CRM_WEB1_1082'\n",
    "        cookies['GZCRM']='r_GZ_CRM_WEB2_1081'\n",
    "        cookies['MACAddr']='08-00-27-44-EC-99'\n",
    "        cookies['sDNSName']='gzshizhongxia'\n",
    "        return cookies\n",
    "#     \n",
    "\n",
    "  \n",
    "def cn_time_1():\n",
    "    localtime = time.localtime(time.time())\n",
    "    cn_tm_hour=''\n",
    "    cn_tm_min=''\n",
    "    cn_tm_se=''\n",
    "\n",
    "    if localtime.tm_hour<10:\n",
    "        cn_tm_hour='0'+str(localtime.tm_hour)\n",
    "    else:\n",
    "        cn_tm_hour=str(localtime.tm_hour)\n",
    "\n",
    "    if localtime.tm_min<10:\n",
    "        cn_tm_min='0'+str(localtime.tm_min)\n",
    "    else:\n",
    "        cn_tm_min=str(localtime.tm_min)\n",
    "\n",
    "    if localtime.tm_sec<10:\n",
    "        cn_tm_sec='0'+str(localtime.tm_sec)\n",
    "    else:\n",
    "        cn_tm_sec=str(localtime.tm_sec)\n",
    "\n",
    "    return u'Sun Jul 3 \"+cn_tm_hour+\":\"+cn_tm_min+\":\"+cn_tm_sec+\" UTC 0800 2016'\n",
    "\n",
    "\n",
    "    \n",
    "def cn_tingyong(r,cn_phoneNum,cn_pwd):\n",
    "    \n",
    "    header={'User-Agent':'Mozilla/5.0 (compatible; MSIE 10.0; Windows NT 6.2; WOW64; Trident/6.0; SE 2.X MetaSr 1.0)','Accept':'*/*','Accept-Language':'zh-cn','Accept-Encoding':'gzip, deflate'}\n",
    "    header2={'User-Agent':'Mozilla/5.0 (compatible; MSIE 10.0; Windows NT 6.2; WOW64; Trident/6.0; SE 2.X MetaSr 1.0)','Accept':'*/*','Accept-Language':'zh-cn','Accept-Encoding':'gzip, deflate','X-Requested-With':'XMLHttpRequest'}\n",
    "    header3={'User-Agent':'Mozilla/5.0 (compatible; MSIE 10.0; Windows NT 6.2; WOW64; Trident/6.0; SE 2.X MetaSr 1.0)','Accept':'image/jpeg,application/x-ms-application,image/gif,application/xaml+xml,image/pjpeg, application/x-ms-xbap','Accept-Language':'zh-CN','Accept-Encoding':'gzip, deflate'}\n",
    "\n",
    "\n",
    "    \n",
    "    \n",
    "    # # ---------号码认证---------\n",
    "    cookies=cn_cookies(r.cookies)\n",
    "    parmas={\"certID\":\"\",\"isCert2G\":\"\",\"rndPswd\":\"\",\"verifyCode\":\"\",\"domainType\":\"\",\"servNumber\":cn_phonNnum,\"pswd\":cn_pwd,\"authCheckMode\":\"AuthCheckB\",\"certType\":\"IdCard\",\"ONLYLOGIN\":\"onlyLogin\",\"custType\":\"PersonCustomer\",\"method\":\"qryCustInfo\",\"withoutPassValidate\":\"TRUE\"}\n",
    "    result=r.post('http://10.252.17.241/ngcustcare/custlogin/qryCustInfo.action',cookies=cookies,data=parmas,headers=header2)\n",
    "    s=result.text\n",
    "#     print s\n",
    "    temp=s.find('curCustId')\n",
    "    cn_curCustId=s[temp+12:temp+25]\n",
    "    \n",
    "\n",
    "    # # ---------获取最重要数据---------\n",
    "    cookies=cn_cookies2(r.cookies,cn_phoneNum)\n",
    "    r.get('http://10.252.17.241/ngcustcare/uniteview/uviewtwo/uvDisper.action?currentTabID=BOSS^'+cn_phoneNum+'^100110121062~'+cn_phoneNum,cookies=cookies,headers=header3)\n",
    "#     print s.text\n",
    "\n",
    "\n",
    "    cookies=cn_cookies1(r.cookies,cn_phoneNum)\n",
    "    r.get(\"http://10.252.17.241/ngcustcare/custsvc/stopopen/mainInit.action?currentTabID=BOSS^\"+cn_phonNnum+\"^CS_100010021006~\"+cn_phonNnum,cookies=cookies,headers=header3)\n",
    "#     print s.text\n",
    "\n",
    "\n",
    "    #获取hiddenTokenName\n",
    "    s1=r.get('http://10.252.17.241/ngcustcare/common/submits/unitCommonSubmit.action?flow=productOrientedFlow&version=1.01',cookies=cookies,headers=header)\n",
    "    soup1=BeautifulSoup(s1.text,'lxml')\n",
    "    cn_hiddenTokenName1=soup1.find(attrs={\"name\":\"hiddenTokenName\"}).attrs['value']\n",
    "    cn_hiddenTokenName_value1=soup1.find(attrs={\"name\":cn_hiddenTokenName1}).attrs['value']\n",
    "#     print soup1\n",
    "#     print cn_hiddenTokenName1\n",
    "#     print cn_hiddenTokenName_value1\n",
    "\n",
    "\n",
    "\n",
    "#     cn_random='0.'+str(random.randint(1000000000000000,9999999999999999))+str(random.randint(1,9))\n",
    "\n",
    "    cookies=cn_cookies1(r.cookies,cn_phoneNum)\n",
    "    parmas={'recType':'StopSubs'}\n",
    "    r.post('http://10.252.17.241/ngcustcare/common/commCheckRecRule.action',data=parmas,cookies=cookies,headers=header)\n",
    "#     print s_temp.text\n",
    "    \n",
    "    cookies=cn_cookies1(r.cookies,cn_phoneNum)\n",
    "    r.get(\"http://10.252.17.241/ngcustcare/custsvc/stopopen/bussRuleCheck.action?newStopKey=00020000\",cookies=cookies,headers=header3)\n",
    "    \n",
    "    \n",
    "    \n",
    "    #算费\n",
    "#     print r.cookies\n",
    "    cookies=cn_cookies1(r.cookies,cn_phoneNum)\n",
    "#     print cookies\n",
    "    parmas={'stopOpenMemo':'','stopOpenType':'00020000',cn_hiddenTokenName1:cn_hiddenTokenName_value1,'stopOpenReason':'c','hiddenTokenName':cn_hiddenTokenName1}\n",
    "    s2=r.post('http://10.252.17.241/ngcustcare/custsvc/stopopen/stopOpenCommit.action',data=parmas,cookies=cookies,headers=header3)\n",
    "    soup2=BeautifulSoup(s2.text,'lxml')\n",
    "#     print soup2\n",
    "    cn_hiddenTokenName2=soup2.find(attrs={\"name\":\"hiddenTokenName\"}).attrs['value']\n",
    "    cn_hiddenTokenName_value2=soup2.find(attrs={\"name\":cn_hiddenTokenName2}).attrs['value']\n",
    "#     print cn_hiddenTokenName_value\n",
    "\n",
    "    #提交\n",
    "    parmas={\"PreBussOrderId\":\"\",\"withdrawGoods\":\"\",\"payTypeBean.cashAmt\":\"\",\"payTypeBean.chequeAmt\":\"\",\"payTypeBean.bankId\":\"\",\"payTypeBean.bankName\":\"\",\"payTypeBean.chequeNum\":\"\",\"payTypeBean.cardAmt\":\"\",\"payTypeBean.posNum\":\"\",\"payTypeBean.confirmPosNum\":\"\",\"payTypeBean.acctCash\":\"\",\"payTypeBean.acctId\":\"-1\",\"payTypeBean.scoreCash\":\"\",\"payTypeBean.score\":\"\",\"payTypeBean.scoreTransRule\":\"1/1\",\"payTypeBean.m\":\"0\",\"payTypeBean.mTransRule\":\"1/1\",\"payTypeBean.bankAmt\":\"\",'payTypeBean.separateAmt':'','payTypeBean.separateBankId':'GH','payTypeBean.separateBankName':u'工行','payTypeBean.separateBankAcct':'','payTypeBean.separateBankUserName':'','payTypeBean.separatePosNum':'',\"payTypeBean.limitCash\":\"\",\"payTypeBean.unlimitCash\":\"\",\"BARGAINFEEXML\":\"\",\"CHANGEFEEBYBARGAINXML\":\"@260@263xml@232version@261@2341@2460@234@232encoding@261@234UTF@2458@234@263@262@260huawei@295call@262@260i@262common@247fee@247@242@260@247i@262@260e@262changeFeeByBargain@260@247e@262@260p@262@260m@262@260n@2620@260@247n@262@260t@262a@260@247t@262@260v@\",\"UPDATEPAYTYPEBYPAGEDATAXML\":\"@260@263xml@232version@261@2341@2460@234@232encoding@261@234UTF@2458@234@263@262@260huawei@295call@262@260i@262common@247fee@247@242@260@247i@262@260e@262updatePayTypeByPageData@260@247e@262@260p@262@260m@262@260n@2620@260@247n@262@260t@262a@260@247t@262@\",\"reccustinfo_name\":\"\",\"reccustinfo_phone\":\"\",\"reccustinfo_certificateType\":\"IdCard\",\"reccustinfo_certificateNum\":\"440103198607251838\",\"reccustinfo_address\":\"\",\"reccustinfo_note\":\"\",\"invoicePrintMode\":\"\",\"hiddenTokenName\":cn_hiddenTokenName2,cn_hiddenTokenName2:cn_hiddenTokenName_value2,\"receiptNumber\":\"00000000\",\"invoiceType\":\"1\",\"assembleInvoice\":\"0\",\"invoiceNumber\":\"00000000\",\"isForPaging\":\"OLD\",\"changeEnumRecType\":\"\"}\n",
    "    s=r.post('http://10.252.17.241/ngcustcare/common/fee/pay.action',data=parmas,cookies=cookies,headers=header3)\n",
    "    return ''.join(BeautifulSoup(s.text,'lxml').select('.title_boldtext')[0].text.split())\n",
    "    \n",
    "#     print s.text"
   ]
  },
  {
   "cell_type": "code",
   "execution_count": 28,
   "metadata": {},
   "outputs": [],
   "source": [
    "cn_pwd ='3064018eedb20b0de6ee4dcfcf34403c6faf329fbfcce9da98222e0673e09ca0b66418c640e3abd5e9ab9dd08b020e47ca33f0c5421979e21f039c50ce16c34573412e847b4390859ef0a936903e48fe15a957a3f9cb22b9407b3df4ade1a7bdafeb17c48e1458477706754fb7601864a6d0c9f1d59a8bd57afd3569b412a334'\n",
    "\n",
    "cn_phonNnum='14716870039'\n",
    "print cn_tingyong(r,cn_phonNnum,cn_pwd)"
   ]
  },
  {
   "cell_type": "code",
   "execution_count": null,
   "metadata": {
    "collapsed": true
   },
   "outputs": [],
   "source": []
  },
  {
   "cell_type": "code",
   "execution_count": 31,
   "metadata": {
    "scrolled": false
   },
   "outputs": [],
   "source": [
    "### import time\n",
    "from datetime import datetime\n",
    "\n",
    "    \n",
    "cn_pwd ='3064018eedb20b0de6ee4dcfcf34403c6faf329fbfcce9da98222e0673e09ca0b66418c640e3abd5e9ab9dd08b020e47ca33f0c5421979e21f039c50ce16c34573412e847b4390859ef0a936903e48fe15a957a3f9cb22b9407b3df4ade1a7bdafeb17c48e1458477706754fb7601864a6d0c9f1d59a8bd57afd3569b412a334'\n",
    "\n",
    "cn_list='14714107954;14714190758;14716753011;14716753012;14716868975;14716869375;14714107939;14716753015;14716803386;14716867910;14716868226;14716870039;14716939132;14714107940;14714107948;14714107950;14714149715;14714190391;14716867990;14714103628;14778468862'\n",
    "a=cn_list.split(';')\n",
    "cn_a_count=len(a)\n",
    "print cn_a_count\n",
    "i=0\n",
    "cn_time1=0\n",
    "cn_time2=0\n",
    "\n",
    "for cn_phonNnum in a:\n",
    "    status=''\n",
    "    i=i+1\n",
    "    try:\n",
    "        status=cn_phone_status(r,cn_phonNnum)\n",
    "#         print status\n",
    "        if(status=='US10'):\n",
    "            time.sleep(1)\n",
    "            result=cn_tingyong(r,cn_phonNnum,cn_pwd)\n",
    "            endTime=datetime.now()-startTime\n",
    "            if(result!=u'操作成功'):\n",
    "                endTime=datetime.now()-startTime\n",
    "                print i,cn_phonNnum,status,result,endTime\n",
    "                continue\n",
    "            print i,cn_phonNnum,status,result,endTime          \n",
    "        elif(status=='US30'):\n",
    "            endTime=datetime.now()-startTime\n",
    "            print i,cn_phonNnum,status,'无需操作',endTime\n",
    "        else:\n",
    "            endTime=datetime.now()-startTime\n",
    "            print i,cn_phonNnum,'NONE:'+status,endTime\n",
    "    except:\n",
    "        endTime=datetime.now()-startTime\n",
    "        print i,cn_phonNnum,status,'错误SHORT',endTime\n",
    "        continue\n",
    "    \n",
    "#    time.sleep(1)\n",
    "    \n",
    "#     if(datetime.now().hour==23 & datetime.now().minute>18):\n",
    "#         \n",
    "\n",
    "    "
   ]
  },
  {
   "cell_type": "code",
   "execution_count": null,
   "metadata": {
    "collapsed": true
   },
   "outputs": [],
   "source": []
  }
 ],
 "metadata": {
  "anaconda-cloud": {},
  "kernelspec": {
   "display_name": "Python 3",
   "language": "python",
   "name": "python3"
  },
  "language_info": {
   "codemirror_mode": {
    "name": "ipython",
    "version": 3
   },
   "file_extension": ".py",
   "mimetype": "text/x-python",
   "name": "python",
   "nbconvert_exporter": "python",
   "pygments_lexer": "ipython3",
   "version": "3.6.1"
  }
 },
 "nbformat": 4,
 "nbformat_minor": 1
}
