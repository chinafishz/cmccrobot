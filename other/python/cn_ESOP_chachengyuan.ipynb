{
 "cells": [
  {
   "cell_type": "code",
   "execution_count": 3,
   "metadata": {},
   "outputs": [],
   "source": [
    "#-*-encoding:utf-8-*-\n",
    "import requests\n",
    "from bs4  import BeautifulSoup\n",
    "import random\n",
    "import json\n",
    "import time\n",
    "import _thread\n",
    "\n",
    "           \n",
    "def cn_json_load(json2,cn_system):\n",
    "    cn_i=0\n",
    "    for i in json2.get('data'):\n",
    "        ss=i.get('name')\n",
    "        if ss==cn_system:\n",
    "            break\n",
    "        cn_i=cn_i+1\n",
    "    appResAccountList=json2.get('data')[cn_i].get('appResAccountList').split('|')[0][:-1]\n",
    "    id_num=json2.get('data')[cn_i].get('id')\n",
    "    return [appResAccountList,id_num]\n",
    "           \n",
    "           \n",
    "def cn_ESOPLogin(r,json2,isProxy=0,proxyIp='7.175.57.56',proxyPort='8083'):\n",
    "    if isProxy==0:\n",
    "        proxy={}\n",
    "    elif(isProxy==1):\n",
    "        proxy={'http':proxyIp+':'+proxyPort,'https':proxyIp+':'+proxyPort}\n",
    "    \n",
    "    header={'User-Agent':'Mozilla/5.0 (Windows NT 6.2; WOW64; rv:42.0) Gecko/20100101 Firefox/42.0','Accept':'text/html,application/xhtml+xml,application/xml;q=0.9,*/*;q=0.8','Accept-Language':'en-US,en;q=0.5','Accept-Encoding':'gzip, deflate'}\n",
    "    #点击ESOP登陆\n",
    "    cn_temp=cn_json_load(json2,u'广东移动NGESOP系统')\n",
    "    appResAccountList=cn_temp[0]\n",
    "    id_num=cn_temp[1]\n",
    "\n",
    "\n",
    "    #同步数据\n",
    "    r.post('https://4a.gmcc.net/keystore.do',data={'method':'getKeyStoreList'},headers=header,proxies=proxy,verify=False)\n",
    "    r.post('https://4a.gmcc.net/page/resource/resourceQuery.do?',data={'method':'isAuthDateValid','subaccName':'AGZGT0000829'},headers=header,proxies=proxy,verify=False)\n",
    "    params2={'method':'checkPolicy4JK','resId':id_num,'resAccId':appResAccountList,'date':str(time.time()).replace('.','')+str(random.randint(1,9))}\n",
    "    result2=r.post('https://4a.gmcc.net/page/jk/sso/appJKLogin.do',data=params2,headers=header,proxies=proxy,verify=False)\n",
    "    params2={'method':'queryLoginJKStatus','resId':id_num,'resAccId':appResAccountList,'date':str(time.time()).replace('.','')+str(random.randint(1,9))}\n",
    "    r.post('https://4a.gmcc.net/page/jk/sso/appJKLogin.do',data=params2,headers=header,proxies=proxy,verify=False)\n",
    "    params2={'method':'wantGetMACAddress','resId':id_num}\n",
    "    r.post('https://4a.gmcc.net/sso.do',data=params2,headers=header,proxies=proxy,verify=False)\n",
    "    url2='https://4a.gmcc.net/sso.do?method=appssoData&accID='+appResAccountList+'&resID='+id_num+'&softname=webAppByIE&date='+str(time.time()).replace('.','')+str(random.randint(1,9))\n",
    "    print('-----------测试是否登陆ESOP成功-----------')\n",
    "    s=r.get(url2,headers=header,proxies=proxy,allow_redirects=True,verify=False)\n",
    "    print(s.text)\n",
    "    \n"
   ]
  },
  {
   "cell_type": "code",
   "execution_count": 4,
   "metadata": {},
   "outputs": [
    {
     "name": "stderr",
     "output_type": "stream",
     "text": [
      "/home/chinafishz/opt/anaconda/lib/python3.6/site-packages/urllib3/connectionpool.py:858: InsecureRequestWarning: Unverified HTTPS request is being made. Adding certificate verification is strongly advised. See: https://urllib3.readthedocs.io/en/latest/advanced-usage.html#ssl-warnings\n",
      "  InsecureRequestWarning)\n",
      "/home/chinafishz/opt/anaconda/lib/python3.6/site-packages/urllib3/connectionpool.py:858: InsecureRequestWarning: Unverified HTTPS request is being made. Adding certificate verification is strongly advised. See: https://urllib3.readthedocs.io/en/latest/advanced-usage.html#ssl-warnings\n",
      "  InsecureRequestWarning)\n"
     ]
    },
    {
     "name": "stdout",
     "output_type": "stream",
     "text": [
      "866123263365787344\n"
     ]
    },
    {
     "name": "stderr",
     "output_type": "stream",
     "text": [
      "/home/chinafishz/opt/anaconda/lib/python3.6/site-packages/urllib3/connectionpool.py:858: InsecureRequestWarning: Unverified HTTPS request is being made. Adding certificate verification is strongly advised. See: https://urllib3.readthedocs.io/en/latest/advanced-usage.html#ssl-warnings\n",
      "  InsecureRequestWarning)\n",
      "/home/chinafishz/opt/anaconda/lib/python3.6/site-packages/urllib3/connectionpool.py:858: InsecureRequestWarning: Unverified HTTPS request is being made. Adding certificate verification is strongly advised. See: https://urllib3.readthedocs.io/en/latest/advanced-usage.html#ssl-warnings\n",
      "  InsecureRequestWarning)\n",
      "/home/chinafishz/opt/anaconda/lib/python3.6/site-packages/urllib3/connectionpool.py:858: InsecureRequestWarning: Unverified HTTPS request is being made. Adding certificate verification is strongly advised. See: https://urllib3.readthedocs.io/en/latest/advanced-usage.html#ssl-warnings\n",
      "  InsecureRequestWarning)\n",
      "/home/chinafishz/opt/anaconda/lib/python3.6/site-packages/urllib3/connectionpool.py:858: InsecureRequestWarning: Unverified HTTPS request is being made. Adding certificate verification is strongly advised. See: https://urllib3.readthedocs.io/en/latest/advanced-usage.html#ssl-warnings\n",
      "  InsecureRequestWarning)\n",
      "/home/chinafishz/opt/anaconda/lib/python3.6/site-packages/urllib3/connectionpool.py:858: InsecureRequestWarning: Unverified HTTPS request is being made. Adding certificate verification is strongly advised. See: https://urllib3.readthedocs.io/en/latest/advanced-usage.html#ssl-warnings\n",
      "  InsecureRequestWarning)\n"
     ]
    },
    {
     "name": "stdout",
     "output_type": "stream",
     "text": [
      "已经发送短信验证码\n",
      "验证码:131583\n",
      "正在登陆，请稍后...\n"
     ]
    },
    {
     "name": "stderr",
     "output_type": "stream",
     "text": [
      "/home/chinafishz/opt/anaconda/lib/python3.6/site-packages/urllib3/connectionpool.py:858: InsecureRequestWarning: Unverified HTTPS request is being made. Adding certificate verification is strongly advised. See: https://urllib3.readthedocs.io/en/latest/advanced-usage.html#ssl-warnings\n",
      "  InsecureRequestWarning)\n",
      "/home/chinafishz/opt/anaconda/lib/python3.6/site-packages/urllib3/connectionpool.py:858: InsecureRequestWarning: Unverified HTTPS request is being made. Adding certificate verification is strongly advised. See: https://urllib3.readthedocs.io/en/latest/advanced-usage.html#ssl-warnings\n",
      "  InsecureRequestWarning)\n",
      "/home/chinafishz/opt/anaconda/lib/python3.6/site-packages/urllib3/connectionpool.py:858: InsecureRequestWarning: Unverified HTTPS request is being made. Adding certificate verification is strongly advised. See: https://urllib3.readthedocs.io/en/latest/advanced-usage.html#ssl-warnings\n",
      "  InsecureRequestWarning)\n",
      "/home/chinafishz/opt/anaconda/lib/python3.6/site-packages/urllib3/connectionpool.py:858: InsecureRequestWarning: Unverified HTTPS request is being made. Adding certificate verification is strongly advised. See: https://urllib3.readthedocs.io/en/latest/advanced-usage.html#ssl-warnings\n",
      "  InsecureRequestWarning)\n",
      "/home/chinafishz/opt/anaconda/lib/python3.6/site-packages/urllib3/connectionpool.py:858: InsecureRequestWarning: Unverified HTTPS request is being made. Adding certificate verification is strongly advised. See: https://urllib3.readthedocs.io/en/latest/advanced-usage.html#ssl-warnings\n",
      "  InsecureRequestWarning)\n",
      "/home/chinafishz/opt/anaconda/lib/python3.6/site-packages/urllib3/connectionpool.py:858: InsecureRequestWarning: Unverified HTTPS request is being made. Adding certificate verification is strongly advised. See: https://urllib3.readthedocs.io/en/latest/advanced-usage.html#ssl-warnings\n",
      "  InsecureRequestWarning)\n",
      "/home/chinafishz/opt/anaconda/lib/python3.6/site-packages/urllib3/connectionpool.py:858: InsecureRequestWarning: Unverified HTTPS request is being made. Adding certificate verification is strongly advised. See: https://urllib3.readthedocs.io/en/latest/advanced-usage.html#ssl-warnings\n",
      "  InsecureRequestWarning)\n",
      "/home/chinafishz/opt/anaconda/lib/python3.6/site-packages/urllib3/connectionpool.py:858: InsecureRequestWarning: Unverified HTTPS request is being made. Adding certificate verification is strongly advised. See: https://urllib3.readthedocs.io/en/latest/advanced-usage.html#ssl-warnings\n",
      "  InsecureRequestWarning)\n",
      "/home/chinafishz/opt/anaconda/lib/python3.6/site-packages/urllib3/connectionpool.py:858: InsecureRequestWarning: Unverified HTTPS request is being made. Adding certificate verification is strongly advised. See: https://urllib3.readthedocs.io/en/latest/advanced-usage.html#ssl-warnings\n",
      "  InsecureRequestWarning)\n",
      "/home/chinafishz/opt/anaconda/lib/python3.6/site-packages/urllib3/connectionpool.py:858: InsecureRequestWarning: Unverified HTTPS request is being made. Adding certificate verification is strongly advised. See: https://urllib3.readthedocs.io/en/latest/advanced-usage.html#ssl-warnings\n",
      "  InsecureRequestWarning)\n",
      "/home/chinafishz/opt/anaconda/lib/python3.6/site-packages/urllib3/connectionpool.py:858: InsecureRequestWarning: Unverified HTTPS request is being made. Adding certificate verification is strongly advised. See: https://urllib3.readthedocs.io/en/latest/advanced-usage.html#ssl-warnings\n",
      "  InsecureRequestWarning)\n"
     ]
    },
    {
     "name": "stdout",
     "output_type": "stream",
     "text": [
      "{'data': [{'driverType': 'CUSTOM_BOSS_SYSTEM', 'idName': '34de96aaa2874d649a4f929e7480442b#BOSS', 'resNUM': 'BOSSAPP', 'loginURL': 'http://gz.boss.gmcc.net/boss/index2.jsp', 'hasDueAcc': False, 'ip': '10.243.211.131', 'appResClientList': '5L|GwebAppByIEL|GwebAppByIEL|GL|GlocalL|G', 'groupName': '业务支持中心--专业系统--BOSS系统--华为BOSS前台', 'name': 'BOSS', 'appResAccountList': '41a48a0604bd47448fd62c1c2ef9911fL|GL|G0L|GAGZGT0000829L|Gnull', 'isSsoService': 'yes', 'isUserDefine': 'no', 'ssoMode': 'ticket', 'hasAccount': True, 'restype': '应用资源', 'id': '34de96aaa2874d649a4f929e7480442b'}, {'driverType': 'APPRESOURCE', 'idName': '72e09b98b7c84a41b13b9f3bcfca693f#业支NGESOP', 'resNUM': 'YZNGESOPFOSHAN', 'loginURL': 'http://ngesop.boss.gmcc.net/csp/bsf/from4ALogin.action', 'hasDueAcc': False, 'ip': '10.243.215.225', 'appResClientList': '5L|GwebAppByIEL|GwebAppByIEL|GL|GlocalL|G', 'groupName': '业务支持中心--专业系统--NGESOP--NGESOP前台', 'name': '业支NGESOP', 'appResAccountList': '0b82c939f4ef497a8cea8397e6d898d2L|G1111L|G0L|GAGZGT0000829L|Gnull', 'isSsoService': 'yes', 'isUserDefine': 'no', 'ssoMode': 'ticket', 'hasAccount': True, 'restype': '应用资源', 'id': '72e09b98b7c84a41b13b9f3bcfca693f'}, {'driverType': 'APPRESOURCE', 'idName': 'c930f75e6cfd40de875430ae2843fafa#广东移动NGESOP系统', 'resNUM': 'NGESOP_KRF5', 'loginURL': 'http://esop.boss.gmcc.net/csp/bsf/from4ALogin.action', 'hasDueAcc': False, 'ip': '10.252.150.131', 'appResClientList': '5L|GwebAppByIEL|GwebAppByIEL|GL|GlocalL|G', 'groupName': '业务支持中心--专业系统--NGESOP--NGESOP前台_新', 'name': '广东移动NGESOP系统', 'appResAccountList': '08fab4dce4d144ceb2ad51ebe37e66bdL|G1111L|GnullL|GAGZGT0000829L|Gnull', 'isSsoService': 'yes', 'isUserDefine': 'no', 'ssoMode': 'ticket', 'hasAccount': True, 'restype': '应用资源', 'id': 'c930f75e6cfd40de875430ae2843fafa'}, {'driverType': 'CUSTOM_SJWG_SYSTEM', 'idName': 'bcae27c1375f4afe9534ec110a3d9955#已失效1', 'resNUM': 'WWNOAS_1', 'loginURL': 'http://10.201.63.100_1', 'hasDueAcc': False, 'ip': '10.201.63.100', 'appResClientList': '', 'groupName': '省网管维护中心--性能管理室--信令监测--应用层系统--集中性能管理系统', 'name': '已失效1', 'appResAccountList': '2197775afaba4dcfa5af99ba1fac7db8L|GL|G1L|GshizhongxiaL|Gnull', 'isSsoService': 'yes', 'isUserDefine': 'no', 'ssoMode': 'ticket', 'hasAccount': True, 'restype': '应用资源', 'id': 'bcae27c1375f4afe9534ec110a3d9955'}, {'driverType': 'APPRESOURCE', 'idName': '318c665182814a85a9ea35efe6573185#广州NGBOSS前台', 'resNUM': 'YZNGBOSSGUANGZHOU', 'loginURL': 'http://10.252.17.241:80/csp/bsf/from4ALogin.action', 'hasDueAcc': False, 'ip': '10.252.17.241', 'appResClientList': '5L|GwebAppByIEL|GwebAppByIEL|GL|GlocalL|G', 'groupName': '业务支持中心--专业系统--NGBOSS--广州NGBOSS前台', 'name': '广州NGBOSS前台', 'appResAccountList': '32d659d1e5af4deb9a94447357e828c4L|G1111L|GnullL|GAGZGT0000829L|Gnull', 'isSsoService': 'yes', 'isUserDefine': 'no', 'ssoMode': 'ticket', 'hasAccount': True, 'restype': '应用资源', 'id': '318c665182814a85a9ea35efe6573185'}, {'driverType': 'APPRESOURCE', 'idName': '9ac7827d64ce46a59f49109fef386276#ESOP应用系统', 'resNUM': 'ESOPAPP', 'loginURL': 'http://esop.boss.gmcc.net/esop/PortalCRM.action?intcommandid=System4APlat', 'hasDueAcc': False, 'ip': '10.243.215.60', 'appResClientList': '5L|GwebAppByIEL|GwebAppByIEL|GL|GlocalL|G', 'groupName': '业务支持中心--专业系统--ESOP前台', 'name': 'ESOP应用系统', 'appResAccountList': '23c0f866dc5e42e2a313302d1d2f5ecdL|GL|G9L|GAGZGT0000829L|Gnull', 'isSsoService': 'yes', 'isUserDefine': 'no', 'ssoMode': 'ticket', 'hasAccount': True, 'restype': '应用资源', 'id': '9ac7827d64ce46a59f49109fef386276'}, {'driverType': 'APPRESOURCE', 'idName': 'cb26fbcb34ae463fb1f9ec41ca2057a9#物联网系统前台', 'resNUM': 'NG3IOT', 'loginURL': 'http://10.253.61.8/csp/bsf/from4ALogin.action', 'hasDueAcc': False, 'ip': '10.253.61.8', 'appResClientList': '5L|GwebAppByIEL|GwebAppByIEL|GL|GlocalL|G', 'groupName': '业务支持中心--前台资源--NGBOSS系统前台--华为NGBOSS前台--iot物联网系统', 'name': '物联网系统前台', 'appResAccountList': 'e228568c23b8443a927555a6e5a423d2L|G1111L|GnullL|GAGZGT0000829L|Gnull', 'isSsoService': 'yes', 'isUserDefine': 'no', 'ssoMode': 'ticket', 'hasAccount': True, 'restype': '应用资源', 'id': 'cb26fbcb34ae463fb1f9ec41ca2057a9'}], 'pageInfo': {'pageSize': 50, 'totalRowNum': 7, 'pageNum': 1}}\n"
     ]
    }
   ],
   "source": [
    "import cn_class_4alogin\n",
    "import requests\n",
    "r=requests.session()\n",
    "header={'User-Agent':'Mozilla/5.0 (X11; Linux x86_64; rv:44.0) Gecko/20100101 Firefox/44.0','Accept-Language':'en-US,en;q=0.5'}\n",
    "\n",
    "json2=cn_class_4alogin.cn_4ALogin(r,'qwER1234','41608446240A6782F2A0F031426EDC066CF24674F3F0586AF1E3983438A092968F3B0CA8F25838172AFC16E3455713846069ED5C9B03B580')\n",
    "\n",
    "\n"
   ]
  },
  {
   "cell_type": "code",
   "execution_count": 5,
   "metadata": {
    "scrolled": true
   },
   "outputs": [
    {
     "name": "stdout",
     "output_type": "stream",
     "text": [
      "08fab4dce4d144ceb2ad51ebe37e66bdL|G1111L|GnullL|GAGZGT0000829L|Gnull\n",
      "-----------测试是否登陆ESOP成功-----------\n"
     ]
    },
    {
     "name": "stderr",
     "output_type": "stream",
     "text": [
      "/home/chinafishz/opt/anaconda/lib/python3.6/site-packages/urllib3/connectionpool.py:858: InsecureRequestWarning: Unverified HTTPS request is being made. Adding certificate verification is strongly advised. See: https://urllib3.readthedocs.io/en/latest/advanced-usage.html#ssl-warnings\n",
      "  InsecureRequestWarning)\n",
      "/home/chinafishz/opt/anaconda/lib/python3.6/site-packages/urllib3/connectionpool.py:858: InsecureRequestWarning: Unverified HTTPS request is being made. Adding certificate verification is strongly advised. See: https://urllib3.readthedocs.io/en/latest/advanced-usage.html#ssl-warnings\n",
      "  InsecureRequestWarning)\n",
      "/home/chinafishz/opt/anaconda/lib/python3.6/site-packages/urllib3/connectionpool.py:858: InsecureRequestWarning: Unverified HTTPS request is being made. Adding certificate verification is strongly advised. See: https://urllib3.readthedocs.io/en/latest/advanced-usage.html#ssl-warnings\n",
      "  InsecureRequestWarning)\n",
      "/home/chinafishz/opt/anaconda/lib/python3.6/site-packages/urllib3/connectionpool.py:858: InsecureRequestWarning: Unverified HTTPS request is being made. Adding certificate verification is strongly advised. See: https://urllib3.readthedocs.io/en/latest/advanced-usage.html#ssl-warnings\n",
      "  InsecureRequestWarning)\n",
      "/home/chinafishz/opt/anaconda/lib/python3.6/site-packages/urllib3/connectionpool.py:858: InsecureRequestWarning: Unverified HTTPS request is being made. Adding certificate verification is strongly advised. See: https://urllib3.readthedocs.io/en/latest/advanced-usage.html#ssl-warnings\n",
      "  InsecureRequestWarning)\n"
     ]
    },
    {
     "name": "stdout",
     "output_type": "stream",
     "text": [
      "<Response [200]>\n"
     ]
    }
   ],
   "source": [
    "# cn_ESOPLogin(r,json2,0)\n",
    "cn_class_4alogin.cn_ESOPLogin(r,json2)"
   ]
  },
  {
   "cell_type": "code",
   "execution_count": 8,
   "metadata": {},
   "outputs": [
    {
     "name": "stdout",
     "output_type": "stream",
     "text": [
      "end\n"
     ]
    }
   ],
   "source": [
    "# 集团成员管理菜单查询明细\n",
    "from bs4  import BeautifulSoup\n",
    "import sys\n",
    "\n",
    "# sys.setdefaultencoding( \"utf-8\" )\n",
    "\n",
    "def duquhaoma(s0,cn_j):\n",
    "    soup=BeautifulSoup(s0.text,'lxml')\n",
    "#     cn_list=soup.select('.list_title')\n",
    "    cn_list=soup.select('.list_title')\n",
    "    cn_i=0\n",
    "    cn_file=open('abc','a')\n",
    "    for i in cn_list:\n",
    "#         print(i)\n",
    "#         print '====='\n",
    "        if(cn_i%13==0): #gprs=13/0\n",
    "#             print(i.text)\n",
    "            cn_file.write(\"\\n\"+str(cn_j)+' '+''.join(i.text).split()[0])\n",
    "            cn_j=cn_j+1\n",
    "        elif(cn_i%13==1): \n",
    "            temp=''.join(i.text).split()\n",
    "            if(len(temp)>0):\n",
    "                cn_file.write(' '+temp[0])\n",
    "            else:\n",
    "                cn_file.write(' '+'NONE')\n",
    "        elif(cn_i%13==2): \n",
    "            cn_file.write(' '+''.join(i.text).split()[0])\n",
    "#         elif(cn_i%13==3): \n",
    "#             temp=''.join(i.text).split()\n",
    "#             if(len(temp)>0):\n",
    "#                 cn_file.write(' '+temp[0])\n",
    "#             else:\n",
    "#                 cn_file.write(' '+'NONE')\n",
    "#         elif(cn_i%13==5): \n",
    "#             cn_file.write(' '+''.join(i.text).split()[0])\n",
    "# #         elif(cn_i%13==11): #gprs状态=13/11\n",
    "# #             temp=''.join(i.text).split()\n",
    "# #             if(len(temp)>0):\n",
    "# #                 cn_file.write(' '+temp[0])\n",
    "# #             else:\n",
    "# #                 cn_file.write(' '+'状态为空')\n",
    "#         elif(cn_i%13==7): \n",
    "#             temp=''.join(i.text).split()\n",
    "# #             print(temp)\n",
    "#             cn_file.write(' '+temp[0])\n",
    "             \n",
    "        cn_i=cn_i+1\n",
    "    cn_file.close()\n",
    "       \n",
    "def cn_chachengyuanmingxi(r):\n",
    "#     url='http://esop.boss.gmcc.net/ngcustcare_fs/group/groupMemberMg/init.action?recType=ResumeGroupSubs&SYSTEMTYPE=ESOP&menuId=ESOP_GRP_100010061038&region=200&operatorId=AGZGT0000829&date=Wed%20Aug%2016%2019:03:22%20UTC+0800%202016'\n",
    "#     s=r.get(url)\n",
    "    \n",
    "    \n",
    "    url='http://esop.boss.gmcc.net/ngcustcare_fs/group/membermgr/query/showMemberMgQueryCustInfo.action?groupId=2000101591'\n",
    "    parma={'groupOrMemeber':'member','groupId':'20110041591','grpMem.qryType':'SERVNUMBER','grpMem.inputVal':'','grpMem.startTime':'','grpMem.startTime_format':'yyyy-MM-dd HH:mm:ss','grpMem.endTime':'','grpMem.endTime_format':'yyyy-MM-dd HH:mm:ss'}\n",
    "    s=r.post(url,data=parma)\n",
    "    \n",
    "    \n",
    "#     url='http://esop.boss.gmcc.net/ngcustcare_fs/group/groupMemberMg/subsListInit.action'\n",
    "#     parma={'groupOrMemeber':'group','groupId':'2002589661','grpMem.qryType':'ALL','grpMem.inputVal':'','grpMem.startTime':'','grpMem.startTime_format':'yyyy-MM-dd HH:mm:ss','grpMem.endTime':'','grpMem.endTime_format':'yyyy-MM-dd HH:mm:ss'}\n",
    "#     s=r.post(url,data=parma)\n",
    "    \n",
    "    \n",
    "    url='http://esop.boss.gmcc.net/ngcustcare_fs/group/commonquery/querySubscriberInfo.action?subsId=2000011059677'\n",
    "    parma={'groupOrMemeber':'member','groupId':'20110041591','grpMem.qryType':'ALL','grpMem.inputVal':'','grpMem.startTime':'','grpMem.startTime_format':'yyyy-MM-dd HH:mm:ss','grpMem.endTime':'','grpMem.endTime_format':'yyyy-MM-dd HH:mm:ss'}\n",
    "    s=r.post(url,data=parma)\n",
    "#     print(s.text)\n",
    "    #     第一页\n",
    "    url='http://esop.boss.gmcc.net/ngcustcare_fs/group/groupMemberMg/query.action?grpMem.grpSubsId=2000011059677&grpMem.qryType=ALL&isAllowRec=1'\n",
    "    s0=r.get(url)\n",
    "    cn_j=1\n",
    "    \n",
    "#     print('11')\n",
    "#     print(s0.text)\n",
    "    duquhaoma(s0,cn_j)\n",
    "    \n",
    "# 第2页之后\n",
    "    temp=s0.text.find('PageTageDate=')\n",
    "    page_tag=s0.text[temp+12:temp+25]\n",
    "    \n",
    "    for i in range(53):\n",
    "        url='http://esop.boss.gmcc.net/ngcustcare_fs/group/groupMemberMg/query.action?PageTageDate='+str(time.time()).replace('.','')[0:13]+'&grpMem.currentPage='+str(i+2)\n",
    "#         print(url)\n",
    "        parma={'isAllowRec':'1','PageTageDate':page_tag,'grpMem.qryType':'ALL','grpMem.grpSubsId':'2000011059677','PageTag_jmpage':''}\n",
    "        s0=r.post(url,data=parma)\n",
    "        cn_j=(i+1)*10+1\n",
    "#         print(s0.text)\n",
    "        duquhaoma(s0,cn_j)\n",
    "        temp=s0.text.find('PageTageDate=')\n",
    "        page_tag=s0.text[temp+12:temp+25]\n",
    "#         if(i%50==0):\n",
    "#         print(i)\n",
    "    print('end')\n",
    "cn_chachengyuanmingxi(r)\n",
    "\n",
    "\n"
   ]
  },
  {
   "cell_type": "code",
   "execution_count": null,
   "metadata": {
    "collapsed": true
   },
   "outputs": [],
   "source": [
    "cn_chachengyuanmingxi2(r)"
   ]
  },
  {
   "cell_type": "code",
   "execution_count": 17,
   "metadata": {},
   "outputs": [
    {
     "data": {
      "text/plain": [
       "'1513916836128'"
      ]
     },
     "execution_count": 17,
     "metadata": {},
     "output_type": "execute_result"
    }
   ],
   "source": [
    "str(time.time()).replace('.','')[0:13]"
   ]
  },
  {
   "cell_type": "code",
   "execution_count": null,
   "metadata": {
    "collapsed": true
   },
   "outputs": [],
   "source": []
  },
  {
   "cell_type": "code",
   "execution_count": 53,
   "metadata": {},
   "outputs": [],
   "source": [
    "# 集团综合查询菜单查询明细\n",
    "from bs4  import BeautifulSoup\n",
    "import sys\n",
    "\n",
    "\n",
    "parma='queryConditionBean.comeFromOrderTrace=&queryConditionBean.grpprodId=&queryConditionBean.queryMode=group&queryConditionBean.haveQueryed=true&queryConditionBean.regionID=&queryMode=group&queryConditionBean.virtualCode=&queryConditionBean.grpName=&queryConditionBean.productNum=20106041591&queryConditionBean.custManCode=&queryConditionBean.portNum=&queryConditionBean.feeAndConnPortNum=&queryConditionBean.mobileExchangeNum=&queryConditionBean.gn4001Num=&queryConditionBean.startDate=&queryConditionBean.startDate_format=yyyy-MM-dd&queryConditionBean.endDate=&queryConditionBean.endDate_format=yyyy-MM-dd&queryConditionBean.bBossOrderNum=&queryConditionBean.fuseBoardNum=&queryConditionBean.subsId=&queryConditionBean.acctId=&queryConditionBean.servNum=&queryConditionBean.netCode=&queryConditionBean.centrexNum=&queryConditionBean.homeNumber=&tab1=&tab2=&tab3='\n",
    "url='http://esop.boss.gmcc.net/ngcustcare_fs/group/groupQuery/queryGroupCust.action?'+parma\n",
    "s=r.post(url,data=parma)"
   ]
  },
  {
   "cell_type": "code",
   "execution_count": 54,
   "metadata": {},
   "outputs": [],
   "source": [
    "\n",
    "\n",
    "url='http://esop.boss.gmcc.net/ngcustcare_fs/group/groupQuery/queryGroupByVipCode.action?virtualCode=2000101591&regionID=&gn4001Num=&bBossOrderNum='\n",
    "parma={}\n",
    "s=r.post(url,parma)\n",
    "\n",
    "ran='0.'+str(random.randint(10000000000000000,99999999999999999))\n",
    "parma='ran='+ran+'&comeFromOrderTrace=&grpprodId=&virtualCode=2000101591&productCode=20106041591&centrexNum=&netCode=&subsId=&acctId=&queryType=group'\n",
    "url='http://esop.boss.gmcc.net/ngcustcare_fs/group/groupQuery/subsFrameAction.action?'+parma\n",
    "s=r.get(url)"
   ]
  },
  {
   "cell_type": "code",
   "execution_count": 55,
   "metadata": {},
   "outputs": [],
   "source": [
    "ran='0.'+str(random.randint(100000000000000,999999999999999))\n",
    "url='http://esop.boss.gmcc.net/ngcustcare_fs/group/groupQuery/subsMemberAction.action?subId=2000010686373&ran='+ran\n",
    "s=r.get(url)"
   ]
  },
  {
   "cell_type": "code",
   "execution_count": 56,
   "metadata": {},
   "outputs": [],
   "source": [
    "soup=BeautifulSoup(s.text,'lxml')"
   ]
  },
  {
   "cell_type": "code",
   "execution_count": 57,
   "metadata": {},
   "outputs": [
    {
     "name": "stdout",
     "output_type": "stream",
     "text": [
      "成员号码 用户品牌\n",
      "13580574923 动感地带\n",
      "13556145995 全球通\n",
      "13622289312 神州行\n",
      "13609086114 全球通\n",
      "13642636705 全球通\n",
      "13825099697 全球通\n",
      "13560055312 全球通\n",
      "13922215435 全球通\n"
     ]
    }
   ],
   "source": [
    "aaa=soup.select('.mw_label')\n",
    "for i in range(len(aaa)):\n",
    "    temp=(i-13)%13\n",
    "    if(temp==1):\n",
    "        print(aaa[i].text,aaa[i+2].text)\n",
    "        "
   ]
  },
  {
   "cell_type": "code",
   "execution_count": 60,
   "metadata": {},
   "outputs": [],
   "source": [
    "cn_j=1\n",
    "for k in range(36):\n",
    "    url='http://esop.boss.gmcc.net/ngcustcare_fs/group/groupQuery/subsMemberAction.action?subId=2000010686373&pageSize=8&currentPage='+str(k+2)+'&curtime='+str(time.time()).replace('.','')[0:13]\n",
    "    parma={}\n",
    "    s=r.post(url,parma)\n",
    "    soup=BeautifulSoup(s.text,'lxml')\n",
    "    aaa=soup.select('.mw_label')\n",
    "    cn_file=open('abc','a')\n",
    "    for i in range(len(aaa)):\n",
    "        if(i<13):\n",
    "            continue\n",
    "        temp=(i-13)%13\n",
    "        if(temp==1):   \n",
    "            cn_file.write(\"\\n\"+str(cn_j)+' '+aaa[i].text+'  '+aaa[i+2].text)\n",
    "            cn_j=cn_j+1\n",
    "    cn_file.close()\n",
    "       \n",
    "        "
   ]
  },
  {
   "cell_type": "code",
   "execution_count": 47,
   "metadata": {},
   "outputs": [
    {
     "data": {
      "text/plain": [
       "'1519623196181'"
      ]
     },
     "execution_count": 47,
     "metadata": {},
     "output_type": "execute_result"
    }
   ],
   "source": []
  }
 ],
 "metadata": {
  "anaconda-cloud": {},
  "kernelspec": {
   "display_name": "Python 3",
   "language": "python",
   "name": "python3"
  },
  "language_info": {
   "codemirror_mode": {
    "name": "ipython",
    "version": 3
   },
   "file_extension": ".py",
   "mimetype": "text/x-python",
   "name": "python",
   "nbconvert_exporter": "python",
   "pygments_lexer": "ipython3",
   "version": "3.6.4"
  }
 },
 "nbformat": 4,
 "nbformat_minor": 1
}
