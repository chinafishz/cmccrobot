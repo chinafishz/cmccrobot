{
 "cells": [
  {
   "cell_type": "code",
   "execution_count": 1,
   "metadata": {},
   "outputs": [
    {
     "name": "stderr",
     "output_type": "stream",
     "text": [
      "/home/chinafishz/opt/anaconda/lib/python3.6/site-packages/requests/packages/urllib3/connectionpool.py:852: InsecureRequestWarning: Unverified HTTPS request is being made. Adding certificate verification is strongly advised. See: https://urllib3.readthedocs.io/en/latest/advanced-usage.html#ssl-warnings\n",
      "  InsecureRequestWarning)\n",
      "/home/chinafishz/opt/anaconda/lib/python3.6/site-packages/requests/packages/urllib3/connectionpool.py:852: InsecureRequestWarning: Unverified HTTPS request is being made. Adding certificate verification is strongly advised. See: https://urllib3.readthedocs.io/en/latest/advanced-usage.html#ssl-warnings\n",
      "  InsecureRequestWarning)\n"
     ]
    },
    {
     "name": "stdout",
     "output_type": "stream",
     "text": [
      "-6880955584048970735\n"
     ]
    },
    {
     "name": "stderr",
     "output_type": "stream",
     "text": [
      "/home/chinafishz/opt/anaconda/lib/python3.6/site-packages/requests/packages/urllib3/connectionpool.py:852: InsecureRequestWarning: Unverified HTTPS request is being made. Adding certificate verification is strongly advised. See: https://urllib3.readthedocs.io/en/latest/advanced-usage.html#ssl-warnings\n",
      "  InsecureRequestWarning)\n",
      "/home/chinafishz/opt/anaconda/lib/python3.6/site-packages/requests/packages/urllib3/connectionpool.py:852: InsecureRequestWarning: Unverified HTTPS request is being made. Adding certificate verification is strongly advised. See: https://urllib3.readthedocs.io/en/latest/advanced-usage.html#ssl-warnings\n",
      "  InsecureRequestWarning)\n",
      "/home/chinafishz/opt/anaconda/lib/python3.6/site-packages/requests/packages/urllib3/connectionpool.py:852: InsecureRequestWarning: Unverified HTTPS request is being made. Adding certificate verification is strongly advised. See: https://urllib3.readthedocs.io/en/latest/advanced-usage.html#ssl-warnings\n",
      "  InsecureRequestWarning)\n",
      "/home/chinafishz/opt/anaconda/lib/python3.6/site-packages/requests/packages/urllib3/connectionpool.py:852: InsecureRequestWarning: Unverified HTTPS request is being made. Adding certificate verification is strongly advised. See: https://urllib3.readthedocs.io/en/latest/advanced-usage.html#ssl-warnings\n",
      "  InsecureRequestWarning)\n",
      "/home/chinafishz/opt/anaconda/lib/python3.6/site-packages/requests/packages/urllib3/connectionpool.py:852: InsecureRequestWarning: Unverified HTTPS request is being made. Adding certificate verification is strongly advised. See: https://urllib3.readthedocs.io/en/latest/advanced-usage.html#ssl-warnings\n",
      "  InsecureRequestWarning)\n"
     ]
    },
    {
     "name": "stdout",
     "output_type": "stream",
     "text": [
      "已经发送短信验证码\n",
      "验证码:629791\n",
      "正在登陆，请稍后...\n"
     ]
    },
    {
     "name": "stderr",
     "output_type": "stream",
     "text": [
      "/home/chinafishz/opt/anaconda/lib/python3.6/site-packages/requests/packages/urllib3/connectionpool.py:852: InsecureRequestWarning: Unverified HTTPS request is being made. Adding certificate verification is strongly advised. See: https://urllib3.readthedocs.io/en/latest/advanced-usage.html#ssl-warnings\n",
      "  InsecureRequestWarning)\n",
      "/home/chinafishz/opt/anaconda/lib/python3.6/site-packages/requests/packages/urllib3/connectionpool.py:852: InsecureRequestWarning: Unverified HTTPS request is being made. Adding certificate verification is strongly advised. See: https://urllib3.readthedocs.io/en/latest/advanced-usage.html#ssl-warnings\n",
      "  InsecureRequestWarning)\n",
      "/home/chinafishz/opt/anaconda/lib/python3.6/site-packages/requests/packages/urllib3/connectionpool.py:852: InsecureRequestWarning: Unverified HTTPS request is being made. Adding certificate verification is strongly advised. See: https://urllib3.readthedocs.io/en/latest/advanced-usage.html#ssl-warnings\n",
      "  InsecureRequestWarning)\n",
      "/home/chinafishz/opt/anaconda/lib/python3.6/site-packages/requests/packages/urllib3/connectionpool.py:852: InsecureRequestWarning: Unverified HTTPS request is being made. Adding certificate verification is strongly advised. See: https://urllib3.readthedocs.io/en/latest/advanced-usage.html#ssl-warnings\n",
      "  InsecureRequestWarning)\n",
      "/home/chinafishz/opt/anaconda/lib/python3.6/site-packages/requests/packages/urllib3/connectionpool.py:852: InsecureRequestWarning: Unverified HTTPS request is being made. Adding certificate verification is strongly advised. See: https://urllib3.readthedocs.io/en/latest/advanced-usage.html#ssl-warnings\n",
      "  InsecureRequestWarning)\n",
      "/home/chinafishz/opt/anaconda/lib/python3.6/site-packages/requests/packages/urllib3/connectionpool.py:852: InsecureRequestWarning: Unverified HTTPS request is being made. Adding certificate verification is strongly advised. See: https://urllib3.readthedocs.io/en/latest/advanced-usage.html#ssl-warnings\n",
      "  InsecureRequestWarning)\n",
      "/home/chinafishz/opt/anaconda/lib/python3.6/site-packages/requests/packages/urllib3/connectionpool.py:852: InsecureRequestWarning: Unverified HTTPS request is being made. Adding certificate verification is strongly advised. See: https://urllib3.readthedocs.io/en/latest/advanced-usage.html#ssl-warnings\n",
      "  InsecureRequestWarning)\n",
      "/home/chinafishz/opt/anaconda/lib/python3.6/site-packages/requests/packages/urllib3/connectionpool.py:852: InsecureRequestWarning: Unverified HTTPS request is being made. Adding certificate verification is strongly advised. See: https://urllib3.readthedocs.io/en/latest/advanced-usage.html#ssl-warnings\n",
      "  InsecureRequestWarning)\n",
      "/home/chinafishz/opt/anaconda/lib/python3.6/site-packages/requests/packages/urllib3/connectionpool.py:852: InsecureRequestWarning: Unverified HTTPS request is being made. Adding certificate verification is strongly advised. See: https://urllib3.readthedocs.io/en/latest/advanced-usage.html#ssl-warnings\n",
      "  InsecureRequestWarning)\n",
      "/home/chinafishz/opt/anaconda/lib/python3.6/site-packages/requests/packages/urllib3/connectionpool.py:852: InsecureRequestWarning: Unverified HTTPS request is being made. Adding certificate verification is strongly advised. See: https://urllib3.readthedocs.io/en/latest/advanced-usage.html#ssl-warnings\n",
      "  InsecureRequestWarning)\n",
      "/home/chinafishz/opt/anaconda/lib/python3.6/site-packages/requests/packages/urllib3/connectionpool.py:852: InsecureRequestWarning: Unverified HTTPS request is being made. Adding certificate verification is strongly advised. See: https://urllib3.readthedocs.io/en/latest/advanced-usage.html#ssl-warnings\n",
      "  InsecureRequestWarning)\n"
     ]
    },
    {
     "name": "stdout",
     "output_type": "stream",
     "text": [
      "{'data': [{'driverType': 'CUSTOM_BOSS_SYSTEM', 'idName': '34de96aaa2874d649a4f929e7480442b#BOSS', 'resNUM': 'BOSSAPP', 'loginURL': 'http://gz.boss.gmcc.net/boss/index2.jsp', 'hasDueAcc': False, 'ip': '10.243.211.131', 'appResClientList': '5L|GwebAppByIEL|GwebAppByIEL|GL|GlocalL|G', 'groupName': '业务支持中心--专业系统--BOSS系统--华为BOSS前台', 'name': 'BOSS', 'appResAccountList': '41a48a0604bd47448fd62c1c2ef9911fL|GL|G0L|GAGZGT0000829L|Gnull', 'isSsoService': 'yes', 'isUserDefine': 'no', 'ssoMode': 'ticket', 'hasAccount': True, 'restype': '应用资源', 'id': '34de96aaa2874d649a4f929e7480442b'}, {'driverType': 'APPRESOURCE', 'idName': '72e09b98b7c84a41b13b9f3bcfca693f#业支NGESOP', 'resNUM': 'YZNGESOPFOSHAN', 'loginURL': 'http://ngesop.boss.gmcc.net/csp/bsf/from4ALogin.action', 'hasDueAcc': False, 'ip': '10.243.215.225', 'appResClientList': '5L|GwebAppByIEL|GwebAppByIEL|GL|GlocalL|G', 'groupName': '业务支持中心--专业系统--NGESOP--NGESOP前台', 'name': '业支NGESOP', 'appResAccountList': '0b82c939f4ef497a8cea8397e6d898d2L|G1111L|G0L|GAGZGT0000829L|Gnull', 'isSsoService': 'yes', 'isUserDefine': 'no', 'ssoMode': 'ticket', 'hasAccount': True, 'restype': '应用资源', 'id': '72e09b98b7c84a41b13b9f3bcfca693f'}, {'driverType': 'APPRESOURCE', 'idName': 'c930f75e6cfd40de875430ae2843fafa#广东移动NGESOP系统', 'resNUM': 'NGESOP_KRF5', 'loginURL': 'http://esop.boss.gmcc.net/csp/bsf/from4ALogin.action', 'hasDueAcc': False, 'ip': '10.252.150.131', 'appResClientList': '5L|GwebAppByIEL|GwebAppByIEL|GL|GlocalL|G', 'groupName': '业务支持中心--专业系统--NGESOP--NGESOP前台_新', 'name': '广东移动NGESOP系统', 'appResAccountList': '08fab4dce4d144ceb2ad51ebe37e66bdL|G1111L|GnullL|GAGZGT0000829L|Gnull', 'isSsoService': 'yes', 'isUserDefine': 'no', 'ssoMode': 'ticket', 'hasAccount': True, 'restype': '应用资源', 'id': 'c930f75e6cfd40de875430ae2843fafa'}, {'driverType': 'CUSTOM_SJWG_SYSTEM', 'idName': 'bcae27c1375f4afe9534ec110a3d9955#已失效1', 'resNUM': 'WWNOAS_1', 'loginURL': 'http://10.201.63.100_1', 'hasDueAcc': False, 'ip': '10.201.63.100', 'appResClientList': '', 'groupName': '省网管维护中心--性能管理室--信令监测--应用层系统--集中性能管理系统', 'name': '已失效1', 'appResAccountList': '2197775afaba4dcfa5af99ba1fac7db8L|GL|G1L|GshizhongxiaL|Gnull', 'isSsoService': 'yes', 'isUserDefine': 'no', 'ssoMode': 'ticket', 'hasAccount': True, 'restype': '应用资源', 'id': 'bcae27c1375f4afe9534ec110a3d9955'}, {'driverType': 'APPRESOURCE', 'idName': '318c665182814a85a9ea35efe6573185#广州NGBOSS前台', 'resNUM': 'YZNGBOSSGUANGZHOU', 'loginURL': 'http://10.252.17.241:80/csp/bsf/from4ALogin.action', 'hasDueAcc': False, 'ip': '10.252.17.241', 'appResClientList': '5L|GwebAppByIEL|GwebAppByIEL|GL|GlocalL|G', 'groupName': '业务支持中心--专业系统--NGBOSS--广州NGBOSS前台', 'name': '广州NGBOSS前台', 'appResAccountList': '32d659d1e5af4deb9a94447357e828c4L|G1111L|GnullL|GAGZGT0000829L|Gnull', 'isSsoService': 'yes', 'isUserDefine': 'no', 'ssoMode': 'ticket', 'hasAccount': True, 'restype': '应用资源', 'id': '318c665182814a85a9ea35efe6573185'}, {'driverType': 'APPRESOURCE', 'idName': '9ac7827d64ce46a59f49109fef386276#ESOP应用系统', 'resNUM': 'ESOPAPP', 'loginURL': 'http://esop.boss.gmcc.net/esop/PortalCRM.action?intcommandid=System4APlat', 'hasDueAcc': False, 'ip': '10.243.215.60', 'appResClientList': '5L|GwebAppByIEL|GwebAppByIEL|GL|GlocalL|G', 'groupName': '业务支持中心--专业系统--ESOP前台', 'name': 'ESOP应用系统', 'appResAccountList': '23c0f866dc5e42e2a313302d1d2f5ecdL|GL|G9L|GAGZGT0000829L|Gnull', 'isSsoService': 'yes', 'isUserDefine': 'no', 'ssoMode': 'ticket', 'hasAccount': True, 'restype': '应用资源', 'id': '9ac7827d64ce46a59f49109fef386276'}], 'pageInfo': {'pageSize': 50, 'totalRowNum': 6, 'pageNum': 1}}\n",
      "32d659d1e5af4deb9a94447357e828c4L|G1111L|GnullL|GAGZGT0000829L|Gnull\n",
      "-----------测试是否登陆BOSS成功-----------\n"
     ]
    },
    {
     "name": "stderr",
     "output_type": "stream",
     "text": [
      "/home/chinafishz/opt/anaconda/lib/python3.6/site-packages/requests/packages/urllib3/connectionpool.py:852: InsecureRequestWarning: Unverified HTTPS request is being made. Adding certificate verification is strongly advised. See: https://urllib3.readthedocs.io/en/latest/advanced-usage.html#ssl-warnings\n",
      "  InsecureRequestWarning)\n",
      "/home/chinafishz/opt/anaconda/lib/python3.6/site-packages/requests/packages/urllib3/connectionpool.py:852: InsecureRequestWarning: Unverified HTTPS request is being made. Adding certificate verification is strongly advised. See: https://urllib3.readthedocs.io/en/latest/advanced-usage.html#ssl-warnings\n",
      "  InsecureRequestWarning)\n",
      "/home/chinafishz/opt/anaconda/lib/python3.6/site-packages/requests/packages/urllib3/connectionpool.py:852: InsecureRequestWarning: Unverified HTTPS request is being made. Adding certificate verification is strongly advised. See: https://urllib3.readthedocs.io/en/latest/advanced-usage.html#ssl-warnings\n",
      "  InsecureRequestWarning)\n",
      "/home/chinafishz/opt/anaconda/lib/python3.6/site-packages/requests/packages/urllib3/connectionpool.py:852: InsecureRequestWarning: Unverified HTTPS request is being made. Adding certificate verification is strongly advised. See: https://urllib3.readthedocs.io/en/latest/advanced-usage.html#ssl-warnings\n",
      "  InsecureRequestWarning)\n",
      "/home/chinafishz/opt/anaconda/lib/python3.6/site-packages/requests/packages/urllib3/connectionpool.py:852: InsecureRequestWarning: Unverified HTTPS request is being made. Adding certificate verification is strongly advised. See: https://urllib3.readthedocs.io/en/latest/advanced-usage.html#ssl-warnings\n",
      "  InsecureRequestWarning)\n"
     ]
    }
   ],
   "source": [
    "import cn_class_4alogin\n",
    "import requests\n",
    "import sys\n",
    "\n",
    "\n",
    "r=requests.session()\n",
    "header={'User-Agent':'Mozilla/5.0 (X11; Linux x86_64; rv:44.0) Gecko/20100101 Firefox/44.0','Accept-Language':'en-US,en;q=0.5'}\n",
    "\n",
    "json2=cn_class_4alogin.cn_4ALogin(r,'qWER1234','41608446240A6782F2A0F031426EDC066CF24674F3F0586AF1E3983438A09296AE43CD3FF48B98732AFC16E3455713846069ED5C9B03B580')\n",
    "cn_class_4alogin.cn_BossLogin(r,json2)"
   ]
  },
  {
   "cell_type": "code",
   "execution_count": 188,
   "metadata": {
    "collapsed": true
   },
   "outputs": [],
   "source": [
    "from bs4  import BeautifulSoup\n",
    "import random\n",
    "import time\n",
    "from datetime import datetime\n",
    "\n",
    "def cn_cookies(cookies_temp):\n",
    "        cookies = dict()\n",
    "        for i in r.cookies.get_dict('10.252.17.241'):\n",
    "            cookies[i]=r.cookies.get(i,'','10.252.17.241')\n",
    "        cookies['bsacKF']='NGCRM_BOSS'\n",
    "        cookies['com.huawei.boss.CONTACTID']='null'\n",
    "        cookies['com.huawei.boss.CURRENT_MENUID']='123456'\n",
    "        cookies['com.huawei.boss.CURRENT_TAB']='123456'\n",
    "        cookies['com.huawei.boss.CURRENT_USER']='com.huawei.boss.NO_CURRENT_USER'\n",
    "        cookies['GZCOMM']='r_GZ_CRM_WEB1_1082'\n",
    "        cookies['GZCRM']='r_GZ_CRM_WEB2_1081'\n",
    "        return cookies\n",
    "    \n",
    "\n",
    "\n",
    "def cn_cookies2(cookies,cn_phoneNum):\n",
    "        cookies = dict()\n",
    "        for i in r.cookies.get_dict('10.252.17.241'):\n",
    "            cookies[i]=r.cookies.get(i,'','10.252.17.241')\n",
    "        cookies['bsacKF']='NGCRM_BOSS'\n",
    "        cookies['com.huawei.boss.CONTACTID']='undefined'\n",
    "        cookies['com.huawei.boss.CURRENT_MENUID']='100110121062'\n",
    "        cookies['com.huawei.boss.CURRENT_TAB']='BOSS%5E'+cn_phoneNum+'%5E100110121062%7E'+cn_phoneNum\n",
    "        cookies['com.huawei.boss.CURRENT_USER']=cn_phoneNum\n",
    "        cookies['GZCOMM']='r_GZ_CRM_WEB1_1082'\n",
    "        cookies['GZCRM']='r_GZ_CRM_WEB2_1081'\n",
    "        cookies['MACAddr']='08-00-27-44-EC-99'\n",
    "        cookies['sDNSName']='gzshizhongxia'\n",
    "        return cookies\n",
    "#      \n",
    "def cn_soup(temp):\n",
    "    a=soup.find(attrs={\"name\":temp}).attrs['value']\n",
    "    return a\n",
    "\n"
   ]
  },
  {
   "cell_type": "code",
   "execution_count": 197,
   "metadata": {},
   "outputs": [
    {
     "name": "stdout",
     "output_type": "stream",
     "text": [
      "861\n",
      "50\n",
      "100\n",
      "150\n",
      "200\n",
      "250\n",
      "300\n",
      "350\n",
      "400\n",
      "450\n",
      "500\n",
      "550\n",
      "600\n",
      "650\n",
      "700\n",
      "750\n",
      "800\n",
      "850\n"
     ]
    }
   ],
   "source": [
    "import sys\n",
    "cn_file=open('abc','a')\n",
    "\n",
    "cn_list='13925032691;13928778041;13922259840;13922705735;13922219475;13622285424;18819814093;13632106414;13539982437;18816832644;13602224504;13602225034;18802010874;18816806791;18813221245;18813220421;18820114585;13922242316;13926139406;13924100451;13924100237;13926010042;13924100375;13922244986;13922296476;13922265486;18820119844;18813294753;18813228104;13922121476;13926108571;13926101307;13926103543;18813759834;13926107141;13926102795;13926103727;13802740649;13802740941;13802740950;18802049373;13802740574;18814109547;13802740342;13802740614;18814106434;13688897231;13922144109;18814109840;18802030852;13802740854;13903070174;13903074475;13802740543;13688896854;18802040185;18814108975;13903070941;13802740451;13922141569;13922342269;13688895702;13802740641;13903074465;13602887494;13688895709;18814105613;13922348079;13924061058;13922331549;13922187489;13903074461;18802049515;13802740742;13802740642;13922143169;13688891821;13924046558;13688897905;18814107967;13903074357;13802740472;13903074484;13903070475;18802039729;13802740945;13688891203;13922149659;13688895772;13922347489;13922195769;13903071140;18802031184;13903070542;13926109476;13802741042;13688896673;13570061701;13570117055;13570117550;13825081349;13922488721;13922488731;13922488791;13924037001;13926018464;13926090550;13926090556;13825011283;13602757154;13602757194;13922208994;13922232463;13922232153;13922232473;13802537821;13825149091;13825149092;13825149093;13825149094;13802524240;13802524140;13925013110;13925013130;13925013129;13925032651;13925042925;13924223752;13924223705;13826201404;13925142694;13925142695;13925100261;13925100319;13925100329;13925109661;13825002354;13825002364;13825012149;13926058395;13926058397;13922248337;13922297568;13922297538;13922297468;13825022661;13825022769;13825022763;13825022759;13825022747;13825022729;13825022727;13825022721;13825022717;13825022710;13825055007;13570596744;13602495220;13922257865;13826102915;13826102917;13826120523;13826112719;13826199579;13826199570;13503022131;13503022620;13829736997;13829739877;13829739787;13829738230;13829743385;13602850139;13602875712;13602875941;13802542865;13802542837;13802542871;13802542810;13802542990;13802542970;13802542919;13570100205;13802548391;13802549757;13570100203;13570100201;13570100195;13570100193;13570100176;13570100173;13570100172;13570100169;13570098776;13570098225;13570093739;13570093736;13924039427;13924136015;13924138105;13924136095;13924136185;13924150435;13924150395;13924130235;13924150305;13924067245;13924067215;13924134275;13924136945;13924136275;13924136225;13924132625;13924133195;13924133125;13924104094;13924107074;13924107274;13924104324;13924151694;13924151604;13924136412;13924137642;13924087342;13924191442;13924131842;13924165942;13924164712;13924164702;13924173952;13924173842;13926074091;13926013045;13926059265;13926067325;13903058547;13926073640;13926071940;13926053047;13926075179;13926492724;13926492734;13926492754;13926492764;13926493074;13926493104;13926493174;13926493214;13926493274;13926493294;13609768914;13609768414;13609767034;13609765294;13609764904;13609784014;13609784704;13826125764;13826125794;13826126374;13826127024;13631352879;13826144374;13829732574;13829737124;13829745074;13829753974;13829741564;13829754734;13925010146;13925010149;13925010175;13925010230;13925010240;13925010259;13925010307;13925010359;13925010397;13922102695;13922100761;13922107932;13902285903;13902218494;13902218694;13902218954;13533283494;13533282564;13533282064;13533281791;13533283957;13533284249;13533284367;13533284524;13533383204;13533338424;13533384415;13622285174;13622286294;13622287124;13622286974;13622286914;13622287594;13622286034;13622287854;13822245794;13533682674;13533684971;13533685264;13533686094;13533686054;13533686847;13500220371;13500220746;13500223240;13500220471;13533337584;13533383241;13924272564;13924233197;13924237423;13924271907;13924270184;13924200752;13924201305;13924201571;13924201591;13924201621;13924202185;13924202190;13924202192;13924202187;13924202179;13924270039;13924270040;13924270041;13924271942;13924271941;13924271901;13924271903;13924271915;13924271916;13539887174;13539887457;13539887487;13539887014;13539889014;13539980647;13539980947;13539884947;13539982457;13539983407;13539983547;13539984147;13539984197;13539984297;13632106424;13632106924;13632107324;13632106474;13632106394;13632106494;13632106404;13632106434;13632106454;18819814513;18819804170;18819811426;18816832624;18816832634;18816832641;18816832714;18816832740;18816832741;13622283324;13622285647;18820016427;18820023845;13602224254;13602225134;13602226984;13602225714;13602225784;13602225944;18820103264;18820103274;18820103374;18820103484;18820104275;18820104174;18820036194;18813296415;18820405501;18820425543;18819470075;18824132287;18826492215;18819433731;18820411715;18819242921;18820413931;18820796264;18819435652;18819435651;18824126962;18826496761;18814132267;18820039274;18820039574;18820103854;18818395507;18818396697;18819176615;18819159957;18819150041;18819150114;18819150284;18819150394;18819150402;18819150941;18819151140;18802034810;18802034825;18802034826;18802034846;18802034851;18802034856;18802034859;18802034869;18802034875;18802034876;18802034940;18802034941;18802034942;18802034943;18802090370;13926037545;13926037935;13926091415;13926057365;13926043625;13926041375;13926091765;13926058745;13926052175;13602725032;13602739792;13602791252;13602791202;13602734142;13602798352;13602735402;13602774461;13902214450;13902218664;13902219562;13902219710;13902231659;13902219217;13902235101;13928812207;13928813359;13928813976;13928810639;13928805117;13928814151;13928811847;13928813275;13928814161;13928874140;13928781760;13928783760;13928874280;13928783890;13928781790;13928785620;13928874460;13928783510;13928781640;13928787190;13928784770;13928785720;13928879490;13928848620;13928780710;13928781570;13928710729;13928711840;13928726035;13928711435;13928711054;13928712495;13928711705;13928712840;13928711953;13928712144;13928712401;13928710914;13928712463;13928712935;13928713165;13928713265;13928713159;13902257930;13902257351;13902253230;13902252450;13902256837;13902253760;13902254070;13902250710;13902250180;13902254810;13902256670;13902250210;13902250370;13902256950;13902250150;13902257360;13902250390;13902250920;13902254910;13902250670;13922706270;13922702316;13922706912;13922706952;13922707872;13922706040;13922708903;13922708951;13922708712;13922706183;13922706208;13922706065;13826420251;13922281056;13902297520;13922285596;13922101223;13922105772;13922101224;13928833051;13928810231;13928850232;13928832273;13902249220;13922256801;13922299536;13902248437;13922102772;13922105652;13902248542;13922107272;13922107618;13922108312;13922108516;13922101635;13922108939;13922103202;13922107558;13922108908;13922100607;13922109096;13922103131;13922108853;13922102616;13922103390;13922109853;13922106182;13922107703;13922286574;13922261014;13922243405;13922219485;13922214896;13922214624;13922297846;13922252169;13922204727;13922292430;13922209530;13924099803;13924066402;13924099543;13924099173;13924099859;13924066812;13924066462;13924099602;13924099973;13924066742;13924099093;13924066272;13924099783;13924099932;13924099743;13924066173;13924099729;13922237414;13922215064;13922211594;13922213494;13922259770;13922259760;13922254670;13922216370;13922263570;13922289270;13922212973;13922217510;13922258921;13922215795;13922293750;13922217852;13922271260;13922398061;13926144130;13922439310;13926052573;13928844653;13822274630;13822274620;13822274610;13902277495;13902277496;13902277497;13902277492;13922290867;13922290843;13719266770;13500002904;13928839314;13500021739;13500021527;13500020852;13500016237;13500020965;13500029540;13500017672;13500021953;13500014843;13500012497;13501506354;13503061524;13503002984;13503003164;13501517754;13822249767;13822264872;13822264983;13822259091;13808817493;13822149594;13822120343;13822137531;13822259574;13822256462;13822284271;13822257405;13822257307;13822256491;13822249827;13822251453;13822253157;13822286245;13802427562;13802930304;13802949731;13808890372;13808897150;13808819523;13808812675;13610041086;13822148731;13802954237;13802951406;13822145731;13711758312;13802410047;13802439784;13802439273;13802439517;13802439193;13802439094;13802439607;13802439627;13802439134;13632182401;13632183460;18816806735;18816793828;18826121803;18826120352;18826121750;18826121851;18826121620;18826121931;18826121905;18826121265;18826122010;18826122120;18898494220;18898454220;18898414220;18898494820;18802008104;18813221240;18813221341;18813223143;18802094414;18819821401;18802093504;18802098054;18819242837;18819243143;18813225943;18813225024;18813228534;18813963274;18819498260;13924150013;13924150027;13924150073;13925010752;13925012751;13925012487;13925013342;13924130061;13924130075;13924130076;13924130110;13924130121;13922291416;13922284476;13922187476;13922304246;13922306426;13922301463;13922300742;13570205312;13926101346;13926014326;13926105346;13926101436;13926103446;13926101476;13926104206;13926104526;13926105146;13926105446;13926105646;13926107436;13926107486;13926108446;13926108476;13926101264;13926101344;13926100674;13926101407;13926109746;13926101443;13926101374;13926101434;13926101447;13926101452;13926101472;13926100792;13926100317;13926100546;13926100571;13926100791;13926100214;13926100347;13926100617;13926467023;13926467082;13926467131;13926466573;13926467152;13926466350;13926475576;13926475620;18898827757;18898827361;18898826314;18898827362;18898827759;18898827754;18898827760;18898827765;18898827763;18898827770;13632101674;13632101842;13632100424;13632102142;13632102547;13632102475;13632102864;13602884754;13632102375;13602889124;13632102572;13602889741;13632102624;13632103175;13632103751;13632103874;13632104840;13902405095;13902405092;13902405065;13902405062;13902405391;13902405170;13902405392;13902405101;13902337324;13902338434;13902338454;13902338674;13902339174;13902339204;13902339254;13902339734;13902339794;13902380154;13902381452;13902381454;13902381524;13902381744;13902382134;13902382374;13902382724;13902384714;13902384834;13902384874;13902384904;13902385034;13902385054;13902385704;13902385824;13902386074;13902386394;13903010274;13903010294;13903010742;13903010354;13903010764;13903010864;13903011294;13903011347;18802049282;18802049334;18802049545;18802049554;18802074235;18802045395;18802045891;18802045897;18802045901'\n",
    "a=cn_list.split(';')\n",
    "cn_a_count=len(a)\n",
    "print(cn_a_count)\n",
    "k=0\n",
    "\n",
    "\n",
    "for cn_phone in a:\n",
    "    def cn_cookies(cookies_temp):\n",
    "            cookies = dict()\n",
    "            for i in r.cookies.get_dict('10.252.17.241'):\n",
    "                cookies[i]=r.cookies.get(i,'','10.252.17.241')\n",
    "            cookies['bsacKF']='NGCRM_BOSS'\n",
    "            cookies['com.huawei.boss.CONTACTID']='null'\n",
    "            cookies['com.huawei.boss.CURRENT_MENUID']='123456'\n",
    "            cookies['com.huawei.boss.CURRENT_TAB']='123456'\n",
    "            cookies['com.huawei.boss.CURRENT_USER']='com.huawei.boss.NO_CURRENT_USER'\n",
    "            cookies['GZCOMM']='r_GZ_CRM_WEB1_1082'\n",
    "            cookies['GZCRM']='r_GZ_CRM_WEB2_1081'\n",
    "            return cookies\n",
    "    \n",
    "\n",
    "    header={'User-Agent':'Mozilla/5.0 (compatible; MSIE 10.0; Windows NT 6.2; WOW64; Trident/6.0; SE 2.X MetaSr 1.0)','Accept':'*/*','Accept-Language':'zh-cn','Accept-Encoding':'gzip, deflate'}\n",
    "    header2={'User-Agent':'Mozilla/5.0 (compatible; MSIE 10.0; Windows NT 6.2; WOW64; Trident/6.0; SE 2.X MetaSr 1.0)','Accept':'*/*','Accept-Language':'zh-cn','Accept-Encoding':'gzip, deflate','X-Requested-With':'XMLHttpRequest'}\n",
    "    header3={'User-Agent':'Mozilla/5.0 (compatible; MSIE 10.0; Windows NT 6.2; WOW64; Trident/6.0; SE 2.X MetaSr 1.0)','Accept':'image/jpeg,application/x-ms-application,image/gif,application/xaml+xml,image/pjpeg, application/x-ms-xbap','Accept-Language':'zh-CN','Accept-Encoding':'gzip, deflate'}\n",
    "\n",
    "    cookies1=cn_cookies(r.cookies)\n",
    "    url='http://10.252.17.241/ngcustcare/custlogin/qryCustInfo.action'\n",
    "    parma={'method':'qryCustInfo','servNumber':cn_phone,'authCheckMode':'AuthCheckZ','verifyCode':'','pswd':'','certType':'IdCard','certID':'','rndPswd':'','custType':'PersonCustomer','domainType':'','isCert2G':'','ONLYLOGIN':'onlyLogin','withoutPassValidate':'true','isUseReadIdCardWithTwo':'0'}\n",
    "    s=r.post(url,cookies=cookies1,data=parma,headers=header2)\n",
    "\n",
    "\n",
    "    cn_cookies=cn_cookies2(r.cookies,cn_phone)\n",
    "    url2='http://10.252.17.241/ngcustcare/uniteview/uviewtwo/uvDisper.action?currentTabID=BOSS^13925032691^100110121062~13925032691 HTTP/1.1'\n",
    "    s2=r.get(url2,cookies=cn_cookies,headers=header2)\n",
    "    soup=BeautifulSoup(s2.text,'lxml')\n",
    "\n",
    "\n",
    "    cn_cookies3=cn_cookies2(r.cookies,cn_phone)\n",
    "    url3='http://10.252.17.241/nguniteview/bossviewhome.jsp'\n",
    "    parma3={'ccm_ObjectID':'','ccm_RandomNum':'','ccdirect':soup.find(attrs={\"name\":\"ccdirect\"}).attrs['value'],'ccm_EntityID':soup.find(attrs={\"name\":\"ccm_EntityID\"}).attrs['value'],'ccm_EntityName':soup.find(attrs={\"name\":\"ccm_EntityName\"}).attrs['value'],'ccm_CreateDate':soup.find(attrs={\"name\":\"ccm_CreateDate\"}).attrs['value'],'ccm_Status':soup.find(attrs={\"name\":\"ccm_Status\"}).attrs['value'],'ccm_StatusDate':soup.find(attrs={\"name\":\"ccm_StatusDate\"}).attrs['value'],'ccm_EditStatus':soup.find(attrs={\"name\":\"ccm_EditStatus\"}).attrs['value'],'ccm_Region':'200','ccm_ShortName':'','ccm_Password':soup.find(attrs={\"name\":\"ccm_Password\"}).attrs['value'],'ccm_CustType':'PersonCustomer','ccm_VipType':soup.find(attrs={\"name\":\"ccm_VipType\"}).attrs['value'],'ccm_Foreigner':soup.find(attrs={\"name\":\"ccm_Foreigner\"}).attrs['value'],'ccm_CustClass1':soup.find(attrs={\"name\":\"ccm_CustClass1\"}).attrs['value'],'ccm_CustClass2':soup.find(attrs={\"name\":\"ccm_CustClass2\"}).attrs['value'],'ccm_National':soup.find(attrs={\"name\":\"ccm_National\"}).attrs['value'],'ccm_Address':'********','ccm_CertID':soup.find(attrs={\"name\":\"ccm_CertID\"}).attrs['value'],'ccm_CertType':soup.find(attrs={\"name\":\"ccm_CertType\"}).attrs['value'],'ccm_CertAddr':'********','ccm_LinkMan':soup.find(attrs={\"name\":\"ccm_LinkMan\"}).attrs['value'],'ccm_LinkPhone':soup.find(attrs={\"name\":\"ccm_LinkPhone\"}).attrs['value'],'ccm_HomeTel':'','ccm_OfficeTel':'','ccm_MobileTel':'','ccm_PostCode':soup.find(attrs={\"name\":\"ccm_PostCode\"}).attrs['value'],'ccm_LinkAddr':'********','ccm_Email':'','ccm_HomePage':'','ccm_IsMergeBill':'1','ccm_CreditLevel':soup.find(attrs={\"name\":\"ccm_CreditLevel\"}).attrs['value'],'ccm_OwnerAreaID':soup.find(attrs={\"name\":\"ccm_OwnerAreaID\"}).attrs['value'],'ccm_OrgID':soup.find(attrs={\"name\":\"ccm_OrgID\"}).attrs['value'],'ccm_RegStatus':'1','ccm_Notes':soup.find(attrs={\"name\":\"ccm_Notes\"}).attrs['value'],'ccm_ResponseCustMgr':'','ccm_CurrentCustMgr':'','ccm_InLevel':soup.find(attrs={\"name\":\"ccm_InLevel\"}).attrs['value'],'ccm_TownID':'','ccm_VipTypeStateDate':soup.find(attrs={\"name\":\"ccm_VipTypeStateDate\"}).attrs['value'],'ccm_NetServGrade':'','ccm_CustAddrArray':'[]','ccm_CustBillArray':'[]','ccm_IsEncrypt':'1','ccm_starLevel':soup.find(attrs={\"name\":\"ccm_starLevel\"}).attrs['value'],'ccm_IsFaceChk':soup.find(attrs={\"name\":\"ccm_IsFaceChk\"}).attrs['value'],'ccregister':soup.find(attrs={\"name\":\"ccregister\"}).attrs['value'],'ccnotRegister':soup.find(attrs={\"name\":\"ccnotRegister\"}).attrs['value'],'csm_ObjectID':'','csm_RandomNum':'','csdirect':soup.find(attrs={\"name\":\"csdirect\"}).attrs['value'],'csm_EntityID':soup.find(attrs={\"name\":\"csm_EntityID\"}).attrs['value'],'csm_EntityName':cn_soup('csm_EntityName'),'csm_CreateDate':cn_soup('csm_CreateDate'),'csm_Status':cn_soup('csm_Status'),'csm_StatusDate':'******','csm_EditStatus':cn_soup('csm_EditStatus'),'csm_Region':'200','csm_Password':cn_soup('csm_Password'),'csm_ProductID':cn_soup('csm_ProductID'),'csm_ServNumber':cn_soup('csm_ServNumber'),'csm_RegisterOrgID':cn_soup('csm_RegisterOrgID'),'csm_OwnerOrgID':cn_soup('csm_OwnerOrgID'),'csm_AccountOid':cn_soup('csm_AccountOid'),'csm_CustomerOid':cn_soup('csm_CustomerOid'),'csm_AuthType':'AuthCheckB','csm_MobileType':'mbtpNml','csm_AreaID':'','csm_PayMode':'1','csm_StopKey':cn_soup('csm_StopKey'),'csm_Brand':cn_soup('csm_Brand'),'csm_StartDate':cn_soup('csm_StartDate'),'csm_InvalidDate':cn_soup('csm_InvalidDate'),'csm_SettleDay':'1','csm_Enum':cn_soup('csm_Enum'),'csm_Imsi':cn_soup('csm_Imsi'),'csm_Credit':'0','csm_SubsProduct':'[]','csm_IsDefaultTelNum':'1','csm_BelongRegion':'0','csm_TargetRegion':'0','csm_CretLevel':'','csgotone':cn_soup('csgotone'),'csnotGotone':cn_soup('csnotGotone'),'cam_ObjectID':'','cam_RandomNum':'','cadirect':cn_soup('cadirect'),'cam_EntityID':cn_soup('cam_EntityID'),'cam_EntityName':cn_soup('cam_EntityName'),'cam_CreateDate':cn_soup('cam_CreateDate'),'cam_Status':cn_soup('cam_Status'),'cam_StatusDate':cn_soup('cam_StatusDate'),'cam_EditStatus':'0','cam_Region':'200','cam_CustID':cn_soup('cam_CustID'),'cam_GroupAcctID':'','cam_PrePayType':'pptpPost','cam_AccountType':'actpCmn','cam_OverDraft':'0','cam_ControlScheme':'0','cam_EntrustTel':cn_soup('cam_EntrustTel'),'cam_OrgID':cn_soup('cam_OrgID'),'cam_NotifyType':'0','cam_NotifyValue':'0','cam_InvPrintType':'InvPTbillfee','cam_Notes':'','cam_PayChannelArray':'[]','cam_CustBillArray':'[]','cam_UrgeInfos':'[]','cam_SettleAccount':'','cam_IsDefault':'1','cam_BillInvoiceMailArray':'[]','cam_NotifyValueDisplay':'0','cam_CreateDateDisplay':cn_soup('cam_CreateDateDisplay'),'com_ObjectID':'','com_RandomNum':'','comenuId':cn_soup('comenuId'),'codirect':'FALSE','com_EntityID':'AGZGT0000829','com_EntityName':cn_soup('com_EntityName'),'com_CreateDate':cn_soup('com_CreateDate'),'com_Status':cn_soup('com_Status'),'com_StatusDate':cn_soup('com_StatusDate'),'com_EditStatus':'0','com_Region':'200','coerrorInfoForControl':'','conodeID':'AGZGT0000829','conodeName':cn_soup('conodeName'),'conodeParentID':cn_soup('conodeParentID'),'coentityID':'AGZGT0000829','cootherParam':cn_soup('cootherParam'),'cochecked':cn_soup('cochecked'),'com_MenuID':cn_soup('com_MenuID'),'com_ServNum':'','com_TouchNum':'','com_Password':cn_soup('com_Password'),'com_OrgID':cn_soup('com_OrgID'),'com_RoamOrgID':'','com_PassChangeDate':cn_soup('com_PassChangeDate'),'com_OperType':cn_soup('com_OperType'),'com_Manager':'0','com_Level':'','com_ContactPhone':'13922204911','com_MacAddress':cn_soup('com_MacAddress'),'com_OnDuty':'0','com_ShareStore':'','com_BirthDay':'','com_WorkDate':'','com_CertID':'','com_Sex':'','com_EducationLevel':'','com_TotalLevel':'','com_SkillLevel':'','com_TrainLevel':'','com_ComityLevel':'','com_Operator_type':'0','com_NativeHome':'','com_graduateDate':'','com_IsMarray':'0','com_PolityFace':'','com_HomeAddress':'','com_JobLive':'','com_NowPostID':'','com_BloodType':'','com_Healthy':'','com_Character':'','com_Enjoyful':'','com_PriSocietyRelation':'','com_FamilyDes':'','com_StarLevel':'','com_AssessRec':'','com_hr_status':'1','com_Restrict_time':'0','com_Start_time':'0','com_End_time':'24','com_Enable_gprs':'0','com_Gprs_starttime':'0','com_Gprs_endtime':'0','com_Check_mac':'0','com_Mac':'','com_IPAddress':'10.244.110.143','costartUsingTime':cn_soup('costartUsingTime'),'coendUsingTime':cn_soup('coendUsingTime'),'com_QueueID':'','com_InvVersion':'','com_areaID':'','servNumber':cn_soup('servNumber'),'transmit':cn_soup('transmit'),'recType':'','stopKeyValue':cn_soup('stopKeyValue'),'remotemac':'08-00-27-44-EC-99'}\n",
    "    s3=r.post(url3,data=parma3,cookies=cn_cookies3,headers=header2)\n",
    "\n",
    "    cn_cookies4=cn_cookies2(r.cookies,cn_phone)\n",
    "    url4='http://10.252.17.241/nguniteview/layoutAction.do?method=showView&ownerType=1&viewId=110'\n",
    "    parma4={'width':'728','height':'14'}\n",
    "    s4=r.post(url4,data=parma4,cookies=cn_cookies4,headers=header2)\n",
    "    soup2=BeautifulSoup(s4.text,'lxml')\n",
    "    cn_file.write(\"\\n\"+str(cn_phone)+' '+soup2.select('span')[1].text)\n",
    "    k=k+1\n",
    "    if(k%50==0):\n",
    "        print(k)\n",
    "        cn_file.close()\n",
    "        cn_file=open('abc','a')\n",
    "    time.sleep(1)\n",
    "cn_file.close()"
   ]
  },
  {
   "cell_type": "code",
   "execution_count": 178,
   "metadata": {},
   "outputs": [
    {
     "name": "stdout",
     "output_type": "stream",
     "text": [
      "<table width=100%  class=\"fv_tb\" cellspacing=0 cellpadding=0> \r\n",
      "<tr class=fv_tb_tr><th width=20%>总积分</th><td width=31%><span >21637.0</span></td><th width=20%>累计可用积分</th><td width=31%><span >10504.0</span></td></tr> \r\n",
      "<tr class=fv_tb_tr><th width=20%>累计购买积分</th><td width=31%><span >0.0</span></td><th width=20%>累计兑奖积分</th><td width=31%><span >0.0</span></td></tr> \r\n",
      "<tr class=fv_tb_tr><th width=20%>累计资格积分</th><td width=31%><span >0.0</span></td><th width=20%>总消费积分</th><td width=31%><span >0.0</span></td></tr> \r\n",
      "<tr><td colspan=\"4\"></td></tr> \r\n",
      "</table> \r\n",
      "\n"
     ]
    }
   ],
   "source": [
    "print(s4.text)"
   ]
  },
  {
   "cell_type": "code",
   "execution_count": 145,
   "metadata": {},
   "outputs": [
    {
     "name": "stdout",
     "output_type": "stream",
     "text": [
      "10504.0\n"
     ]
    }
   ],
   "source": []
  },
  {
   "cell_type": "code",
   "execution_count": 198,
   "metadata": {
    "collapsed": true
   },
   "outputs": [],
   "source": [
    "time.sleep(1)"
   ]
  }
 ],
 "metadata": {
  "kernelspec": {
   "display_name": "Python 3",
   "language": "python",
   "name": "python3"
  },
  "language_info": {
   "codemirror_mode": {
    "name": "ipython",
    "version": 3
   },
   "file_extension": ".py",
   "mimetype": "text/x-python",
   "name": "python",
   "nbconvert_exporter": "python",
   "pygments_lexer": "ipython3",
   "version": "3.6.4"
  }
 },
 "nbformat": 4,
 "nbformat_minor": 2
}
