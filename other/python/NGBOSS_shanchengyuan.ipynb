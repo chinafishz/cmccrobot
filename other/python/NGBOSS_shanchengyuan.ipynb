{
 "cells": [
  {
   "cell_type": "code",
   "execution_count": 1,
   "metadata": {
    "collapsed": false
   },
   "outputs": [
    {
     "name": "stdout",
     "output_type": "stream",
     "text": [
      "验证码:694420\n"
     ]
    }
   ],
   "source": [
    "import cn_class_4alogin\n",
    "import requests\n",
    "import sys\n",
    "reload(sys)\n",
    "sys.setdefaultencoding( \"utf-8\" )\n",
    "\n",
    "r=requests.session()\n",
    "header={'User-Agent':'Mozilla/5.0 (X11; Linux x86_64; rv:44.0) Gecko/20100101 Firefox/44.0','Accept-Language':'en-US,en;q=0.5'}\n",
    "\n",
    "json2=cn_class_4alogin.cn_4ALogin(r,'1@34qWer','41608446240A6782F2A0F031426EDC066CF24674F3F0586AF1E3983438A09296B7F89368DA14DEAB7C256D62346762770768A4F7DFE431F4')\n",
    "cn_class_4alogin.cn_BossLogin(r,json2)"
   ]
  },
  {
   "cell_type": "code",
   "execution_count": 65,
   "metadata": {
    "collapsed": false
   },
   "outputs": [],
   "source": [
    "#成员管理登入\n",
    "from bs4  import BeautifulSoup\n",
    "import random\n",
    "\n",
    "cn_groupId='2000126906'\n",
    "cn_inputVal=''\n",
    "cn_grpSubsId='2006855634982'\n",
    "cn_phone='14714857535'\n",
    "cn_memOid=''\n",
    "def cn_shanchengyuan_open(r,cn_groupId,cn_inputVal):\n",
    "    header={'User-Agent':'Mozilla/5.0 (compatible; MSIE 10.0; Windows NT 6.2; WOW64; Trident/6.0; SE 2.X MetaSr 1.0)','Accept':'*/*','Accept-Language':'zh-cn','Accept-Encoding':'gzip, deflate'}\n",
    "#     cn_random='0.'+str(random.randint(100000000000000,999999999999999))+str(random.randint(1,9))\n",
    "    parmas={'groupOrMemeber':'group','groupId':cn_groupId,'grpMem.qryType':'SERVNUMBER','grpMem.inputVal':cn_inputVal,'grpMem.startTime':'','grpMem.startTime_format':'','grpMem.endTime':'','grpMem.endTime_format':'yyyy-MM-dd HH:mm:ss'}\n",
    "    result=r.post('http://10.252.17.241/ngcustcare_fs/group/commonquery/queryCustomerInfo.action?recType=GroupMemberMgrAdd',data=parmas,headers=header)\n",
    "    \n",
    "    \n",
    "    parmas={'groupOrMemeber':'group','groupId':cn_groupId,'grpMem.qryType':'ALL','grpMem.inputVal':cn_inputVal,'grpMem.startTime':'','grpMem.startTime_format':'','grpMem.endTime':'','grpMem.endTime_format':'yyyy-MM-dd HH:mm:ss'}\n",
    "    result=r.post('http://10.252.17.241/ngcustcare_fs/group/commonquery/querySubscriberInfo.action?subsId='+cn_grpSubsId,data=parmas,headers=header)\n",
    "\n",
    "#     return soup.find(attrs={\"name\":\"status\"}).attrs['value']\n",
    "\n",
    "def cn_shanchengyuan_chachengyuan(r,cn_grpSubsId,cn_phone):\n",
    "    result=r.get('http://10.252.17.241/ngcustcare_fs/group/groupMemberMg/query.action?grpMem.grpSubsId='+cn_grpSubsId+'&grpMem.qryType=SERVNUMBER&grpMem.inputVal='+cn_phone+'&isAllowRec=1',headers=header)\n",
    "    soup=BeautifulSoup(result.text,'lxml')\n",
    "    temp=str(soup.select('.list_tr_bg1color')[0].select('.list_title')[12].find(attrs={\"title\":u\"删除\"}).attrs['onclick'])\n",
    "    return temp.split('#')[2]\n",
    "    \n",
    "    \n",
    "def cn_shanchengyuan_del(r,cn_grpSubsId,cn_phone,cn_memOid):\n",
    "    cn_random='0.'+str(random.randint(100000000000000,999999999999999))+str(random.randint(1,9))\n",
    "    header={'User-Agent':'Mozilla/5.0 (compatible; MSIE 10.0; Windows NT 6.2; WOW64; Trident/6.0; SE 2.X MetaSr 1.0)','Accept':'*/*','Accept-Language':'zh-cn','Accept-Encoding':'gzip, deflate'}\n",
    "    r.get('http://10.252.17.241/ngcustcare_fs/group/groupMemberMg/preDelet.action?ngcrm_rnd='+cn_random+'&ngcrm_reserved1=1&subsId='+cn_grpSubsId+'&servNumber='+cn_phone+'&memeberType=0&memOid='+cn_memOid+'&memShortNum=&productId=9105',headers=header)\n",
    "    \n",
    "\n",
    "    result=r.get('http://10.252.17.241/ngcustcare_fs/group/groupMemberMg/delete.action?subsId='+cn_grpSubsId+'&servNumber='+cn_phone+'&memeberType=0&memOid='+cn_memOid+'&memShortNum=&productId=9105&timeTag='+str(time.time()).replace('.','')+'4'+'&isDelFromCrm=&groupNo='+cn_groupId,headers=header)\n",
    "    soup=BeautifulSoup(result.text,'lxml')\n",
    "    cn_calculat=soup.select('.table_listoutline')[1].find(attrs={'name':'_fee/calculate'}).attrs['value']\n",
    "    \n",
    "    result=r.get('http://10.252.17.241/ngcustcare_fs/common/managerMan/managerManQuery.action?noHeader=1&random='+str(time.time()).replace('.','')+'4',headers=header)\n",
    "   \n",
    "    \n",
    "    \n",
    "    parmas={'PreBussOrderId':'','withdrawGoods':'','payTypeBean.cashAmt':'','payTypeBean.chequeAmt':'','payTypeBean.bankId':'','payTypeBean.bankName':'','payTypeBean.chequeNum':'','payTypeBean.cardAmt':'','payTypeBean.posNum':'','payTypeBean.confirmPosNum':'','payTypeBean.weiXinPayAmt':'','payTypeBean.weiXinPayNum':'','payTypeBean.aliPayAmt':'','payTypeBean.orderId':'','payTypeBean.aliPayPayNum':'','payTypeBean.acctCash':'','payTypeBean.acctPayCash':'','payTypeBean.scoreCash':'','payTypeBean.score':'','payTypeBean.scoreTransRule':'1/1','payTypeBean.m':'0','payTypeBean.mTransRule':'1/1','payTypeBean.separateAmt':'','payTypeBean.separateBankId':'GH','payTypeBean.separateBankName':u'工行','payTypeBean.separateBankAcct':'','payTypeBean.separateBankUserName':'','payTypeBean.separatePosNum':'','payTypeBean.limitCash':'','payTypeBean.unlimitCash':'','BARGAINFEEXML':'','CHANGEFEEBYBARGAINXML':'@260@263xml@232version@261@2341@2460@234@232encoding@261@234UTF@2458@234@263@262@260huawei@295call@262@260i@262common@247fee@247@242@260@247i@262@260e@262changeFeeByBargain@260@247e@262@260p@262@260m@262@260n@2620@260@247n@262@260t@262a@260@247t@262@260v@262@260@247v@262@260@247m@262@260m@262@260n@2621@260@247n@262@260t@262a@260@247t@262@260v@262@260@247v@262@260@247m@262@260@247p@262@260@247huawei@295call@262','UPDATEPAYTYPEBYPAGEDATAXML':'@260@263xml@232version@261@2341@2460@234@232encoding@261@234UTF@2458@234@263@262@260huawei@295call@262@260i@262common@247fee@247@242@260@247i@262@260e@262updatePayTypeByPageData@260@247e@262@260p@262@260m@262@260n@2620@260@247n@262@260t@262a@260@247t@262@260v@262@260@247v@262@260@247m@262@260@247p@262@260@247huawei@295call@262','reccustinfo_name':u'陈*庆','reccustinfo_phone':'13822288019','reccustinfo_certificateType':'IdCard','reccustinfo_certificateNum':'********','reccustinfo_address':'','reccustinfo_note':'','invoicePrintMode':'','hiddenTokenName':'_fee/calculate','_fee/calculate':cn_calculat,'receiptNumber':'00000000','assembleInvoice':'0','invoiceNumber':'00000000','elecInvoiceServNumber':'13822288019','isForPaging':'OLD','changeEnumRecType':''}\n",
    "    result=r.post('http://10.252.17.241/ngcustcare_fs/common/fee/pay.action',data=parmas,headers=header)\n",
    "    soup=BeautifulSoup(result.text,'lxml')\n",
    "#     print soup.text\n",
    "    a='end'\n",
    "    return a\n",
    "#     print cn_calculat\n",
    "\n",
    "\n",
    "   \n",
    "    \n",
    "    \n",
    "    \n",
    "# cn_shanchengyuan_open(r,cn_groupId,cn_inputVal)\n",
    "# cn_memOid=cn_shanchengyuan_chachengyuan(r,cn_grpSubsId,cn_phone)\n",
    "# cn_shanchengyuan_del(r,cn_grpSubsId,cn_phone,cn_memOid)"
   ]
  },
  {
   "cell_type": "code",
   "execution_count": null,
   "metadata": {
    "collapsed": true
   },
   "outputs": [],
   "source": [
    "cn_groupId='2000129351'\n",
    "cn_inputVal=''\n",
    "cn_grpSubsId='82000016073618'\n",
    "cn_phone='15728768963'\n",
    "cn_memOid=''\n",
    "cn_shanchengyuan_open(r,cn_groupId,cn_inputVal)\n",
    "\n",
    "\n",
    "cn_list='15728769203;15728769207;15728769214;15728769215;15728769217;15728769223;15728769713;15728769719;15728769721;15728769723;15728769195;15728769205;15728769213;15728769556;15728769716;15728769717;15728769725;15728769759;15728769768;15728769771;15728768964;15728769155;15728769192;15728769194;15728769204;15728769216;15728769219;15728769574;15728769720;15728769724;15728769760;15728769770;15728768958;15728768960;15728769023;15728769196;15728769409;15728769597;15728769714;15728769715;15728769726;15728769761;15728769762;15728769764;15728769765'\n",
    "a=cn_list.split(';')\n",
    "cn_a_count=len(a)\n",
    "print cn_a_count\n",
    "i=0\n",
    "for cn_phonNnum in a:\n",
    "    i=i+1\n",
    "    cn_memOid=cn_shanchengyuan_chachengyuan(r,cn_grpSubsId,cn_phonNnum)\n",
    "    a=cn_shanchengyuan_del(r,cn_grpSubsId,cn_phonNnum,cn_memOid)\n",
    "    cn_file=file('abc','a')\n",
    "    cn_file.write(\"\\n\"+str(i)+','+str(cn_phonNnum)+','+str(a))\n",
    "    cn_file.close()\n",
    "    \n",
    "    if(i%50==0):\n",
    "        print i\n",
    "    time.sleep(1)\n",
    "cn_file=file('abc','a')\n",
    "cn_file.write(\"\\n=========end===========\")  \n",
    "cn_file.close()\n",
    "print '========end============='\n"
   ]
  }
 ],
 "metadata": {
  "anaconda-cloud": {},
  "kernelspec": {
   "display_name": "Python [conda root]",
   "language": "python",
   "name": "conda-root-py"
  },
  "language_info": {
   "codemirror_mode": {
    "name": "ipython",
    "version": 2
   },
   "file_extension": ".py",
   "mimetype": "text/x-python",
   "name": "python",
   "nbconvert_exporter": "python",
   "pygments_lexer": "ipython2",
   "version": "2.7.12"
  }
 },
 "nbformat": 4,
 "nbformat_minor": 1
}
