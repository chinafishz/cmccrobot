{
 "cells": [
  {
   "cell_type": "code",
   "execution_count": 3,
   "metadata": {},
   "outputs": [
    {
     "name": "stdout",
     "output_type": "stream",
     "text": [
      "1\n",
      "None\n"
     ]
    }
   ],
   "source": [
    "import requests\n",
    "from bs4  import BeautifulSoup\n",
    "\n",
    "r=requests.session()\n",
    "\n",
    "def cn_bss_login(r):\n",
    "    url='http://bss.gz.gmcc.net/bssv2/system/login.action'\n",
    "    parma={'loginByAjax':'1','authCode':'','userId':'shizhongxia','password':'qWER1234','ssoFlag':'0','dd':'2'}\n",
    "    s=r.post(url,data=parma)\n",
    "    print(s.text)\n",
    "\n",
    "    \n",
    "cn_bss_login(r)\n",
    "        \n",
    "\n",
    "\n",
    "\n"
   ]
  },
  {
   "cell_type": "code",
   "execution_count": 4,
   "metadata": {
    "collapsed": true
   },
   "outputs": [],
   "source": [
    "import time\n",
    "\n",
    "def cn_bss_shouhou_shujuxiaohu(r):\n",
    "    url='http://bss.gz.gmcc.net/bssv2/SP/datalinecancel!beforeCreate.action'\n",
    "    s=r.get(url)\n",
    "    soup=BeautifulSoup(s0.text,'lxml')\n",
    "    cn_dzOrderno=soup.find(attrs={'name':'paramsMap.dzOrderno'}).attrs['value']\n",
    "    cn_pageOrderno=soup.find(attrs={'name':'paramsMap.pageOrderno'}).attrs['value']\n",
    "    cn_orderno=soup.find(attrs={'name':'order.orderno'}).attrs['value']\n",
    "    \n",
    "    url='http://bss.gz.gmcc.net/bssv2/SP/datalinecancel!doCreate.action'\n",
    "    cn_time=time.strftime(\"%Y-%m-%d %H:%M:%S\", time.localtime())\n",
    "    parma={'attachArrayBeforeSaveEntity\t':'','currentOrderId':'','initProductTypeVal':'','order.agentcontact':'','order.agentcontacttel':'','order.agentid':'','order.branchid':'3','order.connectPersonname':'李彪','order.connectPersontel':'18069800153','order.createtime':cn_time,'order.createuserid':'16564','order.custmgrname':'施仲夏','order.custmgrtel':'13922204911','order.customerid':'167799','order.groupid':'2002521723','order.linetype':'30002','order.orderid':'','order.orderno':cn_orderno,'order.ordertype':'20003','order.parentorderid':'','order.producttype':'','order.sourcechannel':'30001','order.title':'数据专线(纸质协议)-销户-电路-专业版-越秀分公司-上海慧达驿站网络科技有限公司-客户原因-业务量下降削减专线业务','order.treatySendType':'30002','orderDt.AAddr':'东莞市/城区/东城区/东城大道/8-10号东城附属楼4F交换1室G_1_1-07机架','orderDt.accessAddress':'','orderDt.busiDesc':'施仲夏/越秀分公司/ZZ-sjzxxh-171207-0014/客户申请取消业务,上门前请先预约张心成13922945059','orderDt.cancelReason':'30035','orderDt.createtime':'2017/12/7 16:12','orderDt.createuserid':'16564','orderDt.orderdtid':'','orderDt.parentorderdtid':'','orderDt.productcode':'30122021182','orderDt.producttype':'30021','orderDt.ZAddr':'东莞市/城区/莞城区/莞太路/创业新村路口金叶大厦','paramsMap.agentname':'','paramsMap.custname':'上海慧达驿站网络科技有限公司','paramsMap.dzOrderno':'DZ-sjzxxh-171207-0014','paramsMap.istop1000':'','paramsMap.pageOrderno':'ZZ-sjzxxh-171207-0016','paramsMapCreateTelNumber':'13922204911','paramsMapCreateUserName':'施仲夏','workflowProcessKey':'DataCancel'}\n"
   ]
  },
  {
   "cell_type": "code",
   "execution_count": 8,
   "metadata": {},
   "outputs": [
    {
     "name": "stdout",
     "output_type": "stream",
     "text": [
      "2017-12-07 17:28:51\n"
     ]
    }
   ],
   "source": [
    "\n",
    "print (time.strftime(\"%Y-%m-%d %H:%M:%S\", time.localtime()))"
   ]
  }
 ],
 "metadata": {
  "kernelspec": {
   "display_name": "Python 3",
   "language": "python",
   "name": "python3"
  },
  "language_info": {
   "codemirror_mode": {
    "name": "ipython",
    "version": 3
   },
   "file_extension": ".py",
   "mimetype": "text/x-python",
   "name": "python",
   "nbconvert_exporter": "python",
   "pygments_lexer": "ipython3",
   "version": "3.6.1"
  }
 },
 "nbformat": 4,
 "nbformat_minor": 2
}
