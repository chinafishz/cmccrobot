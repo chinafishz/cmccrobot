{
 "cells": [
  {
   "cell_type": "code",
   "execution_count": 1,
   "metadata": {},
   "outputs": [
    {
     "name": "stderr",
     "output_type": "stream",
     "text": [
      "/home/chinafishz/opt/anaconda/lib/python3.6/site-packages/urllib3/connectionpool.py:858: InsecureRequestWarning: Unverified HTTPS request is being made. Adding certificate verification is strongly advised. See: https://urllib3.readthedocs.io/en/latest/advanced-usage.html#ssl-warnings\n",
      "  InsecureRequestWarning)\n",
      "/home/chinafishz/opt/anaconda/lib/python3.6/site-packages/urllib3/connectionpool.py:858: InsecureRequestWarning: Unverified HTTPS request is being made. Adding certificate verification is strongly advised. See: https://urllib3.readthedocs.io/en/latest/advanced-usage.html#ssl-warnings\n",
      "  InsecureRequestWarning)\n"
     ]
    },
    {
     "name": "stdout",
     "output_type": "stream",
     "text": [
      "6296455126878312262\n"
     ]
    },
    {
     "name": "stderr",
     "output_type": "stream",
     "text": [
      "/home/chinafishz/opt/anaconda/lib/python3.6/site-packages/urllib3/connectionpool.py:858: InsecureRequestWarning: Unverified HTTPS request is being made. Adding certificate verification is strongly advised. See: https://urllib3.readthedocs.io/en/latest/advanced-usage.html#ssl-warnings\n",
      "  InsecureRequestWarning)\n",
      "/home/chinafishz/opt/anaconda/lib/python3.6/site-packages/urllib3/connectionpool.py:858: InsecureRequestWarning: Unverified HTTPS request is being made. Adding certificate verification is strongly advised. See: https://urllib3.readthedocs.io/en/latest/advanced-usage.html#ssl-warnings\n",
      "  InsecureRequestWarning)\n",
      "/home/chinafishz/opt/anaconda/lib/python3.6/site-packages/urllib3/connectionpool.py:858: InsecureRequestWarning: Unverified HTTPS request is being made. Adding certificate verification is strongly advised. See: https://urllib3.readthedocs.io/en/latest/advanced-usage.html#ssl-warnings\n",
      "  InsecureRequestWarning)\n",
      "/home/chinafishz/opt/anaconda/lib/python3.6/site-packages/urllib3/connectionpool.py:858: InsecureRequestWarning: Unverified HTTPS request is being made. Adding certificate verification is strongly advised. See: https://urllib3.readthedocs.io/en/latest/advanced-usage.html#ssl-warnings\n",
      "  InsecureRequestWarning)\n"
     ]
    },
    {
     "name": "stdout",
     "output_type": "stream",
     "text": [
      "已经发送短信验证码\n"
     ]
    },
    {
     "name": "stderr",
     "output_type": "stream",
     "text": [
      "/home/chinafishz/opt/anaconda/lib/python3.6/site-packages/urllib3/connectionpool.py:858: InsecureRequestWarning: Unverified HTTPS request is being made. Adding certificate verification is strongly advised. See: https://urllib3.readthedocs.io/en/latest/advanced-usage.html#ssl-warnings\n",
      "  InsecureRequestWarning)\n"
     ]
    },
    {
     "name": "stdout",
     "output_type": "stream",
     "text": [
      "验证码:137552\n",
      "正在登陆，请稍后...\n"
     ]
    },
    {
     "name": "stderr",
     "output_type": "stream",
     "text": [
      "/home/chinafishz/opt/anaconda/lib/python3.6/site-packages/urllib3/connectionpool.py:858: InsecureRequestWarning: Unverified HTTPS request is being made. Adding certificate verification is strongly advised. See: https://urllib3.readthedocs.io/en/latest/advanced-usage.html#ssl-warnings\n",
      "  InsecureRequestWarning)\n",
      "/home/chinafishz/opt/anaconda/lib/python3.6/site-packages/urllib3/connectionpool.py:858: InsecureRequestWarning: Unverified HTTPS request is being made. Adding certificate verification is strongly advised. See: https://urllib3.readthedocs.io/en/latest/advanced-usage.html#ssl-warnings\n",
      "  InsecureRequestWarning)\n",
      "/home/chinafishz/opt/anaconda/lib/python3.6/site-packages/urllib3/connectionpool.py:858: InsecureRequestWarning: Unverified HTTPS request is being made. Adding certificate verification is strongly advised. See: https://urllib3.readthedocs.io/en/latest/advanced-usage.html#ssl-warnings\n",
      "  InsecureRequestWarning)\n",
      "/home/chinafishz/opt/anaconda/lib/python3.6/site-packages/urllib3/connectionpool.py:858: InsecureRequestWarning: Unverified HTTPS request is being made. Adding certificate verification is strongly advised. See: https://urllib3.readthedocs.io/en/latest/advanced-usage.html#ssl-warnings\n",
      "  InsecureRequestWarning)\n",
      "/home/chinafishz/opt/anaconda/lib/python3.6/site-packages/urllib3/connectionpool.py:858: InsecureRequestWarning: Unverified HTTPS request is being made. Adding certificate verification is strongly advised. See: https://urllib3.readthedocs.io/en/latest/advanced-usage.html#ssl-warnings\n",
      "  InsecureRequestWarning)\n",
      "/home/chinafishz/opt/anaconda/lib/python3.6/site-packages/urllib3/connectionpool.py:858: InsecureRequestWarning: Unverified HTTPS request is being made. Adding certificate verification is strongly advised. See: https://urllib3.readthedocs.io/en/latest/advanced-usage.html#ssl-warnings\n",
      "  InsecureRequestWarning)\n",
      "/home/chinafishz/opt/anaconda/lib/python3.6/site-packages/urllib3/connectionpool.py:858: InsecureRequestWarning: Unverified HTTPS request is being made. Adding certificate verification is strongly advised. See: https://urllib3.readthedocs.io/en/latest/advanced-usage.html#ssl-warnings\n",
      "  InsecureRequestWarning)\n",
      "/home/chinafishz/opt/anaconda/lib/python3.6/site-packages/urllib3/connectionpool.py:858: InsecureRequestWarning: Unverified HTTPS request is being made. Adding certificate verification is strongly advised. See: https://urllib3.readthedocs.io/en/latest/advanced-usage.html#ssl-warnings\n",
      "  InsecureRequestWarning)\n",
      "/home/chinafishz/opt/anaconda/lib/python3.6/site-packages/urllib3/connectionpool.py:858: InsecureRequestWarning: Unverified HTTPS request is being made. Adding certificate verification is strongly advised. See: https://urllib3.readthedocs.io/en/latest/advanced-usage.html#ssl-warnings\n",
      "  InsecureRequestWarning)\n",
      "/home/chinafishz/opt/anaconda/lib/python3.6/site-packages/urllib3/connectionpool.py:858: InsecureRequestWarning: Unverified HTTPS request is being made. Adding certificate verification is strongly advised. See: https://urllib3.readthedocs.io/en/latest/advanced-usage.html#ssl-warnings\n",
      "  InsecureRequestWarning)\n",
      "/home/chinafishz/opt/anaconda/lib/python3.6/site-packages/urllib3/connectionpool.py:858: InsecureRequestWarning: Unverified HTTPS request is being made. Adding certificate verification is strongly advised. See: https://urllib3.readthedocs.io/en/latest/advanced-usage.html#ssl-warnings\n",
      "  InsecureRequestWarning)\n"
     ]
    },
    {
     "name": "stdout",
     "output_type": "stream",
     "text": [
      "{'data': [{'driverType': 'CUSTOM_BOSS_SYSTEM', 'idName': '34de96aaa2874d649a4f929e7480442b#BOSS', 'resNUM': 'BOSSAPP', 'loginURL': 'http://gz.boss.gmcc.net/boss/index2.jsp', 'hasDueAcc': False, 'ip': '10.243.211.131', 'appResClientList': '5L|GwebAppByIEL|GwebAppByIEL|GL|GlocalL|G', 'groupName': '业务支持中心--专业系统--BOSS系统--华为BOSS前台', 'name': 'BOSS', 'appResAccountList': '41a48a0604bd47448fd62c1c2ef9911fL|GL|G0L|GAGZGT0000829L|Gnull', 'isSsoService': 'yes', 'isUserDefine': 'no', 'ssoMode': 'ticket', 'hasAccount': True, 'restype': '应用资源', 'id': '34de96aaa2874d649a4f929e7480442b'}, {'driverType': 'APPRESOURCE', 'idName': '72e09b98b7c84a41b13b9f3bcfca693f#业支NGESOP', 'resNUM': 'YZNGESOPFOSHAN', 'loginURL': 'http://ngesop.boss.gmcc.net/csp/bsf/from4ALogin.action', 'hasDueAcc': False, 'ip': '10.243.215.225', 'appResClientList': '5L|GwebAppByIEL|GwebAppByIEL|GL|GlocalL|G', 'groupName': '业务支持中心--专业系统--NGESOP--NGESOP前台', 'name': '业支NGESOP', 'appResAccountList': '0b82c939f4ef497a8cea8397e6d898d2L|G1111L|G0L|GAGZGT0000829L|Gnull', 'isSsoService': 'yes', 'isUserDefine': 'no', 'ssoMode': 'ticket', 'hasAccount': True, 'restype': '应用资源', 'id': '72e09b98b7c84a41b13b9f3bcfca693f'}, {'driverType': 'APPRESOURCE', 'idName': 'c930f75e6cfd40de875430ae2843fafa#广东移动NGESOP系统', 'resNUM': 'NGESOP_KRF5', 'loginURL': 'http://esop.boss.gmcc.net/csp/bsf/from4ALogin.action', 'hasDueAcc': False, 'ip': '10.252.150.131', 'appResClientList': '5L|GwebAppByIEL|GwebAppByIEL|GL|GlocalL|G', 'groupName': '业务支持中心--专业系统--NGESOP--NGESOP前台_新', 'name': '广东移动NGESOP系统', 'appResAccountList': '08fab4dce4d144ceb2ad51ebe37e66bdL|G1111L|GnullL|GAGZGT0000829L|Gnull', 'isSsoService': 'yes', 'isUserDefine': 'no', 'ssoMode': 'ticket', 'hasAccount': True, 'restype': '应用资源', 'id': 'c930f75e6cfd40de875430ae2843fafa'}, {'driverType': 'CUSTOM_SJWG_SYSTEM', 'idName': 'bcae27c1375f4afe9534ec110a3d9955#已失效1', 'resNUM': 'WWNOAS_1', 'loginURL': 'http://10.201.63.100_1', 'hasDueAcc': False, 'ip': '10.201.63.100', 'appResClientList': '', 'groupName': '省网管维护中心--性能管理室--信令监测--应用层系统--集中性能管理系统', 'name': '已失效1', 'appResAccountList': '2197775afaba4dcfa5af99ba1fac7db8L|GL|G1L|GshizhongxiaL|Gnull', 'isSsoService': 'yes', 'isUserDefine': 'no', 'ssoMode': 'ticket', 'hasAccount': True, 'restype': '应用资源', 'id': 'bcae27c1375f4afe9534ec110a3d9955'}, {'driverType': 'APPRESOURCE', 'idName': '318c665182814a85a9ea35efe6573185#广州NGBOSS前台', 'resNUM': 'YZNGBOSSGUANGZHOU', 'loginURL': 'http://10.252.17.241:80/csp/bsf/from4ALogin.action', 'hasDueAcc': False, 'ip': '10.252.17.241', 'appResClientList': '5L|GwebAppByIEL|GwebAppByIEL|GL|GlocalL|G', 'groupName': '业务支持中心--专业系统--NGBOSS--广州NGBOSS前台', 'name': '广州NGBOSS前台', 'appResAccountList': '32d659d1e5af4deb9a94447357e828c4L|G1111L|GnullL|GAGZGT0000829L|Gnull', 'isSsoService': 'yes', 'isUserDefine': 'no', 'ssoMode': 'ticket', 'hasAccount': True, 'restype': '应用资源', 'id': '318c665182814a85a9ea35efe6573185'}, {'driverType': 'APPRESOURCE', 'idName': '9ac7827d64ce46a59f49109fef386276#ESOP应用系统', 'resNUM': 'ESOPAPP', 'loginURL': 'http://esop.boss.gmcc.net/esop/PortalCRM.action?intcommandid=System4APlat', 'hasDueAcc': False, 'ip': '10.243.215.60', 'appResClientList': '5L|GwebAppByIEL|GwebAppByIEL|GL|GlocalL|G', 'groupName': '业务支持中心--专业系统--ESOP前台', 'name': 'ESOP应用系统', 'appResAccountList': '23c0f866dc5e42e2a313302d1d2f5ecdL|GL|G9L|GAGZGT0000829L|Gnull', 'isSsoService': 'yes', 'isUserDefine': 'no', 'ssoMode': 'ticket', 'hasAccount': True, 'restype': '应用资源', 'id': '9ac7827d64ce46a59f49109fef386276'}, {'driverType': 'APPRESOURCE', 'idName': 'cb26fbcb34ae463fb1f9ec41ca2057a9#物联网系统前台', 'resNUM': 'NG3IOT', 'loginURL': 'http://10.253.61.8/csp/bsf/from4ALogin.action', 'hasDueAcc': False, 'ip': '10.253.61.8', 'appResClientList': '5L|GwebAppByIEL|GwebAppByIEL|GL|GlocalL|G', 'groupName': '业务支持中心--前台资源--NGBOSS系统前台--华为NGBOSS前台--iot物联网系统', 'name': '物联网系统前台', 'appResAccountList': 'e228568c23b8443a927555a6e5a423d2L|G1111L|GnullL|GAGZGT0000829L|Gnull', 'isSsoService': 'yes', 'isUserDefine': 'no', 'ssoMode': 'ticket', 'hasAccount': True, 'restype': '应用资源', 'id': 'cb26fbcb34ae463fb1f9ec41ca2057a9'}], 'pageInfo': {'pageSize': 50, 'totalRowNum': 7, 'pageNum': 1}}\n",
      "32d659d1e5af4deb9a94447357e828c4L|G1111L|GnullL|GAGZGT0000829L|Gnull\n",
      "-----------测试是否登陆BOSS成功-----------\n"
     ]
    },
    {
     "name": "stderr",
     "output_type": "stream",
     "text": [
      "/home/chinafishz/opt/anaconda/lib/python3.6/site-packages/urllib3/connectionpool.py:858: InsecureRequestWarning: Unverified HTTPS request is being made. Adding certificate verification is strongly advised. See: https://urllib3.readthedocs.io/en/latest/advanced-usage.html#ssl-warnings\n",
      "  InsecureRequestWarning)\n",
      "/home/chinafishz/opt/anaconda/lib/python3.6/site-packages/urllib3/connectionpool.py:858: InsecureRequestWarning: Unverified HTTPS request is being made. Adding certificate verification is strongly advised. See: https://urllib3.readthedocs.io/en/latest/advanced-usage.html#ssl-warnings\n",
      "  InsecureRequestWarning)\n",
      "/home/chinafishz/opt/anaconda/lib/python3.6/site-packages/urllib3/connectionpool.py:858: InsecureRequestWarning: Unverified HTTPS request is being made. Adding certificate verification is strongly advised. See: https://urllib3.readthedocs.io/en/latest/advanced-usage.html#ssl-warnings\n",
      "  InsecureRequestWarning)\n",
      "/home/chinafishz/opt/anaconda/lib/python3.6/site-packages/urllib3/connectionpool.py:858: InsecureRequestWarning: Unverified HTTPS request is being made. Adding certificate verification is strongly advised. See: https://urllib3.readthedocs.io/en/latest/advanced-usage.html#ssl-warnings\n",
      "  InsecureRequestWarning)\n",
      "/home/chinafishz/opt/anaconda/lib/python3.6/site-packages/urllib3/connectionpool.py:858: InsecureRequestWarning: Unverified HTTPS request is being made. Adding certificate verification is strongly advised. See: https://urllib3.readthedocs.io/en/latest/advanced-usage.html#ssl-warnings\n",
      "  InsecureRequestWarning)\n"
     ]
    }
   ],
   "source": [
    "import cn_class_4alogin\n",
    "import requests\n",
    "import sys\n",
    "\n",
    "\n",
    "r=requests.session()\n",
    "header={'User-Agent':'Mozilla/5.0 (X11; Linux x86_64; rv:44.0) Gecko/20100101 Firefox/44.0','Accept-Language':'en-US,en;q=0.5'}\n",
    "\n",
    "json2=cn_class_4alogin.cn_4ALogin(r,'qwER1234','41608446240A6782F2A0F031426EDC066CF24674F3F0586AF1E3983438A092968F3B0CA8F25838172AFC16E3455713846069ED5C9B03B580')\n",
    "cn_class_4alogin.cn_BossLogin(r,json2)"
   ]
  },
  {
   "cell_type": "code",
   "execution_count": 3,
   "metadata": {},
   "outputs": [
    {
     "name": "stdout",
     "output_type": "stream",
     "text": [
      "1091\n",
      "20\n",
      "40\n",
      "60\n",
      "80\n",
      "100\n",
      "120\n",
      "140\n",
      "160\n",
      "180\n",
      "200\n",
      "220\n",
      "240\n",
      "260\n",
      "280\n",
      "300\n",
      "320\n",
      "340\n",
      "360\n",
      "380\n",
      "400\n",
      "420\n",
      "440\n",
      "460\n",
      "480\n",
      "500\n",
      "520\n",
      "540\n",
      "560\n",
      "580\n",
      "600\n",
      "620\n",
      "640\n",
      "660\n",
      "680\n",
      "700\n",
      "720\n",
      "740\n",
      "760\n",
      "780\n",
      "800\n",
      "820\n",
      "840\n",
      "860\n",
      "880\n",
      "900\n",
      "920\n",
      "940\n",
      "960\n",
      "980\n",
      "1000\n",
      "1020\n",
      "1040\n",
      "1060\n",
      "1080\n"
     ]
    },
    {
     "ename": "NameError",
     "evalue": "name 'time' is not defined",
     "output_type": "error",
     "traceback": [
      "\u001b[0;31m---------------------------------------------------------------------------\u001b[0m",
      "\u001b[0;31mNameError\u001b[0m                                 Traceback (most recent call last)",
      "\u001b[0;32m<ipython-input-3-b114a2180b3a>\u001b[0m in \u001b[0;36m<module>\u001b[0;34m()\u001b[0m\n\u001b[1;32m     43\u001b[0m     \u001b[0mk\u001b[0m\u001b[0;34m=\u001b[0m\u001b[0mk\u001b[0m\u001b[0;34m+\u001b[0m\u001b[0;36m1\u001b[0m\u001b[0;34m\u001b[0m\u001b[0m\n\u001b[1;32m     44\u001b[0m \u001b[0;34m\u001b[0m\u001b[0m\n\u001b[0;32m---> 45\u001b[0;31m \u001b[0mtime\u001b[0m\u001b[0;34m.\u001b[0m\u001b[0msleep\u001b[0m\u001b[0;34m(\u001b[0m\u001b[0;36m1\u001b[0m\u001b[0;34m)\u001b[0m\u001b[0;34m\u001b[0m\u001b[0m\n\u001b[0m\u001b[1;32m     46\u001b[0m \u001b[0mcn_file\u001b[0m\u001b[0;34m.\u001b[0m\u001b[0mclose\u001b[0m\u001b[0;34m(\u001b[0m\u001b[0;34m)\u001b[0m\u001b[0;34m\u001b[0m\u001b[0m\n\u001b[1;32m     47\u001b[0m \u001b[0mprint\u001b[0m\u001b[0;34m(\u001b[0m\u001b[0;34m'end'\u001b[0m\u001b[0;34m)\u001b[0m\u001b[0;34m\u001b[0m\u001b[0m\n",
      "\u001b[0;31mNameError\u001b[0m: name 'time' is not defined"
     ]
    }
   ],
   "source": [
    "import sys\n",
    "import time\n",
    "from bs4  import BeautifulSoup\n",
    "cn_file=open('abc','a')\n",
    "\n",
    "cn_list='13631319267;13929540720;15989284122;18802081111;13751750292;13825041354;18819401141;13450210157;13926019080;13826130546;13802727113;13928981444;15820240920;13928786718;18818803635;13602839636;13928980533;13924185753;15800009983;13760787632;13924288300;13928982544;13430234011;13826268888;13903011575;13922372696;13903060201;13631335527;13535202125;13509283578;13928717578;13924285921;15975639711;18344315167;13711567989;13825130795;13826177467;13602223448;13822281819;13826185565;13922244558;13925016078;13902218521;15814537718;13829717712;13503059828;13560440129;13560406405;13710783696;13802773209;15989166768;13602226346;13640785986;13826279297;13928958879;13928966125;13609006243;13543476333;15920440271;13828483782;13922239891;13533839182;13500008559;13825066666;13632477060;13926250731;13926005638;15919324987;13602228145;13922286248;18818905499;13711568982;13924181824;15913186918;13902299480;13560188421;13632372441;13450215665;13503094475;13711567928;13802943678;13609037378;13430319415;13632221866;13924272200;13926418391;13926489088;18819173934;13500019293;15011759396;13928783791;13527784843;13802970917;13826261166;13924201982;13925198828;18718905336;13922760560;13928858746;13802545046;13825123775;13527848615;13711299187;13903000332;13711160313;15920562926;13922339306;18802006600;13826002071;13710613379;13825035666;13503083369;13826150308;13682272995;13688899353;13922292882;13724866874;13808865434;13434295229;13500225400;13760663368;13928788831;13826149556;13500220116;13928971918;13922158788;13660445306;15992492809;13560391121;13822248592;13829790007;13570592345;13922249810;13926135827;13570282375;13570566244;13711102661;13794341397;13902255740;13903058755;13503049240;13560041053;13560122687;13602883465;13922491122;13719255770;13632452688;13925021827;13480225528;13500006218;13570913165;13580381733;15975345840;13802991360;13902255540;13560393457;13822198666;13826147091;13922297260;15915797496;18819361812;13560106678;13751840012;13822214133;13710756927;13729866600;13503039797;13825119916;15920569365;13710707730;13600492239;13826002260;13922774106;13925181917;13928957699;13751798173;13602799867;13609793373;13924183012;13632273976;13501537202;13602756825;13922112017;13922209378;13924175806;13570077781;13808864766;13602764109;13903018382;13903073691;13902204758;13802932468;13802921518;13926015101;18819802282;13570474573;13600057377;15920187483;13602422012;13424487130;13719070183;13822281708;13902263689;13928982597;15913174163;13922134456;13600452638;13710343488;13902231168;15914410401;13926187619;15918760595;13423602510;13535270872;13535421030;13539405728;13602427881;13631470769;13640625055;13710956836;13711011881;13725228865;13802909544;13922432798;13928990455;13501502515;13503066159;13556045688;13602869229;13751881242;13760666398;13802549061;13826290479;13922339406;18244990309;13527866208;13711381969;13711381969;13434136689;13527704600;13538778651;13632387373;13688890481;13710678056;13719250190;13794398681;13802781265;13802832109;13822270674;13825081900;13825165506;13826404868;13924259515;13928738911;13928885848;13928886605;15011886746;15914511596;15989269147;18202067038;18819286799;18825091236;18826295308;13602881459;13602799901;13828485489;18816836501;13902336665;13802786746;13925029871;13826233552;13922472846;13688852224;13802769123;18312412302;13802426942;13826200761;13609640629;13728044230;13609775560;13710626558;13826459924;13926417748;13928991417;13928999697;15920378900;18825088743;13501507856;13503032697;13527833311;13533326652;13632493665;13660199167;13682255291;13710620661;13802411420;13802538623;13802729182;13802968602;13828489368;13829739826;13902216108;13902249086;13922132240;13922473319;13926054408;13710506248;13825019266;13434291161;13560215692;13711608660;13798006117;13802975375;13924111314;13925091385;15018733100;13922795124;13751835486;13610272075;13631489727;13580590175;13509282347;13802979379;13922383877;13602861977;13697470834;13711605516;13822256425;13822274433;13902232432;13902497732;13922743333;13922756546;15915889210;15915994803;13622225039;13430342099;13556018190;13719028282;13719078170;13808812426;13925178616;13642661839;13418196437;13533418807;13544568551;13580338027;13609099608;13610002540;13632206338;13640677996;13660367491;13662440551;13711052265;13711304363;13711369479;13711593753;13719334443;13824436367;13824441530;13825003462;13828407503;13922389001;13926467779;13928883139;15813361252;15814827851;13450493265;13570248470;13602802192;13602896216;13609026662;13610191820;13640886393;13660404872;13711567938;13711781001;13725276482;13763311263;13802503496;13802747084;13802958451;13802983757;13902221038;13902228571;13903055813;13922110648;13922191321;13922199828;13922788278;15820262463;15914545851;15975429360;13926135837;13543427137;13560354320;13560454850;13570219713;13642740772;13660282965;13682205408;13711402759;13711494777;13719380922;13719465334;13760674911;13760766197;13802742692;13824435380;13824450561;13922702011;15815805552;18244900918;18818412803;18820059991;13688868027;13580551548;13632439069;13503064699;13500026203;13751855545;13503075079;13580472071;13560273337;13600002456;13631447657;13632244696;13710078852;13802806054;13903057153;13922324559;13922372829;13922377835;13922387218;13928867690;13928972358;13570987861;13602719118;13602746816;13609029688;13760698501;13802504513;13808878381;13809206842;13822111233;13822211731;13922278360;13922749299;15918666100;15918818268;13678992760;13533386616;13602836417;13802434496;13808820814;13903056387;13798005506;13711565869;13632206885;13416122299;13424460707;13450287468;13509281235;13533223639;13533325547;13538774797;13544535490;13570049488;13570504165;13580451122;13602222873;13602224110;13602474634;13631462890;13640838678;13660285607;13660490450;13660831830;13662354414;13719088931;13725181168;13725467001;13760843717;13763394536;13798153968;13802438195;13822281718;13824456779;13825007698;13826133726;13826487048;13902212925;13928915781;13928915782;13928938390;13928968571;13928977970;13929526397;13929583352;15011730746;15011833375;15011905951;15013011421;15013314220;15017558216;15018777599;15102095480;15220034302;15710730550;15800016301;15814848268;15818138088;15818148401;15875310930;15918741277;15920839971;18802034669;18820039833;13434104356;13503012296;13535119063;13600093625;13600499589;13602757597;13602805679;13602825912;13602847986;13609725351;13610038080;13682297277;13710177599;13808874187;13825045729;13826229988;13826229988;13826481788;13902267475;13902270518;13902278119;13903053262;13922108885;13922167271;13922181111;13922288606;13922702226;15013032202;15889966885;15902081480;15915750022;15918478788;15989125028;18818918188;13660168948;13724868437;13763302520;13822252632;13902202563;13928786845;13430253025;13556032818;13570412935;13580581844;13609716725;13631320504;13682291370;13688851466;13688855527;13710011277;13711533518;13725198702;13725270889;13726880133;13824416912;13825052102;13826112423;13826190293;13826199463;13826462668;13828431332;13828498431;13922249624;13922442048;13925184634;13928706981;15920130900;15920522395;15975545553;18218880414;18302075544;18825082972;13922214632;13902268808;15013243750;13632439963;18818800893;13922790099;15989279716;13556104969;13642653652;13660754750;13711630437;13710851994;13822223035;13416244088;13416449685;13423611319;13424005695;13424036772;13430245025;13430348014;13527625191;13527851370;13533689603;13533825583;13533975022;13535018346;13535222292;13535316346;13544541228;13556173867;13560311997;13560426615;13570223316;13570992549;13622288487;13631378444;13631380134;13631414038;13642728602;13660474669;13660867570;13662367876;13676228117;13682239029;13682285470;13688859707;13697452917;13710284009;13710595835;13711208551;13711240501;13719113604;13719118641;13725128893;13763384895;13922370696;15014221606;15017518528;15817005532;15914211112;15919646436;15919662858;18312673673;13501500387;13501516045;13512767762;13527703934;13560398832;13580465464;13600008511;13602409188;13602775669;13609011054;13660231357;13710007145;13711592630;13725345689;13828409211;13828452266;13902231940;13922239118;13922430246;13928882049;13929567260;15920318686;18244990306;18819168736;15011850022;13450266800;13500003439;13533135479;13560048844;13580484073;13600083663;13632229170;13710800440;13711589811;13826448481;15012433842;15820273033;15820282480;15902082883;15920357768;13533539664;13560291700;13710565901;13802806655;13925196138;13928914912;13928918581;13928972008;13500033920;13602769256;13609752025;13710110099;13825163162;13903006198;13922159076;13922202344;13922326316;13925067916;13926433832;13570033280;13925128753;13928920226;13928982571;13922265947;13416308057;13422064441;13422251237;13422267553;13422391023;13424127770;13424147292;13427632812;13430237928;13430360348;13430371566;13431089191;13434169309;13434333297;13500224982;13512790919;13527708536;13533083905;13533965463;13535227894;13535431305;13535532126;13535566699;13538732530;13538775376;13544338220;13544395521;13560221959;13560355684;13560403125;13570209691;13570380418;13580449207;13580587978;13602225161;13602415776;13602784084;13631415325;13632335790;13642600123;13660137366;13688863245;13694292846;13710175826;13710228719;13710279126;13711004025;13711263629;13711362683;13711389075;13711613479;13711706012;13719426981;13725324979;13725431210;13726781993;13726820217;13726841536;13726860089;13798172427;13802974780;13826290975;13826465407;13826481686;13925094153;13928927618;13928981729;13929557475;15011923619;15013235509;15112058804;15220017493;15800297066;15814801647;15818133674;15818145079;15889948930;15913118039;15914387886;15914546105;15915722259;15915736314;15915964399;15918516646;15920347581;15920360974;15920460007;15920835756;15920849390;15920869151;18211533106;18244993024;18312020369;18702087326;18818398701;13414104115;13512737098;13527890360;13533584550;13560047553;13570111262;13600037815;13600049849;13602705481;13602736250;13602847475;13610115390;13660255165;13660629811;13710100020;13710304907;13710624520;13711393169;13711741710;13725180280;13725481487;13729811368;13760668152;13798003108;13802974616;13825065250;13828430979;13828434616;13925026516;13925126282;13926448246;13926477684;15817108629;15989119366;18218228880;13539852141;13556157108;13711220418;13903009802;15013227082;15014266427;15815840581;15876529873;18320197926;13416362534;13428859652;13430334309;13560142414;13570028605;13570498307;13570719530;13570978187;13580554425;13600087790;13602856276;13609712503;13620403615;13620407643;13640873749;13688872293;13711172572;13711371210;13711392387;13711413821;13719142261;13719225215;13719466452;13724168993;13725115675;13798088811;13828415578;13926445498;13928982663;15802022150;15813362312;15918619035;15920156233;15920555087;15992475093;18824136283;18824141424;18825141827;13433974531;18818805932;13416297349;13430231802;13450364958;13500229239;13509294402;13580539507;13710659390;13719398899;13725192679;13798047857;13798062661;13828444328;13922700299;13924239232;13928921403;13928990848;15917494905;13533316879;13602700399;13602706970;13631303270;13640816861;13902274020;13925103967;15820254736;15820264642;18820111083;13416141212;13418108776;13430349033;13433956545;13527712253;13535168587;13535526520;13543456688;13544380251;13570205925;13570480438;13650715551;13650791282;13660142225;13660315603;13724863887;13729816746;13751837992;13760669358;13802404860;13828489897;15102046750;15113889388;15202069201;15711807766;15817180125;15820267289;15920121104;15989258823;18211478623;13570249598;13570939909;13682222130;13688870380;13710505090;13751864229;13929579049;15013117517;15099992821;15876500906;13512705718;13560155195;13725208318;15112179709;15920156638;15975394748;15989002137;15992437511;15920983765;13533998854;13535030038;13535388556;13660011182;13535368911;13726892364;13539971278;13632295122;13640831834;15812406481;13826498283;15914356807;15920550852;13570272525;13544480060;13719117444;15920103719;18312061905;13609099342;15820227252;18320077684;13424142932;13509288859;13527667115;13533075981;13535422976;13535468120;13543491211;13560497874;13600018095;13622233208;13631486838;13632370186;13662401245;13719091986;13763392938;13826059031;13828428306;13928901777;13928943678;18825134380;18826267084;13503016288;13570421784;13602874717;13903056208;13922249423;18820010128;13527603321;13432028868;13570190130;13726803261;13802418230;15820227209;13416190692;13802447813;15018435193;15112048248;15814889099;13711511592;13560248748;15989156643;13422148878;13422189420;13422389198;13580352627;13650930637;13724070601;13760653321;15011952680;15815858094;15975511308;13580363110;13678975524;13533361536;13929505298;13433931326;13610020364;13662409886;15815878736;15917432950;15989019271;18320053714;18825167423;15918791910;18312839108;13434113499;13826086638;13660761297;13544425511;13560487996;13725378574;18318639220;13697401387;13719214899;15919301151;13632234303;13682215053;13725487996;13560086919;13660178518;13751800623;15217718651;15817105509;15902048561;13422113037;13642681889;13431009218;13560354321;13710101450;13711452163;13760648446;15112137872;15818833907;13556128603;13711417547;13610093857;13611407269;13711479223'\n",
    "a=cn_list.split(';')\n",
    "cn_a_count=len(a)\n",
    "print(cn_a_count)\n",
    "k=1\n",
    "for cn_phone in a:\n",
    "    url='http://10.252.17.241/ngcustcare/unitequery/custInfoQuery/getcustomerList.action'\n",
    "    param={'queryType':'servnumberQry','queryData':cn_phone,'queryHis':'','qryMethod':''}\n",
    "    s=r.post(url,data=param)\n",
    "    s0=s.text.split('|')\n",
    "\n",
    "    url='http://10.252.17.241//ngcustcare/unitequery/custInfoQuery/subsInfoMain.action?custId='+s0[0]+'&queryHis='\n",
    "    param={}\n",
    "    s=r.post(url,data=param)\n",
    "    soup=BeautifulSoup(s.text,'lxml')\n",
    "    s=soup.select('#subsInfoMainProd')[0].select('input')[0].attrs['value']\n",
    "\n",
    "    url=u'http://10.252.17.241/ngcustcare/unitequery/custInfoQuery/subsProductInfoNoServiceAndAttr.action?subsId='+s+'&prodid=普通全球通'\n",
    "    s=r.get(url)\n",
    "    soup=BeautifulSoup(s.text,'lxml')\n",
    "    bb1=soup.select('#useProductListTable')[0].select('.list_tr_bg1color')\n",
    "    bb2=soup.select('#useProductListTable')[0].select('.list_tr_bg2color')\n",
    "    result=''\n",
    "    for i in bb1:\n",
    "        temp=i.select('td')\n",
    "        if(float(temp[7].text.split()[0])>=38):\n",
    "            result=result+' '+temp[0].text+' '+temp[5].text.split()[0]+' '+temp[7].text.split()[0]+','\n",
    "       \n",
    "    for j in bb2:\n",
    "        temp=j.select('td')\n",
    "        if(float(temp[7].text.split()[0])>=38):\n",
    "            result=result+' '+temp[0].text+' '+temp[5].text.split()[0]+' '+temp[7].text.split()[0]+','\n",
    "    cn_file.write(\"\\n\"+str(k)+' '+cn_phone+' '+s0[1]+result)\n",
    "    \n",
    "    if(k%20==0):\n",
    "        print(k)\n",
    "        cn_file.close()\n",
    "        cn_file=open('abc','a')\n",
    "    k=k+1\n",
    "    time.sleep(1)\n",
    "    \n",
    "\n",
    "cn_file.close()\n",
    "print('end')"
   ]
  },
  {
   "cell_type": "code",
   "execution_count": null,
   "metadata": {},
   "outputs": [],
   "source": []
  }
 ],
 "metadata": {
  "kernelspec": {
   "display_name": "Python 3",
   "language": "python",
   "name": "python3"
  },
  "language_info": {
   "codemirror_mode": {
    "name": "ipython",
    "version": 3
   },
   "file_extension": ".py",
   "mimetype": "text/x-python",
   "name": "python",
   "nbconvert_exporter": "python",
   "pygments_lexer": "ipython3",
   "version": "3.6.4"
  }
 },
 "nbformat": 4,
 "nbformat_minor": 2
}
